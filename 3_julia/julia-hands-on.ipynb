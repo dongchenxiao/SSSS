{
 "cells": [
  {
   "cell_type": "markdown",
   "metadata": {
    "slideshow": {
     "slide_type": "slide"
    }
   },
   "source": [
    "# Julia编程实践\n",
    "\n",
    "### 罗秀哲 University of Waterloo"
   ]
  },
  {
   "cell_type": "markdown",
   "metadata": {
    "slideshow": {
     "slide_type": "subslide"
    }
   },
   "source": [
    "# 自我介绍"
   ]
  },
  {
   "cell_type": "markdown",
   "metadata": {
    "slideshow": {
     "slide_type": "subslide"
    }
   },
   "source": [
    "# 你都用过什么编程语言？"
   ]
  },
  {
   "cell_type": "markdown",
   "metadata": {
    "slideshow": {
     "slide_type": "subslide"
    }
   },
   "source": [
    "# 为什么我要学Julia？"
   ]
  },
  {
   "cell_type": "markdown",
   "metadata": {
    "slideshow": {
     "slide_type": "subslide"
    }
   },
   "source": [
    "# 科学计算的特点"
   ]
  },
  {
   "cell_type": "markdown",
   "metadata": {
    "slideshow": {
     "slide_type": "fragment"
    }
   },
   "source": [
    "- 没有实时性的要求，内存分配较为简单和固定"
   ]
  },
  {
   "cell_type": "markdown",
   "metadata": {
    "slideshow": {
     "slide_type": "fragment"
    }
   },
   "source": [
    "- 对线性代数依赖很高，大部分代码都在表达某些数学表达式"
   ]
  },
  {
   "cell_type": "markdown",
   "metadata": {
    "slideshow": {
     "slide_type": "fragment"
    }
   },
   "source": [
    "- 自定义数据类型的需求较高"
   ]
  },
  {
   "cell_type": "markdown",
   "metadata": {
    "slideshow": {
     "slide_type": "fragment"
    }
   },
   "source": [
    "- 程序运行时间一般都较长"
   ]
  },
  {
   "cell_type": "markdown",
   "metadata": {
    "slideshow": {
     "slide_type": "fragment"
    }
   },
   "source": [
    "- 对性能要求高，对高性能计算集群，显卡等异构加速设备有大量需求"
   ]
  },
  {
   "cell_type": "markdown",
   "metadata": {
    "slideshow": {
     "slide_type": "subslide"
    }
   },
   "source": [
    "## 解释型语言 （Python/MATLAB）"
   ]
  },
  {
   "cell_type": "markdown",
   "metadata": {
    "slideshow": {
     "slide_type": "subslide"
    }
   },
   "source": [
    "- 对优化器不友好\n",
    "\n",
    "```python\n",
    "class Foo:\n",
    "    \n",
    "    def __init__(self):\n",
    "        self.name = \"aaa\"\n",
    "        \n",
    "        \n",
    "foo = Foo()\n",
    "foo.aaaa = \"foo\"\n",
    "```\n",
    "\n",
    "Foo的内存布局（memory layout）是什么？"
   ]
  },
  {
   "cell_type": "markdown",
   "metadata": {
    "slideshow": {
     "slide_type": "fragment"
    }
   },
   "source": [
    "- anti pattern\n",
    "\n",
    "```julia\n",
    "sum(sqrt(x.^2 + y.^2) > 1)\n",
    "```\n",
    "\n",
    "Ref: https://discourse.julialang.org/t/quality-of-julia-code-and-speed-is-this-stressed-enough/23404/13"
   ]
  },
  {
   "cell_type": "markdown",
   "metadata": {
    "slideshow": {
     "slide_type": "subslide"
    }
   },
   "source": [
    "Further Reading：\n",
    "\n",
    "[为什么Python这么慢？为什么需要新语言来解决这个问题？](https://zhuanlan.zhihu.com/p/64444556)"
   ]
  },
  {
   "cell_type": "markdown",
   "metadata": {
    "slideshow": {
     "slide_type": "slide"
    }
   },
   "source": [
    "## 1. 用二元数实现自动微分"
   ]
  },
  {
   "cell_type": "markdown",
   "metadata": {
    "slideshow": {
     "slide_type": "subslide"
    }
   },
   "source": [
    "### 二元数是什么？\n",
    "\n",
    "类似复数使用虚数单元 $i$ 来扩展实数，我们可以用一个性质略有不同的 $\\epsilon$ 来扩展实数域。使得它恰好具有以下的性质\n",
    "\n",
    "$$\n",
    "\\epsilon^2 = 0\n",
    "$$\n",
    "\n",
    "这样的性质会产生什么有趣的作用呢？我们不妨现在Julia里实现这样一种数。"
   ]
  },
  {
   "cell_type": "markdown",
   "metadata": {
    "slideshow": {
     "slide_type": "subslide"
    }
   },
   "source": [
    "首先定义它的类型，注意二元数应该是 `Number` 的一种，所以我们作为它的子类实现"
   ]
  },
  {
   "cell_type": "code",
   "execution_count": 1,
   "metadata": {},
   "outputs": [],
   "source": [
    "struct Dual{T} <: Number\n",
    "    value::T\n",
    "    epsilon::T\n",
    "end"
   ]
  },
  {
   "cell_type": "markdown",
   "metadata": {},
   "source": [
    "这样我们就有一个类型用来存储一对数字 $(value, epsilon) = value + epsilon * \\epsilon$"
   ]
  },
  {
   "cell_type": "markdown",
   "metadata": {
    "slideshow": {
     "slide_type": "subslide"
    }
   },
   "source": [
    "所以很自然的，我们有"
   ]
  },
  {
   "cell_type": "code",
   "execution_count": 2,
   "metadata": {},
   "outputs": [
    {
     "data": {
      "text/plain": [
       "Dual{Bool}(false, true)"
      ]
     },
     "execution_count": 2,
     "metadata": {},
     "output_type": "execute_result"
    }
   ],
   "source": [
    "const ϵ = Dual(false, true)"
   ]
  },
  {
   "cell_type": "markdown",
   "metadata": {
    "slideshow": {
     "slide_type": "subslide"
    }
   },
   "source": [
    "为了方便获取内部成员，我们定义一些property方法"
   ]
  },
  {
   "cell_type": "code",
   "execution_count": 3,
   "metadata": {},
   "outputs": [
    {
     "data": {
      "text/plain": [
       "epsilon (generic function with 1 method)"
      ]
     },
     "execution_count": 3,
     "metadata": {},
     "output_type": "execute_result"
    }
   ],
   "source": [
    "value(x::Dual) = x.value\n",
    "epsilon(x::Dual) = x.epsilon"
   ]
  },
  {
   "cell_type": "markdown",
   "metadata": {},
   "source": [
    "想想为什么使用property比点更general？"
   ]
  },
  {
   "cell_type": "markdown",
   "metadata": {
    "slideshow": {
     "slide_type": "subslide"
    }
   },
   "source": [
    "然后我们来定义它的运算规则：\n",
    "\n",
    "乘法：\n",
    "\n",
    "$$\n",
    "(a, b) * (c, d) = (a + b * \\epsilon) * (c + d * \\epsilon) = ac + (ad + bc)\\epsilon + bd\\epsilon^2 = (ac, ad + bc)\n",
    "$$\n",
    "\n",
    "加法：\n",
    "\n",
    "$$\n",
    "(a, b) + (c, d) = (a + c, b + d)\n",
    "$$"
   ]
  },
  {
   "cell_type": "code",
   "execution_count": 4,
   "metadata": {
    "slideshow": {
     "slide_type": "-"
    }
   },
   "outputs": [],
   "source": [
    "Base.:*(z::Dual, w::Dual) = Dual(value(z)*value(w), epsilon(z)*value(w)+value(z)*epsilon(w))\n",
    "Base.:+(z::Dual, w::Dual) = Dual(value(z)+value(w), epsilon(z)+epsilon(w))"
   ]
  },
  {
   "cell_type": "markdown",
   "metadata": {
    "slideshow": {
     "slide_type": "subslide"
    }
   },
   "source": [
    "除法：\n",
    "\n",
    "$$\n",
    "\\begin{aligned}\n",
    "\\frac{a + b\\epsilon}{c + d\\epsilon} &= \\frac{(a + b\\epsilon)(c - d\\epsilon)}{(c + d\\epsilon)(c - d\\epsilon)} \\\\\n",
    "                                    &= \\frac{ac + (bc - ad)\\epsilon}{c^2}\\\\\n",
    "                                    &= \\frac{a}{c} + \\frac{bc - ad}{c^2}\\epsilon\n",
    "\\end{aligned}\n",
    "$$"
   ]
  },
  {
   "cell_type": "code",
   "execution_count": 5,
   "metadata": {},
   "outputs": [],
   "source": [
    "Base.:/(z::Dual, w::Dual) = Dual(value(z)/value(w), (epsilon(z)*value(w)-value(z)*epsilon(w))/(value(w)*value(w)))"
   ]
  },
  {
   "cell_type": "markdown",
   "metadata": {
    "slideshow": {
     "slide_type": "subslide"
    }
   },
   "source": [
    "让我们来随便试试"
   ]
  },
  {
   "cell_type": "code",
   "execution_count": 6,
   "metadata": {},
   "outputs": [
    {
     "data": {
      "text/plain": [
       "Dual{Int64}(0, 1)"
      ]
     },
     "execution_count": 6,
     "metadata": {},
     "output_type": "execute_result"
    }
   ],
   "source": [
    "Dual(1, 2) * ϵ"
   ]
  },
  {
   "cell_type": "markdown",
   "metadata": {
    "slideshow": {
     "slide_type": "subslide"
    }
   },
   "source": [
    "这个打印出来的不是特别好看，让我们稍微修改一下打印出来的样式"
   ]
  },
  {
   "cell_type": "code",
   "execution_count": 7,
   "metadata": {},
   "outputs": [],
   "source": [
    "Base.show(io::IO, x::Dual) = print(io, value(x), \"+\", epsilon(x), \"ϵ\")"
   ]
  },
  {
   "cell_type": "markdown",
   "metadata": {},
   "source": [
    "现在我们再来试试"
   ]
  },
  {
   "cell_type": "code",
   "execution_count": 8,
   "metadata": {
    "slideshow": {
     "slide_type": "subslide"
    }
   },
   "outputs": [
    {
     "data": {
      "text/plain": [
       "1.0+2.0ϵ"
      ]
     },
     "execution_count": 8,
     "metadata": {},
     "output_type": "execute_result"
    }
   ],
   "source": [
    "x = Dual(1.0, 1.0)\n",
    "x^2"
   ]
  },
  {
   "cell_type": "code",
   "execution_count": 9,
   "metadata": {},
   "outputs": [
    {
     "data": {
      "text/plain": [
       "1.0+3.0ϵ"
      ]
     },
     "execution_count": 9,
     "metadata": {},
     "output_type": "execute_result"
    }
   ],
   "source": [
    "x^3"
   ]
  },
  {
   "cell_type": "markdown",
   "metadata": {
    "slideshow": {
     "slide_type": "subslide"
    }
   },
   "source": [
    "有没有发现什么规律？"
   ]
  },
  {
   "cell_type": "markdown",
   "metadata": {
    "slideshow": {
     "slide_type": "fragment"
    }
   },
   "source": [
    "没错，$\\epsilon$ 的系数就是这个函数的导数，似乎我们只要向某个函数 $f$ 输入一个以 1 为系数的二元数 $x + \\epsilon$ 就可以得到 $f'(x)$，为什么呢？"
   ]
  },
  {
   "cell_type": "markdown",
   "metadata": {
    "slideshow": {
     "slide_type": "subslide"
    }
   },
   "source": [
    "实际上这来自于摄动理论，$\\epsilon$ 在这里的定义实际上是一阶摄动，它满足\n",
    "\n",
    "$$\n",
    "\\lim \\epsilon \\rightarrow 0\n",
    "$$\n",
    "\n",
    "是一个无穷小量，而我们要求 $\\epsilon^2$ 等于0就是为了忽略更高阶的摄动，所以我们将它带入Taylor级数就有\n",
    "\n",
    "$$\n",
    "f(a + b\\epsilon) = f(a) + \\frac{f'(a)}{1!}b \\epsilon + \\frac{f''(a)}{2!}(b\\epsilon)^2 + \\cdots\n",
    "$$\n",
    "\n",
    "如果我们要求 $\\epsilon^2 = 0$ 我们就有\n",
    "\n",
    "$$\n",
    "f(a + b\\epsilon) = f(a) + f'(a) b \\epsilon\n",
    "$$"
   ]
  },
  {
   "cell_type": "markdown",
   "metadata": {
    "slideshow": {
     "slide_type": "subslide"
    }
   },
   "source": [
    "很自然的，我们希望它能够在更复杂的函数上工作，比如这个\n",
    "\n",
    "$$\n",
    "f(x) = \\frac{1 + x^2}{1 - x^2}\n",
    "$$"
   ]
  },
  {
   "cell_type": "code",
   "execution_count": 10,
   "metadata": {},
   "outputs": [
    {
     "data": {
      "text/plain": [
       "f (generic function with 1 method)"
      ]
     },
     "execution_count": 10,
     "metadata": {},
     "output_type": "execute_result"
    }
   ],
   "source": [
    "f(x) = (1+x^2) / (1-x^2)"
   ]
  },
  {
   "cell_type": "code",
   "execution_count": 11,
   "metadata": {
    "slideshow": {
     "slide_type": "subslide"
    }
   },
   "outputs": [
    {
     "ename": "ErrorException",
     "evalue": "promotion of types Int64 and Dual{Int64} failed to change any arguments",
     "output_type": "error",
     "traceback": [
      "promotion of types Int64 and Dual{Int64} failed to change any arguments",
      "",
      "Stacktrace:",
      " [1] error(::String, ::String, ::String) at /Users/roger/.julia/lib/julia/sys.dylib:?",
      " [2] sametype_error(::Tuple{Int64,Dual{Int64}}) at ./promotion.jl:308",
      " [3] not_sametype(::Tuple{Int64,Dual{Int64}}, ::Tuple{Int64,Dual{Int64}}) at ./promotion.jl:302",
      " [4] promote at ./promotion.jl:285 [inlined]",
      " [5] +(::Int64, ::Dual{Int64}) at ./promotion.jl:313",
      " [6] f(::Dual{Int64}) at ./In[10]:1",
      " [7] top-level scope at In[11]:1"
     ]
    }
   ],
   "source": [
    "f(Dual(2, 1))"
   ]
  },
  {
   "cell_type": "markdown",
   "metadata": {
    "slideshow": {
     "slide_type": "subslide"
    }
   },
   "source": [
    "报错了？？？我们尝试来修一下这个错误"
   ]
  },
  {
   "cell_type": "markdown",
   "metadata": {
    "slideshow": {
     "slide_type": "fragment"
    }
   },
   "source": [
    "我们可以从报错信息发现，f尝试调用了 + 函数，而我们并没有定义过 Int和Dual的加法，所以我们来定义它们的加法。不需要做额外的处理，只要让Int变成 epsilon为零的Dual就可以了\n",
    "\n",
    "```julia\n",
    "+(x::Int, y::Dual) = Dual(x) + y\n",
    "+(x::Dual, y::Int) = x + Dual(y)\n",
    "-(x::Dual, y::Int) = x - Dual(y)\n",
    "-(x::Int, y::Dual) = Dual(x) - y \n",
    "```"
   ]
  },
  {
   "cell_type": "markdown",
   "metadata": {
    "slideshow": {
     "slide_type": "subslide"
    }
   },
   "source": [
    "但是思考一下上面的这些规则是否有些重复？我们其实早已定义过Dual的运算规则了。我们在上面的规则里不过是让Int遇到Dual的时候自动变成Dual而已。\n",
    "\n",
    "我们再看一下错误信息，这里列出了程序的函数调用栈，在f函数中，调用了一个这样的method：`+(::Int64, ::Dual{Int64})`。这是因为f中计算了一个整数 1 加上 `x^2`， 我们不妨看看这个method"
   ]
  },
  {
   "cell_type": "code",
   "execution_count": 12,
   "metadata": {
    "slideshow": {
     "slide_type": "subslide"
    }
   },
   "outputs": [],
   "source": [
    "@edit +(1, x^2)"
   ]
  },
  {
   "cell_type": "markdown",
   "metadata": {},
   "source": [
    "```julia\n",
    "+(x::Number, y::Number) = +(promote(x,y)...)\n",
    "*(x::Number, y::Number) = *(promote(x,y)...)\n",
    "-(x::Number, y::Number) = -(promote(x,y)...)\n",
    "/(x::Number, y::Number) = /(promote(x,y)...)\n",
    "```"
   ]
  },
  {
   "cell_type": "markdown",
   "metadata": {},
   "source": [
    "`promote` 是什么呢？让我们来看一下文档"
   ]
  },
  {
   "cell_type": "code",
   "execution_count": 13,
   "metadata": {
    "slideshow": {
     "slide_type": "subslide"
    }
   },
   "outputs": [
    {
     "name": "stdout",
     "output_type": "stream",
     "text": [
      "search: \u001b[0m\u001b[1mp\u001b[22m\u001b[0m\u001b[1mr\u001b[22m\u001b[0m\u001b[1mo\u001b[22m\u001b[0m\u001b[1mm\u001b[22m\u001b[0m\u001b[1mo\u001b[22m\u001b[0m\u001b[1mt\u001b[22m\u001b[0m\u001b[1me\u001b[22m \u001b[0m\u001b[1mp\u001b[22m\u001b[0m\u001b[1mr\u001b[22m\u001b[0m\u001b[1mo\u001b[22m\u001b[0m\u001b[1mm\u001b[22m\u001b[0m\u001b[1mo\u001b[22m\u001b[0m\u001b[1mt\u001b[22m\u001b[0m\u001b[1me\u001b[22m_type \u001b[0m\u001b[1mp\u001b[22m\u001b[0m\u001b[1mr\u001b[22m\u001b[0m\u001b[1mo\u001b[22m\u001b[0m\u001b[1mm\u001b[22m\u001b[0m\u001b[1mo\u001b[22m\u001b[0m\u001b[1mt\u001b[22m\u001b[0m\u001b[1me\u001b[22m_rule \u001b[0m\u001b[1mp\u001b[22m\u001b[0m\u001b[1mr\u001b[22m\u001b[0m\u001b[1mo\u001b[22m\u001b[0m\u001b[1mm\u001b[22m\u001b[0m\u001b[1mo\u001b[22m\u001b[0m\u001b[1mt\u001b[22m\u001b[0m\u001b[1me\u001b[22m_shape \u001b[0m\u001b[1mp\u001b[22mointe\u001b[0m\u001b[1mr\u001b[22m_fr\u001b[0m\u001b[1mo\u001b[22m\u001b[0m\u001b[1mm\u001b[22m_\u001b[0m\u001b[1mo\u001b[22mbjref\n",
      "\n"
     ]
    },
    {
     "data": {
      "text/latex": [
       "\\begin{verbatim}\n",
       "promote(xs...)\n",
       "\\end{verbatim}\n",
       "Convert all arguments to a common type, and return them all (as a tuple). If no arguments can be converted, an error is raised.\n",
       "\n",
       "\\section{Examples}\n",
       "\\begin{verbatim}\n",
       "julia> promote(Int8(1), Float16(4.5), Float32(4.1))\n",
       "(1.0f0, 4.5f0, 4.1f0)\n",
       "\\end{verbatim}\n"
      ],
      "text/markdown": [
       "```\n",
       "promote(xs...)\n",
       "```\n",
       "\n",
       "Convert all arguments to a common type, and return them all (as a tuple). If no arguments can be converted, an error is raised.\n",
       "\n",
       "# Examples\n",
       "\n",
       "```jldoctest\n",
       "julia> promote(Int8(1), Float16(4.5), Float32(4.1))\n",
       "(1.0f0, 4.5f0, 4.1f0)\n",
       "```\n"
      ],
      "text/plain": [
       "  \u001b[38;5;81mpromote\u001b[0m(\u001b[0m\u001b[39mxs\u001b[0m\u001b[38;5;197m...\u001b[0m\u001b[39m)\u001b[0m\u001b[39m\u001b[0m\n",
       "\n",
       "\n",
       "  Convert all arguments to a common type, and return them all (as a tuple). If\n",
       "  no arguments can be converted, an error is raised.\n",
       "\n",
       "\u001b[1m  Examples\u001b[22m\n",
       "\u001b[1m  ≡≡≡≡≡≡≡≡≡≡\u001b[22m\n",
       "\n",
       "  \u001b[31;1mjulia> \u001b[0m\u001b[38;5;81mpromote\u001b[0m(\u001b[0m\u001b[38;5;81mInt8\u001b[0m(\u001b[0m\u001b[38;5;141m1\u001b[0m\u001b[39m)\u001b[0m\u001b[39m,\u001b[0m \u001b[0m\u001b[38;5;81mFloat16\u001b[0m(\u001b[0m\u001b[38;5;141m4.5\u001b[0m\u001b[39m)\u001b[0m\u001b[39m,\u001b[0m \u001b[0m\u001b[38;5;81mFloat32\u001b[0m(\u001b[0m\u001b[38;5;141m4.1\u001b[0m\u001b[39m)\u001b[0m\u001b[39m)\u001b[0m\n",
       "  \u001b[0m\u001b[39m\u001b[0m(1.0f0, 4.5f0, 4.1f0)\n"
      ]
     },
     "execution_count": 13,
     "metadata": {},
     "output_type": "execute_result"
    }
   ],
   "source": [
    "?promote"
   ]
  },
  {
   "cell_type": "markdown",
   "metadata": {},
   "source": [
    "所以我们有两种思路，一种思路是，当一个数 `x` 遇到对应的Dual的时候，我们自动把它提升为 `x + 0ϵ` 的二元数，或者我们直接定义Dual和其它Number的运算规则。这里似乎定义类型提升更加简单，这样我们不需要处理众多的运算规则。"
   ]
  },
  {
   "cell_type": "code",
   "execution_count": 14,
   "metadata": {
    "slideshow": {
     "slide_type": "subslide"
    }
   },
   "outputs": [],
   "source": [
    "Base.promote_rule(::Type{Dual{T}}, ::Type{T}) where {T <: Number} = Dual{T}"
   ]
  },
  {
   "cell_type": "code",
   "execution_count": 15,
   "metadata": {},
   "outputs": [
    {
     "ename": "MethodError",
     "evalue": "MethodError: no method matching Dual{Int64}(::Int64)\nClosest candidates are:\n  Dual{Int64}(::T<:Number) where T<:Number at boot.jl:741\n  Dual{Int64}(::Any, !Matched::Any) where T at In[1]:2\n  Dual{Int64}(!Matched::Base.TwicePrecision) where T<:Number at twiceprecision.jl:243\n  ...",
     "output_type": "error",
     "traceback": [
      "MethodError: no method matching Dual{Int64}(::Int64)\nClosest candidates are:\n  Dual{Int64}(::T<:Number) where T<:Number at boot.jl:741\n  Dual{Int64}(::Any, !Matched::Any) where T at In[1]:2\n  Dual{Int64}(!Matched::Base.TwicePrecision) where T<:Number at twiceprecision.jl:243\n  ...",
      "",
      "Stacktrace:",
      " [1] convert(::Type{Dual{Int64}}, ::Int64) at ./number.jl:7",
      " [2] _promote at ./promotion.jl:261 [inlined]",
      " [3] promote(::Dual{Int64}, ::Int64) at ./promotion.jl:284",
      " [4] top-level scope at In[15]:1"
     ]
    }
   ],
   "source": [
    "promote(Dual(1, 1), 1)"
   ]
  },
  {
   "cell_type": "markdown",
   "metadata": {
    "slideshow": {
     "slide_type": "subslide"
    }
   },
   "source": [
    "这个显然是缺少一个constructor，或者说缺少类型转换的定义，Julia不会进行自动类型转换，所以我们要显式定义它"
   ]
  },
  {
   "cell_type": "code",
   "execution_count": 16,
   "metadata": {},
   "outputs": [],
   "source": [
    "Dual{T}(x) where T = Dual{T}(x, zero(T))"
   ]
  },
  {
   "cell_type": "code",
   "execution_count": 17,
   "metadata": {},
   "outputs": [
    {
     "data": {
      "text/plain": [
       "(2+1ϵ, 1+0ϵ)"
      ]
     },
     "execution_count": 17,
     "metadata": {},
     "output_type": "execute_result"
    }
   ],
   "source": [
    "promote(Dual(2, 1), 1)"
   ]
  },
  {
   "cell_type": "markdown",
   "metadata": {
    "slideshow": {
     "slide_type": "subslide"
    }
   },
   "source": [
    "再次尝试，我们没有为 `Dual` 定义减法运算符"
   ]
  },
  {
   "cell_type": "code",
   "execution_count": 18,
   "metadata": {},
   "outputs": [
    {
     "ename": "ErrorException",
     "evalue": "- not defined for Dual{Int64}",
     "output_type": "error",
     "traceback": [
      "- not defined for Dual{Int64}",
      "",
      "Stacktrace:",
      " [1] error(::String, ::String, ::Type) at ./error.jl:42",
      " [2] no_op_err(::String, ::Type) at ./promotion.jl:388",
      " [3] -(::Dual{Int64}, ::Dual{Int64}) at ./promotion.jl:391",
      " [4] -(::Int64, ::Dual{Int64}) at ./promotion.jl:315",
      " [5] f(::Dual{Int64}) at ./In[10]:1",
      " [6] top-level scope at In[18]:1"
     ]
    }
   ],
   "source": [
    "f(Dual(2, 1))"
   ]
  },
  {
   "cell_type": "code",
   "execution_count": 19,
   "metadata": {
    "slideshow": {
     "slide_type": "subslide"
    }
   },
   "outputs": [],
   "source": [
    "Base.:-(z::Dual, w::Dual) = Dual(value(z)-value(w), epsilon(z)-epsilon(w))\n",
    "Base.:-(z::Dual) = Dual(-value(z), -epsilon(z))"
   ]
  },
  {
   "cell_type": "code",
   "execution_count": 20,
   "metadata": {},
   "outputs": [
    {
     "data": {
      "text/plain": [
       "-1.6666666666666667+0.8888888888888888ϵ"
      ]
     },
     "execution_count": 20,
     "metadata": {},
     "output_type": "execute_result"
    }
   ],
   "source": [
    "f(Dual(2, 1))"
   ]
  },
  {
   "cell_type": "markdown",
   "metadata": {},
   "source": [
    "成功！"
   ]
  },
  {
   "cell_type": "markdown",
   "metadata": {
    "slideshow": {
     "slide_type": "slide"
    }
   },
   "source": [
    "## 2. 前馈神经网络（feed forward neural network）"
   ]
  },
  {
   "cell_type": "markdown",
   "metadata": {
    "slideshow": {
     "slide_type": "subslide"
    }
   },
   "source": [
    "在这个demo project里，我们将通过以下两个例子感受使用Julia编程：\n",
    "\n",
    "- 使用Flux/Zygote的自动微分和优化器来训练一个简单的神经网络\n",
    "- 从零搭建一个自己的神经网络"
   ]
  },
  {
   "cell_type": "markdown",
   "metadata": {},
   "source": [
    "首先让我们来安装Julia的机器学习框架Flux\n",
    "\n",
    "\n",
    "```julia\n",
    "(1.1) pkg> add Flux\n",
    "```"
   ]
  },
  {
   "cell_type": "code",
   "execution_count": 21,
   "metadata": {
    "scrolled": true,
    "slideshow": {
     "slide_type": "subslide"
    }
   },
   "outputs": [
    {
     "name": "stderr",
     "output_type": "stream",
     "text": [
      "┌ Info: Precompiling Flux [587475ba-b771-5e3f-ad9e-33799f191a9c]\n",
      "└ @ Base loading.jl:1186\n"
     ]
    }
   ],
   "source": [
    "using Flux, Flux.Data.MNIST\n",
    "\n",
    "imgs = MNIST.images();"
   ]
  },
  {
   "cell_type": "markdown",
   "metadata": {
    "slideshow": {
     "slide_type": "subslide"
    }
   },
   "source": [
    "我们可以看看这些图片都是什么"
   ]
  },
  {
   "cell_type": "code",
   "execution_count": 22,
   "metadata": {
    "slideshow": {
     "slide_type": "fragment"
    }
   },
   "outputs": [
    {
     "data": {
      "image/svg+xml": [
       "<?xml version=\"1.0\" encoding=\"UTF-8\"?>\n",
       "<!DOCTYPE svg PUBLIC \"-//W3C//DTD SVG 1.1//EN\"\n",
       " \"http://www.w3.org/Graphics/SVG/1.1/DTD/svg11.dtd\">\n",
       "<svg xmlns=\"http://www.w3.org/2000/svg\" version=\"1.1\"\n",
       "     width=\"150.0mm\" height=\"150.0mm\"\n",
       "     shape-rendering=\"crispEdges\">\n",
       "<rect x=\"0.0mm\" y=\"0.0mm\"\n",
       "      width=\"4.357142857142857mm\" height=\"4.357142857142857mm\"\n",
       "      fill=\"#000000\" stroke=\"none\" />\n",
       "<rect x=\"5.357142857142857mm\" y=\"0.0mm\"\n",
       "      width=\"4.357142857142857mm\" height=\"4.357142857142857mm\"\n",
       "      fill=\"#000000\" stroke=\"none\" />\n",
       "<rect x=\"10.714285714285714mm\" y=\"0.0mm\"\n",
       "      width=\"4.357142857142857mm\" height=\"4.357142857142857mm\"\n",
       "      fill=\"#000000\" stroke=\"none\" />\n",
       "<rect x=\"16.07142857142857mm\" y=\"0.0mm\"\n",
       "      width=\"4.357142857142857mm\" height=\"4.357142857142857mm\"\n",
       "      fill=\"#000000\" stroke=\"none\" />\n",
       "<rect x=\"21.428571428571427mm\" y=\"0.0mm\"\n",
       "      width=\"4.357142857142857mm\" height=\"4.357142857142857mm\"\n",
       "      fill=\"#000000\" stroke=\"none\" />\n",
       "<rect x=\"26.785714285714285mm\" y=\"0.0mm\"\n",
       "      width=\"4.357142857142857mm\" height=\"4.357142857142857mm\"\n",
       "      fill=\"#000000\" stroke=\"none\" />\n",
       "<rect x=\"32.14285714285714mm\" y=\"0.0mm\"\n",
       "      width=\"4.357142857142857mm\" height=\"4.357142857142857mm\"\n",
       "      fill=\"#000000\" stroke=\"none\" />\n",
       "<rect x=\"37.5mm\" y=\"0.0mm\"\n",
       "      width=\"4.357142857142857mm\" height=\"4.357142857142857mm\"\n",
       "      fill=\"#000000\" stroke=\"none\" />\n",
       "<rect x=\"42.857142857142854mm\" y=\"0.0mm\"\n",
       "      width=\"4.357142857142857mm\" height=\"4.357142857142857mm\"\n",
       "      fill=\"#000000\" stroke=\"none\" />\n",
       "<rect x=\"48.21428571428571mm\" y=\"0.0mm\"\n",
       "      width=\"4.357142857142857mm\" height=\"4.357142857142857mm\"\n",
       "      fill=\"#000000\" stroke=\"none\" />\n",
       "<rect x=\"53.57142857142857mm\" y=\"0.0mm\"\n",
       "      width=\"4.357142857142857mm\" height=\"4.357142857142857mm\"\n",
       "      fill=\"#000000\" stroke=\"none\" />\n",
       "<rect x=\"58.92857142857142mm\" y=\"0.0mm\"\n",
       "      width=\"4.357142857142857mm\" height=\"4.357142857142857mm\"\n",
       "      fill=\"#000000\" stroke=\"none\" />\n",
       "<rect x=\"64.28571428571428mm\" y=\"0.0mm\"\n",
       "      width=\"4.357142857142857mm\" height=\"4.357142857142857mm\"\n",
       "      fill=\"#000000\" stroke=\"none\" />\n",
       "<rect x=\"69.64285714285714mm\" y=\"0.0mm\"\n",
       "      width=\"4.357142857142857mm\" height=\"4.357142857142857mm\"\n",
       "      fill=\"#000000\" stroke=\"none\" />\n",
       "<rect x=\"75.0mm\" y=\"0.0mm\"\n",
       "      width=\"4.357142857142857mm\" height=\"4.357142857142857mm\"\n",
       "      fill=\"#000000\" stroke=\"none\" />\n",
       "<rect x=\"80.35714285714285mm\" y=\"0.0mm\"\n",
       "      width=\"4.357142857142857mm\" height=\"4.357142857142857mm\"\n",
       "      fill=\"#000000\" stroke=\"none\" />\n",
       "<rect x=\"85.71428571428571mm\" y=\"0.0mm\"\n",
       "      width=\"4.357142857142857mm\" height=\"4.357142857142857mm\"\n",
       "      fill=\"#000000\" stroke=\"none\" />\n",
       "<rect x=\"91.07142857142857mm\" y=\"0.0mm\"\n",
       "      width=\"4.357142857142857mm\" height=\"4.357142857142857mm\"\n",
       "      fill=\"#000000\" stroke=\"none\" />\n",
       "<rect x=\"96.42857142857142mm\" y=\"0.0mm\"\n",
       "      width=\"4.357142857142857mm\" height=\"4.357142857142857mm\"\n",
       "      fill=\"#000000\" stroke=\"none\" />\n",
       "<rect x=\"101.78571428571428mm\" y=\"0.0mm\"\n",
       "      width=\"4.357142857142857mm\" height=\"4.357142857142857mm\"\n",
       "      fill=\"#000000\" stroke=\"none\" />\n",
       "<rect x=\"107.14285714285714mm\" y=\"0.0mm\"\n",
       "      width=\"4.357142857142857mm\" height=\"4.357142857142857mm\"\n",
       "      fill=\"#000000\" stroke=\"none\" />\n",
       "<rect x=\"112.49999999999999mm\" y=\"0.0mm\"\n",
       "      width=\"4.357142857142857mm\" height=\"4.357142857142857mm\"\n",
       "      fill=\"#000000\" stroke=\"none\" />\n",
       "<rect x=\"117.85714285714285mm\" y=\"0.0mm\"\n",
       "      width=\"4.357142857142857mm\" height=\"4.357142857142857mm\"\n",
       "      fill=\"#000000\" stroke=\"none\" />\n",
       "<rect x=\"123.21428571428571mm\" y=\"0.0mm\"\n",
       "      width=\"4.357142857142857mm\" height=\"4.357142857142857mm\"\n",
       "      fill=\"#000000\" stroke=\"none\" />\n",
       "<rect x=\"128.57142857142856mm\" y=\"0.0mm\"\n",
       "      width=\"4.357142857142857mm\" height=\"4.357142857142857mm\"\n",
       "      fill=\"#000000\" stroke=\"none\" />\n",
       "<rect x=\"133.92857142857142mm\" y=\"0.0mm\"\n",
       "      width=\"4.357142857142857mm\" height=\"4.357142857142857mm\"\n",
       "      fill=\"#000000\" stroke=\"none\" />\n",
       "<rect x=\"139.28571428571428mm\" y=\"0.0mm\"\n",
       "      width=\"4.357142857142857mm\" height=\"4.357142857142857mm\"\n",
       "      fill=\"#000000\" stroke=\"none\" />\n",
       "<rect x=\"144.64285714285714mm\" y=\"0.0mm\"\n",
       "      width=\"4.357142857142857mm\" height=\"4.357142857142857mm\"\n",
       "      fill=\"#000000\" stroke=\"none\" />\n",
       "<rect x=\"0.0mm\" y=\"5.357142857142857mm\"\n",
       "      width=\"4.357142857142857mm\" height=\"4.357142857142857mm\"\n",
       "      fill=\"#000000\" stroke=\"none\" />\n",
       "<rect x=\"5.357142857142857mm\" y=\"5.357142857142857mm\"\n",
       "      width=\"4.357142857142857mm\" height=\"4.357142857142857mm\"\n",
       "      fill=\"#000000\" stroke=\"none\" />\n",
       "<rect x=\"10.714285714285714mm\" y=\"5.357142857142857mm\"\n",
       "      width=\"4.357142857142857mm\" height=\"4.357142857142857mm\"\n",
       "      fill=\"#000000\" stroke=\"none\" />\n",
       "<rect x=\"16.07142857142857mm\" y=\"5.357142857142857mm\"\n",
       "      width=\"4.357142857142857mm\" height=\"4.357142857142857mm\"\n",
       "      fill=\"#000000\" stroke=\"none\" />\n",
       "<rect x=\"21.428571428571427mm\" y=\"5.357142857142857mm\"\n",
       "      width=\"4.357142857142857mm\" height=\"4.357142857142857mm\"\n",
       "      fill=\"#000000\" stroke=\"none\" />\n",
       "<rect x=\"26.785714285714285mm\" y=\"5.357142857142857mm\"\n",
       "      width=\"4.357142857142857mm\" height=\"4.357142857142857mm\"\n",
       "      fill=\"#000000\" stroke=\"none\" />\n",
       "<rect x=\"32.14285714285714mm\" y=\"5.357142857142857mm\"\n",
       "      width=\"4.357142857142857mm\" height=\"4.357142857142857mm\"\n",
       "      fill=\"#000000\" stroke=\"none\" />\n",
       "<rect x=\"37.5mm\" y=\"5.357142857142857mm\"\n",
       "      width=\"4.357142857142857mm\" height=\"4.357142857142857mm\"\n",
       "      fill=\"#000000\" stroke=\"none\" />\n",
       "<rect x=\"42.857142857142854mm\" y=\"5.357142857142857mm\"\n",
       "      width=\"4.357142857142857mm\" height=\"4.357142857142857mm\"\n",
       "      fill=\"#000000\" stroke=\"none\" />\n",
       "<rect x=\"48.21428571428571mm\" y=\"5.357142857142857mm\"\n",
       "      width=\"4.357142857142857mm\" height=\"4.357142857142857mm\"\n",
       "      fill=\"#000000\" stroke=\"none\" />\n",
       "<rect x=\"53.57142857142857mm\" y=\"5.357142857142857mm\"\n",
       "      width=\"4.357142857142857mm\" height=\"4.357142857142857mm\"\n",
       "      fill=\"#000000\" stroke=\"none\" />\n",
       "<rect x=\"58.92857142857142mm\" y=\"5.357142857142857mm\"\n",
       "      width=\"4.357142857142857mm\" height=\"4.357142857142857mm\"\n",
       "      fill=\"#000000\" stroke=\"none\" />\n",
       "<rect x=\"64.28571428571428mm\" y=\"5.357142857142857mm\"\n",
       "      width=\"4.357142857142857mm\" height=\"4.357142857142857mm\"\n",
       "      fill=\"#000000\" stroke=\"none\" />\n",
       "<rect x=\"69.64285714285714mm\" y=\"5.357142857142857mm\"\n",
       "      width=\"4.357142857142857mm\" height=\"4.357142857142857mm\"\n",
       "      fill=\"#000000\" stroke=\"none\" />\n",
       "<rect x=\"75.0mm\" y=\"5.357142857142857mm\"\n",
       "      width=\"4.357142857142857mm\" height=\"4.357142857142857mm\"\n",
       "      fill=\"#000000\" stroke=\"none\" />\n",
       "<rect x=\"80.35714285714285mm\" y=\"5.357142857142857mm\"\n",
       "      width=\"4.357142857142857mm\" height=\"4.357142857142857mm\"\n",
       "      fill=\"#000000\" stroke=\"none\" />\n",
       "<rect x=\"85.71428571428571mm\" y=\"5.357142857142857mm\"\n",
       "      width=\"4.357142857142857mm\" height=\"4.357142857142857mm\"\n",
       "      fill=\"#000000\" stroke=\"none\" />\n",
       "<rect x=\"91.07142857142857mm\" y=\"5.357142857142857mm\"\n",
       "      width=\"4.357142857142857mm\" height=\"4.357142857142857mm\"\n",
       "      fill=\"#000000\" stroke=\"none\" />\n",
       "<rect x=\"96.42857142857142mm\" y=\"5.357142857142857mm\"\n",
       "      width=\"4.357142857142857mm\" height=\"4.357142857142857mm\"\n",
       "      fill=\"#000000\" stroke=\"none\" />\n",
       "<rect x=\"101.78571428571428mm\" y=\"5.357142857142857mm\"\n",
       "      width=\"4.357142857142857mm\" height=\"4.357142857142857mm\"\n",
       "      fill=\"#000000\" stroke=\"none\" />\n",
       "<rect x=\"107.14285714285714mm\" y=\"5.357142857142857mm\"\n",
       "      width=\"4.357142857142857mm\" height=\"4.357142857142857mm\"\n",
       "      fill=\"#000000\" stroke=\"none\" />\n",
       "<rect x=\"112.49999999999999mm\" y=\"5.357142857142857mm\"\n",
       "      width=\"4.357142857142857mm\" height=\"4.357142857142857mm\"\n",
       "      fill=\"#000000\" stroke=\"none\" />\n",
       "<rect x=\"117.85714285714285mm\" y=\"5.357142857142857mm\"\n",
       "      width=\"4.357142857142857mm\" height=\"4.357142857142857mm\"\n",
       "      fill=\"#000000\" stroke=\"none\" />\n",
       "<rect x=\"123.21428571428571mm\" y=\"5.357142857142857mm\"\n",
       "      width=\"4.357142857142857mm\" height=\"4.357142857142857mm\"\n",
       "      fill=\"#000000\" stroke=\"none\" />\n",
       "<rect x=\"128.57142857142856mm\" y=\"5.357142857142857mm\"\n",
       "      width=\"4.357142857142857mm\" height=\"4.357142857142857mm\"\n",
       "      fill=\"#000000\" stroke=\"none\" />\n",
       "<rect x=\"133.92857142857142mm\" y=\"5.357142857142857mm\"\n",
       "      width=\"4.357142857142857mm\" height=\"4.357142857142857mm\"\n",
       "      fill=\"#000000\" stroke=\"none\" />\n",
       "<rect x=\"139.28571428571428mm\" y=\"5.357142857142857mm\"\n",
       "      width=\"4.357142857142857mm\" height=\"4.357142857142857mm\"\n",
       "      fill=\"#000000\" stroke=\"none\" />\n",
       "<rect x=\"144.64285714285714mm\" y=\"5.357142857142857mm\"\n",
       "      width=\"4.357142857142857mm\" height=\"4.357142857142857mm\"\n",
       "      fill=\"#000000\" stroke=\"none\" />\n",
       "<rect x=\"0.0mm\" y=\"10.714285714285714mm\"\n",
       "      width=\"4.357142857142857mm\" height=\"4.357142857142857mm\"\n",
       "      fill=\"#000000\" stroke=\"none\" />\n",
       "<rect x=\"5.357142857142857mm\" y=\"10.714285714285714mm\"\n",
       "      width=\"4.357142857142857mm\" height=\"4.357142857142857mm\"\n",
       "      fill=\"#000000\" stroke=\"none\" />\n",
       "<rect x=\"10.714285714285714mm\" y=\"10.714285714285714mm\"\n",
       "      width=\"4.357142857142857mm\" height=\"4.357142857142857mm\"\n",
       "      fill=\"#000000\" stroke=\"none\" />\n",
       "<rect x=\"16.07142857142857mm\" y=\"10.714285714285714mm\"\n",
       "      width=\"4.357142857142857mm\" height=\"4.357142857142857mm\"\n",
       "      fill=\"#000000\" stroke=\"none\" />\n",
       "<rect x=\"21.428571428571427mm\" y=\"10.714285714285714mm\"\n",
       "      width=\"4.357142857142857mm\" height=\"4.357142857142857mm\"\n",
       "      fill=\"#000000\" stroke=\"none\" />\n",
       "<rect x=\"26.785714285714285mm\" y=\"10.714285714285714mm\"\n",
       "      width=\"4.357142857142857mm\" height=\"4.357142857142857mm\"\n",
       "      fill=\"#000000\" stroke=\"none\" />\n",
       "<rect x=\"32.14285714285714mm\" y=\"10.714285714285714mm\"\n",
       "      width=\"4.357142857142857mm\" height=\"4.357142857142857mm\"\n",
       "      fill=\"#000000\" stroke=\"none\" />\n",
       "<rect x=\"37.5mm\" y=\"10.714285714285714mm\"\n",
       "      width=\"4.357142857142857mm\" height=\"4.357142857142857mm\"\n",
       "      fill=\"#000000\" stroke=\"none\" />\n",
       "<rect x=\"42.857142857142854mm\" y=\"10.714285714285714mm\"\n",
       "      width=\"4.357142857142857mm\" height=\"4.357142857142857mm\"\n",
       "      fill=\"#000000\" stroke=\"none\" />\n",
       "<rect x=\"48.21428571428571mm\" y=\"10.714285714285714mm\"\n",
       "      width=\"4.357142857142857mm\" height=\"4.357142857142857mm\"\n",
       "      fill=\"#000000\" stroke=\"none\" />\n",
       "<rect x=\"53.57142857142857mm\" y=\"10.714285714285714mm\"\n",
       "      width=\"4.357142857142857mm\" height=\"4.357142857142857mm\"\n",
       "      fill=\"#000000\" stroke=\"none\" />\n",
       "<rect x=\"58.92857142857142mm\" y=\"10.714285714285714mm\"\n",
       "      width=\"4.357142857142857mm\" height=\"4.357142857142857mm\"\n",
       "      fill=\"#000000\" stroke=\"none\" />\n",
       "<rect x=\"64.28571428571428mm\" y=\"10.714285714285714mm\"\n",
       "      width=\"4.357142857142857mm\" height=\"4.357142857142857mm\"\n",
       "      fill=\"#000000\" stroke=\"none\" />\n",
       "<rect x=\"69.64285714285714mm\" y=\"10.714285714285714mm\"\n",
       "      width=\"4.357142857142857mm\" height=\"4.357142857142857mm\"\n",
       "      fill=\"#000000\" stroke=\"none\" />\n",
       "<rect x=\"75.0mm\" y=\"10.714285714285714mm\"\n",
       "      width=\"4.357142857142857mm\" height=\"4.357142857142857mm\"\n",
       "      fill=\"#000000\" stroke=\"none\" />\n",
       "<rect x=\"80.35714285714285mm\" y=\"10.714285714285714mm\"\n",
       "      width=\"4.357142857142857mm\" height=\"4.357142857142857mm\"\n",
       "      fill=\"#000000\" stroke=\"none\" />\n",
       "<rect x=\"85.71428571428571mm\" y=\"10.714285714285714mm\"\n",
       "      width=\"4.357142857142857mm\" height=\"4.357142857142857mm\"\n",
       "      fill=\"#000000\" stroke=\"none\" />\n",
       "<rect x=\"91.07142857142857mm\" y=\"10.714285714285714mm\"\n",
       "      width=\"4.357142857142857mm\" height=\"4.357142857142857mm\"\n",
       "      fill=\"#000000\" stroke=\"none\" />\n",
       "<rect x=\"96.42857142857142mm\" y=\"10.714285714285714mm\"\n",
       "      width=\"4.357142857142857mm\" height=\"4.357142857142857mm\"\n",
       "      fill=\"#000000\" stroke=\"none\" />\n",
       "<rect x=\"101.78571428571428mm\" y=\"10.714285714285714mm\"\n",
       "      width=\"4.357142857142857mm\" height=\"4.357142857142857mm\"\n",
       "      fill=\"#000000\" stroke=\"none\" />\n",
       "<rect x=\"107.14285714285714mm\" y=\"10.714285714285714mm\"\n",
       "      width=\"4.357142857142857mm\" height=\"4.357142857142857mm\"\n",
       "      fill=\"#000000\" stroke=\"none\" />\n",
       "<rect x=\"112.49999999999999mm\" y=\"10.714285714285714mm\"\n",
       "      width=\"4.357142857142857mm\" height=\"4.357142857142857mm\"\n",
       "      fill=\"#000000\" stroke=\"none\" />\n",
       "<rect x=\"117.85714285714285mm\" y=\"10.714285714285714mm\"\n",
       "      width=\"4.357142857142857mm\" height=\"4.357142857142857mm\"\n",
       "      fill=\"#000000\" stroke=\"none\" />\n",
       "<rect x=\"123.21428571428571mm\" y=\"10.714285714285714mm\"\n",
       "      width=\"4.357142857142857mm\" height=\"4.357142857142857mm\"\n",
       "      fill=\"#000000\" stroke=\"none\" />\n",
       "<rect x=\"128.57142857142856mm\" y=\"10.714285714285714mm\"\n",
       "      width=\"4.357142857142857mm\" height=\"4.357142857142857mm\"\n",
       "      fill=\"#000000\" stroke=\"none\" />\n",
       "<rect x=\"133.92857142857142mm\" y=\"10.714285714285714mm\"\n",
       "      width=\"4.357142857142857mm\" height=\"4.357142857142857mm\"\n",
       "      fill=\"#000000\" stroke=\"none\" />\n",
       "<rect x=\"139.28571428571428mm\" y=\"10.714285714285714mm\"\n",
       "      width=\"4.357142857142857mm\" height=\"4.357142857142857mm\"\n",
       "      fill=\"#000000\" stroke=\"none\" />\n",
       "<rect x=\"144.64285714285714mm\" y=\"10.714285714285714mm\"\n",
       "      width=\"4.357142857142857mm\" height=\"4.357142857142857mm\"\n",
       "      fill=\"#000000\" stroke=\"none\" />\n",
       "<rect x=\"0.0mm\" y=\"16.07142857142857mm\"\n",
       "      width=\"4.357142857142857mm\" height=\"4.357142857142857mm\"\n",
       "      fill=\"#000000\" stroke=\"none\" />\n",
       "<rect x=\"5.357142857142857mm\" y=\"16.07142857142857mm\"\n",
       "      width=\"4.357142857142857mm\" height=\"4.357142857142857mm\"\n",
       "      fill=\"#000000\" stroke=\"none\" />\n",
       "<rect x=\"10.714285714285714mm\" y=\"16.07142857142857mm\"\n",
       "      width=\"4.357142857142857mm\" height=\"4.357142857142857mm\"\n",
       "      fill=\"#000000\" stroke=\"none\" />\n",
       "<rect x=\"16.07142857142857mm\" y=\"16.07142857142857mm\"\n",
       "      width=\"4.357142857142857mm\" height=\"4.357142857142857mm\"\n",
       "      fill=\"#000000\" stroke=\"none\" />\n",
       "<rect x=\"21.428571428571427mm\" y=\"16.07142857142857mm\"\n",
       "      width=\"4.357142857142857mm\" height=\"4.357142857142857mm\"\n",
       "      fill=\"#000000\" stroke=\"none\" />\n",
       "<rect x=\"26.785714285714285mm\" y=\"16.07142857142857mm\"\n",
       "      width=\"4.357142857142857mm\" height=\"4.357142857142857mm\"\n",
       "      fill=\"#000000\" stroke=\"none\" />\n",
       "<rect x=\"32.14285714285714mm\" y=\"16.07142857142857mm\"\n",
       "      width=\"4.357142857142857mm\" height=\"4.357142857142857mm\"\n",
       "      fill=\"#000000\" stroke=\"none\" />\n",
       "<rect x=\"37.5mm\" y=\"16.07142857142857mm\"\n",
       "      width=\"4.357142857142857mm\" height=\"4.357142857142857mm\"\n",
       "      fill=\"#000000\" stroke=\"none\" />\n",
       "<rect x=\"42.857142857142854mm\" y=\"16.07142857142857mm\"\n",
       "      width=\"4.357142857142857mm\" height=\"4.357142857142857mm\"\n",
       "      fill=\"#000000\" stroke=\"none\" />\n",
       "<rect x=\"48.21428571428571mm\" y=\"16.07142857142857mm\"\n",
       "      width=\"4.357142857142857mm\" height=\"4.357142857142857mm\"\n",
       "      fill=\"#000000\" stroke=\"none\" />\n",
       "<rect x=\"53.57142857142857mm\" y=\"16.07142857142857mm\"\n",
       "      width=\"4.357142857142857mm\" height=\"4.357142857142857mm\"\n",
       "      fill=\"#000000\" stroke=\"none\" />\n",
       "<rect x=\"58.92857142857142mm\" y=\"16.07142857142857mm\"\n",
       "      width=\"4.357142857142857mm\" height=\"4.357142857142857mm\"\n",
       "      fill=\"#000000\" stroke=\"none\" />\n",
       "<rect x=\"64.28571428571428mm\" y=\"16.07142857142857mm\"\n",
       "      width=\"4.357142857142857mm\" height=\"4.357142857142857mm\"\n",
       "      fill=\"#000000\" stroke=\"none\" />\n",
       "<rect x=\"69.64285714285714mm\" y=\"16.07142857142857mm\"\n",
       "      width=\"4.357142857142857mm\" height=\"4.357142857142857mm\"\n",
       "      fill=\"#000000\" stroke=\"none\" />\n",
       "<rect x=\"75.0mm\" y=\"16.07142857142857mm\"\n",
       "      width=\"4.357142857142857mm\" height=\"4.357142857142857mm\"\n",
       "      fill=\"#000000\" stroke=\"none\" />\n",
       "<rect x=\"80.35714285714285mm\" y=\"16.07142857142857mm\"\n",
       "      width=\"4.357142857142857mm\" height=\"4.357142857142857mm\"\n",
       "      fill=\"#000000\" stroke=\"none\" />\n",
       "<rect x=\"85.71428571428571mm\" y=\"16.07142857142857mm\"\n",
       "      width=\"4.357142857142857mm\" height=\"4.357142857142857mm\"\n",
       "      fill=\"#000000\" stroke=\"none\" />\n",
       "<rect x=\"91.07142857142857mm\" y=\"16.07142857142857mm\"\n",
       "      width=\"4.357142857142857mm\" height=\"4.357142857142857mm\"\n",
       "      fill=\"#000000\" stroke=\"none\" />\n",
       "<rect x=\"96.42857142857142mm\" y=\"16.07142857142857mm\"\n",
       "      width=\"4.357142857142857mm\" height=\"4.357142857142857mm\"\n",
       "      fill=\"#000000\" stroke=\"none\" />\n",
       "<rect x=\"101.78571428571428mm\" y=\"16.07142857142857mm\"\n",
       "      width=\"4.357142857142857mm\" height=\"4.357142857142857mm\"\n",
       "      fill=\"#000000\" stroke=\"none\" />\n",
       "<rect x=\"107.14285714285714mm\" y=\"16.07142857142857mm\"\n",
       "      width=\"4.357142857142857mm\" height=\"4.357142857142857mm\"\n",
       "      fill=\"#000000\" stroke=\"none\" />\n",
       "<rect x=\"112.49999999999999mm\" y=\"16.07142857142857mm\"\n",
       "      width=\"4.357142857142857mm\" height=\"4.357142857142857mm\"\n",
       "      fill=\"#000000\" stroke=\"none\" />\n",
       "<rect x=\"117.85714285714285mm\" y=\"16.07142857142857mm\"\n",
       "      width=\"4.357142857142857mm\" height=\"4.357142857142857mm\"\n",
       "      fill=\"#000000\" stroke=\"none\" />\n",
       "<rect x=\"123.21428571428571mm\" y=\"16.07142857142857mm\"\n",
       "      width=\"4.357142857142857mm\" height=\"4.357142857142857mm\"\n",
       "      fill=\"#000000\" stroke=\"none\" />\n",
       "<rect x=\"128.57142857142856mm\" y=\"16.07142857142857mm\"\n",
       "      width=\"4.357142857142857mm\" height=\"4.357142857142857mm\"\n",
       "      fill=\"#000000\" stroke=\"none\" />\n",
       "<rect x=\"133.92857142857142mm\" y=\"16.07142857142857mm\"\n",
       "      width=\"4.357142857142857mm\" height=\"4.357142857142857mm\"\n",
       "      fill=\"#000000\" stroke=\"none\" />\n",
       "<rect x=\"139.28571428571428mm\" y=\"16.07142857142857mm\"\n",
       "      width=\"4.357142857142857mm\" height=\"4.357142857142857mm\"\n",
       "      fill=\"#000000\" stroke=\"none\" />\n",
       "<rect x=\"144.64285714285714mm\" y=\"16.07142857142857mm\"\n",
       "      width=\"4.357142857142857mm\" height=\"4.357142857142857mm\"\n",
       "      fill=\"#000000\" stroke=\"none\" />\n",
       "<rect x=\"0.0mm\" y=\"21.428571428571427mm\"\n",
       "      width=\"4.357142857142857mm\" height=\"4.357142857142857mm\"\n",
       "      fill=\"#000000\" stroke=\"none\" />\n",
       "<rect x=\"5.357142857142857mm\" y=\"21.428571428571427mm\"\n",
       "      width=\"4.357142857142857mm\" height=\"4.357142857142857mm\"\n",
       "      fill=\"#000000\" stroke=\"none\" />\n",
       "<rect x=\"10.714285714285714mm\" y=\"21.428571428571427mm\"\n",
       "      width=\"4.357142857142857mm\" height=\"4.357142857142857mm\"\n",
       "      fill=\"#000000\" stroke=\"none\" />\n",
       "<rect x=\"16.07142857142857mm\" y=\"21.428571428571427mm\"\n",
       "      width=\"4.357142857142857mm\" height=\"4.357142857142857mm\"\n",
       "      fill=\"#000000\" stroke=\"none\" />\n",
       "<rect x=\"21.428571428571427mm\" y=\"21.428571428571427mm\"\n",
       "      width=\"4.357142857142857mm\" height=\"4.357142857142857mm\"\n",
       "      fill=\"#000000\" stroke=\"none\" />\n",
       "<rect x=\"26.785714285714285mm\" y=\"21.428571428571427mm\"\n",
       "      width=\"4.357142857142857mm\" height=\"4.357142857142857mm\"\n",
       "      fill=\"#000000\" stroke=\"none\" />\n",
       "<rect x=\"32.14285714285714mm\" y=\"21.428571428571427mm\"\n",
       "      width=\"4.357142857142857mm\" height=\"4.357142857142857mm\"\n",
       "      fill=\"#000000\" stroke=\"none\" />\n",
       "<rect x=\"37.5mm\" y=\"21.428571428571427mm\"\n",
       "      width=\"4.357142857142857mm\" height=\"4.357142857142857mm\"\n",
       "      fill=\"#000000\" stroke=\"none\" />\n",
       "<rect x=\"42.857142857142854mm\" y=\"21.428571428571427mm\"\n",
       "      width=\"4.357142857142857mm\" height=\"4.357142857142857mm\"\n",
       "      fill=\"#000000\" stroke=\"none\" />\n",
       "<rect x=\"48.21428571428571mm\" y=\"21.428571428571427mm\"\n",
       "      width=\"4.357142857142857mm\" height=\"4.357142857142857mm\"\n",
       "      fill=\"#000000\" stroke=\"none\" />\n",
       "<rect x=\"53.57142857142857mm\" y=\"21.428571428571427mm\"\n",
       "      width=\"4.357142857142857mm\" height=\"4.357142857142857mm\"\n",
       "      fill=\"#000000\" stroke=\"none\" />\n",
       "<rect x=\"58.92857142857142mm\" y=\"21.428571428571427mm\"\n",
       "      width=\"4.357142857142857mm\" height=\"4.357142857142857mm\"\n",
       "      fill=\"#000000\" stroke=\"none\" />\n",
       "<rect x=\"64.28571428571428mm\" y=\"21.428571428571427mm\"\n",
       "      width=\"4.357142857142857mm\" height=\"4.357142857142857mm\"\n",
       "      fill=\"#000000\" stroke=\"none\" />\n",
       "<rect x=\"69.64285714285714mm\" y=\"21.428571428571427mm\"\n",
       "      width=\"4.357142857142857mm\" height=\"4.357142857142857mm\"\n",
       "      fill=\"#000000\" stroke=\"none\" />\n",
       "<rect x=\"75.0mm\" y=\"21.428571428571427mm\"\n",
       "      width=\"4.357142857142857mm\" height=\"4.357142857142857mm\"\n",
       "      fill=\"#000000\" stroke=\"none\" />\n",
       "<rect x=\"80.35714285714285mm\" y=\"21.428571428571427mm\"\n",
       "      width=\"4.357142857142857mm\" height=\"4.357142857142857mm\"\n",
       "      fill=\"#000000\" stroke=\"none\" />\n",
       "<rect x=\"85.71428571428571mm\" y=\"21.428571428571427mm\"\n",
       "      width=\"4.357142857142857mm\" height=\"4.357142857142857mm\"\n",
       "      fill=\"#000000\" stroke=\"none\" />\n",
       "<rect x=\"91.07142857142857mm\" y=\"21.428571428571427mm\"\n",
       "      width=\"4.357142857142857mm\" height=\"4.357142857142857mm\"\n",
       "      fill=\"#000000\" stroke=\"none\" />\n",
       "<rect x=\"96.42857142857142mm\" y=\"21.428571428571427mm\"\n",
       "      width=\"4.357142857142857mm\" height=\"4.357142857142857mm\"\n",
       "      fill=\"#000000\" stroke=\"none\" />\n",
       "<rect x=\"101.78571428571428mm\" y=\"21.428571428571427mm\"\n",
       "      width=\"4.357142857142857mm\" height=\"4.357142857142857mm\"\n",
       "      fill=\"#000000\" stroke=\"none\" />\n",
       "<rect x=\"107.14285714285714mm\" y=\"21.428571428571427mm\"\n",
       "      width=\"4.357142857142857mm\" height=\"4.357142857142857mm\"\n",
       "      fill=\"#000000\" stroke=\"none\" />\n",
       "<rect x=\"112.49999999999999mm\" y=\"21.428571428571427mm\"\n",
       "      width=\"4.357142857142857mm\" height=\"4.357142857142857mm\"\n",
       "      fill=\"#000000\" stroke=\"none\" />\n",
       "<rect x=\"117.85714285714285mm\" y=\"21.428571428571427mm\"\n",
       "      width=\"4.357142857142857mm\" height=\"4.357142857142857mm\"\n",
       "      fill=\"#000000\" stroke=\"none\" />\n",
       "<rect x=\"123.21428571428571mm\" y=\"21.428571428571427mm\"\n",
       "      width=\"4.357142857142857mm\" height=\"4.357142857142857mm\"\n",
       "      fill=\"#000000\" stroke=\"none\" />\n",
       "<rect x=\"128.57142857142856mm\" y=\"21.428571428571427mm\"\n",
       "      width=\"4.357142857142857mm\" height=\"4.357142857142857mm\"\n",
       "      fill=\"#000000\" stroke=\"none\" />\n",
       "<rect x=\"133.92857142857142mm\" y=\"21.428571428571427mm\"\n",
       "      width=\"4.357142857142857mm\" height=\"4.357142857142857mm\"\n",
       "      fill=\"#000000\" stroke=\"none\" />\n",
       "<rect x=\"139.28571428571428mm\" y=\"21.428571428571427mm\"\n",
       "      width=\"4.357142857142857mm\" height=\"4.357142857142857mm\"\n",
       "      fill=\"#000000\" stroke=\"none\" />\n",
       "<rect x=\"144.64285714285714mm\" y=\"21.428571428571427mm\"\n",
       "      width=\"4.357142857142857mm\" height=\"4.357142857142857mm\"\n",
       "      fill=\"#000000\" stroke=\"none\" />\n",
       "<rect x=\"0.0mm\" y=\"26.785714285714285mm\"\n",
       "      width=\"4.357142857142857mm\" height=\"4.357142857142857mm\"\n",
       "      fill=\"#000000\" stroke=\"none\" />\n",
       "<rect x=\"5.357142857142857mm\" y=\"26.785714285714285mm\"\n",
       "      width=\"4.357142857142857mm\" height=\"4.357142857142857mm\"\n",
       "      fill=\"#000000\" stroke=\"none\" />\n",
       "<rect x=\"10.714285714285714mm\" y=\"26.785714285714285mm\"\n",
       "      width=\"4.357142857142857mm\" height=\"4.357142857142857mm\"\n",
       "      fill=\"#000000\" stroke=\"none\" />\n",
       "<rect x=\"16.07142857142857mm\" y=\"26.785714285714285mm\"\n",
       "      width=\"4.357142857142857mm\" height=\"4.357142857142857mm\"\n",
       "      fill=\"#000000\" stroke=\"none\" />\n",
       "<rect x=\"21.428571428571427mm\" y=\"26.785714285714285mm\"\n",
       "      width=\"4.357142857142857mm\" height=\"4.357142857142857mm\"\n",
       "      fill=\"#000000\" stroke=\"none\" />\n",
       "<rect x=\"26.785714285714285mm\" y=\"26.785714285714285mm\"\n",
       "      width=\"4.357142857142857mm\" height=\"4.357142857142857mm\"\n",
       "      fill=\"#000000\" stroke=\"none\" />\n",
       "<rect x=\"32.14285714285714mm\" y=\"26.785714285714285mm\"\n",
       "      width=\"4.357142857142857mm\" height=\"4.357142857142857mm\"\n",
       "      fill=\"#000000\" stroke=\"none\" />\n",
       "<rect x=\"37.5mm\" y=\"26.785714285714285mm\"\n",
       "      width=\"4.357142857142857mm\" height=\"4.357142857142857mm\"\n",
       "      fill=\"#000000\" stroke=\"none\" />\n",
       "<rect x=\"42.857142857142854mm\" y=\"26.785714285714285mm\"\n",
       "      width=\"4.357142857142857mm\" height=\"4.357142857142857mm\"\n",
       "      fill=\"#000000\" stroke=\"none\" />\n",
       "<rect x=\"48.21428571428571mm\" y=\"26.785714285714285mm\"\n",
       "      width=\"4.357142857142857mm\" height=\"4.357142857142857mm\"\n",
       "      fill=\"#000000\" stroke=\"none\" />\n",
       "<rect x=\"53.57142857142857mm\" y=\"26.785714285714285mm\"\n",
       "      width=\"4.357142857142857mm\" height=\"4.357142857142857mm\"\n",
       "      fill=\"#000000\" stroke=\"none\" />\n",
       "<rect x=\"58.92857142857142mm\" y=\"26.785714285714285mm\"\n",
       "      width=\"4.357142857142857mm\" height=\"4.357142857142857mm\"\n",
       "      fill=\"#000000\" stroke=\"none\" />\n",
       "<rect x=\"64.28571428571428mm\" y=\"26.785714285714285mm\"\n",
       "      width=\"4.357142857142857mm\" height=\"4.357142857142857mm\"\n",
       "      fill=\"#030303\" stroke=\"none\" />\n",
       "<rect x=\"69.64285714285714mm\" y=\"26.785714285714285mm\"\n",
       "      width=\"4.357142857142857mm\" height=\"4.357142857142857mm\"\n",
       "      fill=\"#121212\" stroke=\"none\" />\n",
       "<rect x=\"75.0mm\" y=\"26.785714285714285mm\"\n",
       "      width=\"4.357142857142857mm\" height=\"4.357142857142857mm\"\n",
       "      fill=\"#121212\" stroke=\"none\" />\n",
       "<rect x=\"80.35714285714285mm\" y=\"26.785714285714285mm\"\n",
       "      width=\"4.357142857142857mm\" height=\"4.357142857142857mm\"\n",
       "      fill=\"#121212\" stroke=\"none\" />\n",
       "<rect x=\"85.71428571428571mm\" y=\"26.785714285714285mm\"\n",
       "      width=\"4.357142857142857mm\" height=\"4.357142857142857mm\"\n",
       "      fill=\"#7E7E7E\" stroke=\"none\" />\n",
       "<rect x=\"91.07142857142857mm\" y=\"26.785714285714285mm\"\n",
       "      width=\"4.357142857142857mm\" height=\"4.357142857142857mm\"\n",
       "      fill=\"#888888\" stroke=\"none\" />\n",
       "<rect x=\"96.42857142857142mm\" y=\"26.785714285714285mm\"\n",
       "      width=\"4.357142857142857mm\" height=\"4.357142857142857mm\"\n",
       "      fill=\"#AFAFAF\" stroke=\"none\" />\n",
       "<rect x=\"101.78571428571428mm\" y=\"26.785714285714285mm\"\n",
       "      width=\"4.357142857142857mm\" height=\"4.357142857142857mm\"\n",
       "      fill=\"#1A1A1A\" stroke=\"none\" />\n",
       "<rect x=\"107.14285714285714mm\" y=\"26.785714285714285mm\"\n",
       "      width=\"4.357142857142857mm\" height=\"4.357142857142857mm\"\n",
       "      fill=\"#A6A6A6\" stroke=\"none\" />\n",
       "<rect x=\"112.49999999999999mm\" y=\"26.785714285714285mm\"\n",
       "      width=\"4.357142857142857mm\" height=\"4.357142857142857mm\"\n",
       "      fill=\"#FFFFFF\" stroke=\"none\" />\n",
       "<rect x=\"117.85714285714285mm\" y=\"26.785714285714285mm\"\n",
       "      width=\"4.357142857142857mm\" height=\"4.357142857142857mm\"\n",
       "      fill=\"#F7F7F7\" stroke=\"none\" />\n",
       "<rect x=\"123.21428571428571mm\" y=\"26.785714285714285mm\"\n",
       "      width=\"4.357142857142857mm\" height=\"4.357142857142857mm\"\n",
       "      fill=\"#7F7F7F\" stroke=\"none\" />\n",
       "<rect x=\"128.57142857142856mm\" y=\"26.785714285714285mm\"\n",
       "      width=\"4.357142857142857mm\" height=\"4.357142857142857mm\"\n",
       "      fill=\"#000000\" stroke=\"none\" />\n",
       "<rect x=\"133.92857142857142mm\" y=\"26.785714285714285mm\"\n",
       "      width=\"4.357142857142857mm\" height=\"4.357142857142857mm\"\n",
       "      fill=\"#000000\" stroke=\"none\" />\n",
       "<rect x=\"139.28571428571428mm\" y=\"26.785714285714285mm\"\n",
       "      width=\"4.357142857142857mm\" height=\"4.357142857142857mm\"\n",
       "      fill=\"#000000\" stroke=\"none\" />\n",
       "<rect x=\"144.64285714285714mm\" y=\"26.785714285714285mm\"\n",
       "      width=\"4.357142857142857mm\" height=\"4.357142857142857mm\"\n",
       "      fill=\"#000000\" stroke=\"none\" />\n",
       "<rect x=\"0.0mm\" y=\"32.14285714285714mm\"\n",
       "      width=\"4.357142857142857mm\" height=\"4.357142857142857mm\"\n",
       "      fill=\"#000000\" stroke=\"none\" />\n",
       "<rect x=\"5.357142857142857mm\" y=\"32.14285714285714mm\"\n",
       "      width=\"4.357142857142857mm\" height=\"4.357142857142857mm\"\n",
       "      fill=\"#000000\" stroke=\"none\" />\n",
       "<rect x=\"10.714285714285714mm\" y=\"32.14285714285714mm\"\n",
       "      width=\"4.357142857142857mm\" height=\"4.357142857142857mm\"\n",
       "      fill=\"#000000\" stroke=\"none\" />\n",
       "<rect x=\"16.07142857142857mm\" y=\"32.14285714285714mm\"\n",
       "      width=\"4.357142857142857mm\" height=\"4.357142857142857mm\"\n",
       "      fill=\"#000000\" stroke=\"none\" />\n",
       "<rect x=\"21.428571428571427mm\" y=\"32.14285714285714mm\"\n",
       "      width=\"4.357142857142857mm\" height=\"4.357142857142857mm\"\n",
       "      fill=\"#000000\" stroke=\"none\" />\n",
       "<rect x=\"26.785714285714285mm\" y=\"32.14285714285714mm\"\n",
       "      width=\"4.357142857142857mm\" height=\"4.357142857142857mm\"\n",
       "      fill=\"#000000\" stroke=\"none\" />\n",
       "<rect x=\"32.14285714285714mm\" y=\"32.14285714285714mm\"\n",
       "      width=\"4.357142857142857mm\" height=\"4.357142857142857mm\"\n",
       "      fill=\"#000000\" stroke=\"none\" />\n",
       "<rect x=\"37.5mm\" y=\"32.14285714285714mm\"\n",
       "      width=\"4.357142857142857mm\" height=\"4.357142857142857mm\"\n",
       "      fill=\"#000000\" stroke=\"none\" />\n",
       "<rect x=\"42.857142857142854mm\" y=\"32.14285714285714mm\"\n",
       "      width=\"4.357142857142857mm\" height=\"4.357142857142857mm\"\n",
       "      fill=\"#1E1E1E\" stroke=\"none\" />\n",
       "<rect x=\"48.21428571428571mm\" y=\"32.14285714285714mm\"\n",
       "      width=\"4.357142857142857mm\" height=\"4.357142857142857mm\"\n",
       "      fill=\"#242424\" stroke=\"none\" />\n",
       "<rect x=\"53.57142857142857mm\" y=\"32.14285714285714mm\"\n",
       "      width=\"4.357142857142857mm\" height=\"4.357142857142857mm\"\n",
       "      fill=\"#5E5E5E\" stroke=\"none\" />\n",
       "<rect x=\"58.92857142857142mm\" y=\"32.14285714285714mm\"\n",
       "      width=\"4.357142857142857mm\" height=\"4.357142857142857mm\"\n",
       "      fill=\"#9A9A9A\" stroke=\"none\" />\n",
       "<rect x=\"64.28571428571428mm\" y=\"32.14285714285714mm\"\n",
       "      width=\"4.357142857142857mm\" height=\"4.357142857142857mm\"\n",
       "      fill=\"#AAAAAA\" stroke=\"none\" />\n",
       "<rect x=\"69.64285714285714mm\" y=\"32.14285714285714mm\"\n",
       "      width=\"4.357142857142857mm\" height=\"4.357142857142857mm\"\n",
       "      fill=\"#FDFDFD\" stroke=\"none\" />\n",
       "<rect x=\"75.0mm\" y=\"32.14285714285714mm\"\n",
       "      width=\"4.357142857142857mm\" height=\"4.357142857142857mm\"\n",
       "      fill=\"#FDFDFD\" stroke=\"none\" />\n",
       "<rect x=\"80.35714285714285mm\" y=\"32.14285714285714mm\"\n",
       "      width=\"4.357142857142857mm\" height=\"4.357142857142857mm\"\n",
       "      fill=\"#FDFDFD\" stroke=\"none\" />\n",
       "<rect x=\"85.71428571428571mm\" y=\"32.14285714285714mm\"\n",
       "      width=\"4.357142857142857mm\" height=\"4.357142857142857mm\"\n",
       "      fill=\"#FDFDFD\" stroke=\"none\" />\n",
       "<rect x=\"91.07142857142857mm\" y=\"32.14285714285714mm\"\n",
       "      width=\"4.357142857142857mm\" height=\"4.357142857142857mm\"\n",
       "      fill=\"#FDFDFD\" stroke=\"none\" />\n",
       "<rect x=\"96.42857142857142mm\" y=\"32.14285714285714mm\"\n",
       "      width=\"4.357142857142857mm\" height=\"4.357142857142857mm\"\n",
       "      fill=\"#E1E1E1\" stroke=\"none\" />\n",
       "<rect x=\"101.78571428571428mm\" y=\"32.14285714285714mm\"\n",
       "      width=\"4.357142857142857mm\" height=\"4.357142857142857mm\"\n",
       "      fill=\"#ACACAC\" stroke=\"none\" />\n",
       "<rect x=\"107.14285714285714mm\" y=\"32.14285714285714mm\"\n",
       "      width=\"4.357142857142857mm\" height=\"4.357142857142857mm\"\n",
       "      fill=\"#FDFDFD\" stroke=\"none\" />\n",
       "<rect x=\"112.49999999999999mm\" y=\"32.14285714285714mm\"\n",
       "      width=\"4.357142857142857mm\" height=\"4.357142857142857mm\"\n",
       "      fill=\"#F2F2F2\" stroke=\"none\" />\n",
       "<rect x=\"117.85714285714285mm\" y=\"32.14285714285714mm\"\n",
       "      width=\"4.357142857142857mm\" height=\"4.357142857142857mm\"\n",
       "      fill=\"#C3C3C3\" stroke=\"none\" />\n",
       "<rect x=\"123.21428571428571mm\" y=\"32.14285714285714mm\"\n",
       "      width=\"4.357142857142857mm\" height=\"4.357142857142857mm\"\n",
       "      fill=\"#404040\" stroke=\"none\" />\n",
       "<rect x=\"128.57142857142856mm\" y=\"32.14285714285714mm\"\n",
       "      width=\"4.357142857142857mm\" height=\"4.357142857142857mm\"\n",
       "      fill=\"#000000\" stroke=\"none\" />\n",
       "<rect x=\"133.92857142857142mm\" y=\"32.14285714285714mm\"\n",
       "      width=\"4.357142857142857mm\" height=\"4.357142857142857mm\"\n",
       "      fill=\"#000000\" stroke=\"none\" />\n",
       "<rect x=\"139.28571428571428mm\" y=\"32.14285714285714mm\"\n",
       "      width=\"4.357142857142857mm\" height=\"4.357142857142857mm\"\n",
       "      fill=\"#000000\" stroke=\"none\" />\n",
       "<rect x=\"144.64285714285714mm\" y=\"32.14285714285714mm\"\n",
       "      width=\"4.357142857142857mm\" height=\"4.357142857142857mm\"\n",
       "      fill=\"#000000\" stroke=\"none\" />\n",
       "<rect x=\"0.0mm\" y=\"37.5mm\"\n",
       "      width=\"4.357142857142857mm\" height=\"4.357142857142857mm\"\n",
       "      fill=\"#000000\" stroke=\"none\" />\n",
       "<rect x=\"5.357142857142857mm\" y=\"37.5mm\"\n",
       "      width=\"4.357142857142857mm\" height=\"4.357142857142857mm\"\n",
       "      fill=\"#000000\" stroke=\"none\" />\n",
       "<rect x=\"10.714285714285714mm\" y=\"37.5mm\"\n",
       "      width=\"4.357142857142857mm\" height=\"4.357142857142857mm\"\n",
       "      fill=\"#000000\" stroke=\"none\" />\n",
       "<rect x=\"16.07142857142857mm\" y=\"37.5mm\"\n",
       "      width=\"4.357142857142857mm\" height=\"4.357142857142857mm\"\n",
       "      fill=\"#000000\" stroke=\"none\" />\n",
       "<rect x=\"21.428571428571427mm\" y=\"37.5mm\"\n",
       "      width=\"4.357142857142857mm\" height=\"4.357142857142857mm\"\n",
       "      fill=\"#000000\" stroke=\"none\" />\n",
       "<rect x=\"26.785714285714285mm\" y=\"37.5mm\"\n",
       "      width=\"4.357142857142857mm\" height=\"4.357142857142857mm\"\n",
       "      fill=\"#000000\" stroke=\"none\" />\n",
       "<rect x=\"32.14285714285714mm\" y=\"37.5mm\"\n",
       "      width=\"4.357142857142857mm\" height=\"4.357142857142857mm\"\n",
       "      fill=\"#000000\" stroke=\"none\" />\n",
       "<rect x=\"37.5mm\" y=\"37.5mm\"\n",
       "      width=\"4.357142857142857mm\" height=\"4.357142857142857mm\"\n",
       "      fill=\"#313131\" stroke=\"none\" />\n",
       "<rect x=\"42.857142857142854mm\" y=\"37.5mm\"\n",
       "      width=\"4.357142857142857mm\" height=\"4.357142857142857mm\"\n",
       "      fill=\"#EEEEEE\" stroke=\"none\" />\n",
       "<rect x=\"48.21428571428571mm\" y=\"37.5mm\"\n",
       "      width=\"4.357142857142857mm\" height=\"4.357142857142857mm\"\n",
       "      fill=\"#FDFDFD\" stroke=\"none\" />\n",
       "<rect x=\"53.57142857142857mm\" y=\"37.5mm\"\n",
       "      width=\"4.357142857142857mm\" height=\"4.357142857142857mm\"\n",
       "      fill=\"#FDFDFD\" stroke=\"none\" />\n",
       "<rect x=\"58.92857142857142mm\" y=\"37.5mm\"\n",
       "      width=\"4.357142857142857mm\" height=\"4.357142857142857mm\"\n",
       "      fill=\"#FDFDFD\" stroke=\"none\" />\n",
       "<rect x=\"64.28571428571428mm\" y=\"37.5mm\"\n",
       "      width=\"4.357142857142857mm\" height=\"4.357142857142857mm\"\n",
       "      fill=\"#FDFDFD\" stroke=\"none\" />\n",
       "<rect x=\"69.64285714285714mm\" y=\"37.5mm\"\n",
       "      width=\"4.357142857142857mm\" height=\"4.357142857142857mm\"\n",
       "      fill=\"#FDFDFD\" stroke=\"none\" />\n",
       "<rect x=\"75.0mm\" y=\"37.5mm\"\n",
       "      width=\"4.357142857142857mm\" height=\"4.357142857142857mm\"\n",
       "      fill=\"#FDFDFD\" stroke=\"none\" />\n",
       "<rect x=\"80.35714285714285mm\" y=\"37.5mm\"\n",
       "      width=\"4.357142857142857mm\" height=\"4.357142857142857mm\"\n",
       "      fill=\"#FDFDFD\" stroke=\"none\" />\n",
       "<rect x=\"85.71428571428571mm\" y=\"37.5mm\"\n",
       "      width=\"4.357142857142857mm\" height=\"4.357142857142857mm\"\n",
       "      fill=\"#FDFDFD\" stroke=\"none\" />\n",
       "<rect x=\"91.07142857142857mm\" y=\"37.5mm\"\n",
       "      width=\"4.357142857142857mm\" height=\"4.357142857142857mm\"\n",
       "      fill=\"#FBFBFB\" stroke=\"none\" />\n",
       "<rect x=\"96.42857142857142mm\" y=\"37.5mm\"\n",
       "      width=\"4.357142857142857mm\" height=\"4.357142857142857mm\"\n",
       "      fill=\"#5D5D5D\" stroke=\"none\" />\n",
       "<rect x=\"101.78571428571428mm\" y=\"37.5mm\"\n",
       "      width=\"4.357142857142857mm\" height=\"4.357142857142857mm\"\n",
       "      fill=\"#525252\" stroke=\"none\" />\n",
       "<rect x=\"107.14285714285714mm\" y=\"37.5mm\"\n",
       "      width=\"4.357142857142857mm\" height=\"4.357142857142857mm\"\n",
       "      fill=\"#525252\" stroke=\"none\" />\n",
       "<rect x=\"112.49999999999999mm\" y=\"37.5mm\"\n",
       "      width=\"4.357142857142857mm\" height=\"4.357142857142857mm\"\n",
       "      fill=\"#383838\" stroke=\"none\" />\n",
       "<rect x=\"117.85714285714285mm\" y=\"37.5mm\"\n",
       "      width=\"4.357142857142857mm\" height=\"4.357142857142857mm\"\n",
       "      fill=\"#272727\" stroke=\"none\" />\n",
       "<rect x=\"123.21428571428571mm\" y=\"37.5mm\"\n",
       "      width=\"4.357142857142857mm\" height=\"4.357142857142857mm\"\n",
       "      fill=\"#000000\" stroke=\"none\" />\n",
       "<rect x=\"128.57142857142856mm\" y=\"37.5mm\"\n",
       "      width=\"4.357142857142857mm\" height=\"4.357142857142857mm\"\n",
       "      fill=\"#000000\" stroke=\"none\" />\n",
       "<rect x=\"133.92857142857142mm\" y=\"37.5mm\"\n",
       "      width=\"4.357142857142857mm\" height=\"4.357142857142857mm\"\n",
       "      fill=\"#000000\" stroke=\"none\" />\n",
       "<rect x=\"139.28571428571428mm\" y=\"37.5mm\"\n",
       "      width=\"4.357142857142857mm\" height=\"4.357142857142857mm\"\n",
       "      fill=\"#000000\" stroke=\"none\" />\n",
       "<rect x=\"144.64285714285714mm\" y=\"37.5mm\"\n",
       "      width=\"4.357142857142857mm\" height=\"4.357142857142857mm\"\n",
       "      fill=\"#000000\" stroke=\"none\" />\n",
       "<rect x=\"0.0mm\" y=\"42.857142857142854mm\"\n",
       "      width=\"4.357142857142857mm\" height=\"4.357142857142857mm\"\n",
       "      fill=\"#000000\" stroke=\"none\" />\n",
       "<rect x=\"5.357142857142857mm\" y=\"42.857142857142854mm\"\n",
       "      width=\"4.357142857142857mm\" height=\"4.357142857142857mm\"\n",
       "      fill=\"#000000\" stroke=\"none\" />\n",
       "<rect x=\"10.714285714285714mm\" y=\"42.857142857142854mm\"\n",
       "      width=\"4.357142857142857mm\" height=\"4.357142857142857mm\"\n",
       "      fill=\"#000000\" stroke=\"none\" />\n",
       "<rect x=\"16.07142857142857mm\" y=\"42.857142857142854mm\"\n",
       "      width=\"4.357142857142857mm\" height=\"4.357142857142857mm\"\n",
       "      fill=\"#000000\" stroke=\"none\" />\n",
       "<rect x=\"21.428571428571427mm\" y=\"42.857142857142854mm\"\n",
       "      width=\"4.357142857142857mm\" height=\"4.357142857142857mm\"\n",
       "      fill=\"#000000\" stroke=\"none\" />\n",
       "<rect x=\"26.785714285714285mm\" y=\"42.857142857142854mm\"\n",
       "      width=\"4.357142857142857mm\" height=\"4.357142857142857mm\"\n",
       "      fill=\"#000000\" stroke=\"none\" />\n",
       "<rect x=\"32.14285714285714mm\" y=\"42.857142857142854mm\"\n",
       "      width=\"4.357142857142857mm\" height=\"4.357142857142857mm\"\n",
       "      fill=\"#000000\" stroke=\"none\" />\n",
       "<rect x=\"37.5mm\" y=\"42.857142857142854mm\"\n",
       "      width=\"4.357142857142857mm\" height=\"4.357142857142857mm\"\n",
       "      fill=\"#121212\" stroke=\"none\" />\n",
       "<rect x=\"42.857142857142854mm\" y=\"42.857142857142854mm\"\n",
       "      width=\"4.357142857142857mm\" height=\"4.357142857142857mm\"\n",
       "      fill=\"#DBDBDB\" stroke=\"none\" />\n",
       "<rect x=\"48.21428571428571mm\" y=\"42.857142857142854mm\"\n",
       "      width=\"4.357142857142857mm\" height=\"4.357142857142857mm\"\n",
       "      fill=\"#FDFDFD\" stroke=\"none\" />\n",
       "<rect x=\"53.57142857142857mm\" y=\"42.857142857142854mm\"\n",
       "      width=\"4.357142857142857mm\" height=\"4.357142857142857mm\"\n",
       "      fill=\"#FDFDFD\" stroke=\"none\" />\n",
       "<rect x=\"58.92857142857142mm\" y=\"42.857142857142854mm\"\n",
       "      width=\"4.357142857142857mm\" height=\"4.357142857142857mm\"\n",
       "      fill=\"#FDFDFD\" stroke=\"none\" />\n",
       "<rect x=\"64.28571428571428mm\" y=\"42.857142857142854mm\"\n",
       "      width=\"4.357142857142857mm\" height=\"4.357142857142857mm\"\n",
       "      fill=\"#FDFDFD\" stroke=\"none\" />\n",
       "<rect x=\"69.64285714285714mm\" y=\"42.857142857142854mm\"\n",
       "      width=\"4.357142857142857mm\" height=\"4.357142857142857mm\"\n",
       "      fill=\"#FDFDFD\" stroke=\"none\" />\n",
       "<rect x=\"75.0mm\" y=\"42.857142857142854mm\"\n",
       "      width=\"4.357142857142857mm\" height=\"4.357142857142857mm\"\n",
       "      fill=\"#C6C6C6\" stroke=\"none\" />\n",
       "<rect x=\"80.35714285714285mm\" y=\"42.857142857142854mm\"\n",
       "      width=\"4.357142857142857mm\" height=\"4.357142857142857mm\"\n",
       "      fill=\"#B6B6B6\" stroke=\"none\" />\n",
       "<rect x=\"85.71428571428571mm\" y=\"42.857142857142854mm\"\n",
       "      width=\"4.357142857142857mm\" height=\"4.357142857142857mm\"\n",
       "      fill=\"#F7F7F7\" stroke=\"none\" />\n",
       "<rect x=\"91.07142857142857mm\" y=\"42.857142857142854mm\"\n",
       "      width=\"4.357142857142857mm\" height=\"4.357142857142857mm\"\n",
       "      fill=\"#F1F1F1\" stroke=\"none\" />\n",
       "<rect x=\"96.42857142857142mm\" y=\"42.857142857142854mm\"\n",
       "      width=\"4.357142857142857mm\" height=\"4.357142857142857mm\"\n",
       "      fill=\"#000000\" stroke=\"none\" />\n",
       "<rect x=\"101.78571428571428mm\" y=\"42.857142857142854mm\"\n",
       "      width=\"4.357142857142857mm\" height=\"4.357142857142857mm\"\n",
       "      fill=\"#000000\" stroke=\"none\" />\n",
       "<rect x=\"107.14285714285714mm\" y=\"42.857142857142854mm\"\n",
       "      width=\"4.357142857142857mm\" height=\"4.357142857142857mm\"\n",
       "      fill=\"#000000\" stroke=\"none\" />\n",
       "<rect x=\"112.49999999999999mm\" y=\"42.857142857142854mm\"\n",
       "      width=\"4.357142857142857mm\" height=\"4.357142857142857mm\"\n",
       "      fill=\"#000000\" stroke=\"none\" />\n",
       "<rect x=\"117.85714285714285mm\" y=\"42.857142857142854mm\"\n",
       "      width=\"4.357142857142857mm\" height=\"4.357142857142857mm\"\n",
       "      fill=\"#000000\" stroke=\"none\" />\n",
       "<rect x=\"123.21428571428571mm\" y=\"42.857142857142854mm\"\n",
       "      width=\"4.357142857142857mm\" height=\"4.357142857142857mm\"\n",
       "      fill=\"#000000\" stroke=\"none\" />\n",
       "<rect x=\"128.57142857142856mm\" y=\"42.857142857142854mm\"\n",
       "      width=\"4.357142857142857mm\" height=\"4.357142857142857mm\"\n",
       "      fill=\"#000000\" stroke=\"none\" />\n",
       "<rect x=\"133.92857142857142mm\" y=\"42.857142857142854mm\"\n",
       "      width=\"4.357142857142857mm\" height=\"4.357142857142857mm\"\n",
       "      fill=\"#000000\" stroke=\"none\" />\n",
       "<rect x=\"139.28571428571428mm\" y=\"42.857142857142854mm\"\n",
       "      width=\"4.357142857142857mm\" height=\"4.357142857142857mm\"\n",
       "      fill=\"#000000\" stroke=\"none\" />\n",
       "<rect x=\"144.64285714285714mm\" y=\"42.857142857142854mm\"\n",
       "      width=\"4.357142857142857mm\" height=\"4.357142857142857mm\"\n",
       "      fill=\"#000000\" stroke=\"none\" />\n",
       "<rect x=\"0.0mm\" y=\"48.21428571428571mm\"\n",
       "      width=\"4.357142857142857mm\" height=\"4.357142857142857mm\"\n",
       "      fill=\"#000000\" stroke=\"none\" />\n",
       "<rect x=\"5.357142857142857mm\" y=\"48.21428571428571mm\"\n",
       "      width=\"4.357142857142857mm\" height=\"4.357142857142857mm\"\n",
       "      fill=\"#000000\" stroke=\"none\" />\n",
       "<rect x=\"10.714285714285714mm\" y=\"48.21428571428571mm\"\n",
       "      width=\"4.357142857142857mm\" height=\"4.357142857142857mm\"\n",
       "      fill=\"#000000\" stroke=\"none\" />\n",
       "<rect x=\"16.07142857142857mm\" y=\"48.21428571428571mm\"\n",
       "      width=\"4.357142857142857mm\" height=\"4.357142857142857mm\"\n",
       "      fill=\"#000000\" stroke=\"none\" />\n",
       "<rect x=\"21.428571428571427mm\" y=\"48.21428571428571mm\"\n",
       "      width=\"4.357142857142857mm\" height=\"4.357142857142857mm\"\n",
       "      fill=\"#000000\" stroke=\"none\" />\n",
       "<rect x=\"26.785714285714285mm\" y=\"48.21428571428571mm\"\n",
       "      width=\"4.357142857142857mm\" height=\"4.357142857142857mm\"\n",
       "      fill=\"#000000\" stroke=\"none\" />\n",
       "<rect x=\"32.14285714285714mm\" y=\"48.21428571428571mm\"\n",
       "      width=\"4.357142857142857mm\" height=\"4.357142857142857mm\"\n",
       "      fill=\"#000000\" stroke=\"none\" />\n",
       "<rect x=\"37.5mm\" y=\"48.21428571428571mm\"\n",
       "      width=\"4.357142857142857mm\" height=\"4.357142857142857mm\"\n",
       "      fill=\"#000000\" stroke=\"none\" />\n",
       "<rect x=\"42.857142857142854mm\" y=\"48.21428571428571mm\"\n",
       "      width=\"4.357142857142857mm\" height=\"4.357142857142857mm\"\n",
       "      fill=\"#505050\" stroke=\"none\" />\n",
       "<rect x=\"48.21428571428571mm\" y=\"48.21428571428571mm\"\n",
       "      width=\"4.357142857142857mm\" height=\"4.357142857142857mm\"\n",
       "      fill=\"#9C9C9C\" stroke=\"none\" />\n",
       "<rect x=\"53.57142857142857mm\" y=\"48.21428571428571mm\"\n",
       "      width=\"4.357142857142857mm\" height=\"4.357142857142857mm\"\n",
       "      fill=\"#6B6B6B\" stroke=\"none\" />\n",
       "<rect x=\"58.92857142857142mm\" y=\"48.21428571428571mm\"\n",
       "      width=\"4.357142857142857mm\" height=\"4.357142857142857mm\"\n",
       "      fill=\"#FDFDFD\" stroke=\"none\" />\n",
       "<rect x=\"64.28571428571428mm\" y=\"48.21428571428571mm\"\n",
       "      width=\"4.357142857142857mm\" height=\"4.357142857142857mm\"\n",
       "      fill=\"#FDFDFD\" stroke=\"none\" />\n",
       "<rect x=\"69.64285714285714mm\" y=\"48.21428571428571mm\"\n",
       "      width=\"4.357142857142857mm\" height=\"4.357142857142857mm\"\n",
       "      fill=\"#CDCDCD\" stroke=\"none\" />\n",
       "<rect x=\"75.0mm\" y=\"48.21428571428571mm\"\n",
       "      width=\"4.357142857142857mm\" height=\"4.357142857142857mm\"\n",
       "      fill=\"#0B0B0B\" stroke=\"none\" />\n",
       "<rect x=\"80.35714285714285mm\" y=\"48.21428571428571mm\"\n",
       "      width=\"4.357142857142857mm\" height=\"4.357142857142857mm\"\n",
       "      fill=\"#000000\" stroke=\"none\" />\n",
       "<rect x=\"85.71428571428571mm\" y=\"48.21428571428571mm\"\n",
       "      width=\"4.357142857142857mm\" height=\"4.357142857142857mm\"\n",
       "      fill=\"#2B2B2B\" stroke=\"none\" />\n",
       "<rect x=\"91.07142857142857mm\" y=\"48.21428571428571mm\"\n",
       "      width=\"4.357142857142857mm\" height=\"4.357142857142857mm\"\n",
       "      fill=\"#9A9A9A\" stroke=\"none\" />\n",
       "<rect x=\"96.42857142857142mm\" y=\"48.21428571428571mm\"\n",
       "      width=\"4.357142857142857mm\" height=\"4.357142857142857mm\"\n",
       "      fill=\"#000000\" stroke=\"none\" />\n",
       "<rect x=\"101.78571428571428mm\" y=\"48.21428571428571mm\"\n",
       "      width=\"4.357142857142857mm\" height=\"4.357142857142857mm\"\n",
       "      fill=\"#000000\" stroke=\"none\" />\n",
       "<rect x=\"107.14285714285714mm\" y=\"48.21428571428571mm\"\n",
       "      width=\"4.357142857142857mm\" height=\"4.357142857142857mm\"\n",
       "      fill=\"#000000\" stroke=\"none\" />\n",
       "<rect x=\"112.49999999999999mm\" y=\"48.21428571428571mm\"\n",
       "      width=\"4.357142857142857mm\" height=\"4.357142857142857mm\"\n",
       "      fill=\"#000000\" stroke=\"none\" />\n",
       "<rect x=\"117.85714285714285mm\" y=\"48.21428571428571mm\"\n",
       "      width=\"4.357142857142857mm\" height=\"4.357142857142857mm\"\n",
       "      fill=\"#000000\" stroke=\"none\" />\n",
       "<rect x=\"123.21428571428571mm\" y=\"48.21428571428571mm\"\n",
       "      width=\"4.357142857142857mm\" height=\"4.357142857142857mm\"\n",
       "      fill=\"#000000\" stroke=\"none\" />\n",
       "<rect x=\"128.57142857142856mm\" y=\"48.21428571428571mm\"\n",
       "      width=\"4.357142857142857mm\" height=\"4.357142857142857mm\"\n",
       "      fill=\"#000000\" stroke=\"none\" />\n",
       "<rect x=\"133.92857142857142mm\" y=\"48.21428571428571mm\"\n",
       "      width=\"4.357142857142857mm\" height=\"4.357142857142857mm\"\n",
       "      fill=\"#000000\" stroke=\"none\" />\n",
       "<rect x=\"139.28571428571428mm\" y=\"48.21428571428571mm\"\n",
       "      width=\"4.357142857142857mm\" height=\"4.357142857142857mm\"\n",
       "      fill=\"#000000\" stroke=\"none\" />\n",
       "<rect x=\"144.64285714285714mm\" y=\"48.21428571428571mm\"\n",
       "      width=\"4.357142857142857mm\" height=\"4.357142857142857mm\"\n",
       "      fill=\"#000000\" stroke=\"none\" />\n",
       "<rect x=\"0.0mm\" y=\"53.57142857142857mm\"\n",
       "      width=\"4.357142857142857mm\" height=\"4.357142857142857mm\"\n",
       "      fill=\"#000000\" stroke=\"none\" />\n",
       "<rect x=\"5.357142857142857mm\" y=\"53.57142857142857mm\"\n",
       "      width=\"4.357142857142857mm\" height=\"4.357142857142857mm\"\n",
       "      fill=\"#000000\" stroke=\"none\" />\n",
       "<rect x=\"10.714285714285714mm\" y=\"53.57142857142857mm\"\n",
       "      width=\"4.357142857142857mm\" height=\"4.357142857142857mm\"\n",
       "      fill=\"#000000\" stroke=\"none\" />\n",
       "<rect x=\"16.07142857142857mm\" y=\"53.57142857142857mm\"\n",
       "      width=\"4.357142857142857mm\" height=\"4.357142857142857mm\"\n",
       "      fill=\"#000000\" stroke=\"none\" />\n",
       "<rect x=\"21.428571428571427mm\" y=\"53.57142857142857mm\"\n",
       "      width=\"4.357142857142857mm\" height=\"4.357142857142857mm\"\n",
       "      fill=\"#000000\" stroke=\"none\" />\n",
       "<rect x=\"26.785714285714285mm\" y=\"53.57142857142857mm\"\n",
       "      width=\"4.357142857142857mm\" height=\"4.357142857142857mm\"\n",
       "      fill=\"#000000\" stroke=\"none\" />\n",
       "<rect x=\"32.14285714285714mm\" y=\"53.57142857142857mm\"\n",
       "      width=\"4.357142857142857mm\" height=\"4.357142857142857mm\"\n",
       "      fill=\"#000000\" stroke=\"none\" />\n",
       "<rect x=\"37.5mm\" y=\"53.57142857142857mm\"\n",
       "      width=\"4.357142857142857mm\" height=\"4.357142857142857mm\"\n",
       "      fill=\"#000000\" stroke=\"none\" />\n",
       "<rect x=\"42.857142857142854mm\" y=\"53.57142857142857mm\"\n",
       "      width=\"4.357142857142857mm\" height=\"4.357142857142857mm\"\n",
       "      fill=\"#000000\" stroke=\"none\" />\n",
       "<rect x=\"48.21428571428571mm\" y=\"53.57142857142857mm\"\n",
       "      width=\"4.357142857142857mm\" height=\"4.357142857142857mm\"\n",
       "      fill=\"#0E0E0E\" stroke=\"none\" />\n",
       "<rect x=\"53.57142857142857mm\" y=\"53.57142857142857mm\"\n",
       "      width=\"4.357142857142857mm\" height=\"4.357142857142857mm\"\n",
       "      fill=\"#010101\" stroke=\"none\" />\n",
       "<rect x=\"58.92857142857142mm\" y=\"53.57142857142857mm\"\n",
       "      width=\"4.357142857142857mm\" height=\"4.357142857142857mm\"\n",
       "      fill=\"#9A9A9A\" stroke=\"none\" />\n",
       "<rect x=\"64.28571428571428mm\" y=\"53.57142857142857mm\"\n",
       "      width=\"4.357142857142857mm\" height=\"4.357142857142857mm\"\n",
       "      fill=\"#FDFDFD\" stroke=\"none\" />\n",
       "<rect x=\"69.64285714285714mm\" y=\"53.57142857142857mm\"\n",
       "      width=\"4.357142857142857mm\" height=\"4.357142857142857mm\"\n",
       "      fill=\"#5A5A5A\" stroke=\"none\" />\n",
       "<rect x=\"75.0mm\" y=\"53.57142857142857mm\"\n",
       "      width=\"4.357142857142857mm\" height=\"4.357142857142857mm\"\n",
       "      fill=\"#000000\" stroke=\"none\" />\n",
       "<rect x=\"80.35714285714285mm\" y=\"53.57142857142857mm\"\n",
       "      width=\"4.357142857142857mm\" height=\"4.357142857142857mm\"\n",
       "      fill=\"#000000\" stroke=\"none\" />\n",
       "<rect x=\"85.71428571428571mm\" y=\"53.57142857142857mm\"\n",
       "      width=\"4.357142857142857mm\" height=\"4.357142857142857mm\"\n",
       "      fill=\"#000000\" stroke=\"none\" />\n",
       "<rect x=\"91.07142857142857mm\" y=\"53.57142857142857mm\"\n",
       "      width=\"4.357142857142857mm\" height=\"4.357142857142857mm\"\n",
       "      fill=\"#000000\" stroke=\"none\" />\n",
       "<rect x=\"96.42857142857142mm\" y=\"53.57142857142857mm\"\n",
       "      width=\"4.357142857142857mm\" height=\"4.357142857142857mm\"\n",
       "      fill=\"#000000\" stroke=\"none\" />\n",
       "<rect x=\"101.78571428571428mm\" y=\"53.57142857142857mm\"\n",
       "      width=\"4.357142857142857mm\" height=\"4.357142857142857mm\"\n",
       "      fill=\"#000000\" stroke=\"none\" />\n",
       "<rect x=\"107.14285714285714mm\" y=\"53.57142857142857mm\"\n",
       "      width=\"4.357142857142857mm\" height=\"4.357142857142857mm\"\n",
       "      fill=\"#000000\" stroke=\"none\" />\n",
       "<rect x=\"112.49999999999999mm\" y=\"53.57142857142857mm\"\n",
       "      width=\"4.357142857142857mm\" height=\"4.357142857142857mm\"\n",
       "      fill=\"#000000\" stroke=\"none\" />\n",
       "<rect x=\"117.85714285714285mm\" y=\"53.57142857142857mm\"\n",
       "      width=\"4.357142857142857mm\" height=\"4.357142857142857mm\"\n",
       "      fill=\"#000000\" stroke=\"none\" />\n",
       "<rect x=\"123.21428571428571mm\" y=\"53.57142857142857mm\"\n",
       "      width=\"4.357142857142857mm\" height=\"4.357142857142857mm\"\n",
       "      fill=\"#000000\" stroke=\"none\" />\n",
       "<rect x=\"128.57142857142856mm\" y=\"53.57142857142857mm\"\n",
       "      width=\"4.357142857142857mm\" height=\"4.357142857142857mm\"\n",
       "      fill=\"#000000\" stroke=\"none\" />\n",
       "<rect x=\"133.92857142857142mm\" y=\"53.57142857142857mm\"\n",
       "      width=\"4.357142857142857mm\" height=\"4.357142857142857mm\"\n",
       "      fill=\"#000000\" stroke=\"none\" />\n",
       "<rect x=\"139.28571428571428mm\" y=\"53.57142857142857mm\"\n",
       "      width=\"4.357142857142857mm\" height=\"4.357142857142857mm\"\n",
       "      fill=\"#000000\" stroke=\"none\" />\n",
       "<rect x=\"144.64285714285714mm\" y=\"53.57142857142857mm\"\n",
       "      width=\"4.357142857142857mm\" height=\"4.357142857142857mm\"\n",
       "      fill=\"#000000\" stroke=\"none\" />\n",
       "<rect x=\"0.0mm\" y=\"58.92857142857142mm\"\n",
       "      width=\"4.357142857142857mm\" height=\"4.357142857142857mm\"\n",
       "      fill=\"#000000\" stroke=\"none\" />\n",
       "<rect x=\"5.357142857142857mm\" y=\"58.92857142857142mm\"\n",
       "      width=\"4.357142857142857mm\" height=\"4.357142857142857mm\"\n",
       "      fill=\"#000000\" stroke=\"none\" />\n",
       "<rect x=\"10.714285714285714mm\" y=\"58.92857142857142mm\"\n",
       "      width=\"4.357142857142857mm\" height=\"4.357142857142857mm\"\n",
       "      fill=\"#000000\" stroke=\"none\" />\n",
       "<rect x=\"16.07142857142857mm\" y=\"58.92857142857142mm\"\n",
       "      width=\"4.357142857142857mm\" height=\"4.357142857142857mm\"\n",
       "      fill=\"#000000\" stroke=\"none\" />\n",
       "<rect x=\"21.428571428571427mm\" y=\"58.92857142857142mm\"\n",
       "      width=\"4.357142857142857mm\" height=\"4.357142857142857mm\"\n",
       "      fill=\"#000000\" stroke=\"none\" />\n",
       "<rect x=\"26.785714285714285mm\" y=\"58.92857142857142mm\"\n",
       "      width=\"4.357142857142857mm\" height=\"4.357142857142857mm\"\n",
       "      fill=\"#000000\" stroke=\"none\" />\n",
       "<rect x=\"32.14285714285714mm\" y=\"58.92857142857142mm\"\n",
       "      width=\"4.357142857142857mm\" height=\"4.357142857142857mm\"\n",
       "      fill=\"#000000\" stroke=\"none\" />\n",
       "<rect x=\"37.5mm\" y=\"58.92857142857142mm\"\n",
       "      width=\"4.357142857142857mm\" height=\"4.357142857142857mm\"\n",
       "      fill=\"#000000\" stroke=\"none\" />\n",
       "<rect x=\"42.857142857142854mm\" y=\"58.92857142857142mm\"\n",
       "      width=\"4.357142857142857mm\" height=\"4.357142857142857mm\"\n",
       "      fill=\"#000000\" stroke=\"none\" />\n",
       "<rect x=\"48.21428571428571mm\" y=\"58.92857142857142mm\"\n",
       "      width=\"4.357142857142857mm\" height=\"4.357142857142857mm\"\n",
       "      fill=\"#000000\" stroke=\"none\" />\n",
       "<rect x=\"53.57142857142857mm\" y=\"58.92857142857142mm\"\n",
       "      width=\"4.357142857142857mm\" height=\"4.357142857142857mm\"\n",
       "      fill=\"#000000\" stroke=\"none\" />\n",
       "<rect x=\"58.92857142857142mm\" y=\"58.92857142857142mm\"\n",
       "      width=\"4.357142857142857mm\" height=\"4.357142857142857mm\"\n",
       "      fill=\"#8B8B8B\" stroke=\"none\" />\n",
       "<rect x=\"64.28571428571428mm\" y=\"58.92857142857142mm\"\n",
       "      width=\"4.357142857142857mm\" height=\"4.357142857142857mm\"\n",
       "      fill=\"#FDFDFD\" stroke=\"none\" />\n",
       "<rect x=\"69.64285714285714mm\" y=\"58.92857142857142mm\"\n",
       "      width=\"4.357142857142857mm\" height=\"4.357142857142857mm\"\n",
       "      fill=\"#BEBEBE\" stroke=\"none\" />\n",
       "<rect x=\"75.0mm\" y=\"58.92857142857142mm\"\n",
       "      width=\"4.357142857142857mm\" height=\"4.357142857142857mm\"\n",
       "      fill=\"#020202\" stroke=\"none\" />\n",
       "<rect x=\"80.35714285714285mm\" y=\"58.92857142857142mm\"\n",
       "      width=\"4.357142857142857mm\" height=\"4.357142857142857mm\"\n",
       "      fill=\"#000000\" stroke=\"none\" />\n",
       "<rect x=\"85.71428571428571mm\" y=\"58.92857142857142mm\"\n",
       "      width=\"4.357142857142857mm\" height=\"4.357142857142857mm\"\n",
       "      fill=\"#000000\" stroke=\"none\" />\n",
       "<rect x=\"91.07142857142857mm\" y=\"58.92857142857142mm\"\n",
       "      width=\"4.357142857142857mm\" height=\"4.357142857142857mm\"\n",
       "      fill=\"#000000\" stroke=\"none\" />\n",
       "<rect x=\"96.42857142857142mm\" y=\"58.92857142857142mm\"\n",
       "      width=\"4.357142857142857mm\" height=\"4.357142857142857mm\"\n",
       "      fill=\"#000000\" stroke=\"none\" />\n",
       "<rect x=\"101.78571428571428mm\" y=\"58.92857142857142mm\"\n",
       "      width=\"4.357142857142857mm\" height=\"4.357142857142857mm\"\n",
       "      fill=\"#000000\" stroke=\"none\" />\n",
       "<rect x=\"107.14285714285714mm\" y=\"58.92857142857142mm\"\n",
       "      width=\"4.357142857142857mm\" height=\"4.357142857142857mm\"\n",
       "      fill=\"#000000\" stroke=\"none\" />\n",
       "<rect x=\"112.49999999999999mm\" y=\"58.92857142857142mm\"\n",
       "      width=\"4.357142857142857mm\" height=\"4.357142857142857mm\"\n",
       "      fill=\"#000000\" stroke=\"none\" />\n",
       "<rect x=\"117.85714285714285mm\" y=\"58.92857142857142mm\"\n",
       "      width=\"4.357142857142857mm\" height=\"4.357142857142857mm\"\n",
       "      fill=\"#000000\" stroke=\"none\" />\n",
       "<rect x=\"123.21428571428571mm\" y=\"58.92857142857142mm\"\n",
       "      width=\"4.357142857142857mm\" height=\"4.357142857142857mm\"\n",
       "      fill=\"#000000\" stroke=\"none\" />\n",
       "<rect x=\"128.57142857142856mm\" y=\"58.92857142857142mm\"\n",
       "      width=\"4.357142857142857mm\" height=\"4.357142857142857mm\"\n",
       "      fill=\"#000000\" stroke=\"none\" />\n",
       "<rect x=\"133.92857142857142mm\" y=\"58.92857142857142mm\"\n",
       "      width=\"4.357142857142857mm\" height=\"4.357142857142857mm\"\n",
       "      fill=\"#000000\" stroke=\"none\" />\n",
       "<rect x=\"139.28571428571428mm\" y=\"58.92857142857142mm\"\n",
       "      width=\"4.357142857142857mm\" height=\"4.357142857142857mm\"\n",
       "      fill=\"#000000\" stroke=\"none\" />\n",
       "<rect x=\"144.64285714285714mm\" y=\"58.92857142857142mm\"\n",
       "      width=\"4.357142857142857mm\" height=\"4.357142857142857mm\"\n",
       "      fill=\"#000000\" stroke=\"none\" />\n",
       "<rect x=\"0.0mm\" y=\"64.28571428571428mm\"\n",
       "      width=\"4.357142857142857mm\" height=\"4.357142857142857mm\"\n",
       "      fill=\"#000000\" stroke=\"none\" />\n",
       "<rect x=\"5.357142857142857mm\" y=\"64.28571428571428mm\"\n",
       "      width=\"4.357142857142857mm\" height=\"4.357142857142857mm\"\n",
       "      fill=\"#000000\" stroke=\"none\" />\n",
       "<rect x=\"10.714285714285714mm\" y=\"64.28571428571428mm\"\n",
       "      width=\"4.357142857142857mm\" height=\"4.357142857142857mm\"\n",
       "      fill=\"#000000\" stroke=\"none\" />\n",
       "<rect x=\"16.07142857142857mm\" y=\"64.28571428571428mm\"\n",
       "      width=\"4.357142857142857mm\" height=\"4.357142857142857mm\"\n",
       "      fill=\"#000000\" stroke=\"none\" />\n",
       "<rect x=\"21.428571428571427mm\" y=\"64.28571428571428mm\"\n",
       "      width=\"4.357142857142857mm\" height=\"4.357142857142857mm\"\n",
       "      fill=\"#000000\" stroke=\"none\" />\n",
       "<rect x=\"26.785714285714285mm\" y=\"64.28571428571428mm\"\n",
       "      width=\"4.357142857142857mm\" height=\"4.357142857142857mm\"\n",
       "      fill=\"#000000\" stroke=\"none\" />\n",
       "<rect x=\"32.14285714285714mm\" y=\"64.28571428571428mm\"\n",
       "      width=\"4.357142857142857mm\" height=\"4.357142857142857mm\"\n",
       "      fill=\"#000000\" stroke=\"none\" />\n",
       "<rect x=\"37.5mm\" y=\"64.28571428571428mm\"\n",
       "      width=\"4.357142857142857mm\" height=\"4.357142857142857mm\"\n",
       "      fill=\"#000000\" stroke=\"none\" />\n",
       "<rect x=\"42.857142857142854mm\" y=\"64.28571428571428mm\"\n",
       "      width=\"4.357142857142857mm\" height=\"4.357142857142857mm\"\n",
       "      fill=\"#000000\" stroke=\"none\" />\n",
       "<rect x=\"48.21428571428571mm\" y=\"64.28571428571428mm\"\n",
       "      width=\"4.357142857142857mm\" height=\"4.357142857142857mm\"\n",
       "      fill=\"#000000\" stroke=\"none\" />\n",
       "<rect x=\"53.57142857142857mm\" y=\"64.28571428571428mm\"\n",
       "      width=\"4.357142857142857mm\" height=\"4.357142857142857mm\"\n",
       "      fill=\"#000000\" stroke=\"none\" />\n",
       "<rect x=\"58.92857142857142mm\" y=\"64.28571428571428mm\"\n",
       "      width=\"4.357142857142857mm\" height=\"4.357142857142857mm\"\n",
       "      fill=\"#0B0B0B\" stroke=\"none\" />\n",
       "<rect x=\"64.28571428571428mm\" y=\"64.28571428571428mm\"\n",
       "      width=\"4.357142857142857mm\" height=\"4.357142857142857mm\"\n",
       "      fill=\"#BEBEBE\" stroke=\"none\" />\n",
       "<rect x=\"69.64285714285714mm\" y=\"64.28571428571428mm\"\n",
       "      width=\"4.357142857142857mm\" height=\"4.357142857142857mm\"\n",
       "      fill=\"#FDFDFD\" stroke=\"none\" />\n",
       "<rect x=\"75.0mm\" y=\"64.28571428571428mm\"\n",
       "      width=\"4.357142857142857mm\" height=\"4.357142857142857mm\"\n",
       "      fill=\"#464646\" stroke=\"none\" />\n",
       "<rect x=\"80.35714285714285mm\" y=\"64.28571428571428mm\"\n",
       "      width=\"4.357142857142857mm\" height=\"4.357142857142857mm\"\n",
       "      fill=\"#000000\" stroke=\"none\" />\n",
       "<rect x=\"85.71428571428571mm\" y=\"64.28571428571428mm\"\n",
       "      width=\"4.357142857142857mm\" height=\"4.357142857142857mm\"\n",
       "      fill=\"#000000\" stroke=\"none\" />\n",
       "<rect x=\"91.07142857142857mm\" y=\"64.28571428571428mm\"\n",
       "      width=\"4.357142857142857mm\" height=\"4.357142857142857mm\"\n",
       "      fill=\"#000000\" stroke=\"none\" />\n",
       "<rect x=\"96.42857142857142mm\" y=\"64.28571428571428mm\"\n",
       "      width=\"4.357142857142857mm\" height=\"4.357142857142857mm\"\n",
       "      fill=\"#000000\" stroke=\"none\" />\n",
       "<rect x=\"101.78571428571428mm\" y=\"64.28571428571428mm\"\n",
       "      width=\"4.357142857142857mm\" height=\"4.357142857142857mm\"\n",
       "      fill=\"#000000\" stroke=\"none\" />\n",
       "<rect x=\"107.14285714285714mm\" y=\"64.28571428571428mm\"\n",
       "      width=\"4.357142857142857mm\" height=\"4.357142857142857mm\"\n",
       "      fill=\"#000000\" stroke=\"none\" />\n",
       "<rect x=\"112.49999999999999mm\" y=\"64.28571428571428mm\"\n",
       "      width=\"4.357142857142857mm\" height=\"4.357142857142857mm\"\n",
       "      fill=\"#000000\" stroke=\"none\" />\n",
       "<rect x=\"117.85714285714285mm\" y=\"64.28571428571428mm\"\n",
       "      width=\"4.357142857142857mm\" height=\"4.357142857142857mm\"\n",
       "      fill=\"#000000\" stroke=\"none\" />\n",
       "<rect x=\"123.21428571428571mm\" y=\"64.28571428571428mm\"\n",
       "      width=\"4.357142857142857mm\" height=\"4.357142857142857mm\"\n",
       "      fill=\"#000000\" stroke=\"none\" />\n",
       "<rect x=\"128.57142857142856mm\" y=\"64.28571428571428mm\"\n",
       "      width=\"4.357142857142857mm\" height=\"4.357142857142857mm\"\n",
       "      fill=\"#000000\" stroke=\"none\" />\n",
       "<rect x=\"133.92857142857142mm\" y=\"64.28571428571428mm\"\n",
       "      width=\"4.357142857142857mm\" height=\"4.357142857142857mm\"\n",
       "      fill=\"#000000\" stroke=\"none\" />\n",
       "<rect x=\"139.28571428571428mm\" y=\"64.28571428571428mm\"\n",
       "      width=\"4.357142857142857mm\" height=\"4.357142857142857mm\"\n",
       "      fill=\"#000000\" stroke=\"none\" />\n",
       "<rect x=\"144.64285714285714mm\" y=\"64.28571428571428mm\"\n",
       "      width=\"4.357142857142857mm\" height=\"4.357142857142857mm\"\n",
       "      fill=\"#000000\" stroke=\"none\" />\n",
       "<rect x=\"0.0mm\" y=\"69.64285714285714mm\"\n",
       "      width=\"4.357142857142857mm\" height=\"4.357142857142857mm\"\n",
       "      fill=\"#000000\" stroke=\"none\" />\n",
       "<rect x=\"5.357142857142857mm\" y=\"69.64285714285714mm\"\n",
       "      width=\"4.357142857142857mm\" height=\"4.357142857142857mm\"\n",
       "      fill=\"#000000\" stroke=\"none\" />\n",
       "<rect x=\"10.714285714285714mm\" y=\"69.64285714285714mm\"\n",
       "      width=\"4.357142857142857mm\" height=\"4.357142857142857mm\"\n",
       "      fill=\"#000000\" stroke=\"none\" />\n",
       "<rect x=\"16.07142857142857mm\" y=\"69.64285714285714mm\"\n",
       "      width=\"4.357142857142857mm\" height=\"4.357142857142857mm\"\n",
       "      fill=\"#000000\" stroke=\"none\" />\n",
       "<rect x=\"21.428571428571427mm\" y=\"69.64285714285714mm\"\n",
       "      width=\"4.357142857142857mm\" height=\"4.357142857142857mm\"\n",
       "      fill=\"#000000\" stroke=\"none\" />\n",
       "<rect x=\"26.785714285714285mm\" y=\"69.64285714285714mm\"\n",
       "      width=\"4.357142857142857mm\" height=\"4.357142857142857mm\"\n",
       "      fill=\"#000000\" stroke=\"none\" />\n",
       "<rect x=\"32.14285714285714mm\" y=\"69.64285714285714mm\"\n",
       "      width=\"4.357142857142857mm\" height=\"4.357142857142857mm\"\n",
       "      fill=\"#000000\" stroke=\"none\" />\n",
       "<rect x=\"37.5mm\" y=\"69.64285714285714mm\"\n",
       "      width=\"4.357142857142857mm\" height=\"4.357142857142857mm\"\n",
       "      fill=\"#000000\" stroke=\"none\" />\n",
       "<rect x=\"42.857142857142854mm\" y=\"69.64285714285714mm\"\n",
       "      width=\"4.357142857142857mm\" height=\"4.357142857142857mm\"\n",
       "      fill=\"#000000\" stroke=\"none\" />\n",
       "<rect x=\"48.21428571428571mm\" y=\"69.64285714285714mm\"\n",
       "      width=\"4.357142857142857mm\" height=\"4.357142857142857mm\"\n",
       "      fill=\"#000000\" stroke=\"none\" />\n",
       "<rect x=\"53.57142857142857mm\" y=\"69.64285714285714mm\"\n",
       "      width=\"4.357142857142857mm\" height=\"4.357142857142857mm\"\n",
       "      fill=\"#000000\" stroke=\"none\" />\n",
       "<rect x=\"58.92857142857142mm\" y=\"69.64285714285714mm\"\n",
       "      width=\"4.357142857142857mm\" height=\"4.357142857142857mm\"\n",
       "      fill=\"#000000\" stroke=\"none\" />\n",
       "<rect x=\"64.28571428571428mm\" y=\"69.64285714285714mm\"\n",
       "      width=\"4.357142857142857mm\" height=\"4.357142857142857mm\"\n",
       "      fill=\"#232323\" stroke=\"none\" />\n",
       "<rect x=\"69.64285714285714mm\" y=\"69.64285714285714mm\"\n",
       "      width=\"4.357142857142857mm\" height=\"4.357142857142857mm\"\n",
       "      fill=\"#F1F1F1\" stroke=\"none\" />\n",
       "<rect x=\"75.0mm\" y=\"69.64285714285714mm\"\n",
       "      width=\"4.357142857142857mm\" height=\"4.357142857142857mm\"\n",
       "      fill=\"#E1E1E1\" stroke=\"none\" />\n",
       "<rect x=\"80.35714285714285mm\" y=\"69.64285714285714mm\"\n",
       "      width=\"4.357142857142857mm\" height=\"4.357142857142857mm\"\n",
       "      fill=\"#A0A0A0\" stroke=\"none\" />\n",
       "<rect x=\"85.71428571428571mm\" y=\"69.64285714285714mm\"\n",
       "      width=\"4.357142857142857mm\" height=\"4.357142857142857mm\"\n",
       "      fill=\"#6C6C6C\" stroke=\"none\" />\n",
       "<rect x=\"91.07142857142857mm\" y=\"69.64285714285714mm\"\n",
       "      width=\"4.357142857142857mm\" height=\"4.357142857142857mm\"\n",
       "      fill=\"#010101\" stroke=\"none\" />\n",
       "<rect x=\"96.42857142857142mm\" y=\"69.64285714285714mm\"\n",
       "      width=\"4.357142857142857mm\" height=\"4.357142857142857mm\"\n",
       "      fill=\"#000000\" stroke=\"none\" />\n",
       "<rect x=\"101.78571428571428mm\" y=\"69.64285714285714mm\"\n",
       "      width=\"4.357142857142857mm\" height=\"4.357142857142857mm\"\n",
       "      fill=\"#000000\" stroke=\"none\" />\n",
       "<rect x=\"107.14285714285714mm\" y=\"69.64285714285714mm\"\n",
       "      width=\"4.357142857142857mm\" height=\"4.357142857142857mm\"\n",
       "      fill=\"#000000\" stroke=\"none\" />\n",
       "<rect x=\"112.49999999999999mm\" y=\"69.64285714285714mm\"\n",
       "      width=\"4.357142857142857mm\" height=\"4.357142857142857mm\"\n",
       "      fill=\"#000000\" stroke=\"none\" />\n",
       "<rect x=\"117.85714285714285mm\" y=\"69.64285714285714mm\"\n",
       "      width=\"4.357142857142857mm\" height=\"4.357142857142857mm\"\n",
       "      fill=\"#000000\" stroke=\"none\" />\n",
       "<rect x=\"123.21428571428571mm\" y=\"69.64285714285714mm\"\n",
       "      width=\"4.357142857142857mm\" height=\"4.357142857142857mm\"\n",
       "      fill=\"#000000\" stroke=\"none\" />\n",
       "<rect x=\"128.57142857142856mm\" y=\"69.64285714285714mm\"\n",
       "      width=\"4.357142857142857mm\" height=\"4.357142857142857mm\"\n",
       "      fill=\"#000000\" stroke=\"none\" />\n",
       "<rect x=\"133.92857142857142mm\" y=\"69.64285714285714mm\"\n",
       "      width=\"4.357142857142857mm\" height=\"4.357142857142857mm\"\n",
       "      fill=\"#000000\" stroke=\"none\" />\n",
       "<rect x=\"139.28571428571428mm\" y=\"69.64285714285714mm\"\n",
       "      width=\"4.357142857142857mm\" height=\"4.357142857142857mm\"\n",
       "      fill=\"#000000\" stroke=\"none\" />\n",
       "<rect x=\"144.64285714285714mm\" y=\"69.64285714285714mm\"\n",
       "      width=\"4.357142857142857mm\" height=\"4.357142857142857mm\"\n",
       "      fill=\"#000000\" stroke=\"none\" />\n",
       "<rect x=\"0.0mm\" y=\"75.0mm\"\n",
       "      width=\"4.357142857142857mm\" height=\"4.357142857142857mm\"\n",
       "      fill=\"#000000\" stroke=\"none\" />\n",
       "<rect x=\"5.357142857142857mm\" y=\"75.0mm\"\n",
       "      width=\"4.357142857142857mm\" height=\"4.357142857142857mm\"\n",
       "      fill=\"#000000\" stroke=\"none\" />\n",
       "<rect x=\"10.714285714285714mm\" y=\"75.0mm\"\n",
       "      width=\"4.357142857142857mm\" height=\"4.357142857142857mm\"\n",
       "      fill=\"#000000\" stroke=\"none\" />\n",
       "<rect x=\"16.07142857142857mm\" y=\"75.0mm\"\n",
       "      width=\"4.357142857142857mm\" height=\"4.357142857142857mm\"\n",
       "      fill=\"#000000\" stroke=\"none\" />\n",
       "<rect x=\"21.428571428571427mm\" y=\"75.0mm\"\n",
       "      width=\"4.357142857142857mm\" height=\"4.357142857142857mm\"\n",
       "      fill=\"#000000\" stroke=\"none\" />\n",
       "<rect x=\"26.785714285714285mm\" y=\"75.0mm\"\n",
       "      width=\"4.357142857142857mm\" height=\"4.357142857142857mm\"\n",
       "      fill=\"#000000\" stroke=\"none\" />\n",
       "<rect x=\"32.14285714285714mm\" y=\"75.0mm\"\n",
       "      width=\"4.357142857142857mm\" height=\"4.357142857142857mm\"\n",
       "      fill=\"#000000\" stroke=\"none\" />\n",
       "<rect x=\"37.5mm\" y=\"75.0mm\"\n",
       "      width=\"4.357142857142857mm\" height=\"4.357142857142857mm\"\n",
       "      fill=\"#000000\" stroke=\"none\" />\n",
       "<rect x=\"42.857142857142854mm\" y=\"75.0mm\"\n",
       "      width=\"4.357142857142857mm\" height=\"4.357142857142857mm\"\n",
       "      fill=\"#000000\" stroke=\"none\" />\n",
       "<rect x=\"48.21428571428571mm\" y=\"75.0mm\"\n",
       "      width=\"4.357142857142857mm\" height=\"4.357142857142857mm\"\n",
       "      fill=\"#000000\" stroke=\"none\" />\n",
       "<rect x=\"53.57142857142857mm\" y=\"75.0mm\"\n",
       "      width=\"4.357142857142857mm\" height=\"4.357142857142857mm\"\n",
       "      fill=\"#000000\" stroke=\"none\" />\n",
       "<rect x=\"58.92857142857142mm\" y=\"75.0mm\"\n",
       "      width=\"4.357142857142857mm\" height=\"4.357142857142857mm\"\n",
       "      fill=\"#000000\" stroke=\"none\" />\n",
       "<rect x=\"64.28571428571428mm\" y=\"75.0mm\"\n",
       "      width=\"4.357142857142857mm\" height=\"4.357142857142857mm\"\n",
       "      fill=\"#000000\" stroke=\"none\" />\n",
       "<rect x=\"69.64285714285714mm\" y=\"75.0mm\"\n",
       "      width=\"4.357142857142857mm\" height=\"4.357142857142857mm\"\n",
       "      fill=\"#515151\" stroke=\"none\" />\n",
       "<rect x=\"75.0mm\" y=\"75.0mm\"\n",
       "      width=\"4.357142857142857mm\" height=\"4.357142857142857mm\"\n",
       "      fill=\"#F0F0F0\" stroke=\"none\" />\n",
       "<rect x=\"80.35714285714285mm\" y=\"75.0mm\"\n",
       "      width=\"4.357142857142857mm\" height=\"4.357142857142857mm\"\n",
       "      fill=\"#FDFDFD\" stroke=\"none\" />\n",
       "<rect x=\"85.71428571428571mm\" y=\"75.0mm\"\n",
       "      width=\"4.357142857142857mm\" height=\"4.357142857142857mm\"\n",
       "      fill=\"#FDFDFD\" stroke=\"none\" />\n",
       "<rect x=\"91.07142857142857mm\" y=\"75.0mm\"\n",
       "      width=\"4.357142857142857mm\" height=\"4.357142857142857mm\"\n",
       "      fill=\"#777777\" stroke=\"none\" />\n",
       "<rect x=\"96.42857142857142mm\" y=\"75.0mm\"\n",
       "      width=\"4.357142857142857mm\" height=\"4.357142857142857mm\"\n",
       "      fill=\"#191919\" stroke=\"none\" />\n",
       "<rect x=\"101.78571428571428mm\" y=\"75.0mm\"\n",
       "      width=\"4.357142857142857mm\" height=\"4.357142857142857mm\"\n",
       "      fill=\"#000000\" stroke=\"none\" />\n",
       "<rect x=\"107.14285714285714mm\" y=\"75.0mm\"\n",
       "      width=\"4.357142857142857mm\" height=\"4.357142857142857mm\"\n",
       "      fill=\"#000000\" stroke=\"none\" />\n",
       "<rect x=\"112.49999999999999mm\" y=\"75.0mm\"\n",
       "      width=\"4.357142857142857mm\" height=\"4.357142857142857mm\"\n",
       "      fill=\"#000000\" stroke=\"none\" />\n",
       "<rect x=\"117.85714285714285mm\" y=\"75.0mm\"\n",
       "      width=\"4.357142857142857mm\" height=\"4.357142857142857mm\"\n",
       "      fill=\"#000000\" stroke=\"none\" />\n",
       "<rect x=\"123.21428571428571mm\" y=\"75.0mm\"\n",
       "      width=\"4.357142857142857mm\" height=\"4.357142857142857mm\"\n",
       "      fill=\"#000000\" stroke=\"none\" />\n",
       "<rect x=\"128.57142857142856mm\" y=\"75.0mm\"\n",
       "      width=\"4.357142857142857mm\" height=\"4.357142857142857mm\"\n",
       "      fill=\"#000000\" stroke=\"none\" />\n",
       "<rect x=\"133.92857142857142mm\" y=\"75.0mm\"\n",
       "      width=\"4.357142857142857mm\" height=\"4.357142857142857mm\"\n",
       "      fill=\"#000000\" stroke=\"none\" />\n",
       "<rect x=\"139.28571428571428mm\" y=\"75.0mm\"\n",
       "      width=\"4.357142857142857mm\" height=\"4.357142857142857mm\"\n",
       "      fill=\"#000000\" stroke=\"none\" />\n",
       "<rect x=\"144.64285714285714mm\" y=\"75.0mm\"\n",
       "      width=\"4.357142857142857mm\" height=\"4.357142857142857mm\"\n",
       "      fill=\"#000000\" stroke=\"none\" />\n",
       "<rect x=\"0.0mm\" y=\"80.35714285714285mm\"\n",
       "      width=\"4.357142857142857mm\" height=\"4.357142857142857mm\"\n",
       "      fill=\"#000000\" stroke=\"none\" />\n",
       "<rect x=\"5.357142857142857mm\" y=\"80.35714285714285mm\"\n",
       "      width=\"4.357142857142857mm\" height=\"4.357142857142857mm\"\n",
       "      fill=\"#000000\" stroke=\"none\" />\n",
       "<rect x=\"10.714285714285714mm\" y=\"80.35714285714285mm\"\n",
       "      width=\"4.357142857142857mm\" height=\"4.357142857142857mm\"\n",
       "      fill=\"#000000\" stroke=\"none\" />\n",
       "<rect x=\"16.07142857142857mm\" y=\"80.35714285714285mm\"\n",
       "      width=\"4.357142857142857mm\" height=\"4.357142857142857mm\"\n",
       "      fill=\"#000000\" stroke=\"none\" />\n",
       "<rect x=\"21.428571428571427mm\" y=\"80.35714285714285mm\"\n",
       "      width=\"4.357142857142857mm\" height=\"4.357142857142857mm\"\n",
       "      fill=\"#000000\" stroke=\"none\" />\n",
       "<rect x=\"26.785714285714285mm\" y=\"80.35714285714285mm\"\n",
       "      width=\"4.357142857142857mm\" height=\"4.357142857142857mm\"\n",
       "      fill=\"#000000\" stroke=\"none\" />\n",
       "<rect x=\"32.14285714285714mm\" y=\"80.35714285714285mm\"\n",
       "      width=\"4.357142857142857mm\" height=\"4.357142857142857mm\"\n",
       "      fill=\"#000000\" stroke=\"none\" />\n",
       "<rect x=\"37.5mm\" y=\"80.35714285714285mm\"\n",
       "      width=\"4.357142857142857mm\" height=\"4.357142857142857mm\"\n",
       "      fill=\"#000000\" stroke=\"none\" />\n",
       "<rect x=\"42.857142857142854mm\" y=\"80.35714285714285mm\"\n",
       "      width=\"4.357142857142857mm\" height=\"4.357142857142857mm\"\n",
       "      fill=\"#000000\" stroke=\"none\" />\n",
       "<rect x=\"48.21428571428571mm\" y=\"80.35714285714285mm\"\n",
       "      width=\"4.357142857142857mm\" height=\"4.357142857142857mm\"\n",
       "      fill=\"#000000\" stroke=\"none\" />\n",
       "<rect x=\"53.57142857142857mm\" y=\"80.35714285714285mm\"\n",
       "      width=\"4.357142857142857mm\" height=\"4.357142857142857mm\"\n",
       "      fill=\"#000000\" stroke=\"none\" />\n",
       "<rect x=\"58.92857142857142mm\" y=\"80.35714285714285mm\"\n",
       "      width=\"4.357142857142857mm\" height=\"4.357142857142857mm\"\n",
       "      fill=\"#000000\" stroke=\"none\" />\n",
       "<rect x=\"64.28571428571428mm\" y=\"80.35714285714285mm\"\n",
       "      width=\"4.357142857142857mm\" height=\"4.357142857142857mm\"\n",
       "      fill=\"#000000\" stroke=\"none\" />\n",
       "<rect x=\"69.64285714285714mm\" y=\"80.35714285714285mm\"\n",
       "      width=\"4.357142857142857mm\" height=\"4.357142857142857mm\"\n",
       "      fill=\"#000000\" stroke=\"none\" />\n",
       "<rect x=\"75.0mm\" y=\"80.35714285714285mm\"\n",
       "      width=\"4.357142857142857mm\" height=\"4.357142857142857mm\"\n",
       "      fill=\"#2D2D2D\" stroke=\"none\" />\n",
       "<rect x=\"80.35714285714285mm\" y=\"80.35714285714285mm\"\n",
       "      width=\"4.357142857142857mm\" height=\"4.357142857142857mm\"\n",
       "      fill=\"#BABABA\" stroke=\"none\" />\n",
       "<rect x=\"85.71428571428571mm\" y=\"80.35714285714285mm\"\n",
       "      width=\"4.357142857142857mm\" height=\"4.357142857142857mm\"\n",
       "      fill=\"#FDFDFD\" stroke=\"none\" />\n",
       "<rect x=\"91.07142857142857mm\" y=\"80.35714285714285mm\"\n",
       "      width=\"4.357142857142857mm\" height=\"4.357142857142857mm\"\n",
       "      fill=\"#FDFDFD\" stroke=\"none\" />\n",
       "<rect x=\"96.42857142857142mm\" y=\"80.35714285714285mm\"\n",
       "      width=\"4.357142857142857mm\" height=\"4.357142857142857mm\"\n",
       "      fill=\"#969696\" stroke=\"none\" />\n",
       "<rect x=\"101.78571428571428mm\" y=\"80.35714285714285mm\"\n",
       "      width=\"4.357142857142857mm\" height=\"4.357142857142857mm\"\n",
       "      fill=\"#1B1B1B\" stroke=\"none\" />\n",
       "<rect x=\"107.14285714285714mm\" y=\"80.35714285714285mm\"\n",
       "      width=\"4.357142857142857mm\" height=\"4.357142857142857mm\"\n",
       "      fill=\"#000000\" stroke=\"none\" />\n",
       "<rect x=\"112.49999999999999mm\" y=\"80.35714285714285mm\"\n",
       "      width=\"4.357142857142857mm\" height=\"4.357142857142857mm\"\n",
       "      fill=\"#000000\" stroke=\"none\" />\n",
       "<rect x=\"117.85714285714285mm\" y=\"80.35714285714285mm\"\n",
       "      width=\"4.357142857142857mm\" height=\"4.357142857142857mm\"\n",
       "      fill=\"#000000\" stroke=\"none\" />\n",
       "<rect x=\"123.21428571428571mm\" y=\"80.35714285714285mm\"\n",
       "      width=\"4.357142857142857mm\" height=\"4.357142857142857mm\"\n",
       "      fill=\"#000000\" stroke=\"none\" />\n",
       "<rect x=\"128.57142857142856mm\" y=\"80.35714285714285mm\"\n",
       "      width=\"4.357142857142857mm\" height=\"4.357142857142857mm\"\n",
       "      fill=\"#000000\" stroke=\"none\" />\n",
       "<rect x=\"133.92857142857142mm\" y=\"80.35714285714285mm\"\n",
       "      width=\"4.357142857142857mm\" height=\"4.357142857142857mm\"\n",
       "      fill=\"#000000\" stroke=\"none\" />\n",
       "<rect x=\"139.28571428571428mm\" y=\"80.35714285714285mm\"\n",
       "      width=\"4.357142857142857mm\" height=\"4.357142857142857mm\"\n",
       "      fill=\"#000000\" stroke=\"none\" />\n",
       "<rect x=\"144.64285714285714mm\" y=\"80.35714285714285mm\"\n",
       "      width=\"4.357142857142857mm\" height=\"4.357142857142857mm\"\n",
       "      fill=\"#000000\" stroke=\"none\" />\n",
       "<rect x=\"0.0mm\" y=\"85.71428571428571mm\"\n",
       "      width=\"4.357142857142857mm\" height=\"4.357142857142857mm\"\n",
       "      fill=\"#000000\" stroke=\"none\" />\n",
       "<rect x=\"5.357142857142857mm\" y=\"85.71428571428571mm\"\n",
       "      width=\"4.357142857142857mm\" height=\"4.357142857142857mm\"\n",
       "      fill=\"#000000\" stroke=\"none\" />\n",
       "<rect x=\"10.714285714285714mm\" y=\"85.71428571428571mm\"\n",
       "      width=\"4.357142857142857mm\" height=\"4.357142857142857mm\"\n",
       "      fill=\"#000000\" stroke=\"none\" />\n",
       "<rect x=\"16.07142857142857mm\" y=\"85.71428571428571mm\"\n",
       "      width=\"4.357142857142857mm\" height=\"4.357142857142857mm\"\n",
       "      fill=\"#000000\" stroke=\"none\" />\n",
       "<rect x=\"21.428571428571427mm\" y=\"85.71428571428571mm\"\n",
       "      width=\"4.357142857142857mm\" height=\"4.357142857142857mm\"\n",
       "      fill=\"#000000\" stroke=\"none\" />\n",
       "<rect x=\"26.785714285714285mm\" y=\"85.71428571428571mm\"\n",
       "      width=\"4.357142857142857mm\" height=\"4.357142857142857mm\"\n",
       "      fill=\"#000000\" stroke=\"none\" />\n",
       "<rect x=\"32.14285714285714mm\" y=\"85.71428571428571mm\"\n",
       "      width=\"4.357142857142857mm\" height=\"4.357142857142857mm\"\n",
       "      fill=\"#000000\" stroke=\"none\" />\n",
       "<rect x=\"37.5mm\" y=\"85.71428571428571mm\"\n",
       "      width=\"4.357142857142857mm\" height=\"4.357142857142857mm\"\n",
       "      fill=\"#000000\" stroke=\"none\" />\n",
       "<rect x=\"42.857142857142854mm\" y=\"85.71428571428571mm\"\n",
       "      width=\"4.357142857142857mm\" height=\"4.357142857142857mm\"\n",
       "      fill=\"#000000\" stroke=\"none\" />\n",
       "<rect x=\"48.21428571428571mm\" y=\"85.71428571428571mm\"\n",
       "      width=\"4.357142857142857mm\" height=\"4.357142857142857mm\"\n",
       "      fill=\"#000000\" stroke=\"none\" />\n",
       "<rect x=\"53.57142857142857mm\" y=\"85.71428571428571mm\"\n",
       "      width=\"4.357142857142857mm\" height=\"4.357142857142857mm\"\n",
       "      fill=\"#000000\" stroke=\"none\" />\n",
       "<rect x=\"58.92857142857142mm\" y=\"85.71428571428571mm\"\n",
       "      width=\"4.357142857142857mm\" height=\"4.357142857142857mm\"\n",
       "      fill=\"#000000\" stroke=\"none\" />\n",
       "<rect x=\"64.28571428571428mm\" y=\"85.71428571428571mm\"\n",
       "      width=\"4.357142857142857mm\" height=\"4.357142857142857mm\"\n",
       "      fill=\"#000000\" stroke=\"none\" />\n",
       "<rect x=\"69.64285714285714mm\" y=\"85.71428571428571mm\"\n",
       "      width=\"4.357142857142857mm\" height=\"4.357142857142857mm\"\n",
       "      fill=\"#000000\" stroke=\"none\" />\n",
       "<rect x=\"75.0mm\" y=\"85.71428571428571mm\"\n",
       "      width=\"4.357142857142857mm\" height=\"4.357142857142857mm\"\n",
       "      fill=\"#000000\" stroke=\"none\" />\n",
       "<rect x=\"80.35714285714285mm\" y=\"85.71428571428571mm\"\n",
       "      width=\"4.357142857142857mm\" height=\"4.357142857142857mm\"\n",
       "      fill=\"#101010\" stroke=\"none\" />\n",
       "<rect x=\"85.71428571428571mm\" y=\"85.71428571428571mm\"\n",
       "      width=\"4.357142857142857mm\" height=\"4.357142857142857mm\"\n",
       "      fill=\"#5D5D5D\" stroke=\"none\" />\n",
       "<rect x=\"91.07142857142857mm\" y=\"85.71428571428571mm\"\n",
       "      width=\"4.357142857142857mm\" height=\"4.357142857142857mm\"\n",
       "      fill=\"#FCFCFC\" stroke=\"none\" />\n",
       "<rect x=\"96.42857142857142mm\" y=\"85.71428571428571mm\"\n",
       "      width=\"4.357142857142857mm\" height=\"4.357142857142857mm\"\n",
       "      fill=\"#FDFDFD\" stroke=\"none\" />\n",
       "<rect x=\"101.78571428571428mm\" y=\"85.71428571428571mm\"\n",
       "      width=\"4.357142857142857mm\" height=\"4.357142857142857mm\"\n",
       "      fill=\"#BBBBBB\" stroke=\"none\" />\n",
       "<rect x=\"107.14285714285714mm\" y=\"85.71428571428571mm\"\n",
       "      width=\"4.357142857142857mm\" height=\"4.357142857142857mm\"\n",
       "      fill=\"#000000\" stroke=\"none\" />\n",
       "<rect x=\"112.49999999999999mm\" y=\"85.71428571428571mm\"\n",
       "      width=\"4.357142857142857mm\" height=\"4.357142857142857mm\"\n",
       "      fill=\"#000000\" stroke=\"none\" />\n",
       "<rect x=\"117.85714285714285mm\" y=\"85.71428571428571mm\"\n",
       "      width=\"4.357142857142857mm\" height=\"4.357142857142857mm\"\n",
       "      fill=\"#000000\" stroke=\"none\" />\n",
       "<rect x=\"123.21428571428571mm\" y=\"85.71428571428571mm\"\n",
       "      width=\"4.357142857142857mm\" height=\"4.357142857142857mm\"\n",
       "      fill=\"#000000\" stroke=\"none\" />\n",
       "<rect x=\"128.57142857142856mm\" y=\"85.71428571428571mm\"\n",
       "      width=\"4.357142857142857mm\" height=\"4.357142857142857mm\"\n",
       "      fill=\"#000000\" stroke=\"none\" />\n",
       "<rect x=\"133.92857142857142mm\" y=\"85.71428571428571mm\"\n",
       "      width=\"4.357142857142857mm\" height=\"4.357142857142857mm\"\n",
       "      fill=\"#000000\" stroke=\"none\" />\n",
       "<rect x=\"139.28571428571428mm\" y=\"85.71428571428571mm\"\n",
       "      width=\"4.357142857142857mm\" height=\"4.357142857142857mm\"\n",
       "      fill=\"#000000\" stroke=\"none\" />\n",
       "<rect x=\"144.64285714285714mm\" y=\"85.71428571428571mm\"\n",
       "      width=\"4.357142857142857mm\" height=\"4.357142857142857mm\"\n",
       "      fill=\"#000000\" stroke=\"none\" />\n",
       "<rect x=\"0.0mm\" y=\"91.07142857142857mm\"\n",
       "      width=\"4.357142857142857mm\" height=\"4.357142857142857mm\"\n",
       "      fill=\"#000000\" stroke=\"none\" />\n",
       "<rect x=\"5.357142857142857mm\" y=\"91.07142857142857mm\"\n",
       "      width=\"4.357142857142857mm\" height=\"4.357142857142857mm\"\n",
       "      fill=\"#000000\" stroke=\"none\" />\n",
       "<rect x=\"10.714285714285714mm\" y=\"91.07142857142857mm\"\n",
       "      width=\"4.357142857142857mm\" height=\"4.357142857142857mm\"\n",
       "      fill=\"#000000\" stroke=\"none\" />\n",
       "<rect x=\"16.07142857142857mm\" y=\"91.07142857142857mm\"\n",
       "      width=\"4.357142857142857mm\" height=\"4.357142857142857mm\"\n",
       "      fill=\"#000000\" stroke=\"none\" />\n",
       "<rect x=\"21.428571428571427mm\" y=\"91.07142857142857mm\"\n",
       "      width=\"4.357142857142857mm\" height=\"4.357142857142857mm\"\n",
       "      fill=\"#000000\" stroke=\"none\" />\n",
       "<rect x=\"26.785714285714285mm\" y=\"91.07142857142857mm\"\n",
       "      width=\"4.357142857142857mm\" height=\"4.357142857142857mm\"\n",
       "      fill=\"#000000\" stroke=\"none\" />\n",
       "<rect x=\"32.14285714285714mm\" y=\"91.07142857142857mm\"\n",
       "      width=\"4.357142857142857mm\" height=\"4.357142857142857mm\"\n",
       "      fill=\"#000000\" stroke=\"none\" />\n",
       "<rect x=\"37.5mm\" y=\"91.07142857142857mm\"\n",
       "      width=\"4.357142857142857mm\" height=\"4.357142857142857mm\"\n",
       "      fill=\"#000000\" stroke=\"none\" />\n",
       "<rect x=\"42.857142857142854mm\" y=\"91.07142857142857mm\"\n",
       "      width=\"4.357142857142857mm\" height=\"4.357142857142857mm\"\n",
       "      fill=\"#000000\" stroke=\"none\" />\n",
       "<rect x=\"48.21428571428571mm\" y=\"91.07142857142857mm\"\n",
       "      width=\"4.357142857142857mm\" height=\"4.357142857142857mm\"\n",
       "      fill=\"#000000\" stroke=\"none\" />\n",
       "<rect x=\"53.57142857142857mm\" y=\"91.07142857142857mm\"\n",
       "      width=\"4.357142857142857mm\" height=\"4.357142857142857mm\"\n",
       "      fill=\"#000000\" stroke=\"none\" />\n",
       "<rect x=\"58.92857142857142mm\" y=\"91.07142857142857mm\"\n",
       "      width=\"4.357142857142857mm\" height=\"4.357142857142857mm\"\n",
       "      fill=\"#000000\" stroke=\"none\" />\n",
       "<rect x=\"64.28571428571428mm\" y=\"91.07142857142857mm\"\n",
       "      width=\"4.357142857142857mm\" height=\"4.357142857142857mm\"\n",
       "      fill=\"#000000\" stroke=\"none\" />\n",
       "<rect x=\"69.64285714285714mm\" y=\"91.07142857142857mm\"\n",
       "      width=\"4.357142857142857mm\" height=\"4.357142857142857mm\"\n",
       "      fill=\"#000000\" stroke=\"none\" />\n",
       "<rect x=\"75.0mm\" y=\"91.07142857142857mm\"\n",
       "      width=\"4.357142857142857mm\" height=\"4.357142857142857mm\"\n",
       "      fill=\"#000000\" stroke=\"none\" />\n",
       "<rect x=\"80.35714285714285mm\" y=\"91.07142857142857mm\"\n",
       "      width=\"4.357142857142857mm\" height=\"4.357142857142857mm\"\n",
       "      fill=\"#000000\" stroke=\"none\" />\n",
       "<rect x=\"85.71428571428571mm\" y=\"91.07142857142857mm\"\n",
       "      width=\"4.357142857142857mm\" height=\"4.357142857142857mm\"\n",
       "      fill=\"#000000\" stroke=\"none\" />\n",
       "<rect x=\"91.07142857142857mm\" y=\"91.07142857142857mm\"\n",
       "      width=\"4.357142857142857mm\" height=\"4.357142857142857mm\"\n",
       "      fill=\"#F9F9F9\" stroke=\"none\" />\n",
       "<rect x=\"96.42857142857142mm\" y=\"91.07142857142857mm\"\n",
       "      width=\"4.357142857142857mm\" height=\"4.357142857142857mm\"\n",
       "      fill=\"#FDFDFD\" stroke=\"none\" />\n",
       "<rect x=\"101.78571428571428mm\" y=\"91.07142857142857mm\"\n",
       "      width=\"4.357142857142857mm\" height=\"4.357142857142857mm\"\n",
       "      fill=\"#F9F9F9\" stroke=\"none\" />\n",
       "<rect x=\"107.14285714285714mm\" y=\"91.07142857142857mm\"\n",
       "      width=\"4.357142857142857mm\" height=\"4.357142857142857mm\"\n",
       "      fill=\"#404040\" stroke=\"none\" />\n",
       "<rect x=\"112.49999999999999mm\" y=\"91.07142857142857mm\"\n",
       "      width=\"4.357142857142857mm\" height=\"4.357142857142857mm\"\n",
       "      fill=\"#000000\" stroke=\"none\" />\n",
       "<rect x=\"117.85714285714285mm\" y=\"91.07142857142857mm\"\n",
       "      width=\"4.357142857142857mm\" height=\"4.357142857142857mm\"\n",
       "      fill=\"#000000\" stroke=\"none\" />\n",
       "<rect x=\"123.21428571428571mm\" y=\"91.07142857142857mm\"\n",
       "      width=\"4.357142857142857mm\" height=\"4.357142857142857mm\"\n",
       "      fill=\"#000000\" stroke=\"none\" />\n",
       "<rect x=\"128.57142857142856mm\" y=\"91.07142857142857mm\"\n",
       "      width=\"4.357142857142857mm\" height=\"4.357142857142857mm\"\n",
       "      fill=\"#000000\" stroke=\"none\" />\n",
       "<rect x=\"133.92857142857142mm\" y=\"91.07142857142857mm\"\n",
       "      width=\"4.357142857142857mm\" height=\"4.357142857142857mm\"\n",
       "      fill=\"#000000\" stroke=\"none\" />\n",
       "<rect x=\"139.28571428571428mm\" y=\"91.07142857142857mm\"\n",
       "      width=\"4.357142857142857mm\" height=\"4.357142857142857mm\"\n",
       "      fill=\"#000000\" stroke=\"none\" />\n",
       "<rect x=\"144.64285714285714mm\" y=\"91.07142857142857mm\"\n",
       "      width=\"4.357142857142857mm\" height=\"4.357142857142857mm\"\n",
       "      fill=\"#000000\" stroke=\"none\" />\n",
       "<rect x=\"0.0mm\" y=\"96.42857142857142mm\"\n",
       "      width=\"4.357142857142857mm\" height=\"4.357142857142857mm\"\n",
       "      fill=\"#000000\" stroke=\"none\" />\n",
       "<rect x=\"5.357142857142857mm\" y=\"96.42857142857142mm\"\n",
       "      width=\"4.357142857142857mm\" height=\"4.357142857142857mm\"\n",
       "      fill=\"#000000\" stroke=\"none\" />\n",
       "<rect x=\"10.714285714285714mm\" y=\"96.42857142857142mm\"\n",
       "      width=\"4.357142857142857mm\" height=\"4.357142857142857mm\"\n",
       "      fill=\"#000000\" stroke=\"none\" />\n",
       "<rect x=\"16.07142857142857mm\" y=\"96.42857142857142mm\"\n",
       "      width=\"4.357142857142857mm\" height=\"4.357142857142857mm\"\n",
       "      fill=\"#000000\" stroke=\"none\" />\n",
       "<rect x=\"21.428571428571427mm\" y=\"96.42857142857142mm\"\n",
       "      width=\"4.357142857142857mm\" height=\"4.357142857142857mm\"\n",
       "      fill=\"#000000\" stroke=\"none\" />\n",
       "<rect x=\"26.785714285714285mm\" y=\"96.42857142857142mm\"\n",
       "      width=\"4.357142857142857mm\" height=\"4.357142857142857mm\"\n",
       "      fill=\"#000000\" stroke=\"none\" />\n",
       "<rect x=\"32.14285714285714mm\" y=\"96.42857142857142mm\"\n",
       "      width=\"4.357142857142857mm\" height=\"4.357142857142857mm\"\n",
       "      fill=\"#000000\" stroke=\"none\" />\n",
       "<rect x=\"37.5mm\" y=\"96.42857142857142mm\"\n",
       "      width=\"4.357142857142857mm\" height=\"4.357142857142857mm\"\n",
       "      fill=\"#000000\" stroke=\"none\" />\n",
       "<rect x=\"42.857142857142854mm\" y=\"96.42857142857142mm\"\n",
       "      width=\"4.357142857142857mm\" height=\"4.357142857142857mm\"\n",
       "      fill=\"#000000\" stroke=\"none\" />\n",
       "<rect x=\"48.21428571428571mm\" y=\"96.42857142857142mm\"\n",
       "      width=\"4.357142857142857mm\" height=\"4.357142857142857mm\"\n",
       "      fill=\"#000000\" stroke=\"none\" />\n",
       "<rect x=\"53.57142857142857mm\" y=\"96.42857142857142mm\"\n",
       "      width=\"4.357142857142857mm\" height=\"4.357142857142857mm\"\n",
       "      fill=\"#000000\" stroke=\"none\" />\n",
       "<rect x=\"58.92857142857142mm\" y=\"96.42857142857142mm\"\n",
       "      width=\"4.357142857142857mm\" height=\"4.357142857142857mm\"\n",
       "      fill=\"#000000\" stroke=\"none\" />\n",
       "<rect x=\"64.28571428571428mm\" y=\"96.42857142857142mm\"\n",
       "      width=\"4.357142857142857mm\" height=\"4.357142857142857mm\"\n",
       "      fill=\"#000000\" stroke=\"none\" />\n",
       "<rect x=\"69.64285714285714mm\" y=\"96.42857142857142mm\"\n",
       "      width=\"4.357142857142857mm\" height=\"4.357142857142857mm\"\n",
       "      fill=\"#000000\" stroke=\"none\" />\n",
       "<rect x=\"75.0mm\" y=\"96.42857142857142mm\"\n",
       "      width=\"4.357142857142857mm\" height=\"4.357142857142857mm\"\n",
       "      fill=\"#2E2E2E\" stroke=\"none\" />\n",
       "<rect x=\"80.35714285714285mm\" y=\"96.42857142857142mm\"\n",
       "      width=\"4.357142857142857mm\" height=\"4.357142857142857mm\"\n",
       "      fill=\"#828282\" stroke=\"none\" />\n",
       "<rect x=\"85.71428571428571mm\" y=\"96.42857142857142mm\"\n",
       "      width=\"4.357142857142857mm\" height=\"4.357142857142857mm\"\n",
       "      fill=\"#B7B7B7\" stroke=\"none\" />\n",
       "<rect x=\"91.07142857142857mm\" y=\"96.42857142857142mm\"\n",
       "      width=\"4.357142857142857mm\" height=\"4.357142857142857mm\"\n",
       "      fill=\"#FDFDFD\" stroke=\"none\" />\n",
       "<rect x=\"96.42857142857142mm\" y=\"96.42857142857142mm\"\n",
       "      width=\"4.357142857142857mm\" height=\"4.357142857142857mm\"\n",
       "      fill=\"#FDFDFD\" stroke=\"none\" />\n",
       "<rect x=\"101.78571428571428mm\" y=\"96.42857142857142mm\"\n",
       "      width=\"4.357142857142857mm\" height=\"4.357142857142857mm\"\n",
       "      fill=\"#CFCFCF\" stroke=\"none\" />\n",
       "<rect x=\"107.14285714285714mm\" y=\"96.42857142857142mm\"\n",
       "      width=\"4.357142857142857mm\" height=\"4.357142857142857mm\"\n",
       "      fill=\"#020202\" stroke=\"none\" />\n",
       "<rect x=\"112.49999999999999mm\" y=\"96.42857142857142mm\"\n",
       "      width=\"4.357142857142857mm\" height=\"4.357142857142857mm\"\n",
       "      fill=\"#000000\" stroke=\"none\" />\n",
       "<rect x=\"117.85714285714285mm\" y=\"96.42857142857142mm\"\n",
       "      width=\"4.357142857142857mm\" height=\"4.357142857142857mm\"\n",
       "      fill=\"#000000\" stroke=\"none\" />\n",
       "<rect x=\"123.21428571428571mm\" y=\"96.42857142857142mm\"\n",
       "      width=\"4.357142857142857mm\" height=\"4.357142857142857mm\"\n",
       "      fill=\"#000000\" stroke=\"none\" />\n",
       "<rect x=\"128.57142857142856mm\" y=\"96.42857142857142mm\"\n",
       "      width=\"4.357142857142857mm\" height=\"4.357142857142857mm\"\n",
       "      fill=\"#000000\" stroke=\"none\" />\n",
       "<rect x=\"133.92857142857142mm\" y=\"96.42857142857142mm\"\n",
       "      width=\"4.357142857142857mm\" height=\"4.357142857142857mm\"\n",
       "      fill=\"#000000\" stroke=\"none\" />\n",
       "<rect x=\"139.28571428571428mm\" y=\"96.42857142857142mm\"\n",
       "      width=\"4.357142857142857mm\" height=\"4.357142857142857mm\"\n",
       "      fill=\"#000000\" stroke=\"none\" />\n",
       "<rect x=\"144.64285714285714mm\" y=\"96.42857142857142mm\"\n",
       "      width=\"4.357142857142857mm\" height=\"4.357142857142857mm\"\n",
       "      fill=\"#000000\" stroke=\"none\" />\n",
       "<rect x=\"0.0mm\" y=\"101.78571428571428mm\"\n",
       "      width=\"4.357142857142857mm\" height=\"4.357142857142857mm\"\n",
       "      fill=\"#000000\" stroke=\"none\" />\n",
       "<rect x=\"5.357142857142857mm\" y=\"101.78571428571428mm\"\n",
       "      width=\"4.357142857142857mm\" height=\"4.357142857142857mm\"\n",
       "      fill=\"#000000\" stroke=\"none\" />\n",
       "<rect x=\"10.714285714285714mm\" y=\"101.78571428571428mm\"\n",
       "      width=\"4.357142857142857mm\" height=\"4.357142857142857mm\"\n",
       "      fill=\"#000000\" stroke=\"none\" />\n",
       "<rect x=\"16.07142857142857mm\" y=\"101.78571428571428mm\"\n",
       "      width=\"4.357142857142857mm\" height=\"4.357142857142857mm\"\n",
       "      fill=\"#000000\" stroke=\"none\" />\n",
       "<rect x=\"21.428571428571427mm\" y=\"101.78571428571428mm\"\n",
       "      width=\"4.357142857142857mm\" height=\"4.357142857142857mm\"\n",
       "      fill=\"#000000\" stroke=\"none\" />\n",
       "<rect x=\"26.785714285714285mm\" y=\"101.78571428571428mm\"\n",
       "      width=\"4.357142857142857mm\" height=\"4.357142857142857mm\"\n",
       "      fill=\"#000000\" stroke=\"none\" />\n",
       "<rect x=\"32.14285714285714mm\" y=\"101.78571428571428mm\"\n",
       "      width=\"4.357142857142857mm\" height=\"4.357142857142857mm\"\n",
       "      fill=\"#000000\" stroke=\"none\" />\n",
       "<rect x=\"37.5mm\" y=\"101.78571428571428mm\"\n",
       "      width=\"4.357142857142857mm\" height=\"4.357142857142857mm\"\n",
       "      fill=\"#000000\" stroke=\"none\" />\n",
       "<rect x=\"42.857142857142854mm\" y=\"101.78571428571428mm\"\n",
       "      width=\"4.357142857142857mm\" height=\"4.357142857142857mm\"\n",
       "      fill=\"#000000\" stroke=\"none\" />\n",
       "<rect x=\"48.21428571428571mm\" y=\"101.78571428571428mm\"\n",
       "      width=\"4.357142857142857mm\" height=\"4.357142857142857mm\"\n",
       "      fill=\"#000000\" stroke=\"none\" />\n",
       "<rect x=\"53.57142857142857mm\" y=\"101.78571428571428mm\"\n",
       "      width=\"4.357142857142857mm\" height=\"4.357142857142857mm\"\n",
       "      fill=\"#000000\" stroke=\"none\" />\n",
       "<rect x=\"58.92857142857142mm\" y=\"101.78571428571428mm\"\n",
       "      width=\"4.357142857142857mm\" height=\"4.357142857142857mm\"\n",
       "      fill=\"#000000\" stroke=\"none\" />\n",
       "<rect x=\"64.28571428571428mm\" y=\"101.78571428571428mm\"\n",
       "      width=\"4.357142857142857mm\" height=\"4.357142857142857mm\"\n",
       "      fill=\"#272727\" stroke=\"none\" />\n",
       "<rect x=\"69.64285714285714mm\" y=\"101.78571428571428mm\"\n",
       "      width=\"4.357142857142857mm\" height=\"4.357142857142857mm\"\n",
       "      fill=\"#949494\" stroke=\"none\" />\n",
       "<rect x=\"75.0mm\" y=\"101.78571428571428mm\"\n",
       "      width=\"4.357142857142857mm\" height=\"4.357142857142857mm\"\n",
       "      fill=\"#E5E5E5\" stroke=\"none\" />\n",
       "<rect x=\"80.35714285714285mm\" y=\"101.78571428571428mm\"\n",
       "      width=\"4.357142857142857mm\" height=\"4.357142857142857mm\"\n",
       "      fill=\"#FDFDFD\" stroke=\"none\" />\n",
       "<rect x=\"85.71428571428571mm\" y=\"101.78571428571428mm\"\n",
       "      width=\"4.357142857142857mm\" height=\"4.357142857142857mm\"\n",
       "      fill=\"#FDFDFD\" stroke=\"none\" />\n",
       "<rect x=\"91.07142857142857mm\" y=\"101.78571428571428mm\"\n",
       "      width=\"4.357142857142857mm\" height=\"4.357142857142857mm\"\n",
       "      fill=\"#FDFDFD\" stroke=\"none\" />\n",
       "<rect x=\"96.42857142857142mm\" y=\"101.78571428571428mm\"\n",
       "      width=\"4.357142857142857mm\" height=\"4.357142857142857mm\"\n",
       "      fill=\"#FAFAFA\" stroke=\"none\" />\n",
       "<rect x=\"101.78571428571428mm\" y=\"101.78571428571428mm\"\n",
       "      width=\"4.357142857142857mm\" height=\"4.357142857142857mm\"\n",
       "      fill=\"#B6B6B6\" stroke=\"none\" />\n",
       "<rect x=\"107.14285714285714mm\" y=\"101.78571428571428mm\"\n",
       "      width=\"4.357142857142857mm\" height=\"4.357142857142857mm\"\n",
       "      fill=\"#000000\" stroke=\"none\" />\n",
       "<rect x=\"112.49999999999999mm\" y=\"101.78571428571428mm\"\n",
       "      width=\"4.357142857142857mm\" height=\"4.357142857142857mm\"\n",
       "      fill=\"#000000\" stroke=\"none\" />\n",
       "<rect x=\"117.85714285714285mm\" y=\"101.78571428571428mm\"\n",
       "      width=\"4.357142857142857mm\" height=\"4.357142857142857mm\"\n",
       "      fill=\"#000000\" stroke=\"none\" />\n",
       "<rect x=\"123.21428571428571mm\" y=\"101.78571428571428mm\"\n",
       "      width=\"4.357142857142857mm\" height=\"4.357142857142857mm\"\n",
       "      fill=\"#000000\" stroke=\"none\" />\n",
       "<rect x=\"128.57142857142856mm\" y=\"101.78571428571428mm\"\n",
       "      width=\"4.357142857142857mm\" height=\"4.357142857142857mm\"\n",
       "      fill=\"#000000\" stroke=\"none\" />\n",
       "<rect x=\"133.92857142857142mm\" y=\"101.78571428571428mm\"\n",
       "      width=\"4.357142857142857mm\" height=\"4.357142857142857mm\"\n",
       "      fill=\"#000000\" stroke=\"none\" />\n",
       "<rect x=\"139.28571428571428mm\" y=\"101.78571428571428mm\"\n",
       "      width=\"4.357142857142857mm\" height=\"4.357142857142857mm\"\n",
       "      fill=\"#000000\" stroke=\"none\" />\n",
       "<rect x=\"144.64285714285714mm\" y=\"101.78571428571428mm\"\n",
       "      width=\"4.357142857142857mm\" height=\"4.357142857142857mm\"\n",
       "      fill=\"#000000\" stroke=\"none\" />\n",
       "<rect x=\"0.0mm\" y=\"107.14285714285714mm\"\n",
       "      width=\"4.357142857142857mm\" height=\"4.357142857142857mm\"\n",
       "      fill=\"#000000\" stroke=\"none\" />\n",
       "<rect x=\"5.357142857142857mm\" y=\"107.14285714285714mm\"\n",
       "      width=\"4.357142857142857mm\" height=\"4.357142857142857mm\"\n",
       "      fill=\"#000000\" stroke=\"none\" />\n",
       "<rect x=\"10.714285714285714mm\" y=\"107.14285714285714mm\"\n",
       "      width=\"4.357142857142857mm\" height=\"4.357142857142857mm\"\n",
       "      fill=\"#000000\" stroke=\"none\" />\n",
       "<rect x=\"16.07142857142857mm\" y=\"107.14285714285714mm\"\n",
       "      width=\"4.357142857142857mm\" height=\"4.357142857142857mm\"\n",
       "      fill=\"#000000\" stroke=\"none\" />\n",
       "<rect x=\"21.428571428571427mm\" y=\"107.14285714285714mm\"\n",
       "      width=\"4.357142857142857mm\" height=\"4.357142857142857mm\"\n",
       "      fill=\"#000000\" stroke=\"none\" />\n",
       "<rect x=\"26.785714285714285mm\" y=\"107.14285714285714mm\"\n",
       "      width=\"4.357142857142857mm\" height=\"4.357142857142857mm\"\n",
       "      fill=\"#000000\" stroke=\"none\" />\n",
       "<rect x=\"32.14285714285714mm\" y=\"107.14285714285714mm\"\n",
       "      width=\"4.357142857142857mm\" height=\"4.357142857142857mm\"\n",
       "      fill=\"#000000\" stroke=\"none\" />\n",
       "<rect x=\"37.5mm\" y=\"107.14285714285714mm\"\n",
       "      width=\"4.357142857142857mm\" height=\"4.357142857142857mm\"\n",
       "      fill=\"#000000\" stroke=\"none\" />\n",
       "<rect x=\"42.857142857142854mm\" y=\"107.14285714285714mm\"\n",
       "      width=\"4.357142857142857mm\" height=\"4.357142857142857mm\"\n",
       "      fill=\"#000000\" stroke=\"none\" />\n",
       "<rect x=\"48.21428571428571mm\" y=\"107.14285714285714mm\"\n",
       "      width=\"4.357142857142857mm\" height=\"4.357142857142857mm\"\n",
       "      fill=\"#000000\" stroke=\"none\" />\n",
       "<rect x=\"53.57142857142857mm\" y=\"107.14285714285714mm\"\n",
       "      width=\"4.357142857142857mm\" height=\"4.357142857142857mm\"\n",
       "      fill=\"#181818\" stroke=\"none\" />\n",
       "<rect x=\"58.92857142857142mm\" y=\"107.14285714285714mm\"\n",
       "      width=\"4.357142857142857mm\" height=\"4.357142857142857mm\"\n",
       "      fill=\"#727272\" stroke=\"none\" />\n",
       "<rect x=\"64.28571428571428mm\" y=\"107.14285714285714mm\"\n",
       "      width=\"4.357142857142857mm\" height=\"4.357142857142857mm\"\n",
       "      fill=\"#DDDDDD\" stroke=\"none\" />\n",
       "<rect x=\"69.64285714285714mm\" y=\"107.14285714285714mm\"\n",
       "      width=\"4.357142857142857mm\" height=\"4.357142857142857mm\"\n",
       "      fill=\"#FDFDFD\" stroke=\"none\" />\n",
       "<rect x=\"75.0mm\" y=\"107.14285714285714mm\"\n",
       "      width=\"4.357142857142857mm\" height=\"4.357142857142857mm\"\n",
       "      fill=\"#FDFDFD\" stroke=\"none\" />\n",
       "<rect x=\"80.35714285714285mm\" y=\"107.14285714285714mm\"\n",
       "      width=\"4.357142857142857mm\" height=\"4.357142857142857mm\"\n",
       "      fill=\"#FDFDFD\" stroke=\"none\" />\n",
       "<rect x=\"85.71428571428571mm\" y=\"107.14285714285714mm\"\n",
       "      width=\"4.357142857142857mm\" height=\"4.357142857142857mm\"\n",
       "      fill=\"#FDFDFD\" stroke=\"none\" />\n",
       "<rect x=\"91.07142857142857mm\" y=\"107.14285714285714mm\"\n",
       "      width=\"4.357142857142857mm\" height=\"4.357142857142857mm\"\n",
       "      fill=\"#C9C9C9\" stroke=\"none\" />\n",
       "<rect x=\"96.42857142857142mm\" y=\"107.14285714285714mm\"\n",
       "      width=\"4.357142857142857mm\" height=\"4.357142857142857mm\"\n",
       "      fill=\"#4E4E4E\" stroke=\"none\" />\n",
       "<rect x=\"101.78571428571428mm\" y=\"107.14285714285714mm\"\n",
       "      width=\"4.357142857142857mm\" height=\"4.357142857142857mm\"\n",
       "      fill=\"#000000\" stroke=\"none\" />\n",
       "<rect x=\"107.14285714285714mm\" y=\"107.14285714285714mm\"\n",
       "      width=\"4.357142857142857mm\" height=\"4.357142857142857mm\"\n",
       "      fill=\"#000000\" stroke=\"none\" />\n",
       "<rect x=\"112.49999999999999mm\" y=\"107.14285714285714mm\"\n",
       "      width=\"4.357142857142857mm\" height=\"4.357142857142857mm\"\n",
       "      fill=\"#000000\" stroke=\"none\" />\n",
       "<rect x=\"117.85714285714285mm\" y=\"107.14285714285714mm\"\n",
       "      width=\"4.357142857142857mm\" height=\"4.357142857142857mm\"\n",
       "      fill=\"#000000\" stroke=\"none\" />\n",
       "<rect x=\"123.21428571428571mm\" y=\"107.14285714285714mm\"\n",
       "      width=\"4.357142857142857mm\" height=\"4.357142857142857mm\"\n",
       "      fill=\"#000000\" stroke=\"none\" />\n",
       "<rect x=\"128.57142857142856mm\" y=\"107.14285714285714mm\"\n",
       "      width=\"4.357142857142857mm\" height=\"4.357142857142857mm\"\n",
       "      fill=\"#000000\" stroke=\"none\" />\n",
       "<rect x=\"133.92857142857142mm\" y=\"107.14285714285714mm\"\n",
       "      width=\"4.357142857142857mm\" height=\"4.357142857142857mm\"\n",
       "      fill=\"#000000\" stroke=\"none\" />\n",
       "<rect x=\"139.28571428571428mm\" y=\"107.14285714285714mm\"\n",
       "      width=\"4.357142857142857mm\" height=\"4.357142857142857mm\"\n",
       "      fill=\"#000000\" stroke=\"none\" />\n",
       "<rect x=\"144.64285714285714mm\" y=\"107.14285714285714mm\"\n",
       "      width=\"4.357142857142857mm\" height=\"4.357142857142857mm\"\n",
       "      fill=\"#000000\" stroke=\"none\" />\n",
       "<rect x=\"0.0mm\" y=\"112.49999999999999mm\"\n",
       "      width=\"4.357142857142857mm\" height=\"4.357142857142857mm\"\n",
       "      fill=\"#000000\" stroke=\"none\" />\n",
       "<rect x=\"5.357142857142857mm\" y=\"112.49999999999999mm\"\n",
       "      width=\"4.357142857142857mm\" height=\"4.357142857142857mm\"\n",
       "      fill=\"#000000\" stroke=\"none\" />\n",
       "<rect x=\"10.714285714285714mm\" y=\"112.49999999999999mm\"\n",
       "      width=\"4.357142857142857mm\" height=\"4.357142857142857mm\"\n",
       "      fill=\"#000000\" stroke=\"none\" />\n",
       "<rect x=\"16.07142857142857mm\" y=\"112.49999999999999mm\"\n",
       "      width=\"4.357142857142857mm\" height=\"4.357142857142857mm\"\n",
       "      fill=\"#000000\" stroke=\"none\" />\n",
       "<rect x=\"21.428571428571427mm\" y=\"112.49999999999999mm\"\n",
       "      width=\"4.357142857142857mm\" height=\"4.357142857142857mm\"\n",
       "      fill=\"#000000\" stroke=\"none\" />\n",
       "<rect x=\"26.785714285714285mm\" y=\"112.49999999999999mm\"\n",
       "      width=\"4.357142857142857mm\" height=\"4.357142857142857mm\"\n",
       "      fill=\"#000000\" stroke=\"none\" />\n",
       "<rect x=\"32.14285714285714mm\" y=\"112.49999999999999mm\"\n",
       "      width=\"4.357142857142857mm\" height=\"4.357142857142857mm\"\n",
       "      fill=\"#000000\" stroke=\"none\" />\n",
       "<rect x=\"37.5mm\" y=\"112.49999999999999mm\"\n",
       "      width=\"4.357142857142857mm\" height=\"4.357142857142857mm\"\n",
       "      fill=\"#000000\" stroke=\"none\" />\n",
       "<rect x=\"42.857142857142854mm\" y=\"112.49999999999999mm\"\n",
       "      width=\"4.357142857142857mm\" height=\"4.357142857142857mm\"\n",
       "      fill=\"#171717\" stroke=\"none\" />\n",
       "<rect x=\"48.21428571428571mm\" y=\"112.49999999999999mm\"\n",
       "      width=\"4.357142857142857mm\" height=\"4.357142857142857mm\"\n",
       "      fill=\"#424242\" stroke=\"none\" />\n",
       "<rect x=\"53.57142857142857mm\" y=\"112.49999999999999mm\"\n",
       "      width=\"4.357142857142857mm\" height=\"4.357142857142857mm\"\n",
       "      fill=\"#D5D5D5\" stroke=\"none\" />\n",
       "<rect x=\"58.92857142857142mm\" y=\"112.49999999999999mm\"\n",
       "      width=\"4.357142857142857mm\" height=\"4.357142857142857mm\"\n",
       "      fill=\"#FDFDFD\" stroke=\"none\" />\n",
       "<rect x=\"64.28571428571428mm\" y=\"112.49999999999999mm\"\n",
       "      width=\"4.357142857142857mm\" height=\"4.357142857142857mm\"\n",
       "      fill=\"#FDFDFD\" stroke=\"none\" />\n",
       "<rect x=\"69.64285714285714mm\" y=\"112.49999999999999mm\"\n",
       "      width=\"4.357142857142857mm\" height=\"4.357142857142857mm\"\n",
       "      fill=\"#FDFDFD\" stroke=\"none\" />\n",
       "<rect x=\"75.0mm\" y=\"112.49999999999999mm\"\n",
       "      width=\"4.357142857142857mm\" height=\"4.357142857142857mm\"\n",
       "      fill=\"#FDFDFD\" stroke=\"none\" />\n",
       "<rect x=\"80.35714285714285mm\" y=\"112.49999999999999mm\"\n",
       "      width=\"4.357142857142857mm\" height=\"4.357142857142857mm\"\n",
       "      fill=\"#C6C6C6\" stroke=\"none\" />\n",
       "<rect x=\"85.71428571428571mm\" y=\"112.49999999999999mm\"\n",
       "      width=\"4.357142857142857mm\" height=\"4.357142857142857mm\"\n",
       "      fill=\"#515151\" stroke=\"none\" />\n",
       "<rect x=\"91.07142857142857mm\" y=\"112.49999999999999mm\"\n",
       "      width=\"4.357142857142857mm\" height=\"4.357142857142857mm\"\n",
       "      fill=\"#020202\" stroke=\"none\" />\n",
       "<rect x=\"96.42857142857142mm\" y=\"112.49999999999999mm\"\n",
       "      width=\"4.357142857142857mm\" height=\"4.357142857142857mm\"\n",
       "      fill=\"#000000\" stroke=\"none\" />\n",
       "<rect x=\"101.78571428571428mm\" y=\"112.49999999999999mm\"\n",
       "      width=\"4.357142857142857mm\" height=\"4.357142857142857mm\"\n",
       "      fill=\"#000000\" stroke=\"none\" />\n",
       "<rect x=\"107.14285714285714mm\" y=\"112.49999999999999mm\"\n",
       "      width=\"4.357142857142857mm\" height=\"4.357142857142857mm\"\n",
       "      fill=\"#000000\" stroke=\"none\" />\n",
       "<rect x=\"112.49999999999999mm\" y=\"112.49999999999999mm\"\n",
       "      width=\"4.357142857142857mm\" height=\"4.357142857142857mm\"\n",
       "      fill=\"#000000\" stroke=\"none\" />\n",
       "<rect x=\"117.85714285714285mm\" y=\"112.49999999999999mm\"\n",
       "      width=\"4.357142857142857mm\" height=\"4.357142857142857mm\"\n",
       "      fill=\"#000000\" stroke=\"none\" />\n",
       "<rect x=\"123.21428571428571mm\" y=\"112.49999999999999mm\"\n",
       "      width=\"4.357142857142857mm\" height=\"4.357142857142857mm\"\n",
       "      fill=\"#000000\" stroke=\"none\" />\n",
       "<rect x=\"128.57142857142856mm\" y=\"112.49999999999999mm\"\n",
       "      width=\"4.357142857142857mm\" height=\"4.357142857142857mm\"\n",
       "      fill=\"#000000\" stroke=\"none\" />\n",
       "<rect x=\"133.92857142857142mm\" y=\"112.49999999999999mm\"\n",
       "      width=\"4.357142857142857mm\" height=\"4.357142857142857mm\"\n",
       "      fill=\"#000000\" stroke=\"none\" />\n",
       "<rect x=\"139.28571428571428mm\" y=\"112.49999999999999mm\"\n",
       "      width=\"4.357142857142857mm\" height=\"4.357142857142857mm\"\n",
       "      fill=\"#000000\" stroke=\"none\" />\n",
       "<rect x=\"144.64285714285714mm\" y=\"112.49999999999999mm\"\n",
       "      width=\"4.357142857142857mm\" height=\"4.357142857142857mm\"\n",
       "      fill=\"#000000\" stroke=\"none\" />\n",
       "<rect x=\"0.0mm\" y=\"117.85714285714285mm\"\n",
       "      width=\"4.357142857142857mm\" height=\"4.357142857142857mm\"\n",
       "      fill=\"#000000\" stroke=\"none\" />\n",
       "<rect x=\"5.357142857142857mm\" y=\"117.85714285714285mm\"\n",
       "      width=\"4.357142857142857mm\" height=\"4.357142857142857mm\"\n",
       "      fill=\"#000000\" stroke=\"none\" />\n",
       "<rect x=\"10.714285714285714mm\" y=\"117.85714285714285mm\"\n",
       "      width=\"4.357142857142857mm\" height=\"4.357142857142857mm\"\n",
       "      fill=\"#000000\" stroke=\"none\" />\n",
       "<rect x=\"16.07142857142857mm\" y=\"117.85714285714285mm\"\n",
       "      width=\"4.357142857142857mm\" height=\"4.357142857142857mm\"\n",
       "      fill=\"#000000\" stroke=\"none\" />\n",
       "<rect x=\"21.428571428571427mm\" y=\"117.85714285714285mm\"\n",
       "      width=\"4.357142857142857mm\" height=\"4.357142857142857mm\"\n",
       "      fill=\"#000000\" stroke=\"none\" />\n",
       "<rect x=\"26.785714285714285mm\" y=\"117.85714285714285mm\"\n",
       "      width=\"4.357142857142857mm\" height=\"4.357142857142857mm\"\n",
       "      fill=\"#000000\" stroke=\"none\" />\n",
       "<rect x=\"32.14285714285714mm\" y=\"117.85714285714285mm\"\n",
       "      width=\"4.357142857142857mm\" height=\"4.357142857142857mm\"\n",
       "      fill=\"#121212\" stroke=\"none\" />\n",
       "<rect x=\"37.5mm\" y=\"117.85714285714285mm\"\n",
       "      width=\"4.357142857142857mm\" height=\"4.357142857142857mm\"\n",
       "      fill=\"#ABABAB\" stroke=\"none\" />\n",
       "<rect x=\"42.857142857142854mm\" y=\"117.85714285714285mm\"\n",
       "      width=\"4.357142857142857mm\" height=\"4.357142857142857mm\"\n",
       "      fill=\"#DBDBDB\" stroke=\"none\" />\n",
       "<rect x=\"48.21428571428571mm\" y=\"117.85714285714285mm\"\n",
       "      width=\"4.357142857142857mm\" height=\"4.357142857142857mm\"\n",
       "      fill=\"#FDFDFD\" stroke=\"none\" />\n",
       "<rect x=\"53.57142857142857mm\" y=\"117.85714285714285mm\"\n",
       "      width=\"4.357142857142857mm\" height=\"4.357142857142857mm\"\n",
       "      fill=\"#FDFDFD\" stroke=\"none\" />\n",
       "<rect x=\"58.92857142857142mm\" y=\"117.85714285714285mm\"\n",
       "      width=\"4.357142857142857mm\" height=\"4.357142857142857mm\"\n",
       "      fill=\"#FDFDFD\" stroke=\"none\" />\n",
       "<rect x=\"64.28571428571428mm\" y=\"117.85714285714285mm\"\n",
       "      width=\"4.357142857142857mm\" height=\"4.357142857142857mm\"\n",
       "      fill=\"#FDFDFD\" stroke=\"none\" />\n",
       "<rect x=\"69.64285714285714mm\" y=\"117.85714285714285mm\"\n",
       "      width=\"4.357142857142857mm\" height=\"4.357142857142857mm\"\n",
       "      fill=\"#C3C3C3\" stroke=\"none\" />\n",
       "<rect x=\"75.0mm\" y=\"117.85714285714285mm\"\n",
       "      width=\"4.357142857142857mm\" height=\"4.357142857142857mm\"\n",
       "      fill=\"#505050\" stroke=\"none\" />\n",
       "<rect x=\"80.35714285714285mm\" y=\"117.85714285714285mm\"\n",
       "      width=\"4.357142857142857mm\" height=\"4.357142857142857mm\"\n",
       "      fill=\"#090909\" stroke=\"none\" />\n",
       "<rect x=\"85.71428571428571mm\" y=\"117.85714285714285mm\"\n",
       "      width=\"4.357142857142857mm\" height=\"4.357142857142857mm\"\n",
       "      fill=\"#000000\" stroke=\"none\" />\n",
       "<rect x=\"91.07142857142857mm\" y=\"117.85714285714285mm\"\n",
       "      width=\"4.357142857142857mm\" height=\"4.357142857142857mm\"\n",
       "      fill=\"#000000\" stroke=\"none\" />\n",
       "<rect x=\"96.42857142857142mm\" y=\"117.85714285714285mm\"\n",
       "      width=\"4.357142857142857mm\" height=\"4.357142857142857mm\"\n",
       "      fill=\"#000000\" stroke=\"none\" />\n",
       "<rect x=\"101.78571428571428mm\" y=\"117.85714285714285mm\"\n",
       "      width=\"4.357142857142857mm\" height=\"4.357142857142857mm\"\n",
       "      fill=\"#000000\" stroke=\"none\" />\n",
       "<rect x=\"107.14285714285714mm\" y=\"117.85714285714285mm\"\n",
       "      width=\"4.357142857142857mm\" height=\"4.357142857142857mm\"\n",
       "      fill=\"#000000\" stroke=\"none\" />\n",
       "<rect x=\"112.49999999999999mm\" y=\"117.85714285714285mm\"\n",
       "      width=\"4.357142857142857mm\" height=\"4.357142857142857mm\"\n",
       "      fill=\"#000000\" stroke=\"none\" />\n",
       "<rect x=\"117.85714285714285mm\" y=\"117.85714285714285mm\"\n",
       "      width=\"4.357142857142857mm\" height=\"4.357142857142857mm\"\n",
       "      fill=\"#000000\" stroke=\"none\" />\n",
       "<rect x=\"123.21428571428571mm\" y=\"117.85714285714285mm\"\n",
       "      width=\"4.357142857142857mm\" height=\"4.357142857142857mm\"\n",
       "      fill=\"#000000\" stroke=\"none\" />\n",
       "<rect x=\"128.57142857142856mm\" y=\"117.85714285714285mm\"\n",
       "      width=\"4.357142857142857mm\" height=\"4.357142857142857mm\"\n",
       "      fill=\"#000000\" stroke=\"none\" />\n",
       "<rect x=\"133.92857142857142mm\" y=\"117.85714285714285mm\"\n",
       "      width=\"4.357142857142857mm\" height=\"4.357142857142857mm\"\n",
       "      fill=\"#000000\" stroke=\"none\" />\n",
       "<rect x=\"139.28571428571428mm\" y=\"117.85714285714285mm\"\n",
       "      width=\"4.357142857142857mm\" height=\"4.357142857142857mm\"\n",
       "      fill=\"#000000\" stroke=\"none\" />\n",
       "<rect x=\"144.64285714285714mm\" y=\"117.85714285714285mm\"\n",
       "      width=\"4.357142857142857mm\" height=\"4.357142857142857mm\"\n",
       "      fill=\"#000000\" stroke=\"none\" />\n",
       "<rect x=\"0.0mm\" y=\"123.21428571428571mm\"\n",
       "      width=\"4.357142857142857mm\" height=\"4.357142857142857mm\"\n",
       "      fill=\"#000000\" stroke=\"none\" />\n",
       "<rect x=\"5.357142857142857mm\" y=\"123.21428571428571mm\"\n",
       "      width=\"4.357142857142857mm\" height=\"4.357142857142857mm\"\n",
       "      fill=\"#000000\" stroke=\"none\" />\n",
       "<rect x=\"10.714285714285714mm\" y=\"123.21428571428571mm\"\n",
       "      width=\"4.357142857142857mm\" height=\"4.357142857142857mm\"\n",
       "      fill=\"#000000\" stroke=\"none\" />\n",
       "<rect x=\"16.07142857142857mm\" y=\"123.21428571428571mm\"\n",
       "      width=\"4.357142857142857mm\" height=\"4.357142857142857mm\"\n",
       "      fill=\"#000000\" stroke=\"none\" />\n",
       "<rect x=\"21.428571428571427mm\" y=\"123.21428571428571mm\"\n",
       "      width=\"4.357142857142857mm\" height=\"4.357142857142857mm\"\n",
       "      fill=\"#373737\" stroke=\"none\" />\n",
       "<rect x=\"26.785714285714285mm\" y=\"123.21428571428571mm\"\n",
       "      width=\"4.357142857142857mm\" height=\"4.357142857142857mm\"\n",
       "      fill=\"#ACACAC\" stroke=\"none\" />\n",
       "<rect x=\"32.14285714285714mm\" y=\"123.21428571428571mm\"\n",
       "      width=\"4.357142857142857mm\" height=\"4.357142857142857mm\"\n",
       "      fill=\"#E2E2E2\" stroke=\"none\" />\n",
       "<rect x=\"37.5mm\" y=\"123.21428571428571mm\"\n",
       "      width=\"4.357142857142857mm\" height=\"4.357142857142857mm\"\n",
       "      fill=\"#FDFDFD\" stroke=\"none\" />\n",
       "<rect x=\"42.857142857142854mm\" y=\"123.21428571428571mm\"\n",
       "      width=\"4.357142857142857mm\" height=\"4.357142857142857mm\"\n",
       "      fill=\"#FDFDFD\" stroke=\"none\" />\n",
       "<rect x=\"48.21428571428571mm\" y=\"123.21428571428571mm\"\n",
       "      width=\"4.357142857142857mm\" height=\"4.357142857142857mm\"\n",
       "      fill=\"#FDFDFD\" stroke=\"none\" />\n",
       "<rect x=\"53.57142857142857mm\" y=\"123.21428571428571mm\"\n",
       "      width=\"4.357142857142857mm\" height=\"4.357142857142857mm\"\n",
       "      fill=\"#FDFDFD\" stroke=\"none\" />\n",
       "<rect x=\"58.92857142857142mm\" y=\"123.21428571428571mm\"\n",
       "      width=\"4.357142857142857mm\" height=\"4.357142857142857mm\"\n",
       "      fill=\"#F4F4F4\" stroke=\"none\" />\n",
       "<rect x=\"64.28571428571428mm\" y=\"123.21428571428571mm\"\n",
       "      width=\"4.357142857142857mm\" height=\"4.357142857142857mm\"\n",
       "      fill=\"#858585\" stroke=\"none\" />\n",
       "<rect x=\"69.64285714285714mm\" y=\"123.21428571428571mm\"\n",
       "      width=\"4.357142857142857mm\" height=\"4.357142857142857mm\"\n",
       "      fill=\"#0B0B0B\" stroke=\"none\" />\n",
       "<rect x=\"75.0mm\" y=\"123.21428571428571mm\"\n",
       "      width=\"4.357142857142857mm\" height=\"4.357142857142857mm\"\n",
       "      fill=\"#000000\" stroke=\"none\" />\n",
       "<rect x=\"80.35714285714285mm\" y=\"123.21428571428571mm\"\n",
       "      width=\"4.357142857142857mm\" height=\"4.357142857142857mm\"\n",
       "      fill=\"#000000\" stroke=\"none\" />\n",
       "<rect x=\"85.71428571428571mm\" y=\"123.21428571428571mm\"\n",
       "      width=\"4.357142857142857mm\" height=\"4.357142857142857mm\"\n",
       "      fill=\"#000000\" stroke=\"none\" />\n",
       "<rect x=\"91.07142857142857mm\" y=\"123.21428571428571mm\"\n",
       "      width=\"4.357142857142857mm\" height=\"4.357142857142857mm\"\n",
       "      fill=\"#000000\" stroke=\"none\" />\n",
       "<rect x=\"96.42857142857142mm\" y=\"123.21428571428571mm\"\n",
       "      width=\"4.357142857142857mm\" height=\"4.357142857142857mm\"\n",
       "      fill=\"#000000\" stroke=\"none\" />\n",
       "<rect x=\"101.78571428571428mm\" y=\"123.21428571428571mm\"\n",
       "      width=\"4.357142857142857mm\" height=\"4.357142857142857mm\"\n",
       "      fill=\"#000000\" stroke=\"none\" />\n",
       "<rect x=\"107.14285714285714mm\" y=\"123.21428571428571mm\"\n",
       "      width=\"4.357142857142857mm\" height=\"4.357142857142857mm\"\n",
       "      fill=\"#000000\" stroke=\"none\" />\n",
       "<rect x=\"112.49999999999999mm\" y=\"123.21428571428571mm\"\n",
       "      width=\"4.357142857142857mm\" height=\"4.357142857142857mm\"\n",
       "      fill=\"#000000\" stroke=\"none\" />\n",
       "<rect x=\"117.85714285714285mm\" y=\"123.21428571428571mm\"\n",
       "      width=\"4.357142857142857mm\" height=\"4.357142857142857mm\"\n",
       "      fill=\"#000000\" stroke=\"none\" />\n",
       "<rect x=\"123.21428571428571mm\" y=\"123.21428571428571mm\"\n",
       "      width=\"4.357142857142857mm\" height=\"4.357142857142857mm\"\n",
       "      fill=\"#000000\" stroke=\"none\" />\n",
       "<rect x=\"128.57142857142856mm\" y=\"123.21428571428571mm\"\n",
       "      width=\"4.357142857142857mm\" height=\"4.357142857142857mm\"\n",
       "      fill=\"#000000\" stroke=\"none\" />\n",
       "<rect x=\"133.92857142857142mm\" y=\"123.21428571428571mm\"\n",
       "      width=\"4.357142857142857mm\" height=\"4.357142857142857mm\"\n",
       "      fill=\"#000000\" stroke=\"none\" />\n",
       "<rect x=\"139.28571428571428mm\" y=\"123.21428571428571mm\"\n",
       "      width=\"4.357142857142857mm\" height=\"4.357142857142857mm\"\n",
       "      fill=\"#000000\" stroke=\"none\" />\n",
       "<rect x=\"144.64285714285714mm\" y=\"123.21428571428571mm\"\n",
       "      width=\"4.357142857142857mm\" height=\"4.357142857142857mm\"\n",
       "      fill=\"#000000\" stroke=\"none\" />\n",
       "<rect x=\"0.0mm\" y=\"128.57142857142856mm\"\n",
       "      width=\"4.357142857142857mm\" height=\"4.357142857142857mm\"\n",
       "      fill=\"#000000\" stroke=\"none\" />\n",
       "<rect x=\"5.357142857142857mm\" y=\"128.57142857142856mm\"\n",
       "      width=\"4.357142857142857mm\" height=\"4.357142857142857mm\"\n",
       "      fill=\"#000000\" stroke=\"none\" />\n",
       "<rect x=\"10.714285714285714mm\" y=\"128.57142857142856mm\"\n",
       "      width=\"4.357142857142857mm\" height=\"4.357142857142857mm\"\n",
       "      fill=\"#000000\" stroke=\"none\" />\n",
       "<rect x=\"16.07142857142857mm\" y=\"128.57142857142856mm\"\n",
       "      width=\"4.357142857142857mm\" height=\"4.357142857142857mm\"\n",
       "      fill=\"#000000\" stroke=\"none\" />\n",
       "<rect x=\"21.428571428571427mm\" y=\"128.57142857142856mm\"\n",
       "      width=\"4.357142857142857mm\" height=\"4.357142857142857mm\"\n",
       "      fill=\"#888888\" stroke=\"none\" />\n",
       "<rect x=\"26.785714285714285mm\" y=\"128.57142857142856mm\"\n",
       "      width=\"4.357142857142857mm\" height=\"4.357142857142857mm\"\n",
       "      fill=\"#FDFDFD\" stroke=\"none\" />\n",
       "<rect x=\"32.14285714285714mm\" y=\"128.57142857142856mm\"\n",
       "      width=\"4.357142857142857mm\" height=\"4.357142857142857mm\"\n",
       "      fill=\"#FDFDFD\" stroke=\"none\" />\n",
       "<rect x=\"37.5mm\" y=\"128.57142857142856mm\"\n",
       "      width=\"4.357142857142857mm\" height=\"4.357142857142857mm\"\n",
       "      fill=\"#FDFDFD\" stroke=\"none\" />\n",
       "<rect x=\"42.857142857142854mm\" y=\"128.57142857142856mm\"\n",
       "      width=\"4.357142857142857mm\" height=\"4.357142857142857mm\"\n",
       "      fill=\"#D4D4D4\" stroke=\"none\" />\n",
       "<rect x=\"48.21428571428571mm\" y=\"128.57142857142856mm\"\n",
       "      width=\"4.357142857142857mm\" height=\"4.357142857142857mm\"\n",
       "      fill=\"#878787\" stroke=\"none\" />\n",
       "<rect x=\"53.57142857142857mm\" y=\"128.57142857142856mm\"\n",
       "      width=\"4.357142857142857mm\" height=\"4.357142857142857mm\"\n",
       "      fill=\"#848484\" stroke=\"none\" />\n",
       "<rect x=\"58.92857142857142mm\" y=\"128.57142857142856mm\"\n",
       "      width=\"4.357142857142857mm\" height=\"4.357142857142857mm\"\n",
       "      fill=\"#101010\" stroke=\"none\" />\n",
       "<rect x=\"64.28571428571428mm\" y=\"128.57142857142856mm\"\n",
       "      width=\"4.357142857142857mm\" height=\"4.357142857142857mm\"\n",
       "      fill=\"#000000\" stroke=\"none\" />\n",
       "<rect x=\"69.64285714285714mm\" y=\"128.57142857142856mm\"\n",
       "      width=\"4.357142857142857mm\" height=\"4.357142857142857mm\"\n",
       "      fill=\"#000000\" stroke=\"none\" />\n",
       "<rect x=\"75.0mm\" y=\"128.57142857142856mm\"\n",
       "      width=\"4.357142857142857mm\" height=\"4.357142857142857mm\"\n",
       "      fill=\"#000000\" stroke=\"none\" />\n",
       "<rect x=\"80.35714285714285mm\" y=\"128.57142857142856mm\"\n",
       "      width=\"4.357142857142857mm\" height=\"4.357142857142857mm\"\n",
       "      fill=\"#000000\" stroke=\"none\" />\n",
       "<rect x=\"85.71428571428571mm\" y=\"128.57142857142856mm\"\n",
       "      width=\"4.357142857142857mm\" height=\"4.357142857142857mm\"\n",
       "      fill=\"#000000\" stroke=\"none\" />\n",
       "<rect x=\"91.07142857142857mm\" y=\"128.57142857142856mm\"\n",
       "      width=\"4.357142857142857mm\" height=\"4.357142857142857mm\"\n",
       "      fill=\"#000000\" stroke=\"none\" />\n",
       "<rect x=\"96.42857142857142mm\" y=\"128.57142857142856mm\"\n",
       "      width=\"4.357142857142857mm\" height=\"4.357142857142857mm\"\n",
       "      fill=\"#000000\" stroke=\"none\" />\n",
       "<rect x=\"101.78571428571428mm\" y=\"128.57142857142856mm\"\n",
       "      width=\"4.357142857142857mm\" height=\"4.357142857142857mm\"\n",
       "      fill=\"#000000\" stroke=\"none\" />\n",
       "<rect x=\"107.14285714285714mm\" y=\"128.57142857142856mm\"\n",
       "      width=\"4.357142857142857mm\" height=\"4.357142857142857mm\"\n",
       "      fill=\"#000000\" stroke=\"none\" />\n",
       "<rect x=\"112.49999999999999mm\" y=\"128.57142857142856mm\"\n",
       "      width=\"4.357142857142857mm\" height=\"4.357142857142857mm\"\n",
       "      fill=\"#000000\" stroke=\"none\" />\n",
       "<rect x=\"117.85714285714285mm\" y=\"128.57142857142856mm\"\n",
       "      width=\"4.357142857142857mm\" height=\"4.357142857142857mm\"\n",
       "      fill=\"#000000\" stroke=\"none\" />\n",
       "<rect x=\"123.21428571428571mm\" y=\"128.57142857142856mm\"\n",
       "      width=\"4.357142857142857mm\" height=\"4.357142857142857mm\"\n",
       "      fill=\"#000000\" stroke=\"none\" />\n",
       "<rect x=\"128.57142857142856mm\" y=\"128.57142857142856mm\"\n",
       "      width=\"4.357142857142857mm\" height=\"4.357142857142857mm\"\n",
       "      fill=\"#000000\" stroke=\"none\" />\n",
       "<rect x=\"133.92857142857142mm\" y=\"128.57142857142856mm\"\n",
       "      width=\"4.357142857142857mm\" height=\"4.357142857142857mm\"\n",
       "      fill=\"#000000\" stroke=\"none\" />\n",
       "<rect x=\"139.28571428571428mm\" y=\"128.57142857142856mm\"\n",
       "      width=\"4.357142857142857mm\" height=\"4.357142857142857mm\"\n",
       "      fill=\"#000000\" stroke=\"none\" />\n",
       "<rect x=\"144.64285714285714mm\" y=\"128.57142857142856mm\"\n",
       "      width=\"4.357142857142857mm\" height=\"4.357142857142857mm\"\n",
       "      fill=\"#000000\" stroke=\"none\" />\n",
       "<rect x=\"0.0mm\" y=\"133.92857142857142mm\"\n",
       "      width=\"4.357142857142857mm\" height=\"4.357142857142857mm\"\n",
       "      fill=\"#000000\" stroke=\"none\" />\n",
       "<rect x=\"5.357142857142857mm\" y=\"133.92857142857142mm\"\n",
       "      width=\"4.357142857142857mm\" height=\"4.357142857142857mm\"\n",
       "      fill=\"#000000\" stroke=\"none\" />\n",
       "<rect x=\"10.714285714285714mm\" y=\"133.92857142857142mm\"\n",
       "      width=\"4.357142857142857mm\" height=\"4.357142857142857mm\"\n",
       "      fill=\"#000000\" stroke=\"none\" />\n",
       "<rect x=\"16.07142857142857mm\" y=\"133.92857142857142mm\"\n",
       "      width=\"4.357142857142857mm\" height=\"4.357142857142857mm\"\n",
       "      fill=\"#000000\" stroke=\"none\" />\n",
       "<rect x=\"21.428571428571427mm\" y=\"133.92857142857142mm\"\n",
       "      width=\"4.357142857142857mm\" height=\"4.357142857142857mm\"\n",
       "      fill=\"#000000\" stroke=\"none\" />\n",
       "<rect x=\"26.785714285714285mm\" y=\"133.92857142857142mm\"\n",
       "      width=\"4.357142857142857mm\" height=\"4.357142857142857mm\"\n",
       "      fill=\"#000000\" stroke=\"none\" />\n",
       "<rect x=\"32.14285714285714mm\" y=\"133.92857142857142mm\"\n",
       "      width=\"4.357142857142857mm\" height=\"4.357142857142857mm\"\n",
       "      fill=\"#000000\" stroke=\"none\" />\n",
       "<rect x=\"37.5mm\" y=\"133.92857142857142mm\"\n",
       "      width=\"4.357142857142857mm\" height=\"4.357142857142857mm\"\n",
       "      fill=\"#000000\" stroke=\"none\" />\n",
       "<rect x=\"42.857142857142854mm\" y=\"133.92857142857142mm\"\n",
       "      width=\"4.357142857142857mm\" height=\"4.357142857142857mm\"\n",
       "      fill=\"#000000\" stroke=\"none\" />\n",
       "<rect x=\"48.21428571428571mm\" y=\"133.92857142857142mm\"\n",
       "      width=\"4.357142857142857mm\" height=\"4.357142857142857mm\"\n",
       "      fill=\"#000000\" stroke=\"none\" />\n",
       "<rect x=\"53.57142857142857mm\" y=\"133.92857142857142mm\"\n",
       "      width=\"4.357142857142857mm\" height=\"4.357142857142857mm\"\n",
       "      fill=\"#000000\" stroke=\"none\" />\n",
       "<rect x=\"58.92857142857142mm\" y=\"133.92857142857142mm\"\n",
       "      width=\"4.357142857142857mm\" height=\"4.357142857142857mm\"\n",
       "      fill=\"#000000\" stroke=\"none\" />\n",
       "<rect x=\"64.28571428571428mm\" y=\"133.92857142857142mm\"\n",
       "      width=\"4.357142857142857mm\" height=\"4.357142857142857mm\"\n",
       "      fill=\"#000000\" stroke=\"none\" />\n",
       "<rect x=\"69.64285714285714mm\" y=\"133.92857142857142mm\"\n",
       "      width=\"4.357142857142857mm\" height=\"4.357142857142857mm\"\n",
       "      fill=\"#000000\" stroke=\"none\" />\n",
       "<rect x=\"75.0mm\" y=\"133.92857142857142mm\"\n",
       "      width=\"4.357142857142857mm\" height=\"4.357142857142857mm\"\n",
       "      fill=\"#000000\" stroke=\"none\" />\n",
       "<rect x=\"80.35714285714285mm\" y=\"133.92857142857142mm\"\n",
       "      width=\"4.357142857142857mm\" height=\"4.357142857142857mm\"\n",
       "      fill=\"#000000\" stroke=\"none\" />\n",
       "<rect x=\"85.71428571428571mm\" y=\"133.92857142857142mm\"\n",
       "      width=\"4.357142857142857mm\" height=\"4.357142857142857mm\"\n",
       "      fill=\"#000000\" stroke=\"none\" />\n",
       "<rect x=\"91.07142857142857mm\" y=\"133.92857142857142mm\"\n",
       "      width=\"4.357142857142857mm\" height=\"4.357142857142857mm\"\n",
       "      fill=\"#000000\" stroke=\"none\" />\n",
       "<rect x=\"96.42857142857142mm\" y=\"133.92857142857142mm\"\n",
       "      width=\"4.357142857142857mm\" height=\"4.357142857142857mm\"\n",
       "      fill=\"#000000\" stroke=\"none\" />\n",
       "<rect x=\"101.78571428571428mm\" y=\"133.92857142857142mm\"\n",
       "      width=\"4.357142857142857mm\" height=\"4.357142857142857mm\"\n",
       "      fill=\"#000000\" stroke=\"none\" />\n",
       "<rect x=\"107.14285714285714mm\" y=\"133.92857142857142mm\"\n",
       "      width=\"4.357142857142857mm\" height=\"4.357142857142857mm\"\n",
       "      fill=\"#000000\" stroke=\"none\" />\n",
       "<rect x=\"112.49999999999999mm\" y=\"133.92857142857142mm\"\n",
       "      width=\"4.357142857142857mm\" height=\"4.357142857142857mm\"\n",
       "      fill=\"#000000\" stroke=\"none\" />\n",
       "<rect x=\"117.85714285714285mm\" y=\"133.92857142857142mm\"\n",
       "      width=\"4.357142857142857mm\" height=\"4.357142857142857mm\"\n",
       "      fill=\"#000000\" stroke=\"none\" />\n",
       "<rect x=\"123.21428571428571mm\" y=\"133.92857142857142mm\"\n",
       "      width=\"4.357142857142857mm\" height=\"4.357142857142857mm\"\n",
       "      fill=\"#000000\" stroke=\"none\" />\n",
       "<rect x=\"128.57142857142856mm\" y=\"133.92857142857142mm\"\n",
       "      width=\"4.357142857142857mm\" height=\"4.357142857142857mm\"\n",
       "      fill=\"#000000\" stroke=\"none\" />\n",
       "<rect x=\"133.92857142857142mm\" y=\"133.92857142857142mm\"\n",
       "      width=\"4.357142857142857mm\" height=\"4.357142857142857mm\"\n",
       "      fill=\"#000000\" stroke=\"none\" />\n",
       "<rect x=\"139.28571428571428mm\" y=\"133.92857142857142mm\"\n",
       "      width=\"4.357142857142857mm\" height=\"4.357142857142857mm\"\n",
       "      fill=\"#000000\" stroke=\"none\" />\n",
       "<rect x=\"144.64285714285714mm\" y=\"133.92857142857142mm\"\n",
       "      width=\"4.357142857142857mm\" height=\"4.357142857142857mm\"\n",
       "      fill=\"#000000\" stroke=\"none\" />\n",
       "<rect x=\"0.0mm\" y=\"139.28571428571428mm\"\n",
       "      width=\"4.357142857142857mm\" height=\"4.357142857142857mm\"\n",
       "      fill=\"#000000\" stroke=\"none\" />\n",
       "<rect x=\"5.357142857142857mm\" y=\"139.28571428571428mm\"\n",
       "      width=\"4.357142857142857mm\" height=\"4.357142857142857mm\"\n",
       "      fill=\"#000000\" stroke=\"none\" />\n",
       "<rect x=\"10.714285714285714mm\" y=\"139.28571428571428mm\"\n",
       "      width=\"4.357142857142857mm\" height=\"4.357142857142857mm\"\n",
       "      fill=\"#000000\" stroke=\"none\" />\n",
       "<rect x=\"16.07142857142857mm\" y=\"139.28571428571428mm\"\n",
       "      width=\"4.357142857142857mm\" height=\"4.357142857142857mm\"\n",
       "      fill=\"#000000\" stroke=\"none\" />\n",
       "<rect x=\"21.428571428571427mm\" y=\"139.28571428571428mm\"\n",
       "      width=\"4.357142857142857mm\" height=\"4.357142857142857mm\"\n",
       "      fill=\"#000000\" stroke=\"none\" />\n",
       "<rect x=\"26.785714285714285mm\" y=\"139.28571428571428mm\"\n",
       "      width=\"4.357142857142857mm\" height=\"4.357142857142857mm\"\n",
       "      fill=\"#000000\" stroke=\"none\" />\n",
       "<rect x=\"32.14285714285714mm\" y=\"139.28571428571428mm\"\n",
       "      width=\"4.357142857142857mm\" height=\"4.357142857142857mm\"\n",
       "      fill=\"#000000\" stroke=\"none\" />\n",
       "<rect x=\"37.5mm\" y=\"139.28571428571428mm\"\n",
       "      width=\"4.357142857142857mm\" height=\"4.357142857142857mm\"\n",
       "      fill=\"#000000\" stroke=\"none\" />\n",
       "<rect x=\"42.857142857142854mm\" y=\"139.28571428571428mm\"\n",
       "      width=\"4.357142857142857mm\" height=\"4.357142857142857mm\"\n",
       "      fill=\"#000000\" stroke=\"none\" />\n",
       "<rect x=\"48.21428571428571mm\" y=\"139.28571428571428mm\"\n",
       "      width=\"4.357142857142857mm\" height=\"4.357142857142857mm\"\n",
       "      fill=\"#000000\" stroke=\"none\" />\n",
       "<rect x=\"53.57142857142857mm\" y=\"139.28571428571428mm\"\n",
       "      width=\"4.357142857142857mm\" height=\"4.357142857142857mm\"\n",
       "      fill=\"#000000\" stroke=\"none\" />\n",
       "<rect x=\"58.92857142857142mm\" y=\"139.28571428571428mm\"\n",
       "      width=\"4.357142857142857mm\" height=\"4.357142857142857mm\"\n",
       "      fill=\"#000000\" stroke=\"none\" />\n",
       "<rect x=\"64.28571428571428mm\" y=\"139.28571428571428mm\"\n",
       "      width=\"4.357142857142857mm\" height=\"4.357142857142857mm\"\n",
       "      fill=\"#000000\" stroke=\"none\" />\n",
       "<rect x=\"69.64285714285714mm\" y=\"139.28571428571428mm\"\n",
       "      width=\"4.357142857142857mm\" height=\"4.357142857142857mm\"\n",
       "      fill=\"#000000\" stroke=\"none\" />\n",
       "<rect x=\"75.0mm\" y=\"139.28571428571428mm\"\n",
       "      width=\"4.357142857142857mm\" height=\"4.357142857142857mm\"\n",
       "      fill=\"#000000\" stroke=\"none\" />\n",
       "<rect x=\"80.35714285714285mm\" y=\"139.28571428571428mm\"\n",
       "      width=\"4.357142857142857mm\" height=\"4.357142857142857mm\"\n",
       "      fill=\"#000000\" stroke=\"none\" />\n",
       "<rect x=\"85.71428571428571mm\" y=\"139.28571428571428mm\"\n",
       "      width=\"4.357142857142857mm\" height=\"4.357142857142857mm\"\n",
       "      fill=\"#000000\" stroke=\"none\" />\n",
       "<rect x=\"91.07142857142857mm\" y=\"139.28571428571428mm\"\n",
       "      width=\"4.357142857142857mm\" height=\"4.357142857142857mm\"\n",
       "      fill=\"#000000\" stroke=\"none\" />\n",
       "<rect x=\"96.42857142857142mm\" y=\"139.28571428571428mm\"\n",
       "      width=\"4.357142857142857mm\" height=\"4.357142857142857mm\"\n",
       "      fill=\"#000000\" stroke=\"none\" />\n",
       "<rect x=\"101.78571428571428mm\" y=\"139.28571428571428mm\"\n",
       "      width=\"4.357142857142857mm\" height=\"4.357142857142857mm\"\n",
       "      fill=\"#000000\" stroke=\"none\" />\n",
       "<rect x=\"107.14285714285714mm\" y=\"139.28571428571428mm\"\n",
       "      width=\"4.357142857142857mm\" height=\"4.357142857142857mm\"\n",
       "      fill=\"#000000\" stroke=\"none\" />\n",
       "<rect x=\"112.49999999999999mm\" y=\"139.28571428571428mm\"\n",
       "      width=\"4.357142857142857mm\" height=\"4.357142857142857mm\"\n",
       "      fill=\"#000000\" stroke=\"none\" />\n",
       "<rect x=\"117.85714285714285mm\" y=\"139.28571428571428mm\"\n",
       "      width=\"4.357142857142857mm\" height=\"4.357142857142857mm\"\n",
       "      fill=\"#000000\" stroke=\"none\" />\n",
       "<rect x=\"123.21428571428571mm\" y=\"139.28571428571428mm\"\n",
       "      width=\"4.357142857142857mm\" height=\"4.357142857142857mm\"\n",
       "      fill=\"#000000\" stroke=\"none\" />\n",
       "<rect x=\"128.57142857142856mm\" y=\"139.28571428571428mm\"\n",
       "      width=\"4.357142857142857mm\" height=\"4.357142857142857mm\"\n",
       "      fill=\"#000000\" stroke=\"none\" />\n",
       "<rect x=\"133.92857142857142mm\" y=\"139.28571428571428mm\"\n",
       "      width=\"4.357142857142857mm\" height=\"4.357142857142857mm\"\n",
       "      fill=\"#000000\" stroke=\"none\" />\n",
       "<rect x=\"139.28571428571428mm\" y=\"139.28571428571428mm\"\n",
       "      width=\"4.357142857142857mm\" height=\"4.357142857142857mm\"\n",
       "      fill=\"#000000\" stroke=\"none\" />\n",
       "<rect x=\"144.64285714285714mm\" y=\"139.28571428571428mm\"\n",
       "      width=\"4.357142857142857mm\" height=\"4.357142857142857mm\"\n",
       "      fill=\"#000000\" stroke=\"none\" />\n",
       "<rect x=\"0.0mm\" y=\"144.64285714285714mm\"\n",
       "      width=\"4.357142857142857mm\" height=\"4.357142857142857mm\"\n",
       "      fill=\"#000000\" stroke=\"none\" />\n",
       "<rect x=\"5.357142857142857mm\" y=\"144.64285714285714mm\"\n",
       "      width=\"4.357142857142857mm\" height=\"4.357142857142857mm\"\n",
       "      fill=\"#000000\" stroke=\"none\" />\n",
       "<rect x=\"10.714285714285714mm\" y=\"144.64285714285714mm\"\n",
       "      width=\"4.357142857142857mm\" height=\"4.357142857142857mm\"\n",
       "      fill=\"#000000\" stroke=\"none\" />\n",
       "<rect x=\"16.07142857142857mm\" y=\"144.64285714285714mm\"\n",
       "      width=\"4.357142857142857mm\" height=\"4.357142857142857mm\"\n",
       "      fill=\"#000000\" stroke=\"none\" />\n",
       "<rect x=\"21.428571428571427mm\" y=\"144.64285714285714mm\"\n",
       "      width=\"4.357142857142857mm\" height=\"4.357142857142857mm\"\n",
       "      fill=\"#000000\" stroke=\"none\" />\n",
       "<rect x=\"26.785714285714285mm\" y=\"144.64285714285714mm\"\n",
       "      width=\"4.357142857142857mm\" height=\"4.357142857142857mm\"\n",
       "      fill=\"#000000\" stroke=\"none\" />\n",
       "<rect x=\"32.14285714285714mm\" y=\"144.64285714285714mm\"\n",
       "      width=\"4.357142857142857mm\" height=\"4.357142857142857mm\"\n",
       "      fill=\"#000000\" stroke=\"none\" />\n",
       "<rect x=\"37.5mm\" y=\"144.64285714285714mm\"\n",
       "      width=\"4.357142857142857mm\" height=\"4.357142857142857mm\"\n",
       "      fill=\"#000000\" stroke=\"none\" />\n",
       "<rect x=\"42.857142857142854mm\" y=\"144.64285714285714mm\"\n",
       "      width=\"4.357142857142857mm\" height=\"4.357142857142857mm\"\n",
       "      fill=\"#000000\" stroke=\"none\" />\n",
       "<rect x=\"48.21428571428571mm\" y=\"144.64285714285714mm\"\n",
       "      width=\"4.357142857142857mm\" height=\"4.357142857142857mm\"\n",
       "      fill=\"#000000\" stroke=\"none\" />\n",
       "<rect x=\"53.57142857142857mm\" y=\"144.64285714285714mm\"\n",
       "      width=\"4.357142857142857mm\" height=\"4.357142857142857mm\"\n",
       "      fill=\"#000000\" stroke=\"none\" />\n",
       "<rect x=\"58.92857142857142mm\" y=\"144.64285714285714mm\"\n",
       "      width=\"4.357142857142857mm\" height=\"4.357142857142857mm\"\n",
       "      fill=\"#000000\" stroke=\"none\" />\n",
       "<rect x=\"64.28571428571428mm\" y=\"144.64285714285714mm\"\n",
       "      width=\"4.357142857142857mm\" height=\"4.357142857142857mm\"\n",
       "      fill=\"#000000\" stroke=\"none\" />\n",
       "<rect x=\"69.64285714285714mm\" y=\"144.64285714285714mm\"\n",
       "      width=\"4.357142857142857mm\" height=\"4.357142857142857mm\"\n",
       "      fill=\"#000000\" stroke=\"none\" />\n",
       "<rect x=\"75.0mm\" y=\"144.64285714285714mm\"\n",
       "      width=\"4.357142857142857mm\" height=\"4.357142857142857mm\"\n",
       "      fill=\"#000000\" stroke=\"none\" />\n",
       "<rect x=\"80.35714285714285mm\" y=\"144.64285714285714mm\"\n",
       "      width=\"4.357142857142857mm\" height=\"4.357142857142857mm\"\n",
       "      fill=\"#000000\" stroke=\"none\" />\n",
       "<rect x=\"85.71428571428571mm\" y=\"144.64285714285714mm\"\n",
       "      width=\"4.357142857142857mm\" height=\"4.357142857142857mm\"\n",
       "      fill=\"#000000\" stroke=\"none\" />\n",
       "<rect x=\"91.07142857142857mm\" y=\"144.64285714285714mm\"\n",
       "      width=\"4.357142857142857mm\" height=\"4.357142857142857mm\"\n",
       "      fill=\"#000000\" stroke=\"none\" />\n",
       "<rect x=\"96.42857142857142mm\" y=\"144.64285714285714mm\"\n",
       "      width=\"4.357142857142857mm\" height=\"4.357142857142857mm\"\n",
       "      fill=\"#000000\" stroke=\"none\" />\n",
       "<rect x=\"101.78571428571428mm\" y=\"144.64285714285714mm\"\n",
       "      width=\"4.357142857142857mm\" height=\"4.357142857142857mm\"\n",
       "      fill=\"#000000\" stroke=\"none\" />\n",
       "<rect x=\"107.14285714285714mm\" y=\"144.64285714285714mm\"\n",
       "      width=\"4.357142857142857mm\" height=\"4.357142857142857mm\"\n",
       "      fill=\"#000000\" stroke=\"none\" />\n",
       "<rect x=\"112.49999999999999mm\" y=\"144.64285714285714mm\"\n",
       "      width=\"4.357142857142857mm\" height=\"4.357142857142857mm\"\n",
       "      fill=\"#000000\" stroke=\"none\" />\n",
       "<rect x=\"117.85714285714285mm\" y=\"144.64285714285714mm\"\n",
       "      width=\"4.357142857142857mm\" height=\"4.357142857142857mm\"\n",
       "      fill=\"#000000\" stroke=\"none\" />\n",
       "<rect x=\"123.21428571428571mm\" y=\"144.64285714285714mm\"\n",
       "      width=\"4.357142857142857mm\" height=\"4.357142857142857mm\"\n",
       "      fill=\"#000000\" stroke=\"none\" />\n",
       "<rect x=\"128.57142857142856mm\" y=\"144.64285714285714mm\"\n",
       "      width=\"4.357142857142857mm\" height=\"4.357142857142857mm\"\n",
       "      fill=\"#000000\" stroke=\"none\" />\n",
       "<rect x=\"133.92857142857142mm\" y=\"144.64285714285714mm\"\n",
       "      width=\"4.357142857142857mm\" height=\"4.357142857142857mm\"\n",
       "      fill=\"#000000\" stroke=\"none\" />\n",
       "<rect x=\"139.28571428571428mm\" y=\"144.64285714285714mm\"\n",
       "      width=\"4.357142857142857mm\" height=\"4.357142857142857mm\"\n",
       "      fill=\"#000000\" stroke=\"none\" />\n",
       "<rect x=\"144.64285714285714mm\" y=\"144.64285714285714mm\"\n",
       "      width=\"4.357142857142857mm\" height=\"4.357142857142857mm\"\n",
       "      fill=\"#000000\" stroke=\"none\" />\n",
       "</svg>"
      ],
      "text/plain": [
       "28×28 Array{Gray{N0f8},2} with eltype ColorTypes.Gray{FixedPointNumbers.Normed{UInt8,8}}:\n",
       " Gray{N0f8}(0.0)  Gray{N0f8}(0.0)  …  Gray{N0f8}(0.0)  Gray{N0f8}(0.0)\n",
       " Gray{N0f8}(0.0)  Gray{N0f8}(0.0)     Gray{N0f8}(0.0)  Gray{N0f8}(0.0)\n",
       " Gray{N0f8}(0.0)  Gray{N0f8}(0.0)     Gray{N0f8}(0.0)  Gray{N0f8}(0.0)\n",
       " Gray{N0f8}(0.0)  Gray{N0f8}(0.0)     Gray{N0f8}(0.0)  Gray{N0f8}(0.0)\n",
       " Gray{N0f8}(0.0)  Gray{N0f8}(0.0)     Gray{N0f8}(0.0)  Gray{N0f8}(0.0)\n",
       " Gray{N0f8}(0.0)  Gray{N0f8}(0.0)  …  Gray{N0f8}(0.0)  Gray{N0f8}(0.0)\n",
       " Gray{N0f8}(0.0)  Gray{N0f8}(0.0)     Gray{N0f8}(0.0)  Gray{N0f8}(0.0)\n",
       " Gray{N0f8}(0.0)  Gray{N0f8}(0.0)     Gray{N0f8}(0.0)  Gray{N0f8}(0.0)\n",
       " Gray{N0f8}(0.0)  Gray{N0f8}(0.0)     Gray{N0f8}(0.0)  Gray{N0f8}(0.0)\n",
       " Gray{N0f8}(0.0)  Gray{N0f8}(0.0)     Gray{N0f8}(0.0)  Gray{N0f8}(0.0)\n",
       " Gray{N0f8}(0.0)  Gray{N0f8}(0.0)  …  Gray{N0f8}(0.0)  Gray{N0f8}(0.0)\n",
       " Gray{N0f8}(0.0)  Gray{N0f8}(0.0)     Gray{N0f8}(0.0)  Gray{N0f8}(0.0)\n",
       " Gray{N0f8}(0.0)  Gray{N0f8}(0.0)     Gray{N0f8}(0.0)  Gray{N0f8}(0.0)\n",
       " ⋮                                 ⋱                                  \n",
       " Gray{N0f8}(0.0)  Gray{N0f8}(0.0)     Gray{N0f8}(0.0)  Gray{N0f8}(0.0)\n",
       " Gray{N0f8}(0.0)  Gray{N0f8}(0.0)     Gray{N0f8}(0.0)  Gray{N0f8}(0.0)\n",
       " Gray{N0f8}(0.0)  Gray{N0f8}(0.0)     Gray{N0f8}(0.0)  Gray{N0f8}(0.0)\n",
       " Gray{N0f8}(0.0)  Gray{N0f8}(0.0)     Gray{N0f8}(0.0)  Gray{N0f8}(0.0)\n",
       " Gray{N0f8}(0.0)  Gray{N0f8}(0.0)  …  Gray{N0f8}(0.0)  Gray{N0f8}(0.0)\n",
       " Gray{N0f8}(0.0)  Gray{N0f8}(0.0)     Gray{N0f8}(0.0)  Gray{N0f8}(0.0)\n",
       " Gray{N0f8}(0.0)  Gray{N0f8}(0.0)     Gray{N0f8}(0.0)  Gray{N0f8}(0.0)\n",
       " Gray{N0f8}(0.0)  Gray{N0f8}(0.0)     Gray{N0f8}(0.0)  Gray{N0f8}(0.0)\n",
       " Gray{N0f8}(0.0)  Gray{N0f8}(0.0)     Gray{N0f8}(0.0)  Gray{N0f8}(0.0)\n",
       " Gray{N0f8}(0.0)  Gray{N0f8}(0.0)  …  Gray{N0f8}(0.0)  Gray{N0f8}(0.0)\n",
       " Gray{N0f8}(0.0)  Gray{N0f8}(0.0)     Gray{N0f8}(0.0)  Gray{N0f8}(0.0)\n",
       " Gray{N0f8}(0.0)  Gray{N0f8}(0.0)     Gray{N0f8}(0.0)  Gray{N0f8}(0.0)"
      ]
     },
     "execution_count": 22,
     "metadata": {},
     "output_type": "execute_result"
    }
   ],
   "source": [
    "imgs[1]"
   ]
  },
  {
   "cell_type": "markdown",
   "metadata": {
    "slideshow": {
     "slide_type": "subslide"
    }
   },
   "source": [
    "然后我们将图片转换成一个向量，然后再组装成大的batch"
   ]
  },
  {
   "cell_type": "code",
   "execution_count": 23,
   "metadata": {},
   "outputs": [
    {
     "data": {
      "text/plain": [
       "784×60000 Array{Float64,2}:\n",
       " 0.0  0.0  0.0  0.0  0.0  0.0  0.0  0.0  …  0.0  0.0  0.0  0.0  0.0  0.0  0.0\n",
       " 0.0  0.0  0.0  0.0  0.0  0.0  0.0  0.0     0.0  0.0  0.0  0.0  0.0  0.0  0.0\n",
       " 0.0  0.0  0.0  0.0  0.0  0.0  0.0  0.0     0.0  0.0  0.0  0.0  0.0  0.0  0.0\n",
       " 0.0  0.0  0.0  0.0  0.0  0.0  0.0  0.0     0.0  0.0  0.0  0.0  0.0  0.0  0.0\n",
       " 0.0  0.0  0.0  0.0  0.0  0.0  0.0  0.0     0.0  0.0  0.0  0.0  0.0  0.0  0.0\n",
       " 0.0  0.0  0.0  0.0  0.0  0.0  0.0  0.0  …  0.0  0.0  0.0  0.0  0.0  0.0  0.0\n",
       " 0.0  0.0  0.0  0.0  0.0  0.0  0.0  0.0     0.0  0.0  0.0  0.0  0.0  0.0  0.0\n",
       " 0.0  0.0  0.0  0.0  0.0  0.0  0.0  0.0     0.0  0.0  0.0  0.0  0.0  0.0  0.0\n",
       " 0.0  0.0  0.0  0.0  0.0  0.0  0.0  0.0     0.0  0.0  0.0  0.0  0.0  0.0  0.0\n",
       " 0.0  0.0  0.0  0.0  0.0  0.0  0.0  0.0     0.0  0.0  0.0  0.0  0.0  0.0  0.0\n",
       " 0.0  0.0  0.0  0.0  0.0  0.0  0.0  0.0  …  0.0  0.0  0.0  0.0  0.0  0.0  0.0\n",
       " 0.0  0.0  0.0  0.0  0.0  0.0  0.0  0.0     0.0  0.0  0.0  0.0  0.0  0.0  0.0\n",
       " 0.0  0.0  0.0  0.0  0.0  0.0  0.0  0.0     0.0  0.0  0.0  0.0  0.0  0.0  0.0\n",
       " ⋮                        ⋮              ⋱            ⋮                      \n",
       " 0.0  0.0  0.0  0.0  0.0  0.0  0.0  0.0     0.0  0.0  0.0  0.0  0.0  0.0  0.0\n",
       " 0.0  0.0  0.0  0.0  0.0  0.0  0.0  0.0     0.0  0.0  0.0  0.0  0.0  0.0  0.0\n",
       " 0.0  0.0  0.0  0.0  0.0  0.0  0.0  0.0     0.0  0.0  0.0  0.0  0.0  0.0  0.0\n",
       " 0.0  0.0  0.0  0.0  0.0  0.0  0.0  0.0  …  0.0  0.0  0.0  0.0  0.0  0.0  0.0\n",
       " 0.0  0.0  0.0  0.0  0.0  0.0  0.0  0.0     0.0  0.0  0.0  0.0  0.0  0.0  0.0\n",
       " 0.0  0.0  0.0  0.0  0.0  0.0  0.0  0.0     0.0  0.0  0.0  0.0  0.0  0.0  0.0\n",
       " 0.0  0.0  0.0  0.0  0.0  0.0  0.0  0.0     0.0  0.0  0.0  0.0  0.0  0.0  0.0\n",
       " 0.0  0.0  0.0  0.0  0.0  0.0  0.0  0.0     0.0  0.0  0.0  0.0  0.0  0.0  0.0\n",
       " 0.0  0.0  0.0  0.0  0.0  0.0  0.0  0.0  …  0.0  0.0  0.0  0.0  0.0  0.0  0.0\n",
       " 0.0  0.0  0.0  0.0  0.0  0.0  0.0  0.0     0.0  0.0  0.0  0.0  0.0  0.0  0.0\n",
       " 0.0  0.0  0.0  0.0  0.0  0.0  0.0  0.0     0.0  0.0  0.0  0.0  0.0  0.0  0.0\n",
       " 0.0  0.0  0.0  0.0  0.0  0.0  0.0  0.0     0.0  0.0  0.0  0.0  0.0  0.0  0.0"
      ]
     },
     "execution_count": 23,
     "metadata": {},
     "output_type": "execute_result"
    }
   ],
   "source": [
    "X = hcat(float.(reshape.(imgs, :))...)"
   ]
  },
  {
   "cell_type": "code",
   "execution_count": 24,
   "metadata": {
    "slideshow": {
     "slide_type": "subslide"
    }
   },
   "outputs": [
    {
     "data": {
      "text/plain": [
       "60000-element Array{Int64,1}:\n",
       " 5\n",
       " 0\n",
       " 4\n",
       " 1\n",
       " 9\n",
       " 2\n",
       " 1\n",
       " 3\n",
       " 1\n",
       " 4\n",
       " 3\n",
       " 5\n",
       " 3\n",
       " ⋮\n",
       " 7\n",
       " 8\n",
       " 9\n",
       " 2\n",
       " 9\n",
       " 5\n",
       " 1\n",
       " 8\n",
       " 3\n",
       " 5\n",
       " 6\n",
       " 8"
      ]
     },
     "execution_count": 24,
     "metadata": {},
     "output_type": "execute_result"
    }
   ],
   "source": [
    "labels = MNIST.labels()"
   ]
  },
  {
   "cell_type": "markdown",
   "metadata": {
    "slideshow": {
     "slide_type": "subslide"
    }
   },
   "source": [
    "接下来我们需要把label编程onehot向量，方便和我们一会儿神经网络的输出做比较"
   ]
  },
  {
   "cell_type": "code",
   "execution_count": 25,
   "metadata": {},
   "outputs": [],
   "source": [
    "using Flux: onehotbatch, onecold, crossentropy, throttle"
   ]
  },
  {
   "cell_type": "code",
   "execution_count": 26,
   "metadata": {},
   "outputs": [
    {
     "data": {
      "text/plain": [
       "10×60000 Flux.OneHotMatrix{Array{Flux.OneHotVector,1}}:\n",
       " false   true  false  false  false  …  false  false  false  false  false\n",
       " false  false  false   true  false     false  false  false  false  false\n",
       " false  false  false  false  false     false  false  false  false  false\n",
       " false  false  false  false  false     false   true  false  false  false\n",
       " false  false   true  false  false     false  false  false  false  false\n",
       "  true  false  false  false  false  …  false  false   true  false  false\n",
       " false  false  false  false  false     false  false  false   true  false\n",
       " false  false  false  false  false     false  false  false  false  false\n",
       " false  false  false  false  false      true  false  false  false   true\n",
       " false  false  false  false   true     false  false  false  false  false"
      ]
     },
     "execution_count": 26,
     "metadata": {},
     "output_type": "execute_result"
    }
   ],
   "source": [
    "Y = onehotbatch(labels, 0:9)"
   ]
  },
  {
   "cell_type": "markdown",
   "metadata": {
    "slideshow": {
     "slide_type": "subslide"
    }
   },
   "source": [
    "我们这里用一个非常简单的两层神经网络来作为我们的模型"
   ]
  },
  {
   "cell_type": "code",
   "execution_count": 27,
   "metadata": {},
   "outputs": [
    {
     "data": {
      "text/plain": [
       "Chain(Dense(784, 32, NNlib.relu), Dense(32, 10), NNlib.softmax)"
      ]
     },
     "execution_count": 27,
     "metadata": {},
     "output_type": "execute_result"
    }
   ],
   "source": [
    "m = Chain(\n",
    "  Dense(28^2, 32, relu),\n",
    "  Dense(32, 10),\n",
    "  softmax)"
   ]
  },
  {
   "cell_type": "markdown",
   "metadata": {
    "slideshow": {
     "slide_type": "subslide"
    }
   },
   "source": [
    "然后用 交叉熵（cross entropy） 来定义损失函数（loss function）"
   ]
  },
  {
   "cell_type": "code",
   "execution_count": 28,
   "metadata": {},
   "outputs": [
    {
     "data": {
      "text/plain": [
       "loss (generic function with 1 method)"
      ]
     },
     "execution_count": 28,
     "metadata": {},
     "output_type": "execute_result"
    }
   ],
   "source": [
    "loss(x, y) = crossentropy(m(x), y)"
   ]
  },
  {
   "cell_type": "markdown",
   "metadata": {
    "slideshow": {
     "slide_type": "subslide"
    }
   },
   "source": [
    "我们直接用整个训练数据来训练，然后使用ADAM优化器。"
   ]
  },
  {
   "cell_type": "code",
   "execution_count": 29,
   "metadata": {},
   "outputs": [
    {
     "data": {
      "text/plain": [
       "ADAM(0.001, (0.9, 0.999), IdDict{Any,Any}())"
      ]
     },
     "execution_count": 29,
     "metadata": {},
     "output_type": "execute_result"
    }
   ],
   "source": [
    "dataset = Iterators.repeated((X, Y), 200)\n",
    "evalcb = () -> @show(loss(X, Y))\n",
    "opt = ADAM()"
   ]
  },
  {
   "cell_type": "markdown",
   "metadata": {
    "slideshow": {
     "slide_type": "subslide"
    }
   },
   "source": [
    "然后我们看下 `train!` 函数是怎么用的"
   ]
  },
  {
   "cell_type": "code",
   "execution_count": 30,
   "metadata": {},
   "outputs": [
    {
     "data": {
      "text/latex": [
       "\\begin{verbatim}\n",
       "train!(loss, params, data, opt; cb)\n",
       "\\end{verbatim}\n",
       "For each datapoint \\texttt{d} in \\texttt{data} computes the gradient of \\texttt{loss(d...)} through backpropagation and calls the optimizer \\texttt{opt}.\n",
       "\n",
       "Takes a callback as keyword argument \\texttt{cb}. For example, this will print \"training\" every 10 seconds:\n",
       "\n",
       "\\begin{verbatim}\n",
       "Flux.train!(loss, params, data, opt,\n",
       "            cb = throttle(() -> println(\"training\"), 10))\n",
       "\\end{verbatim}\n",
       "The callback can call \\texttt{Flux.stop()} to interrupt the training loop.\n",
       "\n",
       "Multiple optimisers and callbacks can be passed to \\texttt{opt} and \\texttt{cb} as arrays.\n",
       "\n"
      ],
      "text/markdown": [
       "```\n",
       "train!(loss, params, data, opt; cb)\n",
       "```\n",
       "\n",
       "For each datapoint `d` in `data` computes the gradient of `loss(d...)` through backpropagation and calls the optimizer `opt`.\n",
       "\n",
       "Takes a callback as keyword argument `cb`. For example, this will print \"training\" every 10 seconds:\n",
       "\n",
       "```julia\n",
       "Flux.train!(loss, params, data, opt,\n",
       "            cb = throttle(() -> println(\"training\"), 10))\n",
       "```\n",
       "\n",
       "The callback can call `Flux.stop()` to interrupt the training loop.\n",
       "\n",
       "Multiple optimisers and callbacks can be passed to `opt` and `cb` as arrays.\n"
      ],
      "text/plain": [
       "  \u001b[38;5;81mtrain!\u001b[0m(\u001b[0m\u001b[39mloss\u001b[0m\u001b[39m,\u001b[0m \u001b[0m\u001b[39mparams\u001b[0m\u001b[39m,\u001b[0m \u001b[0m\u001b[39mdata\u001b[0m\u001b[39m,\u001b[0m \u001b[0m\u001b[39mopt\u001b[0m\u001b[39m;\u001b[0m \u001b[0m\u001b[39mcb\u001b[0m\u001b[39m)\u001b[0m\u001b[39m\u001b[0m\n",
       "\n",
       "\n",
       "  For each datapoint \u001b[36md\u001b[39m in \u001b[36mdata\u001b[39m computes the gradient of \u001b[36mloss(d...)\u001b[39m through\n",
       "  backpropagation and calls the optimizer \u001b[36mopt\u001b[39m.\n",
       "\n",
       "  Takes a callback as keyword argument \u001b[36mcb\u001b[39m. For example, this will print\n",
       "  \"training\" every 10 seconds:\n",
       "\n",
       "  \u001b[39mFlux\u001b[0m\u001b[38;5;197m.\u001b[0m\u001b[38;5;81mtrain!\u001b[0m(\u001b[0m\u001b[39mloss\u001b[0m\u001b[39m,\u001b[0m \u001b[0m\u001b[39mparams\u001b[0m\u001b[39m,\u001b[0m \u001b[0m\u001b[39mdata\u001b[0m\u001b[39m,\u001b[0m \u001b[0m\u001b[39mopt\u001b[0m\u001b[39m,\u001b[0m\n",
       "              \u001b[0m\u001b[39mcb\u001b[0m \u001b[0m\u001b[38;5;197m=\u001b[0m \u001b[0m\u001b[38;5;81mthrottle\u001b[0m(\u001b[0m(\u001b[0m\u001b[39m)\u001b[0m \u001b[0m\u001b[38;5;197m->\u001b[0m \u001b[0m\u001b[38;5;81mprintln\u001b[0m(\u001b[0m\u001b[38;5;208m\"training\"\u001b[0m\u001b[39m)\u001b[0m\u001b[39m,\u001b[0m \u001b[0m\u001b[38;5;141m10\u001b[0m\u001b[39m)\u001b[0m\u001b[39m)\u001b[0m\u001b[39m\u001b[0m\n",
       "\n",
       "\n",
       "  The callback can call \u001b[36mFlux.stop()\u001b[39m to interrupt the training loop.\n",
       "\n",
       "  Multiple optimisers and callbacks can be passed to \u001b[36mopt\u001b[39m and \u001b[36mcb\u001b[39m as arrays."
      ]
     },
     "execution_count": 30,
     "metadata": {},
     "output_type": "execute_result"
    }
   ],
   "source": [
    "?Flux.train!"
   ]
  },
  {
   "cell_type": "code",
   "execution_count": 31,
   "metadata": {
    "slideshow": {
     "slide_type": "subslide"
    }
   },
   "outputs": [
    {
     "name": "stdout",
     "output_type": "stream",
     "text": [
      "loss(X, Y) = 2.286031f0 (tracked)\n",
      "loss(X, Y) = 1.0044526f0 (tracked)\n",
      "loss(X, Y) = 0.5802763f0 (tracked)\n",
      "loss(X, Y) = 0.44627106f0 (tracked)\n",
      "loss(X, Y) = 0.38035807f0 (tracked)\n",
      "loss(X, Y) = 0.33995047f0 (tracked)\n",
      "loss(X, Y) = 0.3120375f0 (tracked)\n",
      "loss(X, Y) = 0.29124454f0 (tracked)\n"
     ]
    }
   ],
   "source": [
    "Flux.train!(loss, params(m), dataset, opt, cb = throttle(evalcb, 10))"
   ]
  },
  {
   "cell_type": "markdown",
   "metadata": {
    "slideshow": {
     "slide_type": "subslide"
    }
   },
   "source": [
    "现在我们定义我们模型最后训练出来的精度，也就是看看模型预测结果的准确性"
   ]
  },
  {
   "cell_type": "code",
   "execution_count": 32,
   "metadata": {},
   "outputs": [
    {
     "data": {
      "text/plain": [
       "accuracy (generic function with 1 method)"
      ]
     },
     "execution_count": 32,
     "metadata": {},
     "output_type": "execute_result"
    }
   ],
   "source": [
    "using Statistics\n",
    "accuracy(x, y) = mean(onecold(m(x)) .== onecold(y))"
   ]
  },
  {
   "cell_type": "markdown",
   "metadata": {},
   "source": [
    "在训练集上，我们的精度是"
   ]
  },
  {
   "cell_type": "code",
   "execution_count": 33,
   "metadata": {},
   "outputs": [
    {
     "data": {
      "text/plain": [
       "0.9230333333333334"
      ]
     },
     "execution_count": 33,
     "metadata": {},
     "output_type": "execute_result"
    }
   ],
   "source": [
    "accuracy(X, Y)"
   ]
  },
  {
   "cell_type": "markdown",
   "metadata": {},
   "source": [
    "在测试集上，我们的精度是"
   ]
  },
  {
   "cell_type": "code",
   "execution_count": 34,
   "metadata": {},
   "outputs": [
    {
     "data": {
      "text/plain": [
       "0.9236"
      ]
     },
     "execution_count": 34,
     "metadata": {},
     "output_type": "execute_result"
    }
   ],
   "source": [
    "tX = hcat(float.(reshape.(MNIST.images(:test), :))...)\n",
    "tY = onehotbatch(MNIST.labels(:test), 0:9)\n",
    "accuracy(tX, tY)"
   ]
  },
  {
   "cell_type": "markdown",
   "metadata": {
    "slideshow": {
     "slide_type": "slide"
    }
   },
   "source": [
    "### 3. 以上的程序是如何工作的？"
   ]
  },
  {
   "cell_type": "markdown",
   "metadata": {
    "slideshow": {
     "slide_type": "subslide"
    }
   },
   "source": [
    "### 计算图"
   ]
  },
  {
   "cell_type": "markdown",
   "metadata": {
    "slideshow": {
     "slide_type": "subslide"
    }
   },
   "source": [
    "#### 前馈 （forward）\n",
    "\n",
    "<img src=\"http://blog.rogerluo.me/images/comput-graph-forward.gif\" height=50% width=60%></img>"
   ]
  },
  {
   "cell_type": "markdown",
   "metadata": {
    "slideshow": {
     "slide_type": "subslide"
    }
   },
   "source": [
    "#### 后馈 （backward）\n",
    "\n",
    "<img src=\"http://blog.rogerluo.me/images/comput-graph-backward.gif\" height=50% width=60%></img>"
   ]
  },
  {
   "cell_type": "markdown",
   "metadata": {
    "slideshow": {
     "slide_type": "subslide"
    }
   },
   "source": [
    "如何在代码里定义计算图呢？实际上很简单，我们只要定义图的节点（node）和变量（variable）就可以了\n",
    "\n",
    "我们在每个节点里将其前馈输入的变量和函数都存下来，首先我们定义一个比较一般的抽象节点，因为每个节点都有一个值，我们将这个值的类型记为 `T`"
   ]
  },
  {
   "cell_type": "code",
   "execution_count": 35,
   "metadata": {},
   "outputs": [],
   "source": [
    "abstract type AbstractNode{T} end"
   ]
  },
  {
   "cell_type": "markdown",
   "metadata": {},
   "source": [
    "然后我们再来定义后向传播的规则，矩阵乘法 $A * B$ 的梯度分别是 $\\Delta B^T$ 和 $A^T \\Delta$，这也就意味着我们在回传梯度的时候需要前馈传播的 $A$ 和 $B$，那么要怎样缓存（cache）这两个变量以供后向传播的时候用呢？"
   ]
  },
  {
   "cell_type": "markdown",
   "metadata": {
    "slideshow": {
     "slide_type": "subslide"
    }
   },
   "source": [
    "建立一个 `Node` 里面存储被调用的函数 （乘法算符）和函数的变量"
   ]
  },
  {
   "cell_type": "code",
   "execution_count": 36,
   "metadata": {},
   "outputs": [],
   "source": [
    "struct Node{T, F, Args} <: AbstractNode{T}\n",
    "    output::T\n",
    "    f::F\n",
    "    args::Args\n",
    "end"
   ]
  },
  {
   "cell_type": "markdown",
   "metadata": {
    "slideshow": {
     "slide_type": "subslide"
    }
   },
   "source": [
    "然后我们还需要定义叶子节点以标记哪些是变量（Variable）也就是需要计算梯度的节点"
   ]
  },
  {
   "cell_type": "code",
   "execution_count": 37,
   "metadata": {},
   "outputs": [],
   "source": [
    "struct Variable{T} <: AbstractNode{T}\n",
    "    data::T\n",
    "    grad::T\n",
    "end"
   ]
  },
  {
   "cell_type": "markdown",
   "metadata": {
    "slideshow": {
     "slide_type": "fragment"
    }
   },
   "source": [
    "为了方便起见，我们定义一个构造函数，让梯度默认为零"
   ]
  },
  {
   "cell_type": "code",
   "execution_count": 38,
   "metadata": {
    "slideshow": {
     "slide_type": "fragment"
    }
   },
   "outputs": [
    {
     "data": {
      "text/plain": [
       "Variable"
      ]
     },
     "execution_count": 38,
     "metadata": {},
     "output_type": "execute_result"
    }
   ],
   "source": [
    "Variable(A) = Variable(A, zero(A))"
   ]
  },
  {
   "cell_type": "markdown",
   "metadata": {
    "slideshow": {
     "slide_type": "subslide"
    }
   },
   "source": [
    "我们希望任何表达式都会被记录进一个node中去，例如 `A * B`，那么当我定义了两个变量"
   ]
  },
  {
   "cell_type": "code",
   "execution_count": 39,
   "metadata": {},
   "outputs": [],
   "source": [
    "A = Variable(rand(2, 3))\n",
    "B = Variable(rand(3, 4));"
   ]
  },
  {
   "cell_type": "markdown",
   "metadata": {},
   "source": [
    "的时候，如何让 `A * B` 构建出一个Node呢？"
   ]
  },
  {
   "cell_type": "markdown",
   "metadata": {
    "slideshow": {
     "slide_type": "fragment"
    }
   },
   "source": [
    "很简单，我们重载 `*` 这个运算符（其实就是重载函数）"
   ]
  },
  {
   "cell_type": "code",
   "execution_count": 40,
   "metadata": {},
   "outputs": [],
   "source": [
    "Base.:(*)(x::AbstractNode, y::AbstractNode) = Node(*, x, y)\n",
    "Base.:(*)(x::AbstractNode, y) = Node(*, x, y)\n",
    "Base.:(+)(x::AbstractNode, y::AbstractNode) = Node(+, x, y)"
   ]
  },
  {
   "cell_type": "markdown",
   "metadata": {
    "slideshow": {
     "slide_type": "subslide"
    }
   },
   "source": [
    "为了方便重载运算符，我们同时定义一个 `Node` 的构造函数，和一个用于取出Variable和Node的值的函数 `data`"
   ]
  },
  {
   "cell_type": "code",
   "execution_count": 41,
   "metadata": {},
   "outputs": [
    {
     "data": {
      "text/plain": [
       "data (generic function with 3 methods)"
      ]
     },
     "execution_count": 41,
     "metadata": {},
     "output_type": "execute_result"
    }
   ],
   "source": [
    "Node(f::Function, args...) = Node(f(map(data, args)...), f, args)\n",
    "data(x::Variable) = x.data\n",
    "data(x::Node) = x.output\n",
    "data(x) = x"
   ]
  },
  {
   "cell_type": "markdown",
   "metadata": {
    "slideshow": {
     "slide_type": "subslide"
    }
   },
   "source": [
    "让我们来试一试"
   ]
  },
  {
   "cell_type": "code",
   "execution_count": 42,
   "metadata": {},
   "outputs": [
    {
     "data": {
      "text/plain": [
       "Node{Array{Float64,2},typeof(*),Tuple{Variable{Array{Float64,2}},Variable{Array{Float64,2}}}}([0.748665 0.52093 0.431819 0.788467; 0.394618 0.30398 0.302953 0.344516], *, (Variable{Array{Float64,2}}([0.945043 0.265197 0.640297; 0.565866 0.364138 0.165449], [0.0 0.0 0.0; 0.0 0.0 0.0]), Variable{Array{Float64,2}}([0.587719 0.467632 0.0495658 0.233593; 0.0409801 0.0641033 0.593445 0.222048; 0.284832 0.0968261 0.355456 0.794671], [0.0 0.0 0.0 0.0; 0.0 0.0 0.0 0.0; 0.0 0.0 0.0 0.0])))"
      ]
     },
     "execution_count": 42,
     "metadata": {},
     "output_type": "execute_result"
    }
   ],
   "source": [
    "A * B"
   ]
  },
  {
   "cell_type": "markdown",
   "metadata": {
    "slideshow": {
     "slide_type": "subslide"
    }
   },
   "source": [
    "为了后面阅读方便，我们不妨重新定义一下Node和Variable的打印格式"
   ]
  },
  {
   "cell_type": "code",
   "execution_count": 43,
   "metadata": {},
   "outputs": [],
   "source": [
    "function Base.show(io::IO, x::AbstractNode{<:AbstractArray})\n",
    "    summary(io, x)\n",
    "    println(io)\n",
    "    Base.print_array(io, data(x))\n",
    "end"
   ]
  },
  {
   "cell_type": "code",
   "execution_count": 44,
   "metadata": {},
   "outputs": [
    {
     "data": {
      "text/plain": [
       "Node{Array{Float64,2},typeof(*),Tuple{Variable{Array{Float64,2}},Variable{Array{Float64,2}}}}\n",
       " 0.7486649597745116  0.5209301520756134  …  0.788467055435203\n",
       " 0.3946180633192462  0.3039796056538721     0.344515816197736"
      ]
     },
     "execution_count": 44,
     "metadata": {},
     "output_type": "execute_result"
    }
   ],
   "source": [
    "A * B"
   ]
  },
  {
   "cell_type": "markdown",
   "metadata": {},
   "source": [
    "有了计算图以后我们就可以开始着手考虑如何进行后向传播了，我们的目标是实现如下的功能：\n",
    "\n",
    "给定梯度输入，求所有Variable的梯度，并且将梯度累加到Variable中的 `grad` 变量上去"
   ]
  },
  {
   "cell_type": "markdown",
   "metadata": {},
   "source": [
    "假如开始后向传播的节点就是 `Variable` 这非常简单"
   ]
  },
  {
   "cell_type": "code",
   "execution_count": 45,
   "metadata": {},
   "outputs": [
    {
     "data": {
      "text/plain": [
       "backward (generic function with 1 method)"
      ]
     },
     "execution_count": 45,
     "metadata": {},
     "output_type": "execute_result"
    }
   ],
   "source": [
    "function backward(x::Variable, Δ)\n",
    "    x.grad .+= Δ\n",
    "    return\n",
    "end"
   ]
  },
  {
   "cell_type": "markdown",
   "metadata": {},
   "source": [
    "对于不是计算图中的节点，也非常简单"
   ]
  },
  {
   "cell_type": "code",
   "execution_count": 46,
   "metadata": {},
   "outputs": [
    {
     "data": {
      "text/plain": [
       "backward (generic function with 2 methods)"
      ]
     },
     "execution_count": 46,
     "metadata": {},
     "output_type": "execute_result"
    }
   ],
   "source": [
    "backward(x, Δ) = nothing"
   ]
  },
  {
   "cell_type": "markdown",
   "metadata": {
    "slideshow": {
     "slide_type": "subslide"
    }
   },
   "source": [
    "而如果我们是从更加一般的 `Node` 开始反馈，那么就需要递归的对每个输入进行遍历，我们假设每个输入的梯度可以用 `gradient` 函数获得"
   ]
  },
  {
   "cell_type": "code",
   "execution_count": 47,
   "metadata": {},
   "outputs": [
    {
     "data": {
      "text/plain": [
       "backward (generic function with 3 methods)"
      ]
     },
     "execution_count": 47,
     "metadata": {},
     "output_type": "execute_result"
    }
   ],
   "source": [
    "function backward(x::Node, Δ)\n",
    "    grads = gradient(x.f, Δ, x.output, map(data, x.args)...)\n",
    "    # number of gradients is the same with number of inputs\n",
    "    for (each, grad) in zip(x.args, grads)\n",
    "        backward(each, grad)\n",
    "    end\n",
    "    return\n",
    "end"
   ]
  },
  {
   "cell_type": "markdown",
   "metadata": {
    "slideshow": {
     "slide_type": "subslide"
    }
   },
   "source": [
    "剩下的只需要为各个不同的函数定义梯度了，我们这里为一个简单前馈神经网络所需的函数定义梯度"
   ]
  },
  {
   "cell_type": "code",
   "execution_count": 82,
   "metadata": {},
   "outputs": [
    {
     "data": {
      "text/plain": [
       "gradient (generic function with 3 methods)"
      ]
     },
     "execution_count": 82,
     "metadata": {},
     "output_type": "execute_result"
    }
   ],
   "source": [
    "function gradient(::typeof(*), Δ, output, A, B)\n",
    "    return reshape(Δ * B', size(A)), reshape(A' * Δ, size(B))\n",
    "end\n",
    "\n",
    "gradient(::typeof(+), Δ, output, A, B) = (Δ, Δ)\n",
    "\n",
    "sigmoid(x::AbstractVecOrMat) = @. one(x) / (one(x) + exp(-x))\n",
    "sigmoid(x::AbstractNode{<:AbstractArray}) = Node(sigmoid, x)\n",
    "gradient(::typeof(sigmoid), Δ, output, x) = (@.(Δ * (one(x) - output) * output), )"
   ]
  },
  {
   "cell_type": "markdown",
   "metadata": {
    "slideshow": {
     "slide_type": "subslide"
    }
   },
   "source": [
    "接下来就是见证奇迹的时刻！\n",
    "\n",
    "让我们来计算一个 Dense 层：\n",
    "\n",
    "$$\n",
    "Dense(x) = \\sigma (Wx + b)\n",
    "$$"
   ]
  },
  {
   "cell_type": "code",
   "execution_count": 83,
   "metadata": {},
   "outputs": [
    {
     "data": {
      "text/plain": [
       "Node{Array{Float64,1},typeof(sigmoid),Tuple{Node{Array{Float64,1},typeof(+),Tuple{Node{Array{Float64,1},typeof(*),Tuple{Variable{Array{Float64,2}},Array{Float64,1}}},Variable{Array{Float64,1}}}}}}\n",
       " 0.7207142161532042\n",
       " 0.7467479910460055\n",
       " 0.6610597120987938\n",
       " 0.775920740230816 "
      ]
     },
     "execution_count": 83,
     "metadata": {},
     "output_type": "execute_result"
    }
   ],
   "source": [
    "W = Variable(rand(4, 4))\n",
    "b = Variable(rand(4))\n",
    "\n",
    "Dense(x) = sigmoid(W * x + b)\n",
    "\n",
    "x = rand(4)\n",
    "z = Dense(x)"
   ]
  },
  {
   "cell_type": "markdown",
   "metadata": {
    "slideshow": {
     "slide_type": "subslide"
    }
   },
   "source": [
    "然后对某个输入的梯度进行后向传播"
   ]
  },
  {
   "cell_type": "code",
   "execution_count": 84,
   "metadata": {
    "slideshow": {
     "slide_type": "-"
    }
   },
   "outputs": [
    {
     "data": {
      "text/plain": [
       "4×4 Array{Float64,2}:\n",
       " 0.000454981  0.000360364  0.000487597  0.000475926\n",
       " 0.0302546    0.023963     0.0324235    0.0316474  \n",
       " 0.00666228   0.0052768    0.00713987   0.00696898 \n",
       " 0.038584     0.0305601    0.0413499    0.0403602  "
      ]
     },
     "execution_count": 84,
     "metadata": {},
     "output_type": "execute_result"
    }
   ],
   "source": [
    "Δ = rand(4)\n",
    "backward(z, Δ)\n",
    "W.grad"
   ]
  },
  {
   "cell_type": "markdown",
   "metadata": {
    "slideshow": {
     "slide_type": "subslide"
    }
   },
   "source": [
    "最后让我们和Flux的自动微分比较一下结果"
   ]
  },
  {
   "cell_type": "code",
   "execution_count": 88,
   "metadata": {},
   "outputs": [
    {
     "data": {
      "text/plain": [
       "8.76210447256141e-18"
      ]
     },
     "execution_count": 88,
     "metadata": {},
     "output_type": "execute_result"
    }
   ],
   "source": [
    "using Flux.Tracker, LinearAlgebra\n",
    "\n",
    "Flux_W = param(W.data)\n",
    "Flux_b = param(b.data)\n",
    "Flux_Dense(x) = sigmoid(Flux_W * x + Flux_b)\n",
    "z = Flux_Dense(x)\n",
    "back!(z, Δ)\n",
    "\n",
    "norm(Flux_W.grad - W.grad)"
   ]
  },
  {
   "cell_type": "markdown",
   "metadata": {},
   "source": [
    "练习：\n",
    "\n",
    "1. 试试实现一个完整的MLP？\n",
    "2. 试试实现一个MPS？"
   ]
  }
 ],
 "metadata": {
  "celltoolbar": "幻灯片",
  "kernelspec": {
   "display_name": "Julia 1.1.0",
   "language": "julia",
   "name": "julia-1.1"
  },
  "language_info": {
   "file_extension": ".jl",
   "mimetype": "application/julia",
   "name": "julia",
   "version": "1.1.0"
  }
 },
 "nbformat": 4,
 "nbformat_minor": 2
}
