{
 "cells": [
  {
   "cell_type": "markdown",
   "metadata": {},
   "source": [
    "# Machine learning in feature Hilbert space"
   ]
  },
  {
   "cell_type": "code",
   "execution_count": 58,
   "metadata": {},
   "outputs": [],
   "source": [
    "# the version of Yao is 0.4.1 in this notebook\n",
    "using Yao, Yao.ConstGate\n",
    "using Plots\n",
    "using QuAlgorithmZoo: random_diff_circuit, pair_ring\n",
    "using Random"
   ]
  },
  {
   "cell_type": "markdown",
   "metadata": {},
   "source": [
    "## Dataset"
   ]
  },
  {
   "cell_type": "code",
   "execution_count": 59,
   "metadata": {},
   "outputs": [
    {
     "data": {
      "text/plain": [
       "y (generic function with 1 method)"
      ]
     },
     "execution_count": 59,
     "metadata": {},
     "output_type": "execute_result"
    }
   ],
   "source": [
    "y(x, y) = Int((2x^2 + y^2) < π)"
   ]
  },
  {
   "cell_type": "code",
   "execution_count": 60,
   "metadata": {},
   "outputs": [
    {
     "data": {
      "text/plain": [
       "generate_train_batch (generic function with 1 method)"
      ]
     },
     "execution_count": 60,
     "metadata": {},
     "output_type": "execute_result"
    }
   ],
   "source": [
    "function generate_train_batch(nbatch::Int)\n",
    "    xs = rand(nbatch,2)*2π\n",
    "    xs, y.(xs[:,1], xs[:,2])\n",
    "end"
   ]
  },
  {
   "cell_type": "code",
   "execution_count": 61,
   "metadata": {},
   "outputs": [
    {
     "data": {
      "image/png": "[encoded data removed]"
     },
     "execution_count": 61,
     "metadata": {},
     "output_type": "execute_result"
    }
   ],
   "source": [
    "a = -π:0.01π:π\n",
    "b = -π:0.01π:π\n",
    "plot(a, b, y, st = :contourf, aspect_ratio=:equal, xlabel=\"x1\", ylabel=\"x2\")"
   ]
  },
  {
   "cell_type": "markdown",
   "metadata": {},
   "source": [
    "## Model"
   ]
  },
  {
   "cell_type": "code",
   "execution_count": 62,
   "metadata": {},
   "outputs": [],
   "source": [
    "nbit = 3\n",
    "circuit = random_diff_circuit(nbit, 2, pair_ring(nbit));"
   ]
  },
  {
   "cell_type": "code",
   "execution_count": 63,
   "metadata": {},
   "outputs": [
    {
     "data": {
      "text/plain": [
       "2-element Array{RotationGate,1}:\n",
       " rot(X gate, 0.0)\n",
       " rot(X gate, 0.0)"
      ]
     },
     "execution_count": 63,
     "metadata": {},
     "output_type": "execute_result"
    }
   ],
   "source": [
    "# pick two parameters\n",
    "rots = collect_blocks(RotationGate, circuit);\n",
    "tworots = rots[[8,11]]"
   ]
  },
  {
   "cell_type": "code",
   "execution_count": 64,
   "metadata": {},
   "outputs": [
    {
     "data": {
      "text/plain": [
       "swap_test"
      ]
     },
     "execution_count": 64,
     "metadata": {},
     "output_type": "execute_result"
    }
   ],
   "source": [
    "\"\"\"\n",
    "Construct a swap test circuit.\n",
    "\"\"\"\n",
    "function swap_test(nbits::Int, nstate::Int)\n",
    "    N = nstate*nbits + 1\n",
    "    chain(N, put(N, 1=>H),\n",
    "    chain(N, [chain(N, [control(N, 1, (i+(k*nbits-nbits)+1, i+k*nbits+1)=>SWAP)\n",
    "    for i=1:nbits]) for k=1:nstate-1]),\n",
    "    put(N, 1=>H)\n",
    ")\n",
    "end"
   ]
  },
  {
   "cell_type": "code",
   "execution_count": 65,
   "metadata": {},
   "outputs": [
    {
     "data": {
      "text/plain": [
       "state_overlap"
      ]
     },
     "execution_count": 65,
     "metadata": {},
     "output_type": "execute_result"
    }
   ],
   "source": [
    "\"\"\"\n",
    "calculate the (squared) overlap of two states |<ψ|ψ'>|^2\n",
    "\"\"\"\n",
    "function state_overlap(reg1::AbstractRegister, reg2::AbstractRegister)\n",
    "    nbits = nactive(reg1)\n",
    "    @assert nactive(reg2) == nbits error(\"Register size mismatch!\")\n",
    "    circuit = swap_test(nbits, 2)\n",
    "    reg_ancilla = join(reg1, reg2, zero_state(1))\n",
    "    reg_ancilla |> circuit\n",
    "    expect(put(2nbits+1, 1=>Z), reg_ancilla) |> real\n",
    "end"
   ]
  },
  {
   "cell_type": "code",
   "execution_count": 66,
   "metadata": {},
   "outputs": [
    {
     "data": {
      "text/plain": [
       "Kf"
      ]
     },
     "execution_count": 66,
     "metadata": {},
     "output_type": "execute_result"
    }
   ],
   "source": [
    "\"\"\"\n",
    "A point in RKHS ψ0 defines a function, f(x) = K(x0,x) = <ψ0, Φ(x)>\n",
    "\"\"\"\n",
    "function Kf(circuit::AbstractBlock, rots, x, ψ0::AbstractRegister)\n",
    "    nbit = nqubits(circuit)\n",
    "    dispatch!.(rots, x)\n",
    "    ψ = zero_state(nbit) |> circuit\n",
    "    state_overlap(ψ, ψ0)\n",
    "end"
   ]
  },
  {
   "cell_type": "markdown",
   "metadata": {},
   "source": [
    "## Loss Function"
   ]
  },
  {
   "cell_type": "code",
   "execution_count": 67,
   "metadata": {},
   "outputs": [
    {
     "data": {
      "text/plain": [
       "batched_loss (generic function with 1 method)"
      ]
     },
     "execution_count": 67,
     "metadata": {},
     "output_type": "execute_result"
    }
   ],
   "source": [
    "function batched_loss(circuit, rots, xs0, train_batch)\n",
    "    xs, ys = train_batch\n",
    "    dispatch!.(rots, xs0)\n",
    "    loss = 0\n",
    "    ψ0 = zero_state(nqubits(circuit)) |> circuit\n",
    "    for (x1, x2, yt) in zip(view(xs, :, 1), view(xs, :, 2), ys)\n",
    "        loss += abs(Kf(circuit, rots, (x1, x2), ψ0) - yt)\n",
    "    end\n",
    "    loss/length(xs)\n",
    "end"
   ]
  },
  {
   "cell_type": "code",
   "execution_count": 68,
   "metadata": {},
   "outputs": [
    {
     "data": {
      "text/plain": [
       "miss_rate (generic function with 1 method)"
      ]
     },
     "execution_count": 68,
     "metadata": {},
     "output_type": "execute_result"
    }
   ],
   "source": [
    "function miss_rate(circuit, rots, xs0, train_batch)\n",
    "    xs, ys = train_batch\n",
    "    dispatch!.(rots, xs0)\n",
    "    loss = 0\n",
    "    ψ0 = zero_state(nqubits(circuit)) |> circuit\n",
    "    for (x1, x2, yt) in zip(view(xs, :, 1), view(xs, :, 2), ys)\n",
    "        loss += abs(round(Kf(circuit, rots, (x1, x2), ψ0)) - yt)\n",
    "    end\n",
    "    loss/length(xs)\n",
    "end"
   ]
  },
  {
   "cell_type": "markdown",
   "metadata": {},
   "source": [
    "## Training"
   ]
  },
  {
   "cell_type": "markdown",
   "metadata": {},
   "source": [
    "Check the gradients"
   ]
  },
  {
   "cell_type": "code",
   "execution_count": 69,
   "metadata": {},
   "outputs": [
    {
     "data": {
      "text/plain": [
       "-0.01793243773473563"
      ]
     },
     "execution_count": 69,
     "metadata": {},
     "output_type": "execute_result"
    }
   ],
   "source": [
    "Random.seed!(6)\n",
    "dispatch!(circuit, :random)\n",
    "x0 = randn(2)\n",
    "tset = generate_train_batch(100)\n",
    "x1 = copy(x0); x1[2]+=1e-5\n",
    "loss0 = batched_loss(circuit, tworots, x0, tset)\n",
    "loss1 = batched_loss(circuit, tworots, x1, tset)\n",
    "(loss1-loss0)/1e-5"
   ]
  },
  {
   "cell_type": "code",
   "execution_count": 70,
   "metadata": {},
   "outputs": [
    {
     "data": {
      "text/plain": [
       "circuit_gradient (generic function with 1 method)"
      ]
     },
     "execution_count": 70,
     "metadata": {},
     "output_type": "execute_result"
    }
   ],
   "source": [
    "function circuit_gradient(circuit, tworots, x0, tset)\n",
    "    grad = zeros(2)\n",
    "    for i=1:length(x0)\n",
    "        x0[i]-=π/2\n",
    "        loss0 = batched_loss(circuit, tworots, x0, tset)\n",
    "        x0[i]+=π\n",
    "        loss1 = batched_loss(circuit, tworots, x0, tset)\n",
    "        grad[i] = (loss1-loss0)/2\n",
    "        x0[i]-=π/2\n",
    "    end\n",
    "    grad\n",
    "end"
   ]
  },
  {
   "cell_type": "code",
   "execution_count": 71,
   "metadata": {},
   "outputs": [
    {
     "data": {
      "text/plain": [
       "2-element Array{Float64,1}:\n",
       "  0.01684518610888462 \n",
       " -0.017932444304590053"
      ]
     },
     "execution_count": 71,
     "metadata": {},
     "output_type": "execute_result"
    }
   ],
   "source": [
    "circuit_gradient(circuit, tworots, x0, tset)"
   ]
  },
  {
   "cell_type": "code",
   "execution_count": 72,
   "metadata": {},
   "outputs": [
    {
     "data": {
      "text/plain": [
       "train! (generic function with 1 method)"
      ]
     },
     "execution_count": 72,
     "metadata": {},
     "output_type": "execute_result"
    }
   ],
   "source": [
    "using Flux: ADAM, Optimise\n",
    "function train!(circuit, tworots; maxiter::Int=100, lr::Float64=0.1, nbatch::Int=100)\n",
    "    optimizer = ADAM(lr)\n",
    "    x0 = rand(2)*2π\n",
    "    loss_history = Float64[]\n",
    "    for i=1:maxiter\n",
    "        tset = generate_train_batch(nbatch)\n",
    "        grad = circuit_gradient(circuit, tworots, x0, tset)\n",
    "        Optimise.update!(optimizer, x0, grad)\n",
    "        push!(loss_history, batched_loss(circuit, tworots, x0, tset))\n",
    "        @show loss_history[end]\n",
    "    end\n",
    "    x0, loss_history\n",
    "end"
   ]
  },
  {
   "cell_type": "code",
   "execution_count": 73,
   "metadata": {},
   "outputs": [
    {
     "data": {
      "image/png": "[encoded data removed]"
     },
     "execution_count": 73,
     "metadata": {},
     "output_type": "execute_result"
    }
   ],
   "source": [
    "pyplot(leg=false, ticks=nothing)\n",
    "dispatch!.(tworots, x0)\n",
    "ψ0 = zero_state(nqubits(circuit)) |> circuit\n",
    "#l = @layout [a{0.5w} b]\n",
    "p = plot(a, b, (x,y)->Kf(circuit, tworots, (x, y), ψ0)>0.5, st = :contourf, aspect_ratio=:equal, xlabel=\"x1\", ylabel=\"x2\")\n",
    "#plot!(p[2], a, b, y, st = :contourf, aspect_ratio=:equal, xlabel=\"x1\", ylabel=\"x2\")\n",
    "t = LinRange(0,2π,200)\n",
    "xs = sqrt(π)*cos.(t)/sqrt(2)\n",
    "ys = sqrt(π)*sin.(t)\n",
    "plot!(p[1], xs, ys, lw=2)"
   ]
  },
  {
   "cell_type": "code",
   "execution_count": 74,
   "metadata": {},
   "outputs": [
    {
     "name": "stdout",
     "output_type": "stream",
     "text": [
      "loss_history[end] = 0.14725654471789212\n",
      "loss_history[end] = 0.12531638480801313\n",
      "loss_history[end] = 0.14099230244576552\n",
      "loss_history[end] = 0.12471743391870452\n",
      "loss_history[end] = 0.12982493559156014\n",
      "loss_history[end] = 0.13150033406639106\n",
      "loss_history[end] = 0.11904014535960168\n",
      "loss_history[end] = 0.12678008875656097\n",
      "loss_history[end] = 0.12452870152542189\n",
      "loss_history[end] = 0.11241546354281627\n",
      "loss_history[end] = 0.12024256520962896\n",
      "loss_history[end] = 0.12625043814148984\n",
      "loss_history[end] = 0.13105607671563207\n",
      "loss_history[end] = 0.12819707759904597\n",
      "loss_history[end] = 0.12293738835660156\n",
      "loss_history[end] = 0.11181753485421497\n",
      "loss_history[end] = 0.11396932074425785\n",
      "loss_history[end] = 0.12291308335857368\n",
      "loss_history[end] = 0.12391186649664607\n",
      "loss_history[end] = 0.11717895233246342\n",
      "loss_history[end] = 0.12640487116225757\n",
      "loss_history[end] = 0.11984455062902638\n",
      "loss_history[end] = 0.11327948891393949\n",
      "loss_history[end] = 0.12196873888389383\n",
      "loss_history[end] = 0.1154011655549888\n",
      "loss_history[end] = 0.11951566948715686\n",
      "loss_history[end] = 0.11856374513540949\n",
      "loss_history[end] = 0.11750304150219013\n",
      "loss_history[end] = 0.11937214684224037\n",
      "loss_history[end] = 0.11094265974547694\n",
      "loss_history[end] = 0.11478847703869481\n",
      "loss_history[end] = 0.11866696955505705\n",
      "loss_history[end] = 0.10728286037458103\n",
      "loss_history[end] = 0.11998165374068145\n",
      "loss_history[end] = 0.119511638369039\n",
      "loss_history[end] = 0.1168456771718816\n",
      "loss_history[end] = 0.12701588719528756\n",
      "loss_history[end] = 0.1197069256753984\n",
      "loss_history[end] = 0.1200626255910767\n",
      "loss_history[end] = 0.1152531781496635\n",
      "loss_history[end] = 0.10860295240417675\n",
      "loss_history[end] = 0.12632056503293138\n",
      "loss_history[end] = 0.11714248573020351\n",
      "loss_history[end] = 0.11809036250660607\n",
      "loss_history[end] = 0.11401706807401027\n",
      "loss_history[end] = 0.11847493982040676\n",
      "loss_history[end] = 0.11893755757630937\n",
      "loss_history[end] = 0.12803221424088332\n",
      "loss_history[end] = 0.10812037276689994\n",
      "loss_history[end] = 0.12198658797378685\n",
      "loss_history[end] = 0.1154309785714208\n",
      "loss_history[end] = 0.11851377600625851\n",
      "loss_history[end] = 0.12398326917548359\n",
      "loss_history[end] = 0.11350943293907638\n",
      "loss_history[end] = 0.11916786997051086\n",
      "loss_history[end] = 0.11424290362430484\n",
      "loss_history[end] = 0.12043629564204732\n",
      "loss_history[end] = 0.11860790245902575\n",
      "loss_history[end] = 0.11503039169106102\n",
      "loss_history[end] = 0.11411133337333182\n",
      "loss_history[end] = 0.12418916772394424\n",
      "loss_history[end] = 0.11970868897555415\n",
      "loss_history[end] = 0.11367724533647669\n",
      "loss_history[end] = 0.11738596613399511\n",
      "loss_history[end] = 0.12046025193360677\n",
      "loss_history[end] = 0.12769640163590393\n",
      "loss_history[end] = 0.11780793531349068\n",
      "loss_history[end] = 0.12206266395300107\n",
      "loss_history[end] = 0.1217657393527466\n",
      "loss_history[end] = 0.11366961218738997\n",
      "loss_history[end] = 0.12088790892038283\n",
      "loss_history[end] = 0.10732339219849217\n",
      "loss_history[end] = 0.11915190001026005\n",
      "loss_history[end] = 0.1250034210318728\n",
      "loss_history[end] = 0.11735858330318355\n",
      "loss_history[end] = 0.11399466001416161\n",
      "loss_history[end] = 0.11643378228956781\n",
      "loss_history[end] = 0.12337703283853071\n",
      "loss_history[end] = 0.11254845662902897\n",
      "loss_history[end] = 0.11350853609500033\n",
      "loss_history[end] = 0.1022767742364249\n",
      "loss_history[end] = 0.11108951336139074\n",
      "loss_history[end] = 0.12142163959162593\n",
      "loss_history[end] = 0.12700542934267825\n",
      "loss_history[end] = 0.11498519677700215\n",
      "loss_history[end] = 0.11782420727083442\n",
      "loss_history[end] = 0.11159857942886842\n",
      "loss_history[end] = 0.11268636752624225\n",
      "loss_history[end] = 0.12075915759418068\n",
      "loss_history[end] = 0.11716491688583512\n",
      "loss_history[end] = 0.11379974940250147\n",
      "loss_history[end] = 0.11671929882481379\n",
      "loss_history[end] = 0.12258286924653476\n",
      "loss_history[end] = 0.12299858208945415\n",
      "loss_history[end] = 0.11146755726933558\n",
      "loss_history[end] = 0.11601846316996177\n",
      "loss_history[end] = 0.11195913743526202\n",
      "loss_history[end] = 0.12962433759525474\n",
      "loss_history[end] = 0.12864937195415013\n",
      "loss_history[end] = 0.12369239916243932\n"
     ]
    },
    {
     "data": {
      "text/plain": [
       "([6.66013, 0.757812], [0.147257, 0.125316, 0.140992, 0.124717, 0.129825, 0.1315, 0.11904, 0.12678, 0.124529, 0.112415  …  0.1138, 0.116719, 0.122583, 0.122999, 0.111468, 0.116018, 0.111959, 0.129624, 0.128649, 0.123692])"
      ]
     },
     "execution_count": 74,
     "metadata": {},
     "output_type": "execute_result"
    }
   ],
   "source": [
    "xopt, history = train!(circuit, tworots; lr=0.1, nbatch=500)"
   ]
  },
  {
   "cell_type": "code",
   "execution_count": 75,
   "metadata": {},
   "outputs": [
    {
     "data": {
      "text/plain": [
       "ArrayReg{1, Complex{Float64}, Array...}\n",
       "    active qubits: 3/3"
      ]
     },
     "execution_count": 75,
     "metadata": {},
     "output_type": "execute_result"
    }
   ],
   "source": [
    "dispatch!.(tworots, xopt)\n",
    "ψ0 = zero_state(nqubits(circuit)) |> circuit"
   ]
  },
  {
   "cell_type": "code",
   "execution_count": 76,
   "metadata": {},
   "outputs": [
    {
     "data": {
      "text/plain": [
       "0.105"
      ]
     },
     "execution_count": 76,
     "metadata": {},
     "output_type": "execute_result"
    }
   ],
   "source": [
    "miss_rate(circuit, tworots, x0, generate_train_batch(1000))"
   ]
  },
  {
   "cell_type": "code",
   "execution_count": 77,
   "metadata": {},
   "outputs": [
    {
     "data": {
      "text/plain": [
       "0.0775"
      ]
     },
     "execution_count": 77,
     "metadata": {},
     "output_type": "execute_result"
    }
   ],
   "source": [
    "miss_rate(circuit, tworots, xopt, generate_train_batch(1000))"
   ]
  },
  {
   "cell_type": "code",
   "execution_count": 79,
   "metadata": {
    "scrolled": true
   },
   "outputs": [
    {
     "data": {
      "image/png": "[encoded data removed]"
     },
     "execution_count": 79,
     "metadata": {},
     "output_type": "execute_result"
    }
   ],
   "source": [
    "pyplot(leg=false, ticks=nothing)\n",
    "dispatch!.(tworots, xopt)\n",
    "ψ0 = zero_state(nqubits(circuit)) |> circuit\n",
    "p = plot(a, b, (x,y)->Kf(circuit, tworots, (x, y), ψ0)>0.5, st = :contourf, aspect_ratio=:equal, xlabel=\"x1\", ylabel=\"x2\")\n",
    "#plot!(p[2], a, b, y, st = :contourf, aspect_ratio=:equal, xlabel=\"x1\", ylabel=\"x2\")\n",
    "t = LinRange(0,2π,200)\n",
    "xs = sqrt(π)*cos.(t)/sqrt(2)\n",
    "ys = sqrt(π)*sin.(t)\n",
    "plot!(p[1], xs, ys, lw=2)"
   ]
  },
  {
   "cell_type": "code",
   "execution_count": null,
   "metadata": {},
   "outputs": [],
   "source": []
  }
 ],
 "metadata": {
  "@webio": {
   "lastCommId": null,
   "lastKernelId": null
  },
  "kernelspec": {
   "display_name": "Julia 1.1.0",
   "language": "julia",
   "name": "julia-1.1"
  },
  "language_info": {
   "file_extension": ".jl",
   "mimetype": "application/julia",
   "name": "julia",
   "version": "1.1.0"
  }
 },
 "nbformat": 4,
 "nbformat_minor": 2
}
