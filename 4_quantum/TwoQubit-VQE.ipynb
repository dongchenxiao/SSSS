{
 "cells": [
  {
   "cell_type": "markdown",
   "metadata": {},
   "source": [
    "# Solving TFI model with only 2 qubits - the 幺 simulation\n",
    "\n",
    "### Reference: Variational Quantum Eigensolver with Fewer Qubits\n",
    "\n",
    "*Jin-Guo Liu, Yi-Hong Zhang, Yuan Wan, Lei Wang*\n",
    "\n",
    "https://arxiv.org/abs/1902.02663"
   ]
  },
  {
   "cell_type": "code",
   "execution_count": 368,
   "metadata": {},
   "outputs": [],
   "source": [
    "using Yao\n",
    "using Statistics: mean\n",
    "using LinearAlgebra\n",
    "using Plots"
   ]
  },
  {
   "cell_type": "markdown",
   "metadata": {},
   "source": [
    "## Build a quantum circuit inspired by MPS\n",
    "\n",
    "Hadamard Gate with dashed box is applied only when measuring on the X basis.\n",
    "<div style=\"display:inline-block\"><img style=\"float: left\", src=\"images/hgate.png\" width=\"50\"/></div>\n",
    "\n",
    "The following gates Measure and Reset a qubit to 0.\n",
    "\n",
    "<div style=\"display:inline-block\"><img style=\"float:left\", src=\"images/mreset.png\" width=\"100\"></div>\n",
    "\n",
    "The goal of this section is to build the MPS-inspired sampler as our ansatz\n",
    "\n",
    "<div style=\"display:inline-block\"><img style=\"float:left\", src=\"images/twoqubit.png\"></div>"
   ]
  },
  {
   "cell_type": "code",
   "execution_count": 369,
   "metadata": {},
   "outputs": [
    {
     "data": {
      "text/plain": [
       "twoqubit_circuit"
      ]
     },
     "execution_count": 369,
     "metadata": {},
     "output_type": "execute_result"
    }
   ],
   "source": [
    "rotor(noleading::Bool=false, notrailing::Bool=false) = noleading ? (notrailing ? Rx(0) : chain(Rx(0), Rz(0))) : (notrailing ? chain(Rz(0), Rx(0)) : chain(Rz(0), Rx(0), Rz(0)))\n",
    "\n",
    "\"\"\"\n",
    "    twoqubit_circuit(nlayer::Int, nrepeat::Int)\n",
    "\n",
    "Construct the above ansatz, `nrepeat` is the number of measure operations,\n",
    "`nlayer` is the length of each block.\n",
    "\"\"\"\n",
    "function twoqubit_circuit(nlayer::Int, nrepeat::Int)\n",
    "    nbit_measure = nbit_virtual = 1\n",
    "    nbit_used = nbit_measure + nbit_virtual\n",
    "    circuit = chain(nbit_used)\n",
    "\n",
    "    for i=1:nrepeat\n",
    "        unit = chain(nbit_used)\n",
    "        #push!(unit, put(nbit_used, 2=>H))\n",
    "        for j=1:nlayer\n",
    "            push!(unit, put(nbit_used, 1=>rotor(true, false)))\n",
    "            push!(unit, put(nbit_used, 2=>H))\n",
    "            push!(unit, put(nbit_used, 2=>Rz(0.0)))\n",
    "            push!(unit, control(nbit_used, 1, 2=>shift(0.0)))\n",
    "            if j == nlayer\n",
    "                push!(unit, put(nbit_used, 1=>rotor(true, false)))\n",
    "                push!(unit, put(nbit_used, 2=>H))\n",
    "                push!(unit, put(nbit_used, 2=>Rz(0.0)))\n",
    "            end\n",
    "        end\n",
    "        push!(unit, Measure{nbit_used, 1, AbstractBlock}(Z, (1,), 0, false))\n",
    "        if i==nrepeat\n",
    "            for k=2:nbit_used\n",
    "                push!(unit, Measure{nbit_used, 1, AbstractBlock}(Z, (k,), 0, false))\n",
    "            end\n",
    "        end\n",
    "        push!(circuit, unit)\n",
    "    end\n",
    "    dispatch!(circuit, :random)\n",
    "end"
   ]
  },
  {
   "cell_type": "code",
   "execution_count": 370,
   "metadata": {},
   "outputs": [
    {
     "data": {
      "text/plain": [
       "\u001b[36mnqubits: 2, datatype: Complex{Float64}\u001b[39m\n",
       "\u001b[34m\u001b[1mchain\u001b[22m\u001b[39m\n",
       "├─ \u001b[34m\u001b[1mchain\u001b[22m\u001b[39m\n",
       "│  ├─ \u001b[36m\u001b[1mput on (\u001b[22m\u001b[39m\u001b[36m\u001b[1m1\u001b[22m\u001b[39m\u001b[36m\u001b[1m)\u001b[22m\u001b[39m\n",
       "│  │  └─ \u001b[34m\u001b[1mchain\u001b[22m\u001b[39m\n",
       "│  │     ├─ rot(X gate, 0.21095863334236697)\n",
       "│  │     └─ rot(Z gate, 0.7061513298045752)\n",
       "│  ├─ \u001b[36m\u001b[1mput on (\u001b[22m\u001b[39m\u001b[36m\u001b[1m2\u001b[22m\u001b[39m\u001b[36m\u001b[1m)\u001b[22m\u001b[39m\n",
       "│  │  └─ H gate\n",
       "│  ├─ \u001b[36m\u001b[1mput on (\u001b[22m\u001b[39m\u001b[36m\u001b[1m2\u001b[22m\u001b[39m\u001b[36m\u001b[1m)\u001b[22m\u001b[39m\n",
       "│  │  └─ rot(Z gate, 0.606758675085191)\n",
       "│  ├─ \u001b[31m\u001b[1mcontrol(\u001b[22m\u001b[39m\u001b[31m\u001b[1m1\u001b[22m\u001b[39m\u001b[31m\u001b[1m)\u001b[22m\u001b[39m\n",
       "│  │  └─ \u001b[37m\u001b[1m(2,)\u001b[22m\u001b[39mshift(0.8692942974976297)\n",
       "│  ├─ \u001b[36m\u001b[1mput on (\u001b[22m\u001b[39m\u001b[36m\u001b[1m1\u001b[22m\u001b[39m\u001b[36m\u001b[1m)\u001b[22m\u001b[39m\n",
       "│  │  └─ \u001b[34m\u001b[1mchain\u001b[22m\u001b[39m\n",
       "│  │     ├─ rot(X gate, 0.9742930709729192)\n",
       "│  │     └─ rot(Z gate, 0.2511950574828521)\n",
       "│  ├─ \u001b[36m\u001b[1mput on (\u001b[22m\u001b[39m\u001b[36m\u001b[1m2\u001b[22m\u001b[39m\u001b[36m\u001b[1m)\u001b[22m\u001b[39m\n",
       "│  │  └─ H gate\n",
       "│  ├─ \u001b[36m\u001b[1mput on (\u001b[22m\u001b[39m\u001b[36m\u001b[1m2\u001b[22m\u001b[39m\u001b[36m\u001b[1m)\u001b[22m\u001b[39m\n",
       "│  │  └─ rot(Z gate, 0.8950395744932531)\n",
       "│  └─ Measure{2,1,AbstractBlock}\n",
       "├─ \u001b[34m\u001b[1mchain\u001b[22m\u001b[39m\n",
       "│  ├─ \u001b[36m\u001b[1mput on (\u001b[22m\u001b[39m\u001b[36m\u001b[1m1\u001b[22m\u001b[39m\u001b[36m\u001b[1m)\u001b[22m\u001b[39m\n",
       "│  │  └─ \u001b[34m\u001b[1mchain\u001b[22m\u001b[39m\n",
       "│  │     ├─ rot(X gate, 0.8280959771285328)\n",
       "│  │     └─ rot(Z gate, 0.6397794287466416)\n",
       "│  ├─ \u001b[36m\u001b[1mput on (\u001b[22m\u001b[39m\u001b[36m\u001b[1m2\u001b[22m\u001b[39m\u001b[36m\u001b[1m)\u001b[22m\u001b[39m\n",
       "│  │  └─ H gate\n",
       "│  ├─ \u001b[36m\u001b[1mput on (\u001b[22m\u001b[39m\u001b[36m\u001b[1m2\u001b[22m\u001b[39m\u001b[36m\u001b[1m)\u001b[22m\u001b[39m\n",
       "│  │  └─ rot(Z gate, 0.43658892015653006)\n",
       "│  ├─ \u001b[31m\u001b[1mcontrol(\u001b[22m\u001b[39m\u001b[31m\u001b[1m1\u001b[22m\u001b[39m\u001b[31m\u001b[1m)\u001b[22m\u001b[39m\n",
       "│  │  └─ \u001b[37m\u001b[1m(2,)\u001b[22m\u001b[39mshift(0.22277943843476922)\n",
       "│  ├─ \u001b[36m\u001b[1mput on (\u001b[22m\u001b[39m\u001b[36m\u001b[1m1\u001b[22m\u001b[39m\u001b[36m\u001b[1m)\u001b[22m\u001b[39m\n",
       "│  │  └─ \u001b[34m\u001b[1mchain\u001b[22m\u001b[39m\n",
       "│  │     ├─ rot(X gate, 0.6583878015555824)\n",
       "│  │     └─ rot(Z gate, 0.054800922397594265)\n",
       "│  ├─ \u001b[36m\u001b[1mput on (\u001b[22m\u001b[39m\u001b[36m\u001b[1m2\u001b[22m\u001b[39m\u001b[36m\u001b[1m)\u001b[22m\u001b[39m\n",
       "│  │  └─ H gate\n",
       "│  ├─ \u001b[36m\u001b[1mput on (\u001b[22m\u001b[39m\u001b[36m\u001b[1m2\u001b[22m\u001b[39m\u001b[36m\u001b[1m)\u001b[22m\u001b[39m\n",
       "│  │  └─ rot(Z gate, 0.6029031531918727)\n",
       "│  └─ Measure{2,1,AbstractBlock}\n",
       "└─ \u001b[34m\u001b[1mchain\u001b[22m\u001b[39m\n",
       "   ├─ \u001b[36m\u001b[1mput on (\u001b[22m\u001b[39m\u001b[36m\u001b[1m1\u001b[22m\u001b[39m\u001b[36m\u001b[1m)\u001b[22m\u001b[39m\n",
       "   │  └─ \u001b[34m\u001b[1mchain\u001b[22m\u001b[39m\n",
       "   │     ├─ rot(X gate, 0.5187383397135643)\n",
       "   │     └─ rot(Z gate, 0.34841339767803015)\n",
       "   ├─ \u001b[36m\u001b[1mput on (\u001b[22m\u001b[39m\u001b[36m\u001b[1m2\u001b[22m\u001b[39m\u001b[36m\u001b[1m)\u001b[22m\u001b[39m\n",
       "   │  └─ H gate\n",
       "   ├─ \u001b[36m\u001b[1mput on (\u001b[22m\u001b[39m\u001b[36m\u001b[1m2\u001b[22m\u001b[39m\u001b[36m\u001b[1m)\u001b[22m\u001b[39m\n",
       "   │  └─ rot(Z gate, 0.7031413016787984)\n",
       "   ├─ \u001b[31m\u001b[1mcontrol(\u001b[22m\u001b[39m\u001b[31m\u001b[1m1\u001b[22m\u001b[39m\u001b[31m\u001b[1m)\u001b[22m\u001b[39m\n",
       "   │  └─ \u001b[37m\u001b[1m(2,)\u001b[22m\u001b[39mshift(0.5361579854441212)\n",
       "   ├─ \u001b[36m\u001b[1mput on (\u001b[22m\u001b[39m\u001b[36m\u001b[1m1\u001b[22m\u001b[39m\u001b[36m\u001b[1m)\u001b[22m\u001b[39m\n",
       "   │  └─ \u001b[34m\u001b[1mchain\u001b[22m\u001b[39m\n",
       "   │     ├─ rot(X gate, 0.8057911183128879)\n",
       "   │     └─ rot(Z gate, 0.37193762663808716)\n",
       "   ├─ \u001b[36m\u001b[1mput on (\u001b[22m\u001b[39m\u001b[36m\u001b[1m2\u001b[22m\u001b[39m\u001b[36m\u001b[1m)\u001b[22m\u001b[39m\n",
       "   │  └─ H gate\n",
       "   ├─ \u001b[36m\u001b[1mput on (\u001b[22m\u001b[39m\u001b[36m\u001b[1m2\u001b[22m\u001b[39m\u001b[36m\u001b[1m)\u001b[22m\u001b[39m\n",
       "   │  └─ rot(Z gate, 0.6136187886652058)\n",
       "   ├─ Measure{2,1,AbstractBlock}\n",
       "   └─ Measure{2,1,AbstractBlock}\n"
      ]
     },
     "execution_count": 370,
     "metadata": {},
     "output_type": "execute_result"
    }
   ],
   "source": [
    "circuit = twoqubit_circuit(1, 3)"
   ]
  },
  {
   "cell_type": "code",
   "execution_count": 371,
   "metadata": {},
   "outputs": [
    {
     "data": {
      "text/plain": [
       "gensample"
      ]
     },
     "execution_count": 371,
     "metadata": {},
     "output_type": "execute_result"
    }
   ],
   "source": [
    "\"\"\"\n",
    "    gensample(circuit, operator; nbatch=1024) -> Vector of Measure\n",
    "\n",
    "Generate samples from MPS-inspired circuit. Here, `nbatch` means nshot.\n",
    "`operator` is the operator to measure.\n",
    "This function returns a vector of `Measure` gates, results are stored in `m.results`.\n",
    "\"\"\"\n",
    "function gensample(circuit, operator; nbatch=1024)\n",
    "    mblocks = collect_blocks(Measure, circuit)\n",
    "    for m in mblocks\n",
    "        m.operator = operator\n",
    "    end\n",
    "    reg = zero_state(nqubits(circuit); nbatch=nbatch)\n",
    "    reg |> circuit\n",
    "    mblocks\n",
    "end"
   ]
  },
  {
   "cell_type": "code",
   "execution_count": 372,
   "metadata": {},
   "outputs": [
    {
     "data": {
      "text/plain": [
       "4-element Array{Measure,1}:\n",
       " Measure{2,1,AbstractBlock}\n",
       " Measure{2,1,AbstractBlock}\n",
       " Measure{2,1,AbstractBlock}\n",
       " Measure{2,1,AbstractBlock}"
      ]
     },
     "execution_count": 372,
     "metadata": {},
     "output_type": "execute_result"
    }
   ],
   "source": [
    "res = gensample(circuit, X; nbatch=1024)"
   ]
  },
  {
   "cell_type": "code",
   "execution_count": 373,
   "metadata": {},
   "outputs": [
    {
     "data": {
      "text/plain": [
       "1024-element Array{Int64,1}:\n",
       "  1\n",
       " -1\n",
       " -1\n",
       "  1\n",
       "  1\n",
       " -1\n",
       "  1\n",
       "  1\n",
       "  1\n",
       "  1\n",
       " -1\n",
       "  1\n",
       "  1\n",
       "  ⋮\n",
       "  1\n",
       "  1\n",
       "  1\n",
       "  1\n",
       "  1\n",
       " -1\n",
       "  1\n",
       "  1\n",
       " -1\n",
       "  1\n",
       "  1\n",
       "  1"
      ]
     },
     "execution_count": 373,
     "metadata": {},
     "output_type": "execute_result"
    }
   ],
   "source": [
    "res[1].results"
   ]
  },
  {
   "cell_type": "markdown",
   "metadata": {},
   "source": [
    "## Model Hamiltonians"
   ]
  },
  {
   "cell_type": "markdown",
   "metadata": {},
   "source": [
    "### Transverse field Ising Model\n",
    "\n",
    "$H = \\sum\\limits_{i=1}^{N-1} s_i^z s^z_{i+1} + h\\sum\\limits^{N}_{i=1} s_i^x$\n",
    "\n",
    "where $s^\\alpha = \\frac 1 2 \\sigma^\\alpha$ is the spin operator."
   ]
  },
  {
   "cell_type": "code",
   "execution_count": 374,
   "metadata": {},
   "outputs": [
    {
     "data": {
      "text/plain": [
       "nspin (generic function with 1 method)"
      ]
     },
     "execution_count": 374,
     "metadata": {},
     "output_type": "execute_result"
    }
   ],
   "source": [
    "\"\"\"\n",
    "for simplicity, we require an AbstractModel contains `size` and `periodic` members.\n",
    "\"\"\"\n",
    "abstract type AbstractModel{D} end\n",
    "\n",
    "nspin(model::AbstractModel) = prod(model.size)"
   ]
  },
  {
   "cell_type": "code",
   "execution_count": 375,
   "metadata": {},
   "outputs": [
    {
     "data": {
      "text/plain": [
       "TFI"
      ]
     },
     "execution_count": 375,
     "metadata": {},
     "output_type": "execute_result"
    }
   ],
   "source": [
    "\"\"\"\n",
    "transverse field ising model, `h` is the strength of transverse field.\n",
    "\"\"\"\n",
    "struct TFI{D} <:AbstractModel{1}\n",
    "    size::NTuple{D, Int}\n",
    "    h::Float64\n",
    "    periodic::Bool\n",
    "    TFI(size::Int...; h::Real, periodic::Bool) = new{length(size)}(size, Float64(h), periodic)\n",
    "end"
   ]
  },
  {
   "cell_type": "code",
   "execution_count": 376,
   "metadata": {},
   "outputs": [
    {
     "data": {
      "text/plain": [
       "get_bonds (generic function with 2 methods)"
      ]
     },
     "execution_count": 376,
     "metadata": {},
     "output_type": "execute_result"
    }
   ],
   "source": [
    "function get_bonds(model::AbstractModel{1})\n",
    "    nbit, = model.size\n",
    "    [(i, i%nbit+1) for i in 1:(model.periodic ? nbit : nbit-1)]\n",
    "end\n",
    "\n",
    "function get_bonds(model::AbstractModel{2})\n",
    "    m, n = model.size\n",
    "    cis = LinearIndices(model.size)\n",
    "    bonds = Tuple{Int, Int, Float64}[]\n",
    "    for i=1:m, j=1:n\n",
    "        (i!=m || model.periodic) && push!(bonds, (cis[i,j], cis[i%m+1,j]))\n",
    "        (j!=n || model.periodic) && push!(bonds, (cis[i,j], cis[i,j%n+1]))\n",
    "    end\n",
    "    bonds\n",
    "end"
   ]
  },
  {
   "cell_type": "code",
   "execution_count": 377,
   "metadata": {},
   "outputs": [
    {
     "data": {
      "text/plain": [
       "hamiltonian (generic function with 2 methods)"
      ]
     },
     "execution_count": 377,
     "metadata": {},
     "output_type": "execute_result"
    }
   ],
   "source": [
    "function hamiltonian(model::TFI{1})\n",
    "    nbit = nspin(model)\n",
    "    sum(repeat(nbit, Z, (i,j)) for (i,j) in get_bonds(model))*0.25 +\n",
    "    sum(put(nbit, i=>X) for i=1:nbit)*0.5model.h\n",
    "end"
   ]
  },
  {
   "cell_type": "code",
   "execution_count": 378,
   "metadata": {},
   "outputs": [
    {
     "data": {
      "text/plain": [
       "TFI{1}((4,), 0.5, false)"
      ]
     },
     "execution_count": 378,
     "metadata": {},
     "output_type": "execute_result"
    }
   ],
   "source": [
    "tfi_model = TFI(4; h=0.5, periodic=false)"
   ]
  },
  {
   "cell_type": "code",
   "execution_count": 379,
   "metadata": {
    "scrolled": true
   },
   "outputs": [
    {
     "data": {
      "text/plain": [
       "\u001b[36mnqubits: 4, datatype: Complex{Float64}\u001b[39m\n",
       "\u001b[34m\u001b[1msum\u001b[22m\u001b[39m\n",
       "├─ \u001b[33m\u001b[1m[scale: 0.25] \u001b[22m\u001b[39m\u001b[34m\u001b[1msum\u001b[22m\u001b[39m\n",
       "│     ├─ \u001b[36m\u001b[1mrepeat on (\u001b[22m\u001b[39m\u001b[36m\u001b[1m1\u001b[22m\u001b[39m\u001b[36m\u001b[1m, \u001b[22m\u001b[39m\u001b[36m\u001b[1m2\u001b[22m\u001b[39m\u001b[36m\u001b[1m)\u001b[22m\u001b[39m\n",
       "│     │  └─ Z gate\n",
       "│     ├─ \u001b[36m\u001b[1mrepeat on (\u001b[22m\u001b[39m\u001b[36m\u001b[1m2\u001b[22m\u001b[39m\u001b[36m\u001b[1m, \u001b[22m\u001b[39m\u001b[36m\u001b[1m3\u001b[22m\u001b[39m\u001b[36m\u001b[1m)\u001b[22m\u001b[39m\n",
       "│     │  └─ Z gate\n",
       "│     └─ \u001b[36m\u001b[1mrepeat on (\u001b[22m\u001b[39m\u001b[36m\u001b[1m3\u001b[22m\u001b[39m\u001b[36m\u001b[1m, \u001b[22m\u001b[39m\u001b[36m\u001b[1m4\u001b[22m\u001b[39m\u001b[36m\u001b[1m)\u001b[22m\u001b[39m\n",
       "│        └─ Z gate\n",
       "└─ \u001b[33m\u001b[1m[scale: 0.25] \u001b[22m\u001b[39m\u001b[34m\u001b[1msum\u001b[22m\u001b[39m\n",
       "      ├─ \u001b[36m\u001b[1mput on (\u001b[22m\u001b[39m\u001b[36m\u001b[1m1\u001b[22m\u001b[39m\u001b[36m\u001b[1m)\u001b[22m\u001b[39m\n",
       "      │  └─ X gate\n",
       "      ├─ \u001b[36m\u001b[1mput on (\u001b[22m\u001b[39m\u001b[36m\u001b[1m2\u001b[22m\u001b[39m\u001b[36m\u001b[1m)\u001b[22m\u001b[39m\n",
       "      │  └─ X gate\n",
       "      ├─ \u001b[36m\u001b[1mput on (\u001b[22m\u001b[39m\u001b[36m\u001b[1m3\u001b[22m\u001b[39m\u001b[36m\u001b[1m)\u001b[22m\u001b[39m\n",
       "      │  └─ X gate\n",
       "      └─ \u001b[36m\u001b[1mput on (\u001b[22m\u001b[39m\u001b[36m\u001b[1m4\u001b[22m\u001b[39m\u001b[36m\u001b[1m)\u001b[22m\u001b[39m\n",
       "         └─ X gate\n"
      ]
     },
     "execution_count": 379,
     "metadata": {},
     "output_type": "execute_result"
    }
   ],
   "source": [
    "tfi_h = hamiltonian(tfi_model)"
   ]
  },
  {
   "cell_type": "markdown",
   "metadata": {},
   "source": [
    "Get the energy through sampling"
   ]
  },
  {
   "cell_type": "code",
   "execution_count": 380,
   "metadata": {},
   "outputs": [
    {
     "data": {
      "text/plain": [
       "energy (generic function with 2 methods)"
      ]
     },
     "execution_count": 380,
     "metadata": {},
     "output_type": "execute_result"
    }
   ],
   "source": [
    "function ising_energy(circuit, bonds, basis; nbatch=nbatch)\n",
    "    mblocks = gensample(circuit, basis; nbatch=nbatch)\n",
    "    nspin = length(mblocks)\n",
    "    local eng = 0.0\n",
    "    for (a, b) in bonds\n",
    "        eng += mean(mblocks[a].results .* mblocks[b].results)\n",
    "    end\n",
    "    eng/=4\n",
    "end\n",
    "\n",
    "function energy(circuit, model::TFI; nbatch=1024)\n",
    "    # measuring Z\n",
    "    eng = ising_energy(circuit, get_bonds(model), Z; nbatch=nbatch)\n",
    "    # measuring X\n",
    "    mblocks = gensample(circuit, X; nbatch=nbatch)\n",
    "    engx = sum(mean.([m.results for m in mblocks]))\n",
    "    eng + model.h*engx/2\n",
    "end"
   ]
  },
  {
   "cell_type": "code",
   "execution_count": 381,
   "metadata": {},
   "outputs": [
    {
     "data": {
      "text/plain": [
       "0.66818"
      ]
     },
     "execution_count": 381,
     "metadata": {},
     "output_type": "execute_result"
    }
   ],
   "source": [
    "energy(circuit, tfi_model; nbatch=100000)"
   ]
  },
  {
   "cell_type": "markdown",
   "metadata": {},
   "source": [
    "### Heisenberg Model\n",
    "\n",
    "$H = \\sum\\limits_{\\alpha=x,y,z; i=1}^{N-1} s_i^\\alpha s^\\alpha_{i+1}$\n",
    "\n",
    "where $s^\\alpha = \\frac 1 2 \\sigma^\\alpha$ is the spin operator."
   ]
  },
  {
   "cell_type": "code",
   "execution_count": 382,
   "metadata": {},
   "outputs": [],
   "source": [
    "struct Heisenberg{D} <: AbstractModel{D}\n",
    "    size::NTuple{D, Int}\n",
    "    periodic::Bool\n",
    "    Heisenberg(size::Int...; periodic::Bool) = new{length(size)}(size, periodic)\n",
    "end"
   ]
  },
  {
   "cell_type": "code",
   "execution_count": 330,
   "metadata": {},
   "outputs": [
    {
     "data": {
      "text/plain": [
       "hamiltonian (generic function with 2 methods)"
      ]
     },
     "execution_count": 330,
     "metadata": {},
     "output_type": "execute_result"
    }
   ],
   "source": [
    "heisenberg_ij(nbit::Int, i::Int, j::Int=i+1) = put(nbit, i=>X)*put(nbit, j=>X) + put(nbit, i=>Y)*put(nbit, j=>Y) + put(nbit, i=>Z)*put(nbit, j=>Z)\n",
    "function hamiltonian(model::Heisenberg)\n",
    "    nbit = nspin(model)\n",
    "    sum(x->heisenberg_ij(nbit, x[1], x[2]), get_bonds(model))*0.25\n",
    "end"
   ]
  },
  {
   "cell_type": "markdown",
   "metadata": {},
   "source": [
    "The energy can be estimated through sampling"
   ]
  },
  {
   "cell_type": "code",
   "execution_count": 331,
   "metadata": {},
   "outputs": [
    {
     "data": {
      "text/plain": [
       "energy (generic function with 2 methods)"
      ]
     },
     "execution_count": 331,
     "metadata": {},
     "output_type": "execute_result"
    }
   ],
   "source": [
    "function energy(circuit, model::Heisenberg; nbatch=1024)\n",
    "    bonds = get_bonds(model)\n",
    "    sum(basis->ising_energy(circuit, bonds, basis; nbatch=nbatch), [X, Y, Z])\n",
    "end"
   ]
  },
  {
   "cell_type": "code",
   "execution_count": 332,
   "metadata": {},
   "outputs": [
    {
     "data": {
      "text/plain": [
       "Heisenberg{1}((4,), false)"
      ]
     },
     "execution_count": 332,
     "metadata": {},
     "output_type": "execute_result"
    }
   ],
   "source": [
    "hei_model = Heisenberg(4; periodic=false)"
   ]
  },
  {
   "cell_type": "code",
   "execution_count": 350,
   "metadata": {},
   "outputs": [
    {
     "data": {
      "text/plain": [
       "0.6640625"
      ]
     },
     "execution_count": 350,
     "metadata": {},
     "output_type": "execute_result"
    }
   ],
   "source": [
    "energy(circuit, hei_model)"
   ]
  },
  {
   "cell_type": "markdown",
   "metadata": {},
   "source": [
    "# Build the expanded view and check the energy\n",
    "\n",
    "The expanded view is the equivalent model without qubit reusing, it is used for testing purpose.\n",
    "From this circuit, we are able to obtain the ground state wave function directly.\n",
    "\n",
    "<div style=\"display:inline-block\"><img style=\"float:left\", src=\"images/fourqubit.png\"></div>"
   ]
  },
  {
   "cell_type": "code",
   "execution_count": 383,
   "metadata": {},
   "outputs": [
    {
     "data": {
      "text/plain": [
       "expand_circuit (generic function with 1 method)"
      ]
     },
     "execution_count": 383,
     "metadata": {},
     "output_type": "execute_result"
    }
   ],
   "source": [
    "function expand_circuit(circuit)\n",
    "    nbit = length(collect_blocks(Measure, circuit))\n",
    "    nm = 1\n",
    "    nv = 1\n",
    "    c = chain(nbit)\n",
    "    for (i, blk) in enumerate(circuit)\n",
    "        blk = chain([b for b in blk if !(b isa Measure)]...)\n",
    "        push!(c, concentrate(nbit, blk, [(i-1)*nm+1:i*nm..., nbit-nv+1:nbit...]))\n",
    "    end\n",
    "    c\n",
    "end"
   ]
  },
  {
   "cell_type": "code",
   "execution_count": 384,
   "metadata": {},
   "outputs": [
    {
     "data": {
      "text/plain": [
       "\u001b[36mnqubits: 4, datatype: Complex{Float64}\u001b[39m\n",
       "\u001b[34m\u001b[1mchain\u001b[22m\u001b[39m\n",
       "├─ Concentrator: (1, 4)\n",
       "│  └─ \u001b[34m\u001b[1mchain\u001b[22m\u001b[39m\n",
       "│     ├─ \u001b[36m\u001b[1mput on (\u001b[22m\u001b[39m\u001b[36m\u001b[1m1\u001b[22m\u001b[39m\u001b[36m\u001b[1m)\u001b[22m\u001b[39m\n",
       "│     │  └─ \u001b[34m\u001b[1mchain\u001b[22m\u001b[39m\n",
       "│     │     ├─ rot(X gate, 0.21095863334236697)\n",
       "│     │     └─ rot(Z gate, 0.7061513298045752)\n",
       "│     ├─ \u001b[36m\u001b[1mput on (\u001b[22m\u001b[39m\u001b[36m\u001b[1m2\u001b[22m\u001b[39m\u001b[36m\u001b[1m)\u001b[22m\u001b[39m\n",
       "│     │  └─ H gate\n",
       "│     ├─ \u001b[36m\u001b[1mput on (\u001b[22m\u001b[39m\u001b[36m\u001b[1m2\u001b[22m\u001b[39m\u001b[36m\u001b[1m)\u001b[22m\u001b[39m\n",
       "│     │  └─ rot(Z gate, 0.606758675085191)\n",
       "│     ├─ \u001b[31m\u001b[1mcontrol(\u001b[22m\u001b[39m\u001b[31m\u001b[1m1\u001b[22m\u001b[39m\u001b[31m\u001b[1m)\u001b[22m\u001b[39m\n",
       "│     │  └─ \u001b[37m\u001b[1m(2,)\u001b[22m\u001b[39mshift(0.8692942974976297)\n",
       "│     ├─ \u001b[36m\u001b[1mput on (\u001b[22m\u001b[39m\u001b[36m\u001b[1m1\u001b[22m\u001b[39m\u001b[36m\u001b[1m)\u001b[22m\u001b[39m\n",
       "│     │  └─ \u001b[34m\u001b[1mchain\u001b[22m\u001b[39m\n",
       "│     │     ├─ rot(X gate, 0.9742930709729192)\n",
       "│     │     └─ rot(Z gate, 0.2511950574828521)\n",
       "│     ├─ \u001b[36m\u001b[1mput on (\u001b[22m\u001b[39m\u001b[36m\u001b[1m2\u001b[22m\u001b[39m\u001b[36m\u001b[1m)\u001b[22m\u001b[39m\n",
       "│     │  └─ H gate\n",
       "│     └─ \u001b[36m\u001b[1mput on (\u001b[22m\u001b[39m\u001b[36m\u001b[1m2\u001b[22m\u001b[39m\u001b[36m\u001b[1m)\u001b[22m\u001b[39m\n",
       "│        └─ rot(Z gate, 0.8950395744932531)\n",
       "├─ Concentrator: (2, 4)\n",
       "│  └─ \u001b[34m\u001b[1mchain\u001b[22m\u001b[39m\n",
       "│     ├─ \u001b[36m\u001b[1mput on (\u001b[22m\u001b[39m\u001b[36m\u001b[1m1\u001b[22m\u001b[39m\u001b[36m\u001b[1m)\u001b[22m\u001b[39m\n",
       "│     │  └─ \u001b[34m\u001b[1mchain\u001b[22m\u001b[39m\n",
       "│     │     ├─ rot(X gate, 0.8280959771285328)\n",
       "│     │     └─ rot(Z gate, 0.6397794287466416)\n",
       "│     ├─ \u001b[36m\u001b[1mput on (\u001b[22m\u001b[39m\u001b[36m\u001b[1m2\u001b[22m\u001b[39m\u001b[36m\u001b[1m)\u001b[22m\u001b[39m\n",
       "│     │  └─ H gate\n",
       "│     ├─ \u001b[36m\u001b[1mput on (\u001b[22m\u001b[39m\u001b[36m\u001b[1m2\u001b[22m\u001b[39m\u001b[36m\u001b[1m)\u001b[22m\u001b[39m\n",
       "│     │  └─ rot(Z gate, 0.43658892015653006)\n",
       "│     ├─ \u001b[31m\u001b[1mcontrol(\u001b[22m\u001b[39m\u001b[31m\u001b[1m1\u001b[22m\u001b[39m\u001b[31m\u001b[1m)\u001b[22m\u001b[39m\n",
       "│     │  └─ \u001b[37m\u001b[1m(2,)\u001b[22m\u001b[39mshift(0.22277943843476922)\n",
       "│     ├─ \u001b[36m\u001b[1mput on (\u001b[22m\u001b[39m\u001b[36m\u001b[1m1\u001b[22m\u001b[39m\u001b[36m\u001b[1m)\u001b[22m\u001b[39m\n",
       "│     │  └─ \u001b[34m\u001b[1mchain\u001b[22m\u001b[39m\n",
       "│     │     ├─ rot(X gate, 0.6583878015555824)\n",
       "│     │     └─ rot(Z gate, 0.054800922397594265)\n",
       "│     ├─ \u001b[36m\u001b[1mput on (\u001b[22m\u001b[39m\u001b[36m\u001b[1m2\u001b[22m\u001b[39m\u001b[36m\u001b[1m)\u001b[22m\u001b[39m\n",
       "│     │  └─ H gate\n",
       "│     └─ \u001b[36m\u001b[1mput on (\u001b[22m\u001b[39m\u001b[36m\u001b[1m2\u001b[22m\u001b[39m\u001b[36m\u001b[1m)\u001b[22m\u001b[39m\n",
       "│        └─ rot(Z gate, 0.6029031531918727)\n",
       "└─ Concentrator: (3, 4)\n",
       "   └─ \u001b[34m\u001b[1mchain\u001b[22m\u001b[39m\n",
       "      ├─ \u001b[36m\u001b[1mput on (\u001b[22m\u001b[39m\u001b[36m\u001b[1m1\u001b[22m\u001b[39m\u001b[36m\u001b[1m)\u001b[22m\u001b[39m\n",
       "      │  └─ \u001b[34m\u001b[1mchain\u001b[22m\u001b[39m\n",
       "      │     ├─ rot(X gate, 0.5187383397135643)\n",
       "      │     └─ rot(Z gate, 0.34841339767803015)\n",
       "      ├─ \u001b[36m\u001b[1mput on (\u001b[22m\u001b[39m\u001b[36m\u001b[1m2\u001b[22m\u001b[39m\u001b[36m\u001b[1m)\u001b[22m\u001b[39m\n",
       "      │  └─ H gate\n",
       "      ├─ \u001b[36m\u001b[1mput on (\u001b[22m\u001b[39m\u001b[36m\u001b[1m2\u001b[22m\u001b[39m\u001b[36m\u001b[1m)\u001b[22m\u001b[39m\n",
       "      │  └─ rot(Z gate, 0.7031413016787984)\n",
       "      ├─ \u001b[31m\u001b[1mcontrol(\u001b[22m\u001b[39m\u001b[31m\u001b[1m1\u001b[22m\u001b[39m\u001b[31m\u001b[1m)\u001b[22m\u001b[39m\n",
       "      │  └─ \u001b[37m\u001b[1m(2,)\u001b[22m\u001b[39mshift(0.5361579854441212)\n",
       "      ├─ \u001b[36m\u001b[1mput on (\u001b[22m\u001b[39m\u001b[36m\u001b[1m1\u001b[22m\u001b[39m\u001b[36m\u001b[1m)\u001b[22m\u001b[39m\n",
       "      │  └─ \u001b[34m\u001b[1mchain\u001b[22m\u001b[39m\n",
       "      │     ├─ rot(X gate, 0.8057911183128879)\n",
       "      │     └─ rot(Z gate, 0.37193762663808716)\n",
       "      ├─ \u001b[36m\u001b[1mput on (\u001b[22m\u001b[39m\u001b[36m\u001b[1m2\u001b[22m\u001b[39m\u001b[36m\u001b[1m)\u001b[22m\u001b[39m\n",
       "      │  └─ H gate\n",
       "      └─ \u001b[36m\u001b[1mput on (\u001b[22m\u001b[39m\u001b[36m\u001b[1m2\u001b[22m\u001b[39m\u001b[36m\u001b[1m)\u001b[22m\u001b[39m\n",
       "         └─ rot(Z gate, 0.6136187886652058)\n"
      ]
     },
     "execution_count": 384,
     "metadata": {},
     "output_type": "execute_result"
    }
   ],
   "source": [
    "c_expand = expand_circuit(circuit)"
   ]
  },
  {
   "cell_type": "code",
   "execution_count": 385,
   "metadata": {},
   "outputs": [
    {
     "data": {
      "text/plain": [
       "wave_function (generic function with 1 method)"
      ]
     },
     "execution_count": 385,
     "metadata": {},
     "output_type": "execute_result"
    }
   ],
   "source": [
    "function wave_function(circuit)\n",
    "    ec = chem2circuit(circuit)\n",
    "    zero_state(nqubits(ec)) |> ec\n",
    "end"
   ]
  },
  {
   "cell_type": "code",
   "execution_count": 386,
   "metadata": {},
   "outputs": [
    {
     "name": "stdout",
     "output_type": "stream",
     "text": [
      "expect(tfi_h, wave_function(circuit)) |> real = 0.6680718837003601\n",
      "expect(hamiltonian(hei_model), wave_function(circuit)) |> real = 0.643674834586592\n"
     ]
    }
   ],
   "source": [
    "@show expect(tfi_h, wave_function(circuit)) |> real\n",
    "@show expect(hamiltonian(hei_model), wave_function(circuit)) |> real;"
   ]
  },
  {
   "cell_type": "markdown",
   "metadata": {},
   "source": [
    "## Obtaining the ground state\n",
    "\n",
    "Sequential optimization\n",
    "1. obtain the gradient of one parameter a time $\\frac{\\partial E_\\theta}{\\partial \\theta} = \\frac 1 2 (E_{\\theta+\\pi/2}-E_{\\theta-\\pi/2})$\n",
    "2. perform gradient descent update of this parameter $\\theta\\rightarrow \\theta-\\alpha \\frac{\\partial E_\\theta}{\\partial \\theta}$\n",
    "3. sweep all parameters until convergence."
   ]
  },
  {
   "cell_type": "code",
   "execution_count": 387,
   "metadata": {},
   "outputs": [
    {
     "data": {
      "text/plain": [
       "fidelity (generic function with 1 method)"
      ]
     },
     "execution_count": 387,
     "metadata": {},
     "output_type": "execute_result"
    }
   ],
   "source": [
    "function fidelity(circuit, VG)\n",
    "    psi = zero_state(nqubits(circuit)) |> circuit\n",
    "    abs(statevec(psi)' * VG)\n",
    "end"
   ]
  },
  {
   "cell_type": "code",
   "execution_count": 388,
   "metadata": {},
   "outputs": [
    {
     "data": {
      "text/plain": [
       "21"
      ]
     },
     "execution_count": 388,
     "metadata": {},
     "output_type": "execute_result"
    }
   ],
   "source": [
    "nparameters(circuit)"
   ]
  },
  {
   "cell_type": "code",
   "execution_count": 389,
   "metadata": {},
   "outputs": [],
   "source": [
    "include(\"lib/Adam.jl\")\n",
    "using QuAlgorithmZoo: Sequence"
   ]
  },
  {
   "cell_type": "code",
   "execution_count": 402,
   "metadata": {},
   "outputs": [
    {
     "data": {
      "text/plain": [
       "train_adam (generic function with 1 method)"
      ]
     },
     "execution_count": 402,
     "metadata": {},
     "output_type": "execute_result"
    }
   ],
   "source": [
    "function train_adam(circuit, model; VG=nothing, maxiter=200, α=0.3, nbatch=1024)\n",
    "    rots = Sequence(collect_blocks(Union{RotationGate, ControlBlock{<:Any, <:ShiftGate}}, circuit))\n",
    "    c_expanded = expand_circuit(circuit)\n",
    "    loss_history = Float64[]\n",
    "    params = parameters(rots)\n",
    "    grad = zero(params)\n",
    "    optimizer = Adam(lr=α)\n",
    "    for i in 0:maxiter\n",
    "        for (j,r) in enumerate(rots.blocks)\n",
    "            dispatch!(+, r, (π/2,))\n",
    "            E₊ = energy(circuit, model; nbatch=nbatch)\n",
    "            dispatch!(-, r, (π,))\n",
    "            E₋ = energy(circuit, model; nbatch=nbatch)\n",
    "            dispatch!(+, r, (π/2,))\n",
    "            g = 0.5(E₊ - E₋)\n",
    "            grad[j] = g\n",
    "        end\n",
    "        update!(params, grad, optimizer)\n",
    "        dispatch!(rots, params)\n",
    "        push!(loss_history, energy(circuit, model, nbatch=nbatch)/nspin(model))\n",
    "        \n",
    "        if i%10 == 0\n",
    "            print(\"Iter $i, E/N = $(loss_history[end])\")\n",
    "            if !(VG isa Nothing)\n",
    "                dispatch!(c_expanded, params)\n",
    "                fid = fidelity(c_expanded, VG)\n",
    "                println(\", fidelity = $fid\")\n",
    "            else\n",
    "                println()\n",
    "            end\n",
    "        end\n",
    "    end\n",
    "    loss_history, circuit\n",
    "end"
   ]
  },
  {
   "cell_type": "code",
   "execution_count": 403,
   "metadata": {},
   "outputs": [
    {
     "data": {
      "text/plain": [
       "\u001b[36mnqubits: 4, datatype: Complex{Float64}\u001b[39m\n",
       "\u001b[34m\u001b[1msum\u001b[22m\u001b[39m\n",
       "├─ \u001b[33m\u001b[1m[scale: 0.25] \u001b[22m\u001b[39m\u001b[34m\u001b[1msum\u001b[22m\u001b[39m\n",
       "│     ├─ \u001b[36m\u001b[1mrepeat on (\u001b[22m\u001b[39m\u001b[36m\u001b[1m1\u001b[22m\u001b[39m\u001b[36m\u001b[1m, \u001b[22m\u001b[39m\u001b[36m\u001b[1m2\u001b[22m\u001b[39m\u001b[36m\u001b[1m)\u001b[22m\u001b[39m\n",
       "│     │  └─ Z gate\n",
       "│     ├─ \u001b[36m\u001b[1mrepeat on (\u001b[22m\u001b[39m\u001b[36m\u001b[1m2\u001b[22m\u001b[39m\u001b[36m\u001b[1m, \u001b[22m\u001b[39m\u001b[36m\u001b[1m3\u001b[22m\u001b[39m\u001b[36m\u001b[1m)\u001b[22m\u001b[39m\n",
       "│     │  └─ Z gate\n",
       "│     └─ \u001b[36m\u001b[1mrepeat on (\u001b[22m\u001b[39m\u001b[36m\u001b[1m3\u001b[22m\u001b[39m\u001b[36m\u001b[1m, \u001b[22m\u001b[39m\u001b[36m\u001b[1m4\u001b[22m\u001b[39m\u001b[36m\u001b[1m)\u001b[22m\u001b[39m\n",
       "│        └─ Z gate\n",
       "└─ \u001b[33m\u001b[1m[scale: 0.25] \u001b[22m\u001b[39m\u001b[34m\u001b[1msum\u001b[22m\u001b[39m\n",
       "      ├─ \u001b[36m\u001b[1mput on (\u001b[22m\u001b[39m\u001b[36m\u001b[1m1\u001b[22m\u001b[39m\u001b[36m\u001b[1m)\u001b[22m\u001b[39m\n",
       "      │  └─ X gate\n",
       "      ├─ \u001b[36m\u001b[1mput on (\u001b[22m\u001b[39m\u001b[36m\u001b[1m2\u001b[22m\u001b[39m\u001b[36m\u001b[1m)\u001b[22m\u001b[39m\n",
       "      │  └─ X gate\n",
       "      ├─ \u001b[36m\u001b[1mput on (\u001b[22m\u001b[39m\u001b[36m\u001b[1m3\u001b[22m\u001b[39m\u001b[36m\u001b[1m)\u001b[22m\u001b[39m\n",
       "      │  └─ X gate\n",
       "      └─ \u001b[36m\u001b[1mput on (\u001b[22m\u001b[39m\u001b[36m\u001b[1m4\u001b[22m\u001b[39m\u001b[36m\u001b[1m)\u001b[22m\u001b[39m\n",
       "         └─ X gate\n"
      ]
     },
     "execution_count": 403,
     "metadata": {},
     "output_type": "execute_result"
    }
   ],
   "source": [
    "lattice_size = 4\n",
    "circuit = twoqubit_circuit(1, lattice_size-1)\n",
    "model = TFI(lattice_size; h=0.5, periodic=false)\n",
    "#model = Heisenberg(lattice_size; periodic=false)\n",
    "h = hamiltonian(model)"
   ]
  },
  {
   "cell_type": "code",
   "execution_count": 404,
   "metadata": {},
   "outputs": [
    {
     "name": "stdout",
     "output_type": "stream",
     "text": [
      "EG = -0.29742315519647605\n"
     ]
    }
   ],
   "source": [
    "# obtain the exact ground state energy\n",
    "res = eigen(mat(h) |> Matrix)\n",
    "EG = res.values[1]/nspin(model)\n",
    "@show EG\n",
    "VG = res.vectors[:,1];"
   ]
  },
  {
   "cell_type": "code",
   "execution_count": 405,
   "metadata": {},
   "outputs": [
    {
     "data": {
      "text/plain": [
       "21"
      ]
     },
     "execution_count": 405,
     "metadata": {},
     "output_type": "execute_result"
    }
   ],
   "source": [
    "nparameters(circuit)"
   ]
  },
  {
   "cell_type": "code",
   "execution_count": 421,
   "metadata": {
    "scrolled": true
   },
   "outputs": [
    {
     "name": "stdout",
     "output_type": "stream",
     "text": [
      "Iter 0, E/N = 0.0726318359375, fidelity = 0.25845579205809155\n",
      "Iter 10, E/N = -0.23974609375, fidelity = 0.6896265156498435\n",
      "Iter 20, E/N = -0.2664794921875, fidelity = 0.760200799061576\n",
      "Iter 30, E/N = -0.2786865234375, fidelity = 0.7791030293220049\n",
      "Iter 40, E/N = -0.2747802734375, fidelity = 0.7858415810324807\n",
      "Iter 50, E/N = -0.2720947265625, fidelity = 0.8229853040638265\n",
      "Iter 60, E/N = -0.2752685546875, fidelity = 0.8136847347968759\n",
      "Iter 70, E/N = -0.2801513671875, fidelity = 0.8093543532049662\n",
      "Iter 80, E/N = -0.2799072265625, fidelity = 0.7981016468752032\n",
      "Iter 90, E/N = -0.2847900390625, fidelity = 0.7999621873574618\n",
      "Iter 100, E/N = -0.2757568359375, fidelity = 0.8092786873480131\n"
     ]
    }
   ],
   "source": [
    "dispatch!(circuit, :random)\n",
    "loss_history, circuit = train_adam(circuit, model; maxiter=100, VG=VG, α=0.3);"
   ]
  },
  {
   "cell_type": "code",
   "execution_count": 422,
   "metadata": {
    "scrolled": false
   },
   "outputs": [
    {
     "data": {
      "image/svg+xml": [
       "<?xml version=\"1.0\" encoding=\"utf-8\"?>\n",
       "<svg xmlns=\"http://www.w3.org/2000/svg\" xmlns:xlink=\"http://www.w3.org/1999/xlink\" width=\"600\" height=\"400\" viewBox=\"0 0 2400 1600\">\n",
       "<defs>\n",
       "  <clipPath id=\"clip0300\">\n",
       "    <rect x=\"0\" y=\"0\" width=\"2400\" height=\"1600\"/>\n",
       "  </clipPath>\n",
       "</defs>\n",
       "<polygon clip-path=\"url(#clip0300)\" points=\"\n",
       "0,1600 2400,1600 2400,0 0,0 \n",
       "  \" fill=\"#ffffff\" fill-rule=\"evenodd\" fill-opacity=\"1\"/>\n",
       "<defs>\n",
       "  <clipPath id=\"clip0301\">\n",
       "    <rect x=\"480\" y=\"0\" width=\"1681\" height=\"1600\"/>\n",
       "  </clipPath>\n",
       "</defs>\n",
       "<polygon clip-path=\"url(#clip0300)\" points=\"\n",
       "252.496,1503.47 2321.26,1503.47 2321.26,47.2441 252.496,47.2441 \n",
       "  \" fill=\"#ffffff\" fill-rule=\"evenodd\" fill-opacity=\"1\"/>\n",
       "<defs>\n",
       "  <clipPath id=\"clip0302\">\n",
       "    <rect x=\"252\" y=\"47\" width=\"2070\" height=\"1457\"/>\n",
       "  </clipPath>\n",
       "</defs>\n",
       "<polyline clip-path=\"url(#clip0302)\" style=\"stroke:#000000; stroke-width:2; stroke-opacity:0.1; fill:none\" points=\"\n",
       "  311.046,1503.47 311.046,47.2441 \n",
       "  \"/>\n",
       "<polyline clip-path=\"url(#clip0302)\" style=\"stroke:#000000; stroke-width:2; stroke-opacity:0.1; fill:none\" points=\"\n",
       "  798.962,1503.47 798.962,47.2441 \n",
       "  \"/>\n",
       "<polyline clip-path=\"url(#clip0302)\" style=\"stroke:#000000; stroke-width:2; stroke-opacity:0.1; fill:none\" points=\"\n",
       "  1286.88,1503.47 1286.88,47.2441 \n",
       "  \"/>\n",
       "<polyline clip-path=\"url(#clip0302)\" style=\"stroke:#000000; stroke-width:2; stroke-opacity:0.1; fill:none\" points=\"\n",
       "  1774.79,1503.47 1774.79,47.2441 \n",
       "  \"/>\n",
       "<polyline clip-path=\"url(#clip0302)\" style=\"stroke:#000000; stroke-width:2; stroke-opacity:0.1; fill:none\" points=\"\n",
       "  2262.71,1503.47 2262.71,47.2441 \n",
       "  \"/>\n",
       "<polyline clip-path=\"url(#clip0302)\" style=\"stroke:#000000; stroke-width:2; stroke-opacity:0.1; fill:none\" points=\"\n",
       "  252.496,1471.83 2321.26,1471.83 \n",
       "  \"/>\n",
       "<polyline clip-path=\"url(#clip0302)\" style=\"stroke:#000000; stroke-width:2; stroke-opacity:0.1; fill:none\" points=\"\n",
       "  252.496,1100.58 2321.26,1100.58 \n",
       "  \"/>\n",
       "<polyline clip-path=\"url(#clip0302)\" style=\"stroke:#000000; stroke-width:2; stroke-opacity:0.1; fill:none\" points=\"\n",
       "  252.496,729.341 2321.26,729.341 \n",
       "  \"/>\n",
       "<polyline clip-path=\"url(#clip0302)\" style=\"stroke:#000000; stroke-width:2; stroke-opacity:0.1; fill:none\" points=\"\n",
       "  252.496,358.099 2321.26,358.099 \n",
       "  \"/>\n",
       "<polyline clip-path=\"url(#clip0300)\" style=\"stroke:#000000; stroke-width:4; stroke-opacity:1; fill:none\" points=\"\n",
       "  252.496,1503.47 2321.26,1503.47 \n",
       "  \"/>\n",
       "<polyline clip-path=\"url(#clip0300)\" style=\"stroke:#000000; stroke-width:4; stroke-opacity:1; fill:none\" points=\"\n",
       "  252.496,1503.47 252.496,47.2441 \n",
       "  \"/>\n",
       "<polyline clip-path=\"url(#clip0300)\" style=\"stroke:#000000; stroke-width:4; stroke-opacity:1; fill:none\" points=\"\n",
       "  311.046,1503.47 311.046,1481.63 \n",
       "  \"/>\n",
       "<polyline clip-path=\"url(#clip0300)\" style=\"stroke:#000000; stroke-width:4; stroke-opacity:1; fill:none\" points=\"\n",
       "  798.962,1503.47 798.962,1481.63 \n",
       "  \"/>\n",
       "<polyline clip-path=\"url(#clip0300)\" style=\"stroke:#000000; stroke-width:4; stroke-opacity:1; fill:none\" points=\"\n",
       "  1286.88,1503.47 1286.88,1481.63 \n",
       "  \"/>\n",
       "<polyline clip-path=\"url(#clip0300)\" style=\"stroke:#000000; stroke-width:4; stroke-opacity:1; fill:none\" points=\"\n",
       "  1774.79,1503.47 1774.79,1481.63 \n",
       "  \"/>\n",
       "<polyline clip-path=\"url(#clip0300)\" style=\"stroke:#000000; stroke-width:4; stroke-opacity:1; fill:none\" points=\"\n",
       "  2262.71,1503.47 2262.71,1481.63 \n",
       "  \"/>\n",
       "<polyline clip-path=\"url(#clip0300)\" style=\"stroke:#000000; stroke-width:4; stroke-opacity:1; fill:none\" points=\"\n",
       "  252.496,1471.83 283.528,1471.83 \n",
       "  \"/>\n",
       "<polyline clip-path=\"url(#clip0300)\" style=\"stroke:#000000; stroke-width:4; stroke-opacity:1; fill:none\" points=\"\n",
       "  252.496,1100.58 283.528,1100.58 \n",
       "  \"/>\n",
       "<polyline clip-path=\"url(#clip0300)\" style=\"stroke:#000000; stroke-width:4; stroke-opacity:1; fill:none\" points=\"\n",
       "  252.496,729.341 283.528,729.341 \n",
       "  \"/>\n",
       "<polyline clip-path=\"url(#clip0300)\" style=\"stroke:#000000; stroke-width:4; stroke-opacity:1; fill:none\" points=\"\n",
       "  252.496,358.099 283.528,358.099 \n",
       "  \"/>\n",
       "<g clip-path=\"url(#clip0300)\">\n",
       "<text style=\"fill:#000000; fill-opacity:1; font-family:Arial,Helvetica Neue,Helvetica,sans-serif; font-size:48px; text-anchor:middle;\" transform=\"rotate(0, 311.046, 1557.47)\" x=\"311.046\" y=\"1557.47\">0</text>\n",
       "</g>\n",
       "<g clip-path=\"url(#clip0300)\">\n",
       "<text style=\"fill:#000000; fill-opacity:1; font-family:Arial,Helvetica Neue,Helvetica,sans-serif; font-size:48px; text-anchor:middle;\" transform=\"rotate(0, 798.962, 1557.47)\" x=\"798.962\" y=\"1557.47\">25</text>\n",
       "</g>\n",
       "<g clip-path=\"url(#clip0300)\">\n",
       "<text style=\"fill:#000000; fill-opacity:1; font-family:Arial,Helvetica Neue,Helvetica,sans-serif; font-size:48px; text-anchor:middle;\" transform=\"rotate(0, 1286.88, 1557.47)\" x=\"1286.88\" y=\"1557.47\">50</text>\n",
       "</g>\n",
       "<g clip-path=\"url(#clip0300)\">\n",
       "<text style=\"fill:#000000; fill-opacity:1; font-family:Arial,Helvetica Neue,Helvetica,sans-serif; font-size:48px; text-anchor:middle;\" transform=\"rotate(0, 1774.79, 1557.47)\" x=\"1774.79\" y=\"1557.47\">75</text>\n",
       "</g>\n",
       "<g clip-path=\"url(#clip0300)\">\n",
       "<text style=\"fill:#000000; fill-opacity:1; font-family:Arial,Helvetica Neue,Helvetica,sans-serif; font-size:48px; text-anchor:middle;\" transform=\"rotate(0, 2262.71, 1557.47)\" x=\"2262.71\" y=\"1557.47\">100</text>\n",
       "</g>\n",
       "<g clip-path=\"url(#clip0300)\">\n",
       "<text style=\"fill:#000000; fill-opacity:1; font-family:Arial,Helvetica Neue,Helvetica,sans-serif; font-size:48px; text-anchor:end;\" transform=\"rotate(0, 228.496, 1489.33)\" x=\"228.496\" y=\"1489.33\">-0.3</text>\n",
       "</g>\n",
       "<g clip-path=\"url(#clip0300)\">\n",
       "<text style=\"fill:#000000; fill-opacity:1; font-family:Arial,Helvetica Neue,Helvetica,sans-serif; font-size:48px; text-anchor:end;\" transform=\"rotate(0, 228.496, 1118.08)\" x=\"228.496\" y=\"1118.08\">-0.2</text>\n",
       "</g>\n",
       "<g clip-path=\"url(#clip0300)\">\n",
       "<text style=\"fill:#000000; fill-opacity:1; font-family:Arial,Helvetica Neue,Helvetica,sans-serif; font-size:48px; text-anchor:end;\" transform=\"rotate(0, 228.496, 746.841)\" x=\"228.496\" y=\"746.841\">-0.1</text>\n",
       "</g>\n",
       "<g clip-path=\"url(#clip0300)\">\n",
       "<text style=\"fill:#000000; fill-opacity:1; font-family:Arial,Helvetica Neue,Helvetica,sans-serif; font-size:48px; text-anchor:end;\" transform=\"rotate(0, 228.496, 375.599)\" x=\"228.496\" y=\"375.599\">0.0</text>\n",
       "</g>\n",
       "<g clip-path=\"url(#clip0300)\">\n",
       "<text style=\"fill:#000000; fill-opacity:1; font-family:Arial,Helvetica Neue,Helvetica,sans-serif; font-size:66px; text-anchor:middle;\" transform=\"rotate(-90, 130.096, 775.359)\" x=\"130.096\" y=\"775.359\">Energy</text>\n",
       "</g>\n",
       "<polyline clip-path=\"url(#clip0302)\" style=\"stroke:#009af9; stroke-width:12; stroke-opacity:1; fill:none\" points=\"\n",
       "  311.046,88.4582 330.563,723.359 350.079,995.719 369.596,1094.96 389.113,1079.1 408.629,1138.92 428.146,1211.88 447.663,1263.55 467.179,1279.86 486.696,1246.78 \n",
       "  506.213,1248.14 525.729,1268.98 545.246,1329.26 564.762,1330.62 584.279,1317.02 603.796,1300.25 623.312,1320.19 642.829,1368.68 662.346,1331.52 681.862,1337.41 \n",
       "  701.379,1347.38 720.896,1363.7 740.412,1343.76 759.929,1354.18 779.445,1380.01 798.962,1410.38 818.479,1380.92 837.995,1360.98 857.512,1360.53 877.029,1407.66 \n",
       "  896.545,1392.7 916.062,1375.93 935.579,1378.2 955.095,1399.5 974.612,1370.95 994.128,1364.61 1013.65,1394.51 1033.16,1368.23 1052.68,1399.5 1072.2,1386.36 \n",
       "  1091.71,1378.2 1111.23,1388.62 1130.74,1370.95 1150.26,1389.53 1169.78,1371.86 1189.29,1398.59 1208.81,1384.09 1228.33,1399.05 1247.84,1380.47 1267.36,1378.2 \n",
       "  1286.88,1368.23 1306.39,1383.19 1325.91,1390.44 1345.43,1395.42 1364.94,1393.16 1384.46,1380.92 1403.98,1401.31 1423.49,1417.63 1443.01,1388.17 1462.53,1419.44 \n",
       "  1482.04,1380.01 1501.56,1379.56 1521.08,1394.97 1540.59,1402.67 1560.11,1396.33 1579.63,1394.97 1599.14,1404.03 1618.66,1393.16 1638.18,1401.31 1657.69,1419.89 \n",
       "  1677.21,1398.14 1696.73,1376.39 1716.24,1379.11 1735.76,1428.05 1755.28,1390.89 1774.79,1359.62 1794.31,1377.75 1813.83,1416.72 1833.34,1404.94 1852.86,1359.62 \n",
       "  1872.38,1397.23 1891.89,1395.87 1911.41,1375.48 1930.93,1415.81 1950.44,1394.51 1969.96,1366.42 1989.48,1375.03 2008.99,1367.78 2028.51,1384.09 2048.03,1383.19 \n",
       "  2067.54,1415.36 2087.06,1389.98 2106.58,1398.59 2126.09,1401.31 2145.61,1383.64 2165.13,1403.13 2184.64,1384.55 2204.16,1400.86 2223.68,1390.89 2243.19,1425.78 \n",
       "  2262.71,1381.83 \n",
       "  \"/>\n",
       "<polyline clip-path=\"url(#clip0302)\" style=\"stroke:#e26f46; stroke-width:12; stroke-opacity:1; fill:none\" points=\"\n",
       "  311.046,1462.26 330.563,1462.26 350.079,1462.26 369.596,1462.26 389.113,1462.26 408.629,1462.26 428.146,1462.26 447.663,1462.26 467.179,1462.26 486.696,1462.26 \n",
       "  506.213,1462.26 525.729,1462.26 545.246,1462.26 564.762,1462.26 584.279,1462.26 603.796,1462.26 623.312,1462.26 642.829,1462.26 662.346,1462.26 681.862,1462.26 \n",
       "  701.379,1462.26 720.896,1462.26 740.412,1462.26 759.929,1462.26 779.445,1462.26 798.962,1462.26 818.479,1462.26 837.995,1462.26 857.512,1462.26 877.029,1462.26 \n",
       "  896.545,1462.26 916.062,1462.26 935.579,1462.26 955.095,1462.26 974.612,1462.26 994.128,1462.26 1013.65,1462.26 1033.16,1462.26 1052.68,1462.26 1072.2,1462.26 \n",
       "  1091.71,1462.26 1111.23,1462.26 1130.74,1462.26 1150.26,1462.26 1169.78,1462.26 1189.29,1462.26 1208.81,1462.26 1228.33,1462.26 1247.84,1462.26 1267.36,1462.26 \n",
       "  1286.88,1462.26 1306.39,1462.26 1325.91,1462.26 1345.43,1462.26 1364.94,1462.26 1384.46,1462.26 1403.98,1462.26 1423.49,1462.26 1443.01,1462.26 1462.53,1462.26 \n",
       "  1482.04,1462.26 1501.56,1462.26 1521.08,1462.26 1540.59,1462.26 1560.11,1462.26 1579.63,1462.26 1599.14,1462.26 1618.66,1462.26 1638.18,1462.26 1657.69,1462.26 \n",
       "  1677.21,1462.26 1696.73,1462.26 1716.24,1462.26 1735.76,1462.26 1755.28,1462.26 1774.79,1462.26 1794.31,1462.26 1813.83,1462.26 1833.34,1462.26 1852.86,1462.26 \n",
       "  1872.38,1462.26 1891.89,1462.26 1911.41,1462.26 1930.93,1462.26 1950.44,1462.26 1969.96,1462.26 1989.48,1462.26 2008.99,1462.26 2028.51,1462.26 2048.03,1462.26 \n",
       "  2067.54,1462.26 2087.06,1462.26 2106.58,1462.26 2126.09,1462.26 2145.61,1462.26 2165.13,1462.26 2184.64,1462.26 2204.16,1462.26 2223.68,1462.26 2243.19,1462.26 \n",
       "  2262.71,1462.26 \n",
       "  \"/>\n",
       "<polygon clip-path=\"url(#clip0300)\" points=\"\n",
       "1867.51,312.204 2249.26,312.204 2249.26,130.764 1867.51,130.764 \n",
       "  \" fill=\"#ffffff\" fill-rule=\"evenodd\" fill-opacity=\"1\"/>\n",
       "<polyline clip-path=\"url(#clip0300)\" style=\"stroke:#000000; stroke-width:4; stroke-opacity:1; fill:none\" points=\"\n",
       "  1867.51,312.204 2249.26,312.204 2249.26,130.764 1867.51,130.764 1867.51,312.204 \n",
       "  \"/>\n",
       "<polyline clip-path=\"url(#clip0300)\" style=\"stroke:#009af9; stroke-width:12; stroke-opacity:1; fill:none\" points=\"\n",
       "  1891.51,191.244 2035.51,191.244 \n",
       "  \"/>\n",
       "<g clip-path=\"url(#clip0300)\">\n",
       "<text style=\"fill:#000000; fill-opacity:1; font-family:Arial,Helvetica Neue,Helvetica,sans-serif; font-size:48px; text-anchor:start;\" transform=\"rotate(0, 2059.51, 208.744)\" x=\"2059.51\" y=\"208.744\">QMPS</text>\n",
       "</g>\n",
       "<polyline clip-path=\"url(#clip0300)\" style=\"stroke:#e26f46; stroke-width:12; stroke-opacity:1; fill:none\" points=\"\n",
       "  1891.51,251.724 2035.51,251.724 \n",
       "  \"/>\n",
       "<g clip-path=\"url(#clip0300)\">\n",
       "<text style=\"fill:#000000; fill-opacity:1; font-family:Arial,Helvetica Neue,Helvetica,sans-serif; font-size:48px; text-anchor:start;\" transform=\"rotate(0, 2059.51, 269.224)\" x=\"2059.51\" y=\"269.224\">Exact</text>\n",
       "</g>\n",
       "</svg>\n"
      ]
     },
     "execution_count": 422,
     "metadata": {},
     "output_type": "execute_result"
    }
   ],
   "source": [
    "M = length(loss_history)\n",
    "plot(0:M-1, [loss_history, fill(EG, M)], label=[\"QMPS\", \"Exact\"], lw=3, ylabel=\"Energy\")"
   ]
  },
  {
   "cell_type": "code",
   "execution_count": 423,
   "metadata": {},
   "outputs": [
    {
     "data": {
      "text/plain": [
       "\u001b[36mnqubits: 2, datatype: Complex{Float64}\u001b[39m\n",
       "\u001b[34m\u001b[1mchain\u001b[22m\u001b[39m\n",
       "├─ \u001b[34m\u001b[1mchain\u001b[22m\u001b[39m\n",
       "│  ├─ \u001b[36m\u001b[1mput on (\u001b[22m\u001b[39m\u001b[36m\u001b[1m1\u001b[22m\u001b[39m\u001b[36m\u001b[1m)\u001b[22m\u001b[39m\n",
       "│  │  └─ \u001b[34m\u001b[1mchain\u001b[22m\u001b[39m\n",
       "│  │     ├─ rot(X gate, 0.07704615078670439)\n",
       "│  │     └─ rot(Z gate, 1.9126587963726118)\n",
       "│  ├─ \u001b[36m\u001b[1mput on (\u001b[22m\u001b[39m\u001b[36m\u001b[1m2\u001b[22m\u001b[39m\u001b[36m\u001b[1m)\u001b[22m\u001b[39m\n",
       "│  │  └─ H gate\n",
       "│  ├─ \u001b[36m\u001b[1mput on (\u001b[22m\u001b[39m\u001b[36m\u001b[1m2\u001b[22m\u001b[39m\u001b[36m\u001b[1m)\u001b[22m\u001b[39m\n",
       "│  │  └─ rot(Z gate, 1.1683729798815674)\n",
       "│  ├─ \u001b[31m\u001b[1mcontrol(\u001b[22m\u001b[39m\u001b[31m\u001b[1m1\u001b[22m\u001b[39m\u001b[31m\u001b[1m)\u001b[22m\u001b[39m\n",
       "│  │  └─ \u001b[37m\u001b[1m(2,)\u001b[22m\u001b[39mshift(-0.035768834905253795)\n",
       "│  ├─ \u001b[36m\u001b[1mput on (\u001b[22m\u001b[39m\u001b[36m\u001b[1m1\u001b[22m\u001b[39m\u001b[36m\u001b[1m)\u001b[22m\u001b[39m\n",
       "│  │  └─ \u001b[34m\u001b[1mchain\u001b[22m\u001b[39m\n",
       "│  │     ├─ rot(X gate, 2.1742560988798867)\n",
       "│  │     └─ rot(Z gate, -1.6010494730477072)\n",
       "│  ├─ \u001b[36m\u001b[1mput on (\u001b[22m\u001b[39m\u001b[36m\u001b[1m2\u001b[22m\u001b[39m\u001b[36m\u001b[1m)\u001b[22m\u001b[39m\n",
       "│  │  └─ H gate\n",
       "│  ├─ \u001b[36m\u001b[1mput on (\u001b[22m\u001b[39m\u001b[36m\u001b[1m2\u001b[22m\u001b[39m\u001b[36m\u001b[1m)\u001b[22m\u001b[39m\n",
       "│  │  └─ rot(Z gate, -1.4841550361270974)\n",
       "│  └─ Measure{2,1,AbstractBlock}\n",
       "├─ \u001b[34m\u001b[1mchain\u001b[22m\u001b[39m\n",
       "│  ├─ \u001b[36m\u001b[1mput on (\u001b[22m\u001b[39m\u001b[36m\u001b[1m1\u001b[22m\u001b[39m\u001b[36m\u001b[1m)\u001b[22m\u001b[39m\n",
       "│  │  └─ \u001b[34m\u001b[1mchain\u001b[22m\u001b[39m\n",
       "│  │     ├─ rot(X gate, -0.3877006786799756)\n",
       "│  │     └─ rot(Z gate, -0.9338857822255419)\n",
       "│  ├─ \u001b[36m\u001b[1mput on (\u001b[22m\u001b[39m\u001b[36m\u001b[1m2\u001b[22m\u001b[39m\u001b[36m\u001b[1m)\u001b[22m\u001b[39m\n",
       "│  │  └─ H gate\n",
       "│  ├─ \u001b[36m\u001b[1mput on (\u001b[22m\u001b[39m\u001b[36m\u001b[1m2\u001b[22m\u001b[39m\u001b[36m\u001b[1m)\u001b[22m\u001b[39m\n",
       "│  │  └─ rot(Z gate, 2.182783352938954)\n",
       "│  ├─ \u001b[31m\u001b[1mcontrol(\u001b[22m\u001b[39m\u001b[31m\u001b[1m1\u001b[22m\u001b[39m\u001b[31m\u001b[1m)\u001b[22m\u001b[39m\n",
       "│  │  └─ \u001b[37m\u001b[1m(2,)\u001b[22m\u001b[39mshift(0.25304518656007163)\n",
       "│  ├─ \u001b[36m\u001b[1mput on (\u001b[22m\u001b[39m\u001b[36m\u001b[1m1\u001b[22m\u001b[39m\u001b[36m\u001b[1m)\u001b[22m\u001b[39m\n",
       "│  │  └─ \u001b[34m\u001b[1mchain\u001b[22m\u001b[39m\n",
       "│  │     ├─ rot(X gate, 0.9082957458769617)\n",
       "│  │     └─ rot(Z gate, -1.9420436979852698)\n",
       "│  ├─ \u001b[36m\u001b[1mput on (\u001b[22m\u001b[39m\u001b[36m\u001b[1m2\u001b[22m\u001b[39m\u001b[36m\u001b[1m)\u001b[22m\u001b[39m\n",
       "│  │  └─ H gate\n",
       "│  ├─ \u001b[36m\u001b[1mput on (\u001b[22m\u001b[39m\u001b[36m\u001b[1m2\u001b[22m\u001b[39m\u001b[36m\u001b[1m)\u001b[22m\u001b[39m\n",
       "│  │  └─ rot(Z gate, -0.8952920962789711)\n",
       "│  └─ Measure{2,1,AbstractBlock}\n",
       "└─ \u001b[34m\u001b[1mchain\u001b[22m\u001b[39m\n",
       "   ├─ \u001b[36m\u001b[1mput on (\u001b[22m\u001b[39m\u001b[36m\u001b[1m1\u001b[22m\u001b[39m\u001b[36m\u001b[1m)\u001b[22m\u001b[39m\n",
       "   │  └─ \u001b[34m\u001b[1mchain\u001b[22m\u001b[39m\n",
       "   │     ├─ rot(X gate, 0.7960753051963408)\n",
       "   │     └─ rot(Z gate, 0.19729551473047033)\n",
       "   ├─ \u001b[36m\u001b[1mput on (\u001b[22m\u001b[39m\u001b[36m\u001b[1m2\u001b[22m\u001b[39m\u001b[36m\u001b[1m)\u001b[22m\u001b[39m\n",
       "   │  └─ H gate\n",
       "   ├─ \u001b[36m\u001b[1mput on (\u001b[22m\u001b[39m\u001b[36m\u001b[1m2\u001b[22m\u001b[39m\u001b[36m\u001b[1m)\u001b[22m\u001b[39m\n",
       "   │  └─ rot(Z gate, 2.684665952673796)\n",
       "   ├─ \u001b[31m\u001b[1mcontrol(\u001b[22m\u001b[39m\u001b[31m\u001b[1m1\u001b[22m\u001b[39m\u001b[31m\u001b[1m)\u001b[22m\u001b[39m\n",
       "   │  └─ \u001b[37m\u001b[1m(2,)\u001b[22m\u001b[39mshift(-0.9983654336840248)\n",
       "   ├─ \u001b[36m\u001b[1mput on (\u001b[22m\u001b[39m\u001b[36m\u001b[1m1\u001b[22m\u001b[39m\u001b[36m\u001b[1m)\u001b[22m\u001b[39m\n",
       "   │  └─ \u001b[34m\u001b[1mchain\u001b[22m\u001b[39m\n",
       "   │     ├─ rot(X gate, 1.9258925449011384)\n",
       "   │     └─ rot(Z gate, -0.7526389104264475)\n",
       "   ├─ \u001b[36m\u001b[1mput on (\u001b[22m\u001b[39m\u001b[36m\u001b[1m2\u001b[22m\u001b[39m\u001b[36m\u001b[1m)\u001b[22m\u001b[39m\n",
       "   │  └─ H gate\n",
       "   ├─ \u001b[36m\u001b[1mput on (\u001b[22m\u001b[39m\u001b[36m\u001b[1m2\u001b[22m\u001b[39m\u001b[36m\u001b[1m)\u001b[22m\u001b[39m\n",
       "   │  └─ rot(Z gate, -0.37239572353900163)\n",
       "   ├─ Measure{2,1,AbstractBlock}\n",
       "   └─ Measure{2,1,AbstractBlock}\n"
      ]
     },
     "execution_count": 423,
     "metadata": {},
     "output_type": "execute_result"
    }
   ],
   "source": [
    "circuit"
   ]
  },
  {
   "cell_type": "code",
   "execution_count": 424,
   "metadata": {},
   "outputs": [
    {
     "data": {
      "text/plain": [
       "21-element Array{Float64,1}:\n",
       "  0.07704615078670439 \n",
       "  1.9126587963726118  \n",
       "  1.1683729798815674  \n",
       " -0.035768834905253795\n",
       "  2.1742560988798867  \n",
       " -1.6010494730477072  \n",
       " -1.4841550361270974  \n",
       " -0.3877006786799756  \n",
       " -0.9338857822255419  \n",
       "  2.182783352938954   \n",
       "  0.25304518656007163 \n",
       "  0.9082957458769617  \n",
       " -1.9420436979852698  \n",
       " -0.8952920962789711  \n",
       "  0.7960753051963408  \n",
       "  0.19729551473047033 \n",
       "  2.684665952673796   \n",
       " -0.9983654336840248  \n",
       "  1.9258925449011384  \n",
       " -0.7526389104264475  \n",
       " -0.37239572353900163 "
      ]
     },
     "execution_count": 424,
     "metadata": {},
     "output_type": "execute_result"
    }
   ],
   "source": [
    "parameters(circuit)"
   ]
  },
  {
   "cell_type": "markdown",
   "metadata": {},
   "source": [
    "# CMA-ES training method"
   ]
  },
  {
   "cell_type": "code",
   "execution_count": 410,
   "metadata": {},
   "outputs": [
    {
     "data": {
      "text/plain": [
       "populate! (generic function with 1 method)"
      ]
     },
     "execution_count": 410,
     "metadata": {},
     "output_type": "execute_result"
    }
   ],
   "source": [
    "include(\"lib/CMAES.jl\")"
   ]
  },
  {
   "cell_type": "code",
   "execution_count": 413,
   "metadata": {},
   "outputs": [
    {
     "data": {
      "text/plain": [
       "cmaes_train (generic function with 1 method)"
      ]
     },
     "execution_count": 413,
     "metadata": {},
     "output_type": "execute_result"
    }
   ],
   "source": [
    "function cmaes_train(circuit, model; VG=nothing, maxiter=200, α=0.3, nbatch=1024)\n",
    "    function loss(x)\n",
    "        dispatch!(circuit, x)\n",
    "        energy(circuit, model, nbatch=nbatch)/nspin(model)\n",
    "    end\n",
    "    \n",
    "    ci = CMAESIter(loss, 0.1*rand(nparameters(circuit)), num_offsprings=50, num_parents=10)\n",
    "    loss_history = Float64[]\n",
    "    \n",
    "    for (i, info) in enumerate(ci)\n",
    "        push!(loss_history, best(info)[2])\n",
    "        \n",
    "        if i%10 == 0\n",
    "            print(\"Iter $i, E/N = $(loss_history[end])\")\n",
    "            fid = fidelity(circuit |> expand_circuit, VG)\n",
    "            println(VG isa Nothing ? \"\" : \", fidelity = $(fid)\")\n",
    "        end\n",
    "        if i>=maxiter\n",
    "            return loss_history, circuit\n",
    "        else\n",
    "            i += 1\n",
    "        end\n",
    "    end\n",
    "end"
   ]
  },
  {
   "cell_type": "code",
   "execution_count": 425,
   "metadata": {
    "scrolled": true
   },
   "outputs": [
    {
     "name": "stdout",
     "output_type": "stream",
     "text": [
      "Iter 10, E/N = -0.224365234375, fidelity = 0.4016444442803153\n",
      "Iter 20, E/N = -0.2154541015625, fidelity = 0.5194804752680072\n",
      "Iter 30, E/N = -0.2681884765625, fidelity = 0.607816455992811\n",
      "Iter 40, E/N = -0.26885986328125, fidelity = 0.7720899526912559\n",
      "Iter 50, E/N = -0.279296875, fidelity = 0.7633870627205673\n",
      "Iter 60, E/N = -0.27374267578125, fidelity = 0.8302842081424706\n",
      "Iter 70, E/N = -0.279541015625, fidelity = 0.7622259576741348\n",
      "Iter 80, E/N = -0.27960205078125, fidelity = 0.8032809474897772\n",
      "Iter 90, E/N = -0.28082275390625, fidelity = 0.7922344071776908\n",
      "Iter 100, E/N = -0.2821044921875, fidelity = 0.7946279987623526\n"
     ]
    }
   ],
   "source": [
    "cmaes_train(circuit, model; VG=VG, maxiter=100, nbatch=2048);"
   ]
  },
  {
   "cell_type": "code",
   "execution_count": 426,
   "metadata": {},
   "outputs": [
    {
     "data": {
      "text/plain": [
       "\u001b[36mnqubits: 2, datatype: Complex{Float64}\u001b[39m\n",
       "\u001b[34m\u001b[1mchain\u001b[22m\u001b[39m\n",
       "├─ \u001b[34m\u001b[1mchain\u001b[22m\u001b[39m\n",
       "│  ├─ \u001b[36m\u001b[1mput on (\u001b[22m\u001b[39m\u001b[36m\u001b[1m1\u001b[22m\u001b[39m\u001b[36m\u001b[1m)\u001b[22m\u001b[39m\n",
       "│  │  └─ \u001b[34m\u001b[1mchain\u001b[22m\u001b[39m\n",
       "│  │     ├─ rot(X gate, -4.167021865728496)\n",
       "│  │     └─ rot(Z gate, 1.0644605325722671)\n",
       "│  ├─ \u001b[36m\u001b[1mput on (\u001b[22m\u001b[39m\u001b[36m\u001b[1m2\u001b[22m\u001b[39m\u001b[36m\u001b[1m)\u001b[22m\u001b[39m\n",
       "│  │  └─ H gate\n",
       "│  ├─ \u001b[36m\u001b[1mput on (\u001b[22m\u001b[39m\u001b[36m\u001b[1m2\u001b[22m\u001b[39m\u001b[36m\u001b[1m)\u001b[22m\u001b[39m\n",
       "│  │  └─ rot(Z gate, 1.2320907193580422)\n",
       "│  ├─ \u001b[31m\u001b[1mcontrol(\u001b[22m\u001b[39m\u001b[31m\u001b[1m1\u001b[22m\u001b[39m\u001b[31m\u001b[1m)\u001b[22m\u001b[39m\n",
       "│  │  └─ \u001b[37m\u001b[1m(2,)\u001b[22m\u001b[39mshift(-0.00028005810715180796)\n",
       "│  ├─ \u001b[36m\u001b[1mput on (\u001b[22m\u001b[39m\u001b[36m\u001b[1m1\u001b[22m\u001b[39m\u001b[36m\u001b[1m)\u001b[22m\u001b[39m\n",
       "│  │  └─ \u001b[34m\u001b[1mchain\u001b[22m\u001b[39m\n",
       "│  │     ├─ rot(X gate, 0.2699078188265768)\n",
       "│  │     └─ rot(Z gate, 3.3900742879873613)\n",
       "│  ├─ \u001b[36m\u001b[1mput on (\u001b[22m\u001b[39m\u001b[36m\u001b[1m2\u001b[22m\u001b[39m\u001b[36m\u001b[1m)\u001b[22m\u001b[39m\n",
       "│  │  └─ H gate\n",
       "│  ├─ \u001b[36m\u001b[1mput on (\u001b[22m\u001b[39m\u001b[36m\u001b[1m2\u001b[22m\u001b[39m\u001b[36m\u001b[1m)\u001b[22m\u001b[39m\n",
       "│  │  └─ rot(Z gate, 1.7862479926101784)\n",
       "│  └─ Measure{2,1,AbstractBlock}\n",
       "├─ \u001b[34m\u001b[1mchain\u001b[22m\u001b[39m\n",
       "│  ├─ \u001b[36m\u001b[1mput on (\u001b[22m\u001b[39m\u001b[36m\u001b[1m1\u001b[22m\u001b[39m\u001b[36m\u001b[1m)\u001b[22m\u001b[39m\n",
       "│  │  └─ \u001b[34m\u001b[1mchain\u001b[22m\u001b[39m\n",
       "│  │     ├─ rot(X gate, 3.893420214459148)\n",
       "│  │     └─ rot(Z gate, -0.035473608664978167)\n",
       "│  ├─ \u001b[36m\u001b[1mput on (\u001b[22m\u001b[39m\u001b[36m\u001b[1m2\u001b[22m\u001b[39m\u001b[36m\u001b[1m)\u001b[22m\u001b[39m\n",
       "│  │  └─ H gate\n",
       "│  ├─ \u001b[36m\u001b[1mput on (\u001b[22m\u001b[39m\u001b[36m\u001b[1m2\u001b[22m\u001b[39m\u001b[36m\u001b[1m)\u001b[22m\u001b[39m\n",
       "│  │  └─ rot(Z gate, 3.079777822550059)\n",
       "│  ├─ \u001b[31m\u001b[1mcontrol(\u001b[22m\u001b[39m\u001b[31m\u001b[1m1\u001b[22m\u001b[39m\u001b[31m\u001b[1m)\u001b[22m\u001b[39m\n",
       "│  │  └─ \u001b[37m\u001b[1m(2,)\u001b[22m\u001b[39mshift(-0.22295634214807386)\n",
       "│  ├─ \u001b[36m\u001b[1mput on (\u001b[22m\u001b[39m\u001b[36m\u001b[1m1\u001b[22m\u001b[39m\u001b[36m\u001b[1m)\u001b[22m\u001b[39m\n",
       "│  │  └─ \u001b[34m\u001b[1mchain\u001b[22m\u001b[39m\n",
       "│  │     ├─ rot(X gate, 2.986370449844123)\n",
       "│  │     └─ rot(Z gate, 4.690447909085334)\n",
       "│  ├─ \u001b[36m\u001b[1mput on (\u001b[22m\u001b[39m\u001b[36m\u001b[1m2\u001b[22m\u001b[39m\u001b[36m\u001b[1m)\u001b[22m\u001b[39m\n",
       "│  │  └─ H gate\n",
       "│  ├─ \u001b[36m\u001b[1mput on (\u001b[22m\u001b[39m\u001b[36m\u001b[1m2\u001b[22m\u001b[39m\u001b[36m\u001b[1m)\u001b[22m\u001b[39m\n",
       "│  │  └─ rot(Z gate, -2.0210786251649675)\n",
       "│  └─ Measure{2,1,AbstractBlock}\n",
       "└─ \u001b[34m\u001b[1mchain\u001b[22m\u001b[39m\n",
       "   ├─ \u001b[36m\u001b[1mput on (\u001b[22m\u001b[39m\u001b[36m\u001b[1m1\u001b[22m\u001b[39m\u001b[36m\u001b[1m)\u001b[22m\u001b[39m\n",
       "   │  └─ \u001b[34m\u001b[1mchain\u001b[22m\u001b[39m\n",
       "   │     ├─ rot(X gate, -0.4795439065867406)\n",
       "   │     └─ rot(Z gate, -5.40022817865976)\n",
       "   ├─ \u001b[36m\u001b[1mput on (\u001b[22m\u001b[39m\u001b[36m\u001b[1m2\u001b[22m\u001b[39m\u001b[36m\u001b[1m)\u001b[22m\u001b[39m\n",
       "   │  └─ H gate\n",
       "   ├─ \u001b[36m\u001b[1mput on (\u001b[22m\u001b[39m\u001b[36m\u001b[1m2\u001b[22m\u001b[39m\u001b[36m\u001b[1m)\u001b[22m\u001b[39m\n",
       "   │  └─ rot(Z gate, -1.1128380852547572)\n",
       "   ├─ \u001b[31m\u001b[1mcontrol(\u001b[22m\u001b[39m\u001b[31m\u001b[1m1\u001b[22m\u001b[39m\u001b[31m\u001b[1m)\u001b[22m\u001b[39m\n",
       "   │  └─ \u001b[37m\u001b[1m(2,)\u001b[22m\u001b[39mshift(4.469973713686416)\n",
       "   ├─ \u001b[36m\u001b[1mput on (\u001b[22m\u001b[39m\u001b[36m\u001b[1m1\u001b[22m\u001b[39m\u001b[36m\u001b[1m)\u001b[22m\u001b[39m\n",
       "   │  └─ \u001b[34m\u001b[1mchain\u001b[22m\u001b[39m\n",
       "   │     ├─ rot(X gate, -2.237721876680651)\n",
       "   │     └─ rot(Z gate, 2.190487959624729)\n",
       "   ├─ \u001b[36m\u001b[1mput on (\u001b[22m\u001b[39m\u001b[36m\u001b[1m2\u001b[22m\u001b[39m\u001b[36m\u001b[1m)\u001b[22m\u001b[39m\n",
       "   │  └─ H gate\n",
       "   ├─ \u001b[36m\u001b[1mput on (\u001b[22m\u001b[39m\u001b[36m\u001b[1m2\u001b[22m\u001b[39m\u001b[36m\u001b[1m)\u001b[22m\u001b[39m\n",
       "   │  └─ rot(Z gate, -0.665311771966154)\n",
       "   ├─ Measure{2,1,AbstractBlock}\n",
       "   └─ Measure{2,1,AbstractBlock}\n"
      ]
     },
     "execution_count": 426,
     "metadata": {},
     "output_type": "execute_result"
    }
   ],
   "source": [
    "circuit"
   ]
  },
  {
   "cell_type": "code",
   "execution_count": 427,
   "metadata": {},
   "outputs": [
    {
     "data": {
      "text/plain": [
       "21-element Array{Float64,1}:\n",
       " -4.167021865728496     \n",
       "  1.0644605325722671    \n",
       "  1.2320907193580422    \n",
       " -0.00028005810715180796\n",
       "  0.2699078188265768    \n",
       "  3.3900742879873613    \n",
       "  1.7862479926101784    \n",
       "  3.893420214459148     \n",
       " -0.035473608664978167  \n",
       "  3.079777822550059     \n",
       " -0.22295634214807386   \n",
       "  2.986370449844123     \n",
       "  4.690447909085334     \n",
       " -2.0210786251649675    \n",
       " -0.4795439065867406    \n",
       " -5.40022817865976      \n",
       " -1.1128380852547572    \n",
       "  4.469973713686416     \n",
       " -2.237721876680651     \n",
       "  2.190487959624729     \n",
       " -0.665311771966154     "
      ]
     },
     "execution_count": 427,
     "metadata": {},
     "output_type": "execute_result"
    }
   ],
   "source": [
    "parameters(circuit)"
   ]
  },
  {
   "cell_type": "markdown",
   "metadata": {},
   "source": [
    "## Entanglement Entropy"
   ]
  },
  {
   "cell_type": "code",
   "execution_count": 428,
   "metadata": {},
   "outputs": [
    {
     "data": {
      "text/plain": [
       "16-element Array{Complex{Float64},1}:\n",
       "  0.10878394077769024 + 0.0im\n",
       "  -0.1666666666666665 + 0.0im\n",
       " -0.25534814770632663 + 0.0im\n",
       "  0.14656420692863603 + 0.0im\n",
       "  -0.2553481477063265 + 0.0im\n",
       "   0.4798975402619696 + 0.0im\n",
       "  0.22454939255564377 + 0.0im\n",
       "  -0.1666666666666668 + 0.0im\n",
       " -0.16666666666666657 + 0.0im\n",
       "  0.22454939255564235 + 0.0im\n",
       "  0.47989754026197007 + 0.0im\n",
       "  -0.2553481477063253 + 0.0im\n",
       "    0.146564206928636 + 0.0im\n",
       "  -0.2553481477063251 + 0.0im\n",
       "  -0.1666666666666669 + 0.0im\n",
       "  0.10878394077768962 - 0.0im"
      ]
     },
     "execution_count": 428,
     "metadata": {},
     "output_type": "execute_result"
    }
   ],
   "source": [
    "EV = eigen(mat(h) |> Matrix).vectors[:,1]"
   ]
  },
  {
   "cell_type": "code",
   "execution_count": 429,
   "metadata": {},
   "outputs": [
    {
     "data": {
      "text/plain": [
       "ArrayReg{1, Complex{Float64}, Array...}\n",
       "    active qubits: 4/4"
      ]
     },
     "execution_count": 429,
     "metadata": {},
     "output_type": "execute_result"
    }
   ],
   "source": [
    "reg = ArrayReg(EV)"
   ]
  },
  {
   "cell_type": "code",
   "execution_count": 430,
   "metadata": {},
   "outputs": [
    {
     "data": {
      "text/plain": [
       "DensityMatrix{1,Complex{Float64},Array{Complex{Float64},3}}\n",
       "    active qubits: 2/2"
      ]
     },
     "execution_count": 430,
     "metadata": {},
     "output_type": "execute_result"
    }
   ],
   "source": [
    "r = reg |> focus!(1, 2) |> ρ"
   ]
  },
  {
   "cell_type": "code",
   "execution_count": 431,
   "metadata": {
    "scrolled": true
   },
   "outputs": [
    {
     "data": {
      "text/plain": [
       "entropy (generic function with 1 method)"
      ]
     },
     "execution_count": 431,
     "metadata": {},
     "output_type": "execute_result"
    }
   ],
   "source": [
    "entropy(spectrum) = -sum(spectrum .* log.(spectrum))/log(2)"
   ]
  },
  {
   "cell_type": "code",
   "execution_count": 432,
   "metadata": {},
   "outputs": [
    {
     "data": {
      "text/plain": [
       "0.41098665651454297"
      ]
     },
     "execution_count": 432,
     "metadata": {},
     "output_type": "execute_result"
    }
   ],
   "source": [
    "entropy(eigen(r.state[:,:,1]).values)"
   ]
  },
  {
   "cell_type": "code",
   "execution_count": null,
   "metadata": {},
   "outputs": [],
   "source": []
  }
 ],
 "metadata": {
  "@webio": {
   "lastCommId": null,
   "lastKernelId": null
  },
  "kernelspec": {
   "display_name": "Julia 1.1.0",
   "language": "julia",
   "name": "julia-1.1"
  },
  "language_info": {
   "file_extension": ".jl",
   "mimetype": "application/julia",
   "name": "julia",
   "version": "1.1.0"
  }
 },
 "nbformat": 4,
 "nbformat_minor": 2
}
