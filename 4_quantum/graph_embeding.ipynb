{
 "cells": [
  {
   "cell_type": "code",
   "execution_count": 1,
   "metadata": {},
   "outputs": [],
   "source": [
    "using Zygote\n",
    "using Statistics: var, mean\n",
    "using LinearAlgebra: norm\n",
    "using Flux.NNlib: relu"
   ]
  },
  {
   "cell_type": "code",
   "execution_count": 2,
   "metadata": {},
   "outputs": [
    {
     "data": {
      "text/plain": [
       "myvar (generic function with 1 method)"
      ]
     },
     "execution_count": 2,
     "metadata": {},
     "output_type": "execute_result"
    }
   ],
   "source": [
    "function myvar(v)\n",
    "    mv  = mean(v)\n",
    "    sum((v .- mv).^2)./(length(v)-1)\n",
    "end"
   ]
  },
  {
   "cell_type": "code",
   "execution_count": 3,
   "metadata": {},
   "outputs": [
    {
     "data": {
      "text/plain": [
       "loss (generic function with 1 method)"
      ]
     },
     "execution_count": 3,
     "metadata": {},
     "output_type": "execute_result"
    }
   ],
   "source": [
    "l1_pairs = [(1,5), (2,6), (3,7), (4,8)]\n",
    "l2_pairs = [(1,2), (2,3), (3,4), (4,1), (5,6), (6,7), (7,8), (8,5),\n",
    "            (1,6), (1, 8), (2,7), (2,5), (3,6), (3,8), (4,7),(4,5)]\n",
    "l3_pairs = [(1,3), (2,4), (1,7), (2,8), (3,5), (4,6), (5,7), (8,6)]\n",
    "\n",
    "function loss(x)\n",
    "    a = [norm(x[:,i]-x[:,j]) for (i, j) in l1_pairs]\n",
    "    b = [norm(x[:,i]-x[:,j]) for (i, j) in l2_pairs]\n",
    "    c = [norm(x[:,i]-x[:,j]) for (i, j) in l3_pairs]\n",
    "    myvar(a) + myvar(b) + myvar(c) + exp(relu(-mean(b) + mean(a) + 0.1)) + exp(relu(-mean(c) + mean(b) + 0.1))\n",
    "end"
   ]
  },
  {
   "cell_type": "code",
   "execution_count": 4,
   "metadata": {},
   "outputs": [
    {
     "data": {
      "text/plain": [
       "4.459480414841205"
      ]
     },
     "execution_count": 4,
     "metadata": {},
     "output_type": "execute_result"
    }
   ],
   "source": [
    "loss(randn(2, 8))"
   ]
  },
  {
   "cell_type": "code",
   "execution_count": 5,
   "metadata": {},
   "outputs": [
    {
     "data": {
      "text/plain": [
       "4×8 Array{Float64,2}:\n",
       "  0.550572   0.0913925  0.372524   …  -0.728186  -0.381611   0.295862  \n",
       " -0.791831   0.186491   0.536327       0.420596  -0.900933  -0.24964   \n",
       "  0.870882   0.854004   0.610873      -0.916425  -0.542903  -0.347213  \n",
       " -0.37948   -0.570891   0.0902415      0.486969   0.139332   0.00379381"
      ]
     },
     "execution_count": 5,
     "metadata": {},
     "output_type": "execute_result"
    }
   ],
   "source": [
    "loss'(randn(4, 8))"
   ]
  },
  {
   "cell_type": "code",
   "execution_count": 6,
   "metadata": {},
   "outputs": [
    {
     "data": {
      "text/plain": [
       "train (generic function with 1 method)"
      ]
     },
     "execution_count": 6,
     "metadata": {},
     "output_type": "execute_result"
    }
   ],
   "source": [
    "using Flux.Optimise\n",
    "\n",
    "function train(params)\n",
    "    opt = ADAM(0.01)\n",
    "    V = 8\n",
    "    maxiter = 20000\n",
    "    msk = [false, true, true, true, false, true, true, true]\n",
    "    pp = params[:,msk]\n",
    "    for i=1:maxiter\n",
    "        grad = view(loss'(params), :,msk)\n",
    "        Optimise.update!(opt, pp, grad)\n",
    "        view(params, :, msk) .= pp\n",
    "        if i%100 == 0\n",
    "            @show loss(params)\n",
    "        end\n",
    "    end\n",
    "    params\n",
    "end"
   ]
  },
  {
   "cell_type": "code",
   "execution_count": 7,
   "metadata": {},
   "outputs": [
    {
     "name": "stdout",
     "output_type": "stream",
     "text": [
      "loss(params) = 2.2098784366821973\n",
      "loss(params) = 2.1361277236835363\n",
      "loss(params) = 2.1207429569040683\n",
      "loss(params) = 2.10302242130852\n",
      "loss(params) = 2.089805767862301\n",
      "loss(params) = 2.0817529871869294\n",
      "loss(params) = 2.0752477541724312\n",
      "loss(params) = 2.069833418679041\n",
      "loss(params) = 2.064625078613525\n",
      "loss(params) = 2.0599533989895598\n",
      "loss(params) = 2.05603000762864\n",
      "loss(params) = 2.0522464554171584\n",
      "loss(params) = 2.0488886574188045\n",
      "loss(params) = 2.0460432814626195\n",
      "loss(params) = 2.0432679039827137\n",
      "loss(params) = 2.040749667354423\n",
      "loss(params) = 2.038923532407595\n",
      "loss(params) = 2.036633353410319\n",
      "loss(params) = 2.034726793229125\n",
      "loss(params) = 2.032974236793671\n",
      "loss(params) = 2.0313581986192664\n",
      "loss(params) = 2.029864066358438\n",
      "loss(params) = 2.0287251951596073\n",
      "loss(params) = 2.0274506495916\n",
      "loss(params) = 2.026265966498608\n",
      "loss(params) = 2.0251577378083523\n",
      "loss(params) = 2.0241188564367776\n",
      "loss(params) = 2.0231431750063833\n",
      "loss(params) = 2.0222252433274504\n",
      "loss(params) = 2.0213602053291906\n",
      "loss(params) = 2.020841835606154\n",
      "loss(params) = 2.0200087209807043\n",
      "loss(params) = 2.0193044442564174\n",
      "loss(params) = 2.018634063005744\n",
      "loss(params) = 2.0179949775074952\n",
      "loss(params) = 2.017385129220112\n",
      "loss(params) = 2.016802658400646\n",
      "loss(params) = 2.0162458634539737\n",
      "loss(params) = 2.0157131808452835\n",
      "loss(params) = 2.0152031705614015\n",
      "loss(params) = 2.0147145041788637\n",
      "loss(params) = 2.014245954526155\n",
      "loss(params) = 2.013796386515097\n",
      "loss(params) = 2.013364748927996\n",
      "loss(params) = 2.0131569872470783\n",
      "loss(params) = 2.0127954447485896\n",
      "loss(params) = 2.012458977904134\n",
      "loss(params) = 2.0121314018754575\n",
      "loss(params) = 2.0118123880571517\n",
      "loss(params) = 2.0115017215108253\n",
      "loss(params) = 2.0111992057348496\n",
      "loss(params) = 2.010904650518775\n",
      "loss(params) = 2.0106178682893527\n",
      "loss(params) = 2.0103386731829715\n",
      "loss(params) = 2.010066881015252\n",
      "loss(params) = 2.0098023095172994\n",
      "loss(params) = 2.009544778624778\n",
      "loss(params) = 2.0092941107508917\n",
      "loss(params) = 2.009050131023931\n",
      "loss(params) = 2.0088126674865068\n",
      "loss(params) = 2.0085815512587084\n",
      "loss(params) = 2.008356616668782\n",
      "loss(params) = 2.008137701355048\n",
      "loss(params) = 2.0079246463425453\n",
      "loss(params) = 2.0077172960975602\n",
      "loss(params) = 2.0075154985628707\n",
      "loss(params) = 2.007319105176225\n",
      "loss(params) = 2.0075358545429824\n",
      "loss(params) = 2.0071492335844505\n",
      "loss(params) = 2.007042826722472\n",
      "loss(params) = 2.006939402396\n",
      "loss(params) = 2.0068354058760605\n",
      "loss(params) = 2.0067308320591346\n",
      "loss(params) = 2.006625763797019\n",
      "loss(params) = 2.0065202938975952\n",
      "loss(params) = 2.006414518004829\n",
      "loss(params) = 2.0063085323706016\n",
      "loss(params) = 2.0062024328650008\n",
      "loss(params) = 2.0060963144049158\n",
      "loss(params) = 2.0059902705353676\n",
      "loss(params) = 2.0058843930755232\n",
      "loss(params) = 2.0057787718009066\n",
      "loss(params) = 2.0056734941533563\n",
      "loss(params) = 2.0055686449768277\n",
      "loss(params) = 2.0054643062791246\n",
      "loss(params) = 2.0053605570200297\n",
      "loss(params) = 2.00525747292622\n",
      "loss(params) = 2.0051551263330767\n",
      "loss(params) = 2.005053586053215\n",
      "loss(params) = 2.004952917271263\n",
      "loss(params) = 2.004853181464187\n",
      "loss(params) = 2.004754436346206\n",
      "loss(params) = 2.0046567358371514\n",
      "loss(params) = 2.0045601300529734\n",
      "loss(params) = 2.00446466531695\n",
      "loss(params) = 2.00437038419006\n",
      "loss(params) = 2.004277325518917\n",
      "loss(params) = 2.0041855244996123\n",
      "loss(params) = 2.0040950127557933\n",
      "loss(params) = 2.0040058184293263\n",
      "loss(params) = 2.0039179662819078\n",
      "loss(params) = 2.0038314778060307\n",
      "loss(params) = 2.0037463713437855\n",
      "loss(params) = 2.003662662212033\n",
      "loss(params) = 2.0035888675106657\n",
      "loss(params) = 2.0037005286815104\n",
      "loss(params) = 2.0035758038223834\n",
      "loss(params) = 2.00355068743574\n",
      "loss(params) = 2.0035325762670615\n",
      "loss(params) = 2.003514580289864\n",
      "loss(params) = 2.003496024832084\n",
      "loss(params) = 2.0034768330314128\n",
      "loss(params) = 2.0034569873188266\n",
      "loss(params) = 2.003436477218168\n",
      "loss(params) = 2.003415294207533\n",
      "loss(params) = 2.0033934311297505\n",
      "loss(params) = 2.003370882108447\n",
      "loss(params) = 2.003347642561813\n",
      "loss(params) = 2.0033237092514438\n",
      "loss(params) = 2.003299080345407\n",
      "loss(params) = 2.0032737554853703\n",
      "loss(params) = 2.0032477358524314\n",
      "loss(params) = 2.0032210242286514\n",
      "loss(params) = 2.003193625052445\n",
      "loss(params) = 2.0031655444665377\n",
      "loss(params) = 2.0031367903574573\n",
      "loss(params) = 2.003107372385701\n",
      "loss(params) = 2.003077302005812\n",
      "loss(params) = 2.0030465924757292\n",
      "loss(params) = 2.0030152588548606\n",
      "loss(params) = 2.0029833179904664\n",
      "loss(params) = 2.0029507884920683\n",
      "loss(params) = 2.0029176906937276\n",
      "loss(params) = 2.002884046604211\n",
      "loss(params) = 2.00284987984519\n",
      "loss(params) = 2.0028152155777885\n",
      "loss(params) = 2.002780080417958\n",
      "loss(params) = 2.0027454330422847\n",
      "loss(params) = 2.002711336034083\n",
      "loss(params) = 2.0026773568364655\n",
      "loss(params) = 2.0026429596542314\n",
      "loss(params) = 2.0026102906512167\n",
      "loss(params) = 2.0025784325755103\n",
      "loss(params) = 2.0025461553367894\n",
      "loss(params) = 2.00251508668036\n",
      "loss(params) = 2.002485012304116\n",
      "loss(params) = 2.0024551523983734\n",
      "loss(params) = 2.0024404771433364\n",
      "loss(params) = 2.0023977216458304\n",
      "loss(params) = 2.00237034359191\n",
      "loss(params) = 2.0023438248607883\n",
      "loss(params) = 2.002317865716172\n",
      "loss(params) = 2.0022935481665822\n",
      "loss(params) = 2.0022693216470335\n",
      "loss(params) = 2.00224573539157\n",
      "loss(params) = 2.0022229587682245\n",
      "loss(params) = 2.0022007331672174\n",
      "loss(params) = 2.0021789219838704\n",
      "loss(params) = 2.0021580762165216\n",
      "loss(params) = 2.002154731067235\n",
      "loss(params) = 2.002121505654131\n",
      "loss(params) = 2.002098347959347\n",
      "loss(params) = 2.0020797431881285\n",
      "loss(params) = 2.002060361984877\n",
      "loss(params) = 2.002045102063947\n",
      "loss(params) = 2.002025315183057\n",
      "loss(params) = 2.002007417488593\n",
      "loss(params) = 2.0019906175895956\n",
      "loss(params) = 2.0019741726054994\n",
      "loss(params) = 2.002082225884191\n",
      "loss(params) = 2.0020048842875413\n",
      "loss(params) = 2.0019864995885586\n",
      "loss(params) = 2.001979307547807\n",
      "loss(params) = 2.0019748951527663\n",
      "loss(params) = 2.00197110982149\n",
      "loss(params) = 2.0019673692129896\n",
      "loss(params) = 2.001963513974004\n",
      "loss(params) = 2.001959498272218\n",
      "loss(params) = 2.0019553057179555\n",
      "loss(params) = 2.0019509271786458\n",
      "loss(params) = 2.0019463551609835\n",
      "loss(params) = 2.0019415824564177\n",
      "loss(params) = 2.0019366018360945\n",
      "loss(params) = 2.0019314059925346\n",
      "loss(params) = 2.001925987537498\n",
      "loss(params) = 2.0019203390133136\n",
      "loss(params) = 2.0019144529087103\n",
      "loss(params) = 2.0019083216773073\n",
      "loss(params) = 2.001901937758401\n",
      "loss(params) = 2.001895293599932\n",
      "loss(params) = 2.0018883816835773\n",
      "loss(params) = 2.0018811945519315\n",
      "loss(params) = 2.001873724837748\n",
      "loss(params) = 2.0018659652951873\n",
      "loss(params) = 2.001857908833024\n",
      "loss(params) = 2.001849548549735\n",
      "loss(params) = 2.001840877770368\n",
      "loss(params) = 2.0018318900850725\n",
      "loss(params) = 2.001822579389125\n",
      "loss(params) = 2.00181293992428\n"
     ]
    },
    {
     "data": {
      "text/plain": [
       "6×8 Array{Float64,2}:\n",
       " -0.820814    17.8921    11.6629   …  16.374      11.1099     5.92653 \n",
       "  0.874955    -1.11079  -12.1842      -0.228859  -12.2531   -10.2395  \n",
       " -0.963763     2.64763    5.60676      4.62266     3.29948   12.8898  \n",
       "  0.00403347  -5.05025   15.87        -4.46967    15.9292    -3.63922 \n",
       "  0.581611     5.23987    5.40326      4.67179     7.24354   17.667   \n",
       " -0.413453    15.6201     7.64469  …  16.9887      8.34591    0.796128"
      ]
     },
     "execution_count": 7,
     "metadata": {},
     "output_type": "execute_result"
    }
   ],
   "source": [
    "params = train(randn(6, 8))"
   ]
  },
  {
   "cell_type": "code",
   "execution_count": 8,
   "metadata": {},
   "outputs": [
    {
     "ename": "UndefVarError",
     "evalue": "UndefVarError: params not defined",
     "output_type": "error",
     "traceback": [
      "UndefVarError: params not defined",
      "",
      "Stacktrace:",
      " [1] top-level scope at In[8]:1"
     ]
    }
   ],
   "source": [
    "params"
   ]
  },
  {
   "cell_type": "code",
   "execution_count": 9,
   "metadata": {},
   "outputs": [
    {
     "ename": "UndefVarError",
     "evalue": "UndefVarError: params not defined",
     "output_type": "error",
     "traceback": [
      "UndefVarError: params not defined",
      "",
      "Stacktrace:",
      " [1] top-level scope at In[9]:1"
     ]
    }
   ],
   "source": [
    "loss(params)"
   ]
  },
  {
   "cell_type": "code",
   "execution_count": 10,
   "metadata": {},
   "outputs": [
    {
     "ename": "UndefVarError",
     "evalue": "UndefVarError: params not defined",
     "output_type": "error",
     "traceback": [
      "UndefVarError: params not defined",
      "",
      "Stacktrace:",
      " [1] (::getfield(Main, Symbol(\"##9#10\")))(::Tuple{Int64,Int64}) at ./none:0",
      " [2] iterate at ./generator.jl:47 [inlined]",
      " [3] collect(::Base.Generator{Array{Tuple{Int64,Int64},1},getfield(Main, Symbol(\"##9#10\"))}) at ./array.jl:606",
      " [4] top-level scope at In[10]:1"
     ]
    }
   ],
   "source": [
    "[norm(params[:,i]-params[:,j]) for (i,j) in l1_pairs]"
   ]
  },
  {
   "cell_type": "code",
   "execution_count": 11,
   "metadata": {
    "scrolled": true
   },
   "outputs": [
    {
     "ename": "UndefVarError",
     "evalue": "UndefVarError: params not defined",
     "output_type": "error",
     "traceback": [
      "UndefVarError: params not defined",
      "",
      "Stacktrace:",
      " [1] (::getfield(Main, Symbol(\"##11#12\")))(::Tuple{Int64,Int64}) at ./none:0",
      " [2] iterate at ./generator.jl:47 [inlined]",
      " [3] collect(::Base.Generator{Array{Tuple{Int64,Int64},1},getfield(Main, Symbol(\"##11#12\"))}) at ./array.jl:606",
      " [4] top-level scope at In[11]:1"
     ]
    }
   ],
   "source": [
    "[norm(params[:,i]-params[:,j]) for (i,j) in l2_pairs]"
   ]
  },
  {
   "cell_type": "code",
   "execution_count": 12,
   "metadata": {},
   "outputs": [
    {
     "ename": "UndefVarError",
     "evalue": "UndefVarError: params not defined",
     "output_type": "error",
     "traceback": [
      "UndefVarError: params not defined",
      "",
      "Stacktrace:",
      " [1] (::getfield(Main, Symbol(\"##13#14\")))(::Tuple{Int64,Int64}) at ./none:0",
      " [2] iterate at ./generator.jl:47 [inlined]",
      " [3] collect(::Base.Generator{Array{Tuple{Int64,Int64},1},getfield(Main, Symbol(\"##13#14\"))}) at ./array.jl:606",
      " [4] top-level scope at In[12]:1"
     ]
    }
   ],
   "source": [
    "[norm(params[:,i]-params[:,j]) for (i,j) in l3_pairs]"
   ]
  },
  {
   "cell_type": "code",
   "execution_count": 13,
   "metadata": {},
   "outputs": [],
   "source": [
    "Zygote.refresh()"
   ]
  },
  {
   "cell_type": "code",
   "execution_count": 14,
   "metadata": {},
   "outputs": [
    {
     "ename": "UndefVarError",
     "evalue": "UndefVarError: params not defined",
     "output_type": "error",
     "traceback": [
      "UndefVarError: params not defined",
      "",
      "Stacktrace:",
      " [1] top-level scope at In[14]:1"
     ]
    }
   ],
   "source": [
    "norm(params[:,1]-params[:,3])"
   ]
  },
  {
   "cell_type": "code",
   "execution_count": 15,
   "metadata": {},
   "outputs": [
    {
     "data": {
      "text/plain": [
       "15-element Array{Tuple{Int64,Int64},1}:\n",
       " (1, 6) \n",
       " (2, 7) \n",
       " (3, 8) \n",
       " (4, 9) \n",
       " (5, 10)\n",
       " (1, 2) \n",
       " (2, 3) \n",
       " (3, 4) \n",
       " (4, 5) \n",
       " (1, 5) \n",
       " (6, 8) \n",
       " (8, 10)\n",
       " (7, 10)\n",
       " (7, 9) \n",
       " (6, 9) "
      ]
     },
     "execution_count": 15,
     "metadata": {},
     "output_type": "execute_result"
    }
   ],
   "source": [
    "L1 = [(1,6), (2,7), (3,8), (4,9), (5,10), (1,2), (2,3), (3,4), (4,5), (5,1), (6,8), (8,10), (10,7), (7,9), (9,6)]\n",
    "L1 = [i<j ? (i,j) : (j,i) for (i,j) in L1]"
   ]
  },
  {
   "cell_type": "code",
   "execution_count": 16,
   "metadata": {},
   "outputs": [],
   "source": [
    "LL = Any[]\n",
    "for i=1:9\n",
    "    for j=i+1:10\n",
    "        push!(LL, (i,j))\n",
    "    end\n",
    "end"
   ]
  },
  {
   "cell_type": "code",
   "execution_count": 225,
   "metadata": {},
   "outputs": [
    {
     "data": {
      "text/plain": [
       "30-element Array{Any,1}:\n",
       " (1, 3) \n",
       " (1, 4) \n",
       " (1, 7) \n",
       " (1, 8) \n",
       " (1, 9) \n",
       " (1, 10)\n",
       " (2, 4) \n",
       " (2, 5) \n",
       " (2, 6) \n",
       " (2, 8) \n",
       " (2, 9) \n",
       " (2, 10)\n",
       " (3, 5) \n",
       " ⋮      \n",
       " (4, 7) \n",
       " (4, 8) \n",
       " (4, 10)\n",
       " (5, 6) \n",
       " (5, 7) \n",
       " (5, 8) \n",
       " (5, 9) \n",
       " (6, 7) \n",
       " (6, 10)\n",
       " (7, 8) \n",
       " (8, 9) \n",
       " (9, 10)"
      ]
     },
     "execution_count": 225,
     "metadata": {},
     "output_type": "execute_result"
    }
   ],
   "source": [
    "L2 = setdiff(LL, L1)"
   ]
  },
  {
   "cell_type": "code",
   "execution_count": 226,
   "metadata": {},
   "outputs": [
    {
     "data": {
      "text/plain": [
       "loss2 (generic function with 1 method)"
      ]
     },
     "execution_count": 226,
     "metadata": {},
     "output_type": "execute_result"
    }
   ],
   "source": [
    "function loss2(x)\n",
    "    a = [norm(x[:,i]-x[:,j]) for (i, j) in L1]\n",
    "    b = [norm(x[:,i]-x[:,j]) for (i, j) in L2]\n",
    "    myvar(a) + myvar(b) + exp(relu(-mean(b) + mean(a) + 0.1))\n",
    "end"
   ]
  },
  {
   "cell_type": "code",
   "execution_count": 250,
   "metadata": {},
   "outputs": [
    {
     "data": {
      "text/plain": [
       "train (generic function with 3 methods)"
      ]
     },
     "execution_count": 250,
     "metadata": {},
     "output_type": "execute_result"
    }
   ],
   "source": [
    "function train(params)\n",
    "    opt = ADAM(0.001)\n",
    "    maxiter = 20000\n",
    "    msk = fill(true, size(params, 2))\n",
    "    msk[[1, 2]] .= false\n",
    "    pp = params[:,msk]\n",
    "    for i=1:maxiter\n",
    "        grad = view(loss2'(params), :,msk)\n",
    "        Optimise.update!(opt, pp, grad)\n",
    "        view(params, :, msk) .= pp\n",
    "        if i%100 == 0\n",
    "            @show loss2(params)\n",
    "        end\n",
    "    end\n",
    "    params\n",
    "end"
   ]
  },
  {
   "cell_type": "code",
   "execution_count": 251,
   "metadata": {},
   "outputs": [
    {
     "name": "stdout",
     "output_type": "stream",
     "text": [
      "loss2(params) = 3.331592321526906\n",
      "loss2(params) = 2.914081404912695\n",
      "loss2(params) = 2.5771553258750526\n",
      "loss2(params) = 2.2962600851510033\n",
      "loss2(params) = 2.0513004460282156\n",
      "loss2(params) = 1.8651966586844886\n",
      "loss2(params) = 1.7363954653318507\n",
      "loss2(params) = 1.6414455335144589\n",
      "loss2(params) = 1.5701551343111244\n",
      "loss2(params) = 1.51586255741702\n",
      "loss2(params) = 1.4737555860964107\n",
      "loss2(params) = 1.4402490862117032\n",
      "loss2(params) = 1.4126079444400914\n",
      "loss2(params) = 1.3888145874269247\n",
      "loss2(params) = 1.3675080586629358\n",
      "loss2(params) = 1.3479736283615706\n",
      "loss2(params) = 1.3301023934079441\n",
      "loss2(params) = 1.314223764697566\n",
      "loss2(params) = 1.3007786537900932\n",
      "loss2(params) = 1.2899443717534265\n",
      "loss2(params) = 1.281582851336879\n",
      "loss2(params) = 1.2753358359108495\n",
      "loss2(params) = 1.2707258324147752\n",
      "loss2(params) = 1.267303280432197\n",
      "loss2(params) = 1.264701221072482\n",
      "loss2(params) = 1.262644243719694\n",
      "loss2(params) = 1.2609349055398853\n",
      "loss2(params) = 1.2594339066959979\n",
      "loss2(params) = 1.2580420361217493\n",
      "loss2(params) = 1.2566863553329535\n",
      "loss2(params) = 1.2553104019639885\n",
      "loss2(params) = 1.253867389080808\n",
      "loss2(params) = 1.2523154494064812\n",
      "loss2(params) = 1.2506142848898485\n",
      "loss2(params) = 1.2487228398634194\n",
      "loss2(params) = 1.2465977412391596\n",
      "loss2(params) = 1.2441922628157427\n",
      "loss2(params) = 1.2414555368660716\n",
      "loss2(params) = 1.2383317354736563\n",
      "loss2(params) = 1.2347590491439915\n",
      "loss2(params) = 1.2306685363777783\n",
      "loss2(params) = 1.2259832922828329\n",
      "loss2(params) = 1.2206188494254757\n",
      "loss2(params) = 1.21448623266306\n",
      "loss2(params) = 1.207499491185148\n",
      "loss2(params) = 1.1995893580785453\n",
      "loss2(params) = 1.1907231127917854\n",
      "loss2(params) = 1.1809272162578097\n",
      "loss2(params) = 1.1703049587298364\n",
      "loss2(params) = 1.1590394302280447\n",
      "loss2(params) = 1.1473757755101586\n",
      "loss2(params) = 1.1355855619567068\n",
      "loss2(params) = 1.1239253064068604\n",
      "loss2(params) = 1.112604490299972\n",
      "loss2(params) = 1.1017728544268761\n",
      "loss2(params) = 1.0915259931063197\n",
      "loss2(params) = 1.0819200668471725\n",
      "loss2(params) = 1.0729858703901876\n",
      "loss2(params) = 1.0647375804176122\n",
      "loss2(params) = 1.0571766927934956\n",
      "loss2(params) = 1.0502936649748635\n",
      "loss2(params) = 1.0440691829767321\n",
      "loss2(params) = 1.0384757363722426\n",
      "loss2(params) = 1.033479439638374\n",
      "loss2(params) = 1.0290418555972378\n",
      "loss2(params) = 1.025121650223823\n",
      "loss2(params) = 1.0216760125477384\n",
      "loss2(params) = 1.0186618359561923\n",
      "loss2(params) = 1.0160366813295496\n",
      "loss2(params) = 1.0137595465543916\n",
      "loss2(params) = 1.0117914638606926\n",
      "loss2(params) = 1.0100959422865516\n",
      "loss2(params) = 1.0086392697965771\n",
      "loss2(params) = 1.0073906887639594\n",
      "loss2(params) = 1.0063224593534716\n",
      "loss2(params) = 1.0054098270452743\n",
      "loss2(params) = 1.004630912233561\n",
      "loss2(params) = 1.003966540783036\n",
      "loss2(params) = 1.0034000342062854\n",
      "loss2(params) = 1.0029169766714157\n",
      "loss2(params) = 1.0025049735943965\n",
      "loss2(params) = 1.002153413519181\n",
      "loss2(params) = 1.001853241781468\n",
      "loss2(params) = 1.0015967514597814\n",
      "loss2(params) = 1.001377394585211\n",
      "loss2(params) = 1.0011896146194978\n",
      "loss2(params) = 1.0010286998210798\n",
      "loss2(params) = 1.0008906562297788\n",
      "loss2(params) = 1.000772098508945\n",
      "loss2(params) = 1.0006701566801246\n",
      "loss2(params) = 1.000582396773461\n",
      "loss2(params) = 1.0005067535210705\n",
      "loss2(params) = 1.0004414733857232\n",
      "loss2(params) = 1.0003850664067198\n",
      "loss2(params) = 1.0003362655363839\n",
      "loss2(params) = 1.0002939923214984\n",
      "loss2(params) = 1.0002573279481897\n",
      "loss2(params) = 1.0002254888140847\n",
      "loss2(params) = 1.0001978059181158\n",
      "loss2(params) = 1.0001737074674057\n",
      "loss2(params) = 1.0001527041939589\n",
      "loss2(params) = 1.0001343769533202\n",
      "loss2(params) = 1.0001183662447488\n",
      "loss2(params) = 1.000104363349483\n",
      "loss2(params) = 1.0000921028318297\n",
      "loss2(params) = 1.0000813561884259\n",
      "loss2(params) = 1.0000719264652151\n",
      "loss2(params) = 1.0000636436904546\n",
      "loss2(params) = 1.0000563609962516\n",
      "loss2(params) = 1.0000499513214398\n",
      "loss2(params) = 1.0000443046056686\n",
      "loss2(params) = 1.0000393253988824\n",
      "loss2(params) = 1.000034930822391\n",
      "loss2(params) = 1.000031048827804\n",
      "loss2(params) = 1.0000276167085624\n",
      "loss2(params) = 1.0000245798259058\n",
      "loss2(params) = 1.0000218905170635\n",
      "loss2(params) = 1.0000195071584774\n",
      "loss2(params) = 1.000017393361063\n",
      "loss2(params) = 1.0000155172780587\n",
      "loss2(params) = 1.000013851008988\n",
      "loss2(params) = 1.0000123700857666\n",
      "loss2(params) = 1.0000110530291029\n",
      "loss2(params) = 1.0000098809651183\n",
      "loss2(params) = 1.0000088372936213\n",
      "loss2(params) = 1.0000079074007382\n",
      "loss2(params) = 1.0000070784096862\n",
      "loss2(params) = 1.0000063389643752\n",
      "loss2(params) = 1.0000056790413048\n",
      "loss2(params) = 1.0000050897858765\n",
      "loss2(params) = 1.000004563369796\n",
      "loss2(params) = 1.000004092866716\n",
      "loss2(params) = 1.000003672143672\n",
      "loss2(params) = 1.0000032957662086\n",
      "loss2(params) = 1.0000029589153847\n",
      "loss2(params) = 1.0000026573151006\n",
      "loss2(params) = 1.0000023871683994\n",
      "loss2(params) = 1.0000021451015828\n",
      "loss2(params) = 1.0000019281151376\n",
      "loss2(params) = 1.0000017335406028\n",
      "loss2(params) = 1.000001559002626\n",
      "loss2(params) = 1.0000014023855535\n",
      "loss2(params) = 1.00000126180399\n",
      "loss2(params) = 1.0000011355768357\n",
      "loss2(params) = 1.0000010222043674\n",
      "loss2(params) = 1.0000009203479958\n",
      "loss2(params) = 1.0000008288123698\n",
      "loss2(params) = 1.0000007465295455\n",
      "loss2(params) = 1.0000006725449702\n",
      "loss2(params) = 1.0000006060050661\n",
      "loss2(params) = 1.0000005461462238\n",
      "loss2(params) = 1.0000004922850354\n",
      "loss2(params) = 1.0000004438096286\n",
      "loss2(params) = 1.0000004001719651\n",
      "loss2(params) = 1.0000003608809993\n",
      "loss2(params) = 1.000000325496592\n",
      "loss2(params) = 1.0000002936240941\n",
      "loss2(params) = 1.0000002649095276\n",
      "loss2(params) = 1.0000002390352891\n",
      "loss2(params) = 1.0000002157163226\n",
      "loss2(params) = 1.000000194696706\n",
      "loss2(params) = 1.0000001757466062\n",
      "loss2(params) = 1.0000001588741463\n",
      "loss2(params) = 1.0000001432720167\n",
      "loss2(params) = 1.0000001293860472\n",
      "loss2(params) = 1.0000001168575006\n",
      "loss2(params) = 1.0000001055747063\n",
      "loss2(params) = 1.0000000953901471\n",
      "loss2(params) = 1.0000000862009237\n",
      "loss2(params) = 1.0000000780304554\n",
      "loss2(params) = 1.0000000704701748\n",
      "loss2(params) = 1.0000000639238662\n",
      "loss2(params) = 1.0000000576968122\n",
      "loss2(params) = 1.0000000522361288\n",
      "loss2(params) = 1.0000000479663707\n",
      "loss2(params) = 1.0000000429077711\n",
      "loss2(params) = 1.0000000404919653\n",
      "loss2(params) = 1.0000000363893438\n",
      "loss2(params) = 1.0000000335531887\n",
      "loss2(params) = 1.0000000307293417\n",
      "loss2(params) = 1.0000000266246634\n",
      "loss2(params) = 1.0000000249659984\n",
      "loss2(params) = 1.000000031864928\n",
      "loss2(params) = 1.0000000203351278\n",
      "loss2(params) = 1.0000000185421238\n",
      "loss2(params) = 1.0000000171859256\n",
      "loss2(params) = 1.0000000216730445\n",
      "loss2(params) = 1.00000001908642\n",
      "loss2(params) = 1.0000000131496307\n",
      "loss2(params) = 1.0000000125083532\n",
      "loss2(params) = 1.0000000111911034\n",
      "loss2(params) = 1.0000000105727191\n",
      "loss2(params) = 1.0000000187125027\n",
      "loss2(params) = 1.0000000317279973\n",
      "loss2(params) = 1.0000000280923738\n",
      "loss2(params) = 1.0000000079817344\n",
      "loss2(params) = 1.0000000115691103\n",
      "loss2(params) = 1.0000000069548483\n",
      "loss2(params) = 1.0000000148995987\n",
      "loss2(params) = 1.0000000118604713\n"
     ]
    },
    {
     "data": {
      "text/plain": [
       "7×10 Array{Float64,2}:\n",
       "  0.612515    1.41179     1.40957     …  -2.61222    1.6019    -2.47632 \n",
       " -1.61431     0.889491    1.0711          2.14935    3.8988     1.6821  \n",
       "  0.420388    0.0693702  -3.31453        -3.32206    0.934447   1.43253 \n",
       "  0.0867253   1.71063     0.00994049     -0.956393  -4.12743   -0.917385\n",
       " -0.371805   -0.416572   -0.404943        1.03215   -1.23915    3.17223 \n",
       "  1.51972    -2.76443    -3.30082     …  -0.51173   -0.124884  -1.1929  \n",
       "  0.933705    1.25518    -2.41411        -2.30603   -0.909133  -2.79326 "
      ]
     },
     "execution_count": 251,
     "metadata": {},
     "output_type": "execute_result"
    }
   ],
   "source": [
    "params = randn(7, 10)\n",
    "params = train(params)"
   ]
  },
  {
   "cell_type": "code",
   "execution_count": 252,
   "metadata": {},
   "outputs": [
    {
     "data": {
      "text/plain": [
       "15-element Array{Float64,1}:\n",
       " 5.303518746113095 \n",
       " 5.303499019277379 \n",
       " 5.303511697455446 \n",
       " 5.303521236582463 \n",
       " 5.303400765791085 \n",
       " 5.3035303418894175\n",
       " 5.303545511130144 \n",
       " 5.303558349676117 \n",
       " 5.303425089395428 \n",
       " 5.303471641705359 \n",
       " 5.30353001564777  \n",
       " 5.303377892744704 \n",
       " 5.303380568680792 \n",
       " 5.303434623657267 \n",
       " 5.303529937047624 "
      ]
     },
     "execution_count": 252,
     "metadata": {},
     "output_type": "execute_result"
    }
   ],
   "source": [
    "[norm(params[:,i]-params[:,j]) for (i,j) in L1]"
   ]
  },
  {
   "cell_type": "code",
   "execution_count": 253,
   "metadata": {},
   "outputs": [
    {
     "data": {
      "text/plain": [
       "30-element Array{Float64,1}:\n",
       " 7.499917253694322 \n",
       " 7.500123007765547 \n",
       " 7.499990560287559 \n",
       " 7.500122285184035 \n",
       " 7.499975832400816 \n",
       " 7.499908918960845 \n",
       " 7.499972037050174 \n",
       " 7.499959264708391 \n",
       " 7.499971899667681 \n",
       " 7.500027847644169 \n",
       " 7.500096946334635 \n",
       " 7.499956524920089 \n",
       " 7.500045680000539 \n",
       " ⋮                 \n",
       " 7.500108072852169 \n",
       " 7.500107793811843 \n",
       " 7.499982343313271 \n",
       " 7.499923479959791 \n",
       " 7.499876970472376 \n",
       " 7.500034017392995 \n",
       " 7.500138103250206 \n",
       " 7.50001091903994  \n",
       " 7.500117648966705 \n",
       " 7.500043848488527 \n",
       " 7.5001658036914876\n",
       " 7.499925531651715 "
      ]
     },
     "execution_count": 253,
     "metadata": {},
     "output_type": "execute_result"
    }
   ],
   "source": [
    "[norm(params[:,i]-params[:,j]) for (i,j) in L2]"
   ]
  },
  {
   "cell_type": "code",
   "execution_count": 264,
   "metadata": {},
   "outputs": [
    {
     "name": "stdout",
     "output_type": "stream",
     "text": [
      "loss2(params) = 2.228589387426616\n",
      "loss2(params) = 1.981818726173078\n",
      "loss2(params) = 1.8003527029950928\n",
      "loss2(params) = 1.6667746699250827\n",
      "loss2(params) = 1.570061096751739\n",
      "loss2(params) = 1.4997614651437283\n",
      "loss2(params) = 1.4474798883460094\n",
      "loss2(params) = 1.4079180142375904\n",
      "loss2(params) = 1.3778243227861693\n",
      "loss2(params) = 1.354568405419604\n",
      "loss2(params) = 1.336191793627682\n",
      "loss2(params) = 1.3210167787312175\n",
      "loss2(params) = 1.3081224767954636\n",
      "loss2(params) = 1.2968748804179038\n",
      "loss2(params) = 1.2869138893840306\n",
      "loss2(params) = 1.2780144051001656\n",
      "loss2(params) = 1.2699620010484538\n",
      "loss2(params) = 1.262591665406957\n",
      "loss2(params) = 1.2557021804336543\n",
      "loss2(params) = 1.2490563136087716\n",
      "loss2(params) = 1.2423372319628452\n",
      "loss2(params) = 1.2351519427887716\n",
      "loss2(params) = 1.2272269149131698\n",
      "loss2(params) = 1.2187715284140526\n",
      "loss2(params) = 1.2103913271339117\n",
      "loss2(params) = 1.2025336231178207\n",
      "loss2(params) = 1.195301397187838\n",
      "loss2(params) = 1.1885958072115814\n",
      "loss2(params) = 1.18223985073704\n",
      "loss2(params) = 1.1760451997355788\n",
      "loss2(params) = 1.1698554546052384\n",
      "loss2(params) = 1.1635615698283561\n",
      "loss2(params) = 1.1570605161495386\n",
      "loss2(params) = 1.1501378661452064\n",
      "loss2(params) = 1.1422976530391564\n",
      "loss2(params) = 1.1326676695131468\n",
      "loss2(params) = 1.1203499588745294\n",
      "loss2(params) = 1.105402596218164\n",
      "loss2(params) = 1.089327099495349\n",
      "loss2(params) = 1.0741813957125408\n",
      "loss2(params) = 1.0613083244521095\n",
      "loss2(params) = 1.0508141639863706\n",
      "loss2(params) = 1.0421115054279282\n",
      "loss2(params) = 1.0346752524315308\n",
      "loss2(params) = 1.0282484873005902\n",
      "loss2(params) = 1.0227253045043925\n",
      "loss2(params) = 1.0180412054026566\n",
      "loss2(params) = 1.0141294435912553\n",
      "loss2(params) = 1.0109129470017442\n",
      "loss2(params) = 1.0083081656221669\n",
      "loss2(params) = 1.0062306584709824\n",
      "loss2(params) = 1.0045993201426113\n",
      "loss2(params) = 1.003338962133505\n",
      "loss2(params) = 1.00238171161108\n",
      "loss2(params) = 1.0016676704611756\n",
      "loss2(params) = 1.0011451012353296\n",
      "loss2(params) = 1.000770275801995\n",
      "loss2(params) = 1.0005070609511961\n",
      "loss2(params) = 1.0003262975677694\n",
      "loss2(params) = 1.0002050307068082\n",
      "loss2(params) = 1.0001256515837433\n",
      "loss2(params) = 1.0000750121595183\n",
      "loss2(params) = 1.0000435667964724\n",
      "loss2(params) = 1.0000245842603308\n",
      "loss2(params) = 1.000013459282465\n",
      "loss2(params) = 1.0000071383966922\n",
      "loss2(params) = 1.0000036618967398\n",
      "loss2(params) = 1.0000018138840367\n",
      "loss2(params) = 1.000000866040074\n",
      "loss2(params) = 1.0000003978058511\n",
      "loss2(params) = 1.0000001754438965\n",
      "loss2(params) = 1.0000000741335546\n",
      "loss2(params) = 1.0000000299446523\n",
      "loss2(params) = 1.0000000115347754\n",
      "loss2(params) = 1.00000000422646\n",
      "loss2(params) = 1.000000001469077\n",
      "loss2(params) = 1.0000000004830136\n",
      "loss2(params) = 1.0000000001497569\n",
      "loss2(params) = 1.0000000000436418\n",
      "loss2(params) = 1.000000000011912\n",
      "loss2(params) = 1.000000000003034\n",
      "loss2(params) = 1.000000000000718\n",
      "loss2(params) = 1.0000000000001572\n",
      "loss2(params) = 1.0000000000000318\n",
      "loss2(params) = 1.0000000000000058\n",
      "loss2(params) = 1.0000000000000009\n",
      "loss2(params) = 1.0000000000000002\n",
      "loss2(params) = 1.0\n",
      "loss2(params) = 1.0\n",
      "loss2(params) = 1.0\n",
      "loss2(params) = 1.0\n",
      "loss2(params) = 1.0\n",
      "loss2(params) = 1.0\n",
      "loss2(params) = 1.0\n",
      "loss2(params) = 1.0\n",
      "loss2(params) = 1.0\n",
      "loss2(params) = 1.0\n",
      "loss2(params) = 1.0\n",
      "loss2(params) = 1.0\n",
      "loss2(params) = 1.0\n"
     ]
    },
    {
     "ename": "InterruptException",
     "evalue": "InterruptException:",
     "output_type": "error",
     "traceback": [
      "InterruptException:",
      "",
      "Stacktrace:",
      " [1] Type at /home/leo/.julia/dev/Zygote/src/compiler/emit.jl:4 [inlined]",
      " [2] Zygote.Stack(::Array{Any,1}) at /home/leo/.julia/dev/Zygote/src/compiler/emit.jl:8",
      " [3] (::typeof(∂(promote_shape)))(::Nothing) at /home/leo/.julia/dev/Zygote/src/compiler/interface2.jl:19",
      " [4] promote_shape at ./indices.jl:145 [inlined]",
      " [5] (::typeof(∂(promote_shape)))(::Nothing) at /home/leo/.julia/dev/Zygote/src/compiler/interface2.jl:0",
      " [6] - at ./arraymath.jl:38 [inlined]",
      " [7] (::typeof(∂(-)))(::Array{Float64,1}) at /home/leo/.julia/dev/Zygote/src/compiler/interface2.jl:0",
      " [8] #169 at ./none:0 [inlined]",
      " [9] (::typeof(∂(λ)))(::Float64) at /home/leo/.julia/dev/Zygote/src/compiler/interface2.jl:0",
      " [10] #799 at /home/leo/.julia/dev/Zygote/src/lib/array.jl:84 [inlined]",
      " [11] #3 at ./generator.jl:36 [inlined]",
      " [12] iterate at ./generator.jl:47 [inlined]",
      " [13] collect_to!(::Array{Tuple{NamedTuple{(:x,),Tuple{Array{Float64,2}}},Nothing},1}, ::Base.Generator{Base.Iterators.Zip{Tuple{Array{typeof(∂(λ)),1},Array{Float64,1}}},getfield(Base, Symbol(\"##3#4\")){getfield(Zygote, Symbol(\"##799#802\"))}}, ::Int64, ::Tuple{Int64,Int64}) at ./array.jl:651",
      " [14] collect_to_with_first!(::Array{Tuple{NamedTuple{(:x,),Tuple{Array{Float64,2}}},Nothing},1}, ::Tuple{NamedTuple{(:x,),Tuple{Array{Float64,2}}},Nothing}, ::Base.Generator{Base.Iterators.Zip{Tuple{Array{typeof(∂(λ)),1},Array{Float64,1}}},getfield(Base, Symbol(\"##3#4\")){getfield(Zygote, Symbol(\"##799#802\"))}}, ::Tuple{Int64,Int64}) at ./array.jl:630",
      " [15] collect(::Base.Generator{Base.Iterators.Zip{Tuple{Array{typeof(∂(λ)),1},Array{Float64,1}}},getfield(Base, Symbol(\"##3#4\")){getfield(Zygote, Symbol(\"##799#802\"))}}) at ./array.jl:611",
      " [16] map at ./abstractarray.jl:2091 [inlined]",
      " [17] (::getfield(Zygote, Symbol(\"##798#801\")){Array{typeof(∂(λ)),1}})(::Array{Float64,1}) at /home/leo/.julia/dev/Zygote/src/lib/array.jl:84",
      " [18] #2082#back at /home/leo/.julia/dev/Zygote/src/lib/grad.jl:46 [inlined]",
      " [19] (::getfield(Zygote, Symbol(\"##805#806\")){getfield(Zygote, Symbol(\"##2082#back#803\")){getfield(Zygote, Symbol(\"##798#801\")){Array{typeof(∂(λ)),1}}}})(::Array{Float64,1}) at /home/leo/.julia/dev/Zygote/src/lib/array.jl:94",
      " [20] loss2 at ./In[226]:2 [inlined]",
      " [21] (::typeof(∂(loss2)))(::Float64) at /home/leo/.julia/dev/Zygote/src/compiler/interface2.jl:0",
      " [22] (::getfield(Zygote, Symbol(\"##34#35\")){typeof(∂(loss2))})(::Float64) at /home/leo/.julia/dev/Zygote/src/compiler/interface.jl:38",
      " [23] gradient(::Function, ::Array{Float64,2}) at /home/leo/.julia/dev/Zygote/src/compiler/interface.jl:47",
      " [24] (::getfield(Zygote, Symbol(\"##36#37\")){typeof(loss2)})(::Array{Float64,2}) at /home/leo/.julia/dev/Zygote/src/compiler/interface.jl:50",
      " [25] train(::Array{Float64,2}) at ./In[250]:8",
      " [26] top-level scope at In[264]:2"
     ]
    }
   ],
   "source": [
    "params = randn(5, 10)\n",
    "params = train(params)"
   ]
  },
  {
   "cell_type": "code",
   "execution_count": 256,
   "metadata": {},
   "outputs": [
    {
     "data": {
      "text/plain": [
       "15-element Array{Float64,1}:\n",
       " 1.9237660755688748\n",
       " 1.9237597720101194\n",
       " 1.9237621252149806\n",
       " 1.9237644941697498\n",
       " 1.9237593226791587\n",
       " 1.9237622743491238\n",
       " 1.9237619054602841\n",
       " 1.9237645886320545\n",
       " 1.9237633737067432\n",
       " 1.9237631135099424\n",
       " 1.9237680307163536\n",
       " 1.9237580482839558\n",
       " 1.9237537486356715\n",
       " 1.9237581973749713\n",
       " 1.923769340117923 "
      ]
     },
     "execution_count": 256,
     "metadata": {},
     "output_type": "execute_result"
    }
   ],
   "source": [
    "[norm(params[:,i]-params[:,j]) for (i,j) in L1]"
   ]
  },
  {
   "cell_type": "code",
   "execution_count": 257,
   "metadata": {},
   "outputs": [
    {
     "data": {
      "text/plain": [
       "30-element Array{Float64,1}:\n",
       " 2.720611320589652 \n",
       " 2.7206124195570167\n",
       " 2.7206068474653455\n",
       " 2.7206113672247207\n",
       " 2.7206122679173617\n",
       " 2.720607362945088 \n",
       " 2.720612348929594 \n",
       " 2.7206107321417194\n",
       " 2.720615649407073 \n",
       " 2.720610516253029 \n",
       " 2.7206106868107023\n",
       " 2.7206060967370416\n",
       " 2.7206113536682626\n",
       " ⋮                 \n",
       " 2.7206088673349256\n",
       " 2.7206126024398456\n",
       " 2.7206076018335317\n",
       " 2.720617480108722 \n",
       " 2.7206060152066165\n",
       " 2.7206102477282594\n",
       " 2.720611464344555 \n",
       " 2.720611936464884 \n",
       " 2.720612560644666 \n",
       " 2.7206053636081284\n",
       " 2.7206129200979117\n",
       " 2.720605186196139 "
      ]
     },
     "execution_count": 257,
     "metadata": {},
     "output_type": "execute_result"
    }
   ],
   "source": [
    "[norm(params[:,i]-params[:,j]) for (i,j) in L2]"
   ]
  },
  {
   "cell_type": "code",
   "execution_count": 262,
   "metadata": {
    "scrolled": true
   },
   "outputs": [
    {
     "name": "stdout",
     "output_type": "stream",
     "text": [
      "loss2(params) = 2.076634365822623\n",
      "loss2(params) = 1.775084423185447\n",
      "loss2(params) = 1.5912087916970021\n",
      "loss2(params) = 1.4907662924733356\n",
      "loss2(params) = 1.430179051717222\n",
      "loss2(params) = 1.391435035062689\n",
      "loss2(params) = 1.3642719706109647\n",
      "loss2(params) = 1.3433396933034518\n",
      "loss2(params) = 1.3258958426233514\n",
      "loss2(params) = 1.310506956275508\n",
      "loss2(params) = 1.2964212576304448\n",
      "loss2(params) = 1.2832642614835907\n",
      "loss2(params) = 1.270863989205448\n",
      "loss2(params) = 1.259151664965692\n",
      "loss2(params) = 1.24811307604911\n",
      "loss2(params) = 1.237761560456945\n",
      "loss2(params) = 1.228121160557785\n",
      "loss2(params) = 1.2192148296305327\n",
      "loss2(params) = 1.2110556550826925\n",
      "loss2(params) = 1.2036410969748617\n",
      "loss2(params) = 1.1969508919284904\n",
      "loss2(params) = 1.1909485162483766\n",
      "loss2(params) = 1.1855850800692853\n",
      "loss2(params) = 1.1808041990638565\n",
      "loss2(params) = 1.1765466940765645\n",
      "loss2(params) = 1.1727544209436822\n",
      "loss2(params) = 1.1693728970635253\n",
      "loss2(params) = 1.1663526696290893\n",
      "loss2(params) = 1.163649594327199\n",
      "loss2(params) = 1.1612498530254258\n",
      "loss2(params) = 1.1590610116855182\n",
      "loss2(params) = 1.1570908835102196\n",
      "loss2(params) = 1.1552996411545131\n",
      "loss2(params) = 1.153658382535056\n",
      "loss2(params) = 1.15214044145683\n",
      "loss2(params) = 1.1507197633240738\n",
      "loss2(params) = 1.149369851342095\n",
      "loss2(params) = 1.148062852367259\n",
      "loss2(params) = 1.1467688604919029\n",
      "loss2(params) = 1.1454550563975938\n",
      "loss2(params) = 1.1440829349865604\n",
      "loss2(params) = 1.1426000742470281\n",
      "loss2(params) = 1.1409235717418662\n",
      "loss2(params) = 1.138924038781709\n",
      "loss2(params) = 1.1364561376261078\n",
      "loss2(params) = 1.133514958399029\n",
      "loss2(params) = 1.13043569137865\n",
      "loss2(params) = 1.127710571611288\n",
      "loss2(params) = 1.1254738125125803\n",
      "loss2(params) = 1.123482049321572\n",
      "loss2(params) = 1.1214022382894908\n",
      "loss2(params) = 1.1188426639787443\n",
      "loss2(params) = 1.115179311476516\n",
      "loss2(params) = 1.1096314368593196\n",
      "loss2(params) = 1.1032385392893036\n",
      "loss2(params) = 1.0980172015500016\n",
      "loss2(params) = 1.0947688919329208\n",
      "loss2(params) = 1.093090545598185\n",
      "loss2(params) = 1.092263384771894\n",
      "loss2(params) = 1.0918275863652314\n",
      "loss2(params) = 1.091567072928447\n",
      "loss2(params) = 1.0913902948477077\n",
      "loss2(params) = 1.091258478658985\n",
      "loss2(params) = 1.0911541388631725\n",
      "loss2(params) = 1.091068538522388\n",
      "loss2(params) = 1.0909968206373373\n",
      "loss2(params) = 1.0909360597340996\n",
      "loss2(params) = 1.0908843922277758\n",
      "loss2(params) = 1.0908405595029473\n",
      "loss2(params) = 1.0908036360505333\n",
      "loss2(params) = 1.090772863324229\n",
      "loss2(params) = 1.0907475549738839\n",
      "loss2(params) = 1.0907270517869594\n",
      "loss2(params) = 1.090710709089346\n",
      "loss2(params) = 1.09069790254924\n",
      "loss2(params) = 1.090688041756925\n",
      "loss2(params) = 1.0906805844698886\n",
      "loss2(params) = 1.0906750475515439\n",
      "loss2(params) = 1.0906710130472266\n",
      "loss2(params) = 1.0906681294235536\n",
      "loss2(params) = 1.0906661088394876\n",
      "loss2(params) = 1.0906647216193135\n",
      "loss2(params) = 1.090663789072284\n",
      "loss2(params) = 1.090663175620172\n",
      "loss2(params) = 1.0906627809608507\n",
      "loss2(params) = 1.090662532770057\n",
      "loss2(params) = 1.0906623802483686\n",
      "loss2(params) = 1.0906622886627682\n",
      "loss2(params) = 1.0906622349117934\n",
      "loss2(params) = 1.0906622040575848\n",
      "loss2(params) = 1.0906621867135595\n",
      "loss2(params) = 1.0906621771484504\n",
      "loss2(params) = 1.0906621719607072\n",
      "loss2(params) = 1.0906621691859126\n",
      "loss2(params) = 1.0906621677180888\n",
      "loss2(params) = 1.0906621669484142\n",
      "loss2(params) = 1.0906621665478877\n",
      "loss2(params) = 1.090662166341143\n",
      "loss2(params) = 1.0906621662355294\n",
      "loss2(params) = 1.090662166182342\n",
      "loss2(params) = 1.0906621661560658\n",
      "loss2(params) = 1.0906621661434\n",
      "loss2(params) = 1.0906621661374747\n",
      "loss2(params) = 1.0906621661347977\n",
      "loss2(params) = 1.0906621661336353\n",
      "loss2(params) = 1.0906621661331521\n",
      "loss2(params) = 1.0906621661329605\n",
      "loss2(params) = 1.0906621661328884\n",
      "loss2(params) = 1.0906621661328626\n",
      "loss2(params) = 1.090662166132854\n",
      "loss2(params) = 1.0906621661328513\n",
      "loss2(params) = 1.0906621661328504\n",
      "loss2(params) = 1.0906621661328502\n",
      "loss2(params) = 1.0906621661328502\n",
      "loss2(params) = 1.0906621661328502\n",
      "loss2(params) = 1.0906621661328502\n",
      "loss2(params) = 1.0906621661328502\n",
      "loss2(params) = 1.0906621661328502\n",
      "loss2(params) = 1.0906621661328502\n",
      "loss2(params) = 1.0906621661328502\n",
      "loss2(params) = 1.0906621661328502\n",
      "loss2(params) = 1.0906621661328502\n",
      "loss2(params) = 1.0906621661328502\n",
      "loss2(params) = 1.0906621661328502\n",
      "loss2(params) = 1.0906621661328502\n",
      "loss2(params) = 1.0906621661328502\n",
      "loss2(params) = 1.0906621661328502\n",
      "loss2(params) = 1.0906621661328502\n",
      "loss2(params) = 1.0906621661328502\n",
      "loss2(params) = 1.0906621661328502\n",
      "loss2(params) = 1.0906621661328502\n",
      "loss2(params) = 1.0906621661328502\n",
      "loss2(params) = 1.0906621661328502\n",
      "loss2(params) = 1.0906621661328502\n",
      "loss2(params) = 1.0906621661328502\n",
      "loss2(params) = 1.0906621661328502\n",
      "loss2(params) = 1.0906621661328502\n",
      "loss2(params) = 1.0906621661328502\n",
      "loss2(params) = 1.0906621661328502\n",
      "loss2(params) = 1.0906621661328502\n",
      "loss2(params) = 1.0906621661328502\n",
      "loss2(params) = 1.0906621661328502\n",
      "loss2(params) = 1.0906621661328502\n",
      "loss2(params) = 1.0906621661328502\n",
      "loss2(params) = 1.0906621661328502\n",
      "loss2(params) = 1.0906621661328502\n",
      "loss2(params) = 1.0906621661328502\n",
      "loss2(params) = 1.0906621661328502\n",
      "loss2(params) = 1.0906621661328502\n",
      "loss2(params) = 1.0906621661328502\n",
      "loss2(params) = 1.0906621661328502\n",
      "loss2(params) = 1.0906621661328502\n",
      "loss2(params) = 1.0906621661328502\n",
      "loss2(params) = 1.0906621661328502\n",
      "loss2(params) = 1.0906621661328502\n",
      "loss2(params) = 1.0906621661328502\n",
      "loss2(params) = 1.0906621661328502\n",
      "loss2(params) = 1.0906621661383649\n",
      "loss2(params) = 1.0906621661328522\n",
      "loss2(params) = 1.0906621661328502\n",
      "loss2(params) = 1.0906621661328502\n",
      "loss2(params) = 1.0906621663131308\n",
      "loss2(params) = 1.0906621661328693\n",
      "loss2(params) = 1.0906621661328502\n",
      "loss2(params) = 1.0906621661328504\n",
      "loss2(params) = 1.0906621661445237\n",
      "loss2(params) = 1.0906621661328515\n",
      "loss2(params) = 1.0906621661339717\n",
      "loss2(params) = 1.09066217603493\n",
      "loss2(params) = 1.0906621661333744\n",
      "loss2(params) = 1.090662167790164\n",
      "loss2(params) = 1.090662166140221\n",
      "loss2(params) = 1.0906621724596774\n",
      "loss2(params) = 1.090662170816104\n",
      "loss2(params) = 1.0906621667694645\n",
      "loss2(params) = 1.0906621662484648\n",
      "loss2(params) = 1.0906621663980711\n",
      "loss2(params) = 1.0906621661503588\n",
      "loss2(params) = 1.0906621662084688\n",
      "loss2(params) = 1.0906621667125493\n",
      "loss2(params) = 1.0906621710461772\n",
      "loss2(params) = 1.090662167051904\n",
      "loss2(params) = 1.0906621663024127\n",
      "loss2(params) = 1.0906621675472954\n",
      "loss2(params) = 1.090662177627065\n",
      "loss2(params) = 1.0906621664375902\n",
      "loss2(params) = 1.09066218581476\n",
      "loss2(params) = 1.0906621662251499\n",
      "loss2(params) = 1.0906621664467402\n",
      "loss2(params) = 1.0906621663502003\n",
      "loss2(params) = 1.0906621681456667\n",
      "loss2(params) = 1.0906621664890095\n",
      "loss2(params) = 1.0906621703680077\n",
      "loss2(params) = 1.0906621689716876\n",
      "loss2(params) = 1.0906621661798683\n",
      "loss2(params) = 1.0906621711507594\n",
      "loss2(params) = 1.0906621664968477\n",
      "loss2(params) = 1.090662167323669\n",
      "loss2(params) = 1.0906621673114896\n",
      "loss2(params) = 1.0906621662664069\n"
     ]
    },
    {
     "data": {
      "text/plain": [
       "4×10 Array{Float64,2}:\n",
       " -1.22723   -0.754721  -0.170649  …  -0.209322    -1.2078     -1.41574  \n",
       "  0.282991  -1.34115   -1.08024       0.00509969  -0.770441   -0.0904969\n",
       " -0.393245   1.0039     0.145425      0.706852    -0.0239067   1.02616  \n",
       "  0.275059   0.102558   0.653934      0.552511    -0.799217    0.734231 "
      ]
     },
     "execution_count": 262,
     "metadata": {},
     "output_type": "execute_result"
    }
   ],
   "source": [
    "params = randn(4, 10)\n",
    "params = train(params)"
   ]
  },
  {
   "cell_type": "code",
   "execution_count": 268,
   "metadata": {},
   "outputs": [
    {
     "ename": "MethodError",
     "evalue": "MethodError: no method matching IOContext(::IJulia.IJuliaStdio{Base.PipeEndpoint}; limit=false)\nClosest candidates are:\n  IOContext(::IO) at show.jl:189 got unsupported keyword argument \"limit\"\n  IOContext(::IO, !Matched::Base.ImmutableDict) at show.jl:183 got unsupported keyword argument \"limit\"\n  IOContext(::IO, !Matched::Pair) at show.jl:192 got unsupported keyword argument \"limit\"\n  ...",
     "output_type": "error",
     "traceback": [
      "MethodError: no method matching IOContext(::IJulia.IJuliaStdio{Base.PipeEndpoint}; limit=false)\nClosest candidates are:\n  IOContext(::IO) at show.jl:189 got unsupported keyword argument \"limit\"\n  IOContext(::IO, !Matched::Base.ImmutableDict) at show.jl:183 got unsupported keyword argument \"limit\"\n  IOContext(::IO, !Matched::Pair) at show.jl:192 got unsupported keyword argument \"limit\"\n  ...",
      "",
      "Stacktrace:",
      " [1] top-level scope at In[268]:1"
     ]
    }
   ],
   "source": [
    "show(IOContext(STDOUT, limit=false), params)"
   ]
  },
  {
   "cell_type": "code",
   "execution_count": 270,
   "metadata": {},
   "outputs": [
    {
     "name": "stdout",
     "output_type": "stream",
     "text": [
      "[0.456042, 1.38215, -0.00241155, -0.74993, -0.442308]\n",
      "[0.946446, 0.22905, -2.12314, 0.052197, 0.635222]\n",
      "[0.3899, -0.390234, -1.06614, 2.50915, 0.47714]\n",
      "[1.11132, 0.333807, -0.739465, 2.54774, -2.11501]\n",
      "[2.35997, 0.768278, 0.79948, 0.716915, -1.47945]\n",
      "[-1.23514, -0.541929, 0.362717, -0.234466, -1.39673]\n",
      "[1.71574, -1.68961, -2.01312, -0.422448, -1.19826]\n",
      "[-0.0526322, -1.87984, 0.837929, 1.19379, 0.158279]\n",
      "[-0.0233147, -0.970986, -1.43134, 0.606254, -2.91135]\n",
      "[2.40785, -1.87443, 0.582821, 0.203677, -0.720777]\n"
     ]
    }
   ],
   "source": [
    "for p in 1:10\n",
    "    println(params[:,p])\n",
    "end"
   ]
  },
  {
   "cell_type": "code",
   "execution_count": null,
   "metadata": {},
   "outputs": [],
   "source": []
  }
 ],
 "metadata": {
  "@webio": {
   "lastCommId": null,
   "lastKernelId": null
  },
  "kernelspec": {
   "display_name": "Julia 1.1.0",
   "language": "julia",
   "name": "julia-1.1"
  },
  "language_info": {
   "file_extension": ".jl",
   "mimetype": "application/julia",
   "name": "julia",
   "version": "1.1.0"
  }
 },
 "nbformat": 4,
 "nbformat_minor": 2
}
