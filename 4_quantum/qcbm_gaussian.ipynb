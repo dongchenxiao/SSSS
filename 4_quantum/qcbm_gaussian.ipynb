{
 "cells": [
  {
   "cell_type": "markdown",
   "metadata": {},
   "source": [
    "# [Quantum Circuit Born Machine](@id qcbm)\n",
    "\n",
    "Yao is designed with variational quantum circuits in mind, and this tutorial\n",
    "will introduce how to use Yao for this kind of task by implementing a quantum\n",
    "circuit born machine described in [Jin-Guo Liu, Lei Wang (2018)](https://arxiv.org/abs/1804.04168)\n",
    "\n",
    "let's use the package first"
   ]
  },
  {
   "cell_type": "code",
   "execution_count": 30,
   "metadata": {},
   "outputs": [
    {
     "data": {
      "text/plain": [
       "Plots.PyPlotBackend()"
      ]
     },
     "execution_count": 30,
     "metadata": {},
     "output_type": "execute_result"
    }
   ],
   "source": [
    "using Yao, LinearAlgebra\n",
    "using Plots\n",
    "pyplot()"
   ]
  },
  {
   "cell_type": "markdown",
   "metadata": {},
   "source": [
    "## Training Target\n",
    "\n",
    "In this tutorial, we will ask the variational circuit to learn the most basic\n",
    "distribution: a guassian distribution. It is defined as follows:\n",
    "\n",
    "$$\n",
    "f(x \\left| \\mu, \\sigma^2\\right) = \\frac{1}{\\sqrt{2\\pi\\sigma^2}} e^{-\\frac{(x-\\mu)^2}{2\\sigma^2}}\n",
    "$$\n",
    "\n",
    "We implement it as `gaussian_pdf`:"
   ]
  },
  {
   "cell_type": "code",
   "execution_count": 31,
   "metadata": {},
   "outputs": [],
   "source": [
    "function gaussian_pdf(x, μ::Real, σ::Real)\n",
    "    pl = @. 1 / sqrt(2pi * σ^2) * exp(-(x - μ)^2 / (2 * σ^2))\n",
    "    pl / sum(pl)\n",
    "end\n",
    "pg = gaussian_pdf(1:1<<6, 1<<5-0.5, 1<<4);"
   ]
  },
  {
   "cell_type": "code",
   "execution_count": 32,
   "metadata": {},
   "outputs": [
    {
     "data": {
      "image/png": "[encoded data removed]"
     },
     "execution_count": 32,
     "metadata": {},
     "output_type": "execute_result"
    }
   ],
   "source": [
    "plot(1:1<<6, pg, ylabel=\"prob\")"
   ]
  },
  {
   "cell_type": "markdown",
   "metadata": {},
   "source": [
    "## Create the Circuit\n",
    "\n",
    "A quantum circuit born machine looks like the following:\n",
    "\n",
    "![differentiable ciruit](images/differentiable.png)\n",
    "\n",
    "It is composited by two different layers: **rotation layer** and **entangler layer**.\n",
    "\n",
    "## Rotation Layer\n",
    "\n",
    "Arbitrary rotation is built with **Rotation Gate** on **Z, X, Z** axis\n",
    "with parameters.\n",
    "\n",
    "$$\n",
    "Rz(\\theta) \\cdot Rx(\\theta) \\cdot Rz(\\theta)\n",
    "$$\n",
    "\n",
    "Since our input will be a $|0\\dots 0\\rangle$ state.\n",
    "The first layer of arbitrary rotation can just\n",
    "use $Rx(\\theta) \\cdot Rz(\\theta)$ and the last\n",
    "layer of arbitrary rotation could just\n",
    "use $Rz(\\theta)\\cdot Rx(\\theta)$\n",
    "\n",
    "In **幺**, every Hilbert operator is a **block** type, this\n",
    "ncludes all **quantum gates** and **quantum oracles**.\n",
    "In general, operators appears in a quantum circuit\n",
    "can be divided into **Composite Blocks** and **Primitive Blocks**.\n",
    "\n",
    "We follow the low abstraction principle and\n",
    "thus each block represents a certain approach\n",
    "of calculation. The simplest **Composite Block**\n",
    "is a **Chain Block**, which chains other blocks\n",
    "(oracles) with the same number of qubits together.\n",
    "It is just a simple mathematical composition of\n",
    "operators with same size. e.g.\n",
    "\n",
    "\n",
    "$$\n",
    "\\text{chain(X, Y, Z)} \\iff X \\cdot Y \\cdot Z\n",
    "$$\n",
    "\n",
    "We can construct an arbitrary rotation block by chain ``Rz``, ``Rx``, ``Rz`` together."
   ]
  },
  {
   "cell_type": "code",
   "execution_count": 33,
   "metadata": {},
   "outputs": [
    {
     "data": {
      "text/plain": [
       "\u001b[36mnqubits: 1, datatype: Complex{Float64}\u001b[39m\n",
       "\u001b[34m\u001b[1mchain\u001b[22m\u001b[39m\n",
       "├─ rot(Z gate, 0.0)\n",
       "├─ rot(X gate, 0.0)\n",
       "└─ rot(Z gate, 0.0)"
      ]
     },
     "execution_count": 33,
     "metadata": {},
     "output_type": "execute_result"
    }
   ],
   "source": [
    "chain(Rz(0.0), Rx(0.0), Rz(0.0))"
   ]
  },
  {
   "cell_type": "markdown",
   "metadata": {},
   "source": [
    "[`Rx`](@ref), [`Rz`](@ref) will construct new rotation gate,\n",
    "which are just shorthands for `rot(X, 0.0)`, etc.\n",
    "\n",
    "Then let's chain them up"
   ]
  },
  {
   "cell_type": "code",
   "execution_count": 34,
   "metadata": {},
   "outputs": [],
   "source": [
    "layer(nbit::Int, x::Symbol) = layer(nbit, Val(x))\n",
    "layer(nbit::Int, ::Val{:first}) = chain(nbit, put(i=>chain(Rx(0), Rz(0))) for i = 1:nbit);"
   ]
  },
  {
   "cell_type": "markdown",
   "metadata": {},
   "source": [
    "We do not need to feed the first `n` parameter into `put` here.\n",
    "All factory methods can be **lazy** evaluate **the first arguements**, which is the number of qubits.\n",
    "It will return a lambda function that requires a single interger input.\n",
    "The instance of desired block will only be constructed until all the information is filled.\n",
    "When you filled all the information in somewhere of the declaration, 幺 will be able to infer the others.\n",
    "We will now define the rest of rotation layers"
   ]
  },
  {
   "cell_type": "code",
   "execution_count": 35,
   "metadata": {},
   "outputs": [],
   "source": [
    "layer(nbit::Int, ::Val{:last}) = chain(nbit, put(i=>chain(Rz(0), Rx(0))) for i = 1:nbit)\n",
    "layer(nbit::Int, ::Val{:mid}) = chain(nbit, put(i=>chain(Rz(0), Rx(0), Rz(0))) for i = 1:nbit);"
   ]
  },
  {
   "cell_type": "markdown",
   "metadata": {},
   "source": [
    "## Entangler\n",
    "\n",
    "Another component of quantum circuit born machine are\n",
    "several **CNOT** operators applied on different qubits."
   ]
  },
  {
   "cell_type": "code",
   "execution_count": 36,
   "metadata": {},
   "outputs": [],
   "source": [
    "entangler(pairs) = chain(control(ctrl, target=>X) for (ctrl, target) in pairs);"
   ]
  },
  {
   "cell_type": "markdown",
   "metadata": {},
   "source": [
    "We can then define such a born machine"
   ]
  },
  {
   "cell_type": "code",
   "execution_count": 37,
   "metadata": {},
   "outputs": [
    {
     "data": {
      "text/plain": [
       "build_circuit (generic function with 1 method)"
      ]
     },
     "execution_count": 37,
     "metadata": {},
     "output_type": "execute_result"
    }
   ],
   "source": [
    "function build_circuit(n, nlayers, pairs)\n",
    "    circuit = chain(n)\n",
    "    push!(circuit, layer(n, :first))\n",
    "    for i in 2:nlayers\n",
    "        push!(circuit, cache(entangler(pairs)))\n",
    "        push!(circuit, layer(n, :mid))\n",
    "    end\n",
    "    push!(circuit, cache(entangler(pairs)))\n",
    "    push!(circuit, layer(n, :last))\n",
    "    return circuit\n",
    "end"
   ]
  },
  {
   "cell_type": "markdown",
   "metadata": {},
   "source": [
    "We use the method `cache` here to tag the entangler block that it\n",
    "should be cached after its first run, because it is actually a\n",
    "constant oracle. Let's see what will be constructed"
   ]
  },
  {
   "cell_type": "code",
   "execution_count": 38,
   "metadata": {},
   "outputs": [
    {
     "data": {
      "text/plain": [
       "\u001b[36mnqubits: 4, datatype: Complex{Float64}\u001b[39m\n",
       "\u001b[34m\u001b[1mchain\u001b[22m\u001b[39m\n",
       "├─ \u001b[34m\u001b[1mchain\u001b[22m\u001b[39m\n",
       "│  ├─ \u001b[36m\u001b[1mput on (\u001b[22m\u001b[39m\u001b[36m\u001b[1m1\u001b[22m\u001b[39m\u001b[36m\u001b[1m)\u001b[22m\u001b[39m\n",
       "│  │  └─ \u001b[34m\u001b[1mchain\u001b[22m\u001b[39m\n",
       "│  │     ├─ rot(X gate, 0.0)\n",
       "│  │     └─ rot(Z gate, 0.0)\n",
       "│  ├─ \u001b[36m\u001b[1mput on (\u001b[22m\u001b[39m\u001b[36m\u001b[1m2\u001b[22m\u001b[39m\u001b[36m\u001b[1m)\u001b[22m\u001b[39m\n",
       "│  │  └─ \u001b[34m\u001b[1mchain\u001b[22m\u001b[39m\n",
       "│  │     ├─ rot(X gate, 0.0)\n",
       "│  │     └─ rot(Z gate, 0.0)\n",
       "│  ├─ \u001b[36m\u001b[1mput on (\u001b[22m\u001b[39m\u001b[36m\u001b[1m3\u001b[22m\u001b[39m\u001b[36m\u001b[1m)\u001b[22m\u001b[39m\n",
       "│  │  └─ \u001b[34m\u001b[1mchain\u001b[22m\u001b[39m\n",
       "│  │     ├─ rot(X gate, 0.0)\n",
       "│  │     └─ rot(Z gate, 0.0)\n",
       "│  └─ \u001b[36m\u001b[1mput on (\u001b[22m\u001b[39m\u001b[36m\u001b[1m4\u001b[22m\u001b[39m\u001b[36m\u001b[1m)\u001b[22m\u001b[39m\n",
       "│     └─ \u001b[34m\u001b[1mchain\u001b[22m\u001b[39m\n",
       "│        ├─ rot(X gate, 0.0)\n",
       "│        └─ rot(Z gate, 0.0)\n",
       "├─ \u001b[33m\u001b[1m[cached] \u001b[22m\u001b[39m\u001b[34m\u001b[1mchain\u001b[22m\u001b[39m\n",
       "│     ├─ \u001b[31m\u001b[1mcontrol(\u001b[22m\u001b[39m\u001b[31m\u001b[1m1\u001b[22m\u001b[39m\u001b[31m\u001b[1m)\u001b[22m\u001b[39m\n",
       "│     │  └─ \u001b[37m\u001b[1m(2,)\u001b[22m\u001b[39m X gate\n",
       "│     ├─ \u001b[31m\u001b[1mcontrol(\u001b[22m\u001b[39m\u001b[31m\u001b[1m2\u001b[22m\u001b[39m\u001b[31m\u001b[1m)\u001b[22m\u001b[39m\n",
       "│     │  └─ \u001b[37m\u001b[1m(3,)\u001b[22m\u001b[39m X gate\n",
       "│     └─ \u001b[31m\u001b[1mcontrol(\u001b[22m\u001b[39m\u001b[31m\u001b[1m3\u001b[22m\u001b[39m\u001b[31m\u001b[1m)\u001b[22m\u001b[39m\n",
       "│        └─ \u001b[37m\u001b[1m(4,)\u001b[22m\u001b[39m X gate\n",
       "└─ \u001b[34m\u001b[1mchain\u001b[22m\u001b[39m\n",
       "   ├─ \u001b[36m\u001b[1mput on (\u001b[22m\u001b[39m\u001b[36m\u001b[1m1\u001b[22m\u001b[39m\u001b[36m\u001b[1m)\u001b[22m\u001b[39m\n",
       "   │  └─ \u001b[34m\u001b[1mchain\u001b[22m\u001b[39m\n",
       "   │     ├─ rot(Z gate, 0.0)\n",
       "   │     └─ rot(X gate, 0.0)\n",
       "   ├─ \u001b[36m\u001b[1mput on (\u001b[22m\u001b[39m\u001b[36m\u001b[1m2\u001b[22m\u001b[39m\u001b[36m\u001b[1m)\u001b[22m\u001b[39m\n",
       "   │  └─ \u001b[34m\u001b[1mchain\u001b[22m\u001b[39m\n",
       "   │     ├─ rot(Z gate, 0.0)\n",
       "   │     └─ rot(X gate, 0.0)\n",
       "   ├─ \u001b[36m\u001b[1mput on (\u001b[22m\u001b[39m\u001b[36m\u001b[1m3\u001b[22m\u001b[39m\u001b[36m\u001b[1m)\u001b[22m\u001b[39m\n",
       "   │  └─ \u001b[34m\u001b[1mchain\u001b[22m\u001b[39m\n",
       "   │     ├─ rot(Z gate, 0.0)\n",
       "   │     └─ rot(X gate, 0.0)\n",
       "   └─ \u001b[36m\u001b[1mput on (\u001b[22m\u001b[39m\u001b[36m\u001b[1m4\u001b[22m\u001b[39m\u001b[36m\u001b[1m)\u001b[22m\u001b[39m\n",
       "      └─ \u001b[34m\u001b[1mchain\u001b[22m\u001b[39m\n",
       "         ├─ rot(Z gate, 0.0)\n",
       "         └─ rot(X gate, 0.0)\n"
      ]
     },
     "execution_count": 38,
     "metadata": {},
     "output_type": "execute_result"
    }
   ],
   "source": [
    "build_circuit(4, 1, [1=>2, 2=>3, 3=>4])"
   ]
  },
  {
   "cell_type": "markdown",
   "metadata": {},
   "source": [
    "## MMD Loss & Gradients\n",
    "\n",
    "The MMD loss is describe below:\n",
    "$$\n",
    "\\begin{aligned}\n",
    "\\mathcal{L} &= \\left| \\sum_{x} p \\theta(x) \\phi(x) - \\sum_{x} \\pi(x) \\phi(x) \\right|^2\\\\\n",
    "            &= \\langle K(x, y) \\rangle_{x \\sim p_{\\theta}, y\\sim p_{\\theta}} - 2 \\langle K(x, y) \\rangle_{x\\sim p_{\\theta}, y\\sim \\pi} + \\langle K(x, y) \\rangle_{x\\sim\\pi, y\\sim\\pi}\n",
    "\\end{aligned}\n",
    "$$\n",
    "\n",
    "\n",
    "We will use a squared exponential kernel here."
   ]
  },
  {
   "cell_type": "code",
   "execution_count": 39,
   "metadata": {},
   "outputs": [
    {
     "data": {
      "text/plain": [
       "kexpect (generic function with 1 method)"
      ]
     },
     "execution_count": 39,
     "metadata": {},
     "output_type": "execute_result"
    }
   ],
   "source": [
    "struct RBFKernel\n",
    "    σ::Float64\n",
    "    m::Matrix{Float64}\n",
    "end\n",
    "\n",
    "function RBFKernel(σ::Float64, space)\n",
    "    dx2 = (space .- space').^2\n",
    "    return RBFKernel(σ, exp.(-1/2σ * dx2))\n",
    "end\n",
    "\n",
    "kexpect(κ::RBFKernel, x, y) = x' * κ.m * y"
   ]
  },
  {
   "cell_type": "markdown",
   "metadata": {},
   "source": [
    "There are two different way to define the loss:\n",
    "\n",
    "In simulation we can use the probability distribution of the state directly"
   ]
  },
  {
   "cell_type": "code",
   "execution_count": 40,
   "metadata": {},
   "outputs": [
    {
     "data": {
      "text/plain": [
       "loss (generic function with 1 method)"
      ]
     },
     "execution_count": 40,
     "metadata": {},
     "output_type": "execute_result"
    }
   ],
   "source": [
    "get_prob(qcbm) = probs(zero_state(nqubits(qcbm)) |> qcbm)\n",
    "\n",
    "function loss(κ, c, target)\n",
    "    p = get_prob(c) - target\n",
    "    return kexpect(κ, p, p)\n",
    "end"
   ]
  },
  {
   "cell_type": "markdown",
   "metadata": {},
   "source": [
    "Or if you want to simulate the whole process with measurement (which is entirely\n",
    "physical), you should define the loss with measurement results, for convenience\n",
    "we directly use the simulated results as our loss\n",
    "\n",
    "### Gradients\n",
    "the gradient of MMD loss is\n",
    "\n",
    "$$\n",
    "\\begin{aligned}\n",
    "\\frac{\\partial \\mathcal{L}}{\\partial \\theta^i_l} &= \\langle K(x, y) \\rangle_{x\\sim p_{\\theta^+}, y\\sim p_{\\theta}} - \\langle K(x, y) \\rangle_{x\\sim p_{\\theta}^-, y\\sim p_{\\theta}}\\\\\n",
    "&- \\langle K(x, y) \\rangle _{x\\sim p_{\\theta^+}, y\\sim\\pi} + \\langle K(x, y) \\rangle_{x\\sim p_{\\theta^-}, y\\sim\\pi}\n",
    "\\end{aligned}\n",
    "$$\n",
    "\n",
    "which can be implemented as"
   ]
  },
  {
   "cell_type": "code",
   "execution_count": 41,
   "metadata": {},
   "outputs": [
    {
     "data": {
      "text/plain": [
       "gradient (generic function with 1 method)"
      ]
     },
     "execution_count": 41,
     "metadata": {},
     "output_type": "execute_result"
    }
   ],
   "source": [
    "function gradient(qcbm, κ, ptrain)\n",
    "    n = nqubits(qcbm)\n",
    "    prob = get_prob(qcbm)\n",
    "    grad = zeros(Float64, nparameters(qcbm))\n",
    "\n",
    "    count = 1\n",
    "    for k in 1:2:length(qcbm), each_line in qcbm[k], gate in content(each_line)\n",
    "        dispatch!(+, gate, π/2)\n",
    "        prob_pos = probs(zero_state(n) |> qcbm)\n",
    "\n",
    "        dispatch!(-, gate, π)\n",
    "        prob_neg = probs(zero_state(n) |> qcbm)\n",
    "\n",
    "        dispatch!(+, gate, π/2) # set back\n",
    "\n",
    "        grad_pos = kexpect(κ, prob, prob_pos) - kexpect(κ, prob, prob_neg)\n",
    "        grad_neg = kexpect(κ, ptrain, prob_pos) - kexpect(κ, ptrain, prob_neg)\n",
    "        grad[count] = grad_pos - grad_neg\n",
    "        count += 1\n",
    "    end\n",
    "    return grad\n",
    "end"
   ]
  },
  {
   "cell_type": "markdown",
   "metadata": {},
   "source": [
    "Now let's setup the training"
   ]
  },
  {
   "cell_type": "code",
   "execution_count": 42,
   "metadata": {},
   "outputs": [
    {
     "data": {
      "text/plain": [
       "64-element Array{Float64,1}:\n",
       " 0.004949796033194015 \n",
       " 0.008610452538485582 \n",
       " 0.004306470020658978 \n",
       " 0.007612462243589652 \n",
       " 0.00703871374806971  \n",
       " 0.01022684746639653  \n",
       " 0.005020982471676006 \n",
       " 0.008275845132628135 \n",
       " 0.011551680615306367 \n",
       " 0.009241203376824835 \n",
       " 0.007271743580633538 \n",
       " 0.014097516828957437 \n",
       " 0.016060555095142693 \n",
       " ⋮                    \n",
       " 0.012189392112723994 \n",
       " 0.011788883954540651 \n",
       " 0.005573432794460104 \n",
       " 0.01400420812013604  \n",
       " 0.0034933802748169504\n",
       " 0.008303658194569132 \n",
       " 0.00651435766826844  \n",
       " 0.0061301956626380666\n",
       " 0.006836520752272872 \n",
       " 0.009192425196840234 \n",
       " 0.0016167091926223784\n",
       " 0.008330754662834103 "
      ]
     },
     "execution_count": 42,
     "metadata": {},
     "output_type": "execute_result"
    }
   ],
   "source": [
    "using Flux.Optimise\n",
    "qcbm = build_circuit(6, 10, [1=>2, 3=>4, 5=>6, 2=>3, 4=>5, 6=>1])\n",
    "dispatch!(qcbm, :random) # initialize the parameters\n",
    "\n",
    "κ = RBFKernel(0.25, 0:2^6-1)\n",
    "pg = gaussian_pdf(1:1<<6, 1<<5-0.5, 1<<4);\n",
    "opt = ADAM()\n",
    "\n",
    "function train(qcbm, κ, opt, target)\n",
    "    history = Float64[]\n",
    "    for _ in 1:100\n",
    "        push!(history, loss(κ, qcbm, target))\n",
    "        ps = parameters(qcbm)\n",
    "        Optimise.update!(opt, ps, gradient(qcbm, κ, target))\n",
    "        popdispatch!(qcbm, ps)\n",
    "    end\n",
    "    return history\n",
    "end\n",
    "\n",
    "history = train(qcbm, κ, opt, pg)\n",
    "trained_pg = probs(zero_state(nqubits(qcbm)) |> qcbm)"
   ]
  },
  {
   "cell_type": "markdown",
   "metadata": {},
   "source": [
    "And we have the history of training which is"
   ]
  },
  {
   "cell_type": "code",
   "execution_count": 43,
   "metadata": {},
   "outputs": [
    {
     "data": {
      "image/png": "[encoded data removed]"
     },
     "execution_count": 43,
     "metadata": {},
     "output_type": "execute_result"
    }
   ],
   "source": [
    "fig1 = plot(history; legend=nothing)\n",
    "title!(\"training history\")\n",
    "xlabel!(\"steps\"); ylabel!(\"loss\")"
   ]
  },
  {
   "cell_type": "markdown",
   "metadata": {},
   "source": [
    "![](../assets/figures/history.png)\n",
    "\n",
    "And let's check what we got"
   ]
  },
  {
   "cell_type": "code",
   "execution_count": 44,
   "metadata": {},
   "outputs": [
    {
     "data": {
      "image/png": "[encoded data removed]"
     },
     "execution_count": 44,
     "metadata": {},
     "output_type": "execute_result"
    }
   ],
   "source": [
    "fig2 = plot(1:1<<6, trained_pg; label=\"trained\")\n",
    "plot!(fig2, 1:1<<6, pg; label=\"target\")\n",
    "title!(\"distribution\")\n",
    "xlabel!(\"x\"); ylabel!(\"p\")"
   ]
  },
  {
   "cell_type": "markdown",
   "metadata": {},
   "source": [
    "![](../assets/figures/distribution.png)\n",
    "\n",
    "So within 50 steps, we got a pretty close estimation of our\n",
    "target distribution!"
   ]
  },
  {
   "cell_type": "code",
   "execution_count": null,
   "metadata": {},
   "outputs": [],
   "source": []
  }
 ],
 "metadata": {
  "kernelspec": {
   "display_name": "Julia 1.1.0",
   "language": "julia",
   "name": "julia-1.1"
  },
  "language_info": {
   "file_extension": ".jl",
   "mimetype": "application/julia",
   "name": "julia",
   "version": "1.1.0"
  }
 },
 "nbformat": 4,
 "nbformat_minor": 2
}
